{
 "cells": [
  {
   "cell_type": "markdown",
   "id": "69bf7ba3",
   "metadata": {},
   "source": [
    "# Predicción en base a hora, latitud y longitud"
   ]
  },
  {
   "cell_type": "code",
   "execution_count": 1,
   "id": "64ad2a09",
   "metadata": {},
   "outputs": [],
   "source": [
    "import joblib\n",
    "import pandas as pd\n",
    "import os\n",
    "from sklearn.model_selection import train_test_split\n",
    "from sklearn.preprocessing import StandardScaler\n",
    "from sklearn.linear_model import LogisticRegression\n",
    "from sklearn.multioutput import MultiOutputClassifier\n",
    "from sklearn.pipeline import Pipeline\n",
    "from sklearn.metrics import roc_auc_score"
   ]
  },
  {
   "cell_type": "code",
   "execution_count": 2,
   "id": "c754b4ab",
   "metadata": {},
   "outputs": [],
   "source": [
    "df = pd.read_csv(\"carpetas.csv\")"
   ]
  },
  {
   "cell_type": "code",
   "execution_count": 3,
   "id": "1a8ebb4a",
   "metadata": {},
   "outputs": [
    {
     "data": {
      "text/html": [
       "<div>\n",
       "<style scoped>\n",
       "    .dataframe tbody tr th:only-of-type {\n",
       "        vertical-align: middle;\n",
       "    }\n",
       "\n",
       "    .dataframe tbody tr th {\n",
       "        vertical-align: top;\n",
       "    }\n",
       "\n",
       "    .dataframe thead th {\n",
       "        text-align: right;\n",
       "    }\n",
       "</style>\n",
       "<table border=\"1\" class=\"dataframe\">\n",
       "  <thead>\n",
       "    <tr style=\"text-align: right;\">\n",
       "      <th></th>\n",
       "      <th>id</th>\n",
       "      <th>inicio</th>\n",
       "      <th>delito</th>\n",
       "      <th>categoría</th>\n",
       "      <th>colonia</th>\n",
       "      <th>alcaldía</th>\n",
       "      <th>latitud</th>\n",
       "      <th>longitud</th>\n",
       "      <th>datetime</th>\n",
       "      <th>gravedad</th>\n",
       "    </tr>\n",
       "  </thead>\n",
       "  <tbody>\n",
       "    <tr>\n",
       "      <th>0</th>\n",
       "      <td>1</td>\n",
       "      <td>2016-01-01</td>\n",
       "      <td>lesiones culposas por transito vehicular en co...</td>\n",
       "      <td>delito de bajo impacto</td>\n",
       "      <td>jardines en la montaña</td>\n",
       "      <td>tlalpan</td>\n",
       "      <td>19.30086</td>\n",
       "      <td>-99.20877</td>\n",
       "      <td>2015-12-31 16:30:00</td>\n",
       "      <td>bajo impacto</td>\n",
       "    </tr>\n",
       "    <tr>\n",
       "      <th>1</th>\n",
       "      <td>2</td>\n",
       "      <td>2016-01-01</td>\n",
       "      <td>robo a pasajero a bordo de taxi con violencia</td>\n",
       "      <td>robo a pasajero a bordo de taxi con violencia</td>\n",
       "      <td>lomas de padierna</td>\n",
       "      <td>tlalpan</td>\n",
       "      <td>19.29003</td>\n",
       "      <td>-99.21748</td>\n",
       "      <td>2015-12-31 22:40:00</td>\n",
       "      <td>impacto medio</td>\n",
       "    </tr>\n",
       "    <tr>\n",
       "      <th>2</th>\n",
       "      <td>3</td>\n",
       "      <td>2016-01-01</td>\n",
       "      <td>robo a transeunte en via publica con violencia</td>\n",
       "      <td>robo a transeunte en vía pública con y sin vio...</td>\n",
       "      <td>san antonio culhuacán</td>\n",
       "      <td>iztapalapa</td>\n",
       "      <td>19.34080</td>\n",
       "      <td>-99.11431</td>\n",
       "      <td>2016-01-01 00:20:00</td>\n",
       "      <td>impacto medio</td>\n",
       "    </tr>\n",
       "    <tr>\n",
       "      <th>3</th>\n",
       "      <td>4</td>\n",
       "      <td>2016-01-01</td>\n",
       "      <td>robo de vehiculo de servicio particular sin vi...</td>\n",
       "      <td>robo de vehículo con y sin violencia</td>\n",
       "      <td>san juan de aragón ii sección</td>\n",
       "      <td>gustavo a. madero</td>\n",
       "      <td>19.45106</td>\n",
       "      <td>-99.08669</td>\n",
       "      <td>2015-12-31 22:00:00</td>\n",
       "      <td>impacto medio</td>\n",
       "    </tr>\n",
       "    <tr>\n",
       "      <th>4</th>\n",
       "      <td>5</td>\n",
       "      <td>2016-01-01</td>\n",
       "      <td>homicidios intencionales (otros)</td>\n",
       "      <td>homicidio doloso</td>\n",
       "      <td>nativitas</td>\n",
       "      <td>benito juarez</td>\n",
       "      <td>19.38095</td>\n",
       "      <td>-99.13982</td>\n",
       "      <td>2015-12-31 22:30:00</td>\n",
       "      <td>alto impacto</td>\n",
       "    </tr>\n",
       "  </tbody>\n",
       "</table>\n",
       "</div>"
      ],
      "text/plain": [
       "   id      inicio                                             delito  \\\n",
       "0   1  2016-01-01  lesiones culposas por transito vehicular en co...   \n",
       "1   2  2016-01-01      robo a pasajero a bordo de taxi con violencia   \n",
       "2   3  2016-01-01     robo a transeunte en via publica con violencia   \n",
       "3   4  2016-01-01  robo de vehiculo de servicio particular sin vi...   \n",
       "4   5  2016-01-01                   homicidios intencionales (otros)   \n",
       "\n",
       "                                           categoría  \\\n",
       "0                             delito de bajo impacto   \n",
       "1      robo a pasajero a bordo de taxi con violencia   \n",
       "2  robo a transeunte en vía pública con y sin vio...   \n",
       "3               robo de vehículo con y sin violencia   \n",
       "4                                   homicidio doloso   \n",
       "\n",
       "                         colonia           alcaldía   latitud  longitud  \\\n",
       "0         jardines en la montaña            tlalpan  19.30086 -99.20877   \n",
       "1              lomas de padierna            tlalpan  19.29003 -99.21748   \n",
       "2          san antonio culhuacán         iztapalapa  19.34080 -99.11431   \n",
       "3  san juan de aragón ii sección  gustavo a. madero  19.45106 -99.08669   \n",
       "4                      nativitas      benito juarez  19.38095 -99.13982   \n",
       "\n",
       "              datetime       gravedad  \n",
       "0  2015-12-31 16:30:00   bajo impacto  \n",
       "1  2015-12-31 22:40:00  impacto medio  \n",
       "2  2016-01-01 00:20:00  impacto medio  \n",
       "3  2015-12-31 22:00:00  impacto medio  \n",
       "4  2015-12-31 22:30:00   alto impacto  "
      ]
     },
     "execution_count": 3,
     "metadata": {},
     "output_type": "execute_result"
    }
   ],
   "source": [
    "df.head()"
   ]
  },
  {
   "cell_type": "code",
   "execution_count": null,
   "id": "ec8d7bfe",
   "metadata": {},
   "outputs": [],
   "source": [
    "df[\"datetime\"] = pd.to_datetime(df[\"datetime\"])\n",
    "df[\"hora\"] = df[\"datetime\"].dt.hour"
   ]
  },
  {
   "cell_type": "code",
   "execution_count": null,
   "id": "7ed7dc20",
   "metadata": {},
   "outputs": [],
   "source": [
    "X = df[['hora', 'latitud', 'longitud']]\n",
    "y = pd.DataFrame({\n",
    "    'bajo_impacto': (df['gravedad'] == 'bajo impacto').astype(int),\n",
    "    'impacto_medio': (df['gravedad'] == 'impacto medio').astype(int),\n",
    "    'alto_impacto': (df['gravedad'] == 'alto impacto').astype(int)\n",
    "})"
   ]
  },
  {
   "cell_type": "code",
   "execution_count": 7,
   "id": "48fe4b93",
   "metadata": {},
   "outputs": [],
   "source": [
    "X_train, X_test, y_train, y_test = train_test_split(X, y, test_size=0.2, random_state=0)"
   ]
  },
  {
   "cell_type": "code",
   "execution_count": 8,
   "id": "48ceaa79",
   "metadata": {},
   "outputs": [],
   "source": [
    "pipeline = Pipeline([\n",
    "    ('scaler', StandardScaler()),  # Normalizar las características\n",
    "    ('modelo', MultiOutputClassifier(LogisticRegression()))  # Usar un clasificador multinomial\n",
    "])"
   ]
  },
  {
   "cell_type": "code",
   "execution_count": 9,
   "id": "60c5af2b",
   "metadata": {},
   "outputs": [
    {
     "ename": "TypeError",
     "evalue": "float() argument must be a string or a real number, not 'datetime.date'",
     "output_type": "error",
     "traceback": [
      "\u001b[31m---------------------------------------------------------------------------\u001b[39m",
      "\u001b[31mTypeError\u001b[39m                                 Traceback (most recent call last)",
      "\u001b[32m~\\AppData\\Local\\Temp\\ipykernel_32400\\3809708124.py\u001b[39m in \u001b[36m?\u001b[39m\u001b[34m()\u001b[39m\n\u001b[32m----> \u001b[39m\u001b[32m1\u001b[39m pipeline.fit(X_train, y_train)\n",
      "\u001b[32mc:\\Users\\L03041202\\Desktop\\TI3002C.501\\material\\Proyecto final\\ml\\.venv\\Lib\\site-packages\\sklearn\\base.py\u001b[39m in \u001b[36m?\u001b[39m\u001b[34m(estimator, *args, **kwargs)\u001b[39m\n\u001b[32m   1385\u001b[39m                 skip_parameter_validation=(\n\u001b[32m   1386\u001b[39m                     prefer_skip_nested_validation \u001b[38;5;28;01mor\u001b[39;00m global_skip_validation\n\u001b[32m   1387\u001b[39m                 )\n\u001b[32m   1388\u001b[39m             ):\n\u001b[32m-> \u001b[39m\u001b[32m1389\u001b[39m                 \u001b[38;5;28;01mreturn\u001b[39;00m fit_method(estimator, *args, **kwargs)\n",
      "\u001b[32mc:\\Users\\L03041202\\Desktop\\TI3002C.501\\material\\Proyecto final\\ml\\.venv\\Lib\\site-packages\\sklearn\\pipeline.py\u001b[39m in \u001b[36m?\u001b[39m\u001b[34m(self, X, y, **params)\u001b[39m\n\u001b[32m    650\u001b[39m                 \u001b[33m\"`sklearn.set_config(enable_metadata_routing=True)`.\"\u001b[39m\n\u001b[32m    651\u001b[39m             )\n\u001b[32m    652\u001b[39m \n\u001b[32m    653\u001b[39m         routed_params = self._check_method_params(method=\u001b[33m\"fit\"\u001b[39m, props=params)\n\u001b[32m--> \u001b[39m\u001b[32m654\u001b[39m         Xt = self._fit(X, y, routed_params, raw_params=params)\n\u001b[32m    655\u001b[39m         \u001b[38;5;28;01mwith\u001b[39;00m _print_elapsed_time(\u001b[33m\"Pipeline\"\u001b[39m, self._log_message(len(self.steps) - \u001b[32m1\u001b[39m)):\n\u001b[32m    656\u001b[39m             \u001b[38;5;28;01mif\u001b[39;00m self._final_estimator != \u001b[33m\"passthrough\"\u001b[39m:\n\u001b[32m    657\u001b[39m                 last_step_params = self._get_metadata_for_step(\n",
      "\u001b[32mc:\\Users\\L03041202\\Desktop\\TI3002C.501\\material\\Proyecto final\\ml\\.venv\\Lib\\site-packages\\sklearn\\pipeline.py\u001b[39m in \u001b[36m?\u001b[39m\u001b[34m(self, X, y, routed_params, raw_params)\u001b[39m\n\u001b[32m    584\u001b[39m                 step_params=routed_params[name],\n\u001b[32m    585\u001b[39m                 all_params=raw_params,\n\u001b[32m    586\u001b[39m             )\n\u001b[32m    587\u001b[39m \n\u001b[32m--> \u001b[39m\u001b[32m588\u001b[39m             X, fitted_transformer = fit_transform_one_cached(\n\u001b[32m    589\u001b[39m                 cloned_transformer,\n\u001b[32m    590\u001b[39m                 X,\n\u001b[32m    591\u001b[39m                 y,\n",
      "\u001b[32mc:\\Users\\L03041202\\Desktop\\TI3002C.501\\material\\Proyecto final\\ml\\.venv\\Lib\\site-packages\\joblib\\memory.py\u001b[39m in \u001b[36m?\u001b[39m\u001b[34m(self, *args, **kwargs)\u001b[39m\n\u001b[32m    325\u001b[39m     \u001b[38;5;28;01mdef\u001b[39;00m __call__(self, *args, **kwargs):\n\u001b[32m--> \u001b[39m\u001b[32m326\u001b[39m         \u001b[38;5;28;01mreturn\u001b[39;00m self.func(*args, **kwargs)\n",
      "\u001b[32mc:\\Users\\L03041202\\Desktop\\TI3002C.501\\material\\Proyecto final\\ml\\.venv\\Lib\\site-packages\\sklearn\\pipeline.py\u001b[39m in \u001b[36m?\u001b[39m\u001b[34m(transformer, X, y, weight, message_clsname, message, params)\u001b[39m\n\u001b[32m   1547\u001b[39m     \"\"\"\n\u001b[32m   1548\u001b[39m     params = params \u001b[38;5;28;01mor\u001b[39;00m {}\n\u001b[32m   1549\u001b[39m     \u001b[38;5;28;01mwith\u001b[39;00m _print_elapsed_time(message_clsname, message):\n\u001b[32m   1550\u001b[39m         \u001b[38;5;28;01mif\u001b[39;00m hasattr(transformer, \u001b[33m\"fit_transform\"\u001b[39m):\n\u001b[32m-> \u001b[39m\u001b[32m1551\u001b[39m             res = transformer.fit_transform(X, y, **params.get(\u001b[33m\"fit_transform\"\u001b[39m, {}))\n\u001b[32m   1552\u001b[39m         \u001b[38;5;28;01melse\u001b[39;00m:\n\u001b[32m   1553\u001b[39m             res = transformer.fit(X, y, **params.get(\"fit\", {})).transform(\n\u001b[32m   1554\u001b[39m                 X, **params.get(\u001b[33m\"transform\"\u001b[39m, {})\n",
      "\u001b[32mc:\\Users\\L03041202\\Desktop\\TI3002C.501\\material\\Proyecto final\\ml\\.venv\\Lib\\site-packages\\sklearn\\utils\\_set_output.py\u001b[39m in \u001b[36m?\u001b[39m\u001b[34m(self, X, *args, **kwargs)\u001b[39m\n\u001b[32m    317\u001b[39m     @wraps(f)\n\u001b[32m    318\u001b[39m     \u001b[38;5;28;01mdef\u001b[39;00m wrapped(self, X, *args, **kwargs):\n\u001b[32m--> \u001b[39m\u001b[32m319\u001b[39m         data_to_wrap = f(self, X, *args, **kwargs)\n\u001b[32m    320\u001b[39m         \u001b[38;5;28;01mif\u001b[39;00m isinstance(data_to_wrap, tuple):\n\u001b[32m    321\u001b[39m             \u001b[38;5;66;03m# only wrap the first output for cross decomposition\u001b[39;00m\n\u001b[32m    322\u001b[39m             return_tuple = (\n",
      "\u001b[32mc:\\Users\\L03041202\\Desktop\\TI3002C.501\\material\\Proyecto final\\ml\\.venv\\Lib\\site-packages\\sklearn\\base.py\u001b[39m in \u001b[36m?\u001b[39m\u001b[34m(self, X, y, **fit_params)\u001b[39m\n\u001b[32m    917\u001b[39m             \u001b[38;5;66;03m# fit method of arity 1 (unsupervised transformation)\u001b[39;00m\n\u001b[32m    918\u001b[39m             \u001b[38;5;28;01mreturn\u001b[39;00m self.fit(X, **fit_params).transform(X)\n\u001b[32m    919\u001b[39m         \u001b[38;5;28;01melse\u001b[39;00m:\n\u001b[32m    920\u001b[39m             \u001b[38;5;66;03m# fit method of arity 2 (supervised transformation)\u001b[39;00m\n\u001b[32m--> \u001b[39m\u001b[32m921\u001b[39m             \u001b[38;5;28;01mreturn\u001b[39;00m self.fit(X, y, **fit_params).transform(X)\n",
      "\u001b[32mc:\\Users\\L03041202\\Desktop\\TI3002C.501\\material\\Proyecto final\\ml\\.venv\\Lib\\site-packages\\sklearn\\preprocessing\\_data.py\u001b[39m in \u001b[36m?\u001b[39m\u001b[34m(self, X, y, sample_weight)\u001b[39m\n\u001b[32m    890\u001b[39m             Fitted scaler.\n\u001b[32m    891\u001b[39m         \"\"\"\n\u001b[32m    892\u001b[39m         \u001b[38;5;66;03m# Reset internal state before fitting\u001b[39;00m\n\u001b[32m    893\u001b[39m         self._reset()\n\u001b[32m--> \u001b[39m\u001b[32m894\u001b[39m         \u001b[38;5;28;01mreturn\u001b[39;00m self.partial_fit(X, y, sample_weight)\n",
      "\u001b[32mc:\\Users\\L03041202\\Desktop\\TI3002C.501\\material\\Proyecto final\\ml\\.venv\\Lib\\site-packages\\sklearn\\base.py\u001b[39m in \u001b[36m?\u001b[39m\u001b[34m(estimator, *args, **kwargs)\u001b[39m\n\u001b[32m   1385\u001b[39m                 skip_parameter_validation=(\n\u001b[32m   1386\u001b[39m                     prefer_skip_nested_validation \u001b[38;5;28;01mor\u001b[39;00m global_skip_validation\n\u001b[32m   1387\u001b[39m                 )\n\u001b[32m   1388\u001b[39m             ):\n\u001b[32m-> \u001b[39m\u001b[32m1389\u001b[39m                 \u001b[38;5;28;01mreturn\u001b[39;00m fit_method(estimator, *args, **kwargs)\n",
      "\u001b[32mc:\\Users\\L03041202\\Desktop\\TI3002C.501\\material\\Proyecto final\\ml\\.venv\\Lib\\site-packages\\sklearn\\preprocessing\\_data.py\u001b[39m in \u001b[36m?\u001b[39m\u001b[34m(self, X, y, sample_weight)\u001b[39m\n\u001b[32m    926\u001b[39m         self : object\n\u001b[32m    927\u001b[39m             Fitted scaler.\n\u001b[32m    928\u001b[39m         \"\"\"\n\u001b[32m    929\u001b[39m         first_call = \u001b[38;5;28;01mnot\u001b[39;00m hasattr(self, \u001b[33m\"n_samples_seen_\"\u001b[39m)\n\u001b[32m--> \u001b[39m\u001b[32m930\u001b[39m         X = validate_data(\n\u001b[32m    931\u001b[39m             self,\n\u001b[32m    932\u001b[39m             X,\n\u001b[32m    933\u001b[39m             accept_sparse=(\u001b[33m\"csr\"\u001b[39m, \u001b[33m\"csc\"\u001b[39m),\n",
      "\u001b[32mc:\\Users\\L03041202\\Desktop\\TI3002C.501\\material\\Proyecto final\\ml\\.venv\\Lib\\site-packages\\sklearn\\utils\\validation.py\u001b[39m in \u001b[36m?\u001b[39m\u001b[34m(_estimator, X, y, reset, validate_separately, skip_check_array, **check_params)\u001b[39m\n\u001b[32m   2940\u001b[39m             out = y\n\u001b[32m   2941\u001b[39m         \u001b[38;5;28;01melse\u001b[39;00m:\n\u001b[32m   2942\u001b[39m             out = X, y\n\u001b[32m   2943\u001b[39m     \u001b[38;5;28;01melif\u001b[39;00m \u001b[38;5;28;01mnot\u001b[39;00m no_val_X \u001b[38;5;28;01mand\u001b[39;00m no_val_y:\n\u001b[32m-> \u001b[39m\u001b[32m2944\u001b[39m         out = check_array(X, input_name=\u001b[33m\"X\"\u001b[39m, **check_params)\n\u001b[32m   2945\u001b[39m     \u001b[38;5;28;01melif\u001b[39;00m no_val_X \u001b[38;5;28;01mand\u001b[39;00m \u001b[38;5;28;01mnot\u001b[39;00m no_val_y:\n\u001b[32m   2946\u001b[39m         out = _check_y(y, **check_params)\n\u001b[32m   2947\u001b[39m     \u001b[38;5;28;01melse\u001b[39;00m:\n",
      "\u001b[32mc:\\Users\\L03041202\\Desktop\\TI3002C.501\\material\\Proyecto final\\ml\\.venv\\Lib\\site-packages\\sklearn\\utils\\validation.py\u001b[39m in \u001b[36m?\u001b[39m\u001b[34m(array, accept_sparse, accept_large_sparse, dtype, order, copy, force_writeable, force_all_finite, ensure_all_finite, ensure_non_negative, ensure_2d, allow_nd, ensure_min_samples, ensure_min_features, estimator, input_name)\u001b[39m\n\u001b[32m   1052\u001b[39m                         )\n\u001b[32m   1053\u001b[39m                     array = xp.astype(array, dtype, copy=\u001b[38;5;28;01mFalse\u001b[39;00m)\n\u001b[32m   1054\u001b[39m                 \u001b[38;5;28;01melse\u001b[39;00m:\n\u001b[32m   1055\u001b[39m                     array = _asarray_with_order(array, order=order, dtype=dtype, xp=xp)\n\u001b[32m-> \u001b[39m\u001b[32m1056\u001b[39m             \u001b[38;5;28;01mexcept\u001b[39;00m ComplexWarning \u001b[38;5;28;01mas\u001b[39;00m complex_warning:\n\u001b[32m   1057\u001b[39m                 raise ValueError(\n\u001b[32m   1058\u001b[39m                     \u001b[33m\"Complex data not supported\\n{}\\n\"\u001b[39m.format(array)\n\u001b[32m   1059\u001b[39m                 ) \u001b[38;5;28;01mfrom\u001b[39;00m complex_warning\n",
      "\u001b[32mc:\\Users\\L03041202\\Desktop\\TI3002C.501\\material\\Proyecto final\\ml\\.venv\\Lib\\site-packages\\sklearn\\utils\\_array_api.py\u001b[39m in \u001b[36m?\u001b[39m\u001b[34m(array, dtype, order, copy, xp, device)\u001b[39m\n\u001b[32m    835\u001b[39m         \u001b[38;5;66;03m# Use NumPy API to support order\u001b[39;00m\n\u001b[32m    836\u001b[39m         \u001b[38;5;28;01mif\u001b[39;00m copy \u001b[38;5;28;01mis\u001b[39;00m \u001b[38;5;28;01mTrue\u001b[39;00m:\n\u001b[32m    837\u001b[39m             array = numpy.array(array, order=order, dtype=dtype)\n\u001b[32m    838\u001b[39m         \u001b[38;5;28;01melse\u001b[39;00m:\n\u001b[32m--> \u001b[39m\u001b[32m839\u001b[39m             array = numpy.asarray(array, order=order, dtype=dtype)\n\u001b[32m    840\u001b[39m \n\u001b[32m    841\u001b[39m         \u001b[38;5;66;03m# At this point array is a NumPy ndarray. We convert it to an array\u001b[39;00m\n\u001b[32m    842\u001b[39m         \u001b[38;5;66;03m# container that is consistent with the input's namespace.\u001b[39;00m\n",
      "\u001b[32mc:\\Users\\L03041202\\Desktop\\TI3002C.501\\material\\Proyecto final\\ml\\.venv\\Lib\\site-packages\\pandas\\core\\generic.py\u001b[39m in \u001b[36m?\u001b[39m\u001b[34m(self, dtype, copy)\u001b[39m\n\u001b[32m   2149\u001b[39m     def __array__(\n\u001b[32m   2150\u001b[39m         self, dtype: npt.DTypeLike | \u001b[38;5;28;01mNone\u001b[39;00m = \u001b[38;5;28;01mNone\u001b[39;00m, copy: bool_t | \u001b[38;5;28;01mNone\u001b[39;00m = \u001b[38;5;28;01mNone\u001b[39;00m\n\u001b[32m   2151\u001b[39m     ) -> np.ndarray:\n\u001b[32m   2152\u001b[39m         values = self._values\n\u001b[32m-> \u001b[39m\u001b[32m2153\u001b[39m         arr = np.asarray(values, dtype=dtype)\n\u001b[32m   2154\u001b[39m         if (\n\u001b[32m   2155\u001b[39m             astype_is_view(values.dtype, arr.dtype)\n\u001b[32m   2156\u001b[39m             \u001b[38;5;28;01mand\u001b[39;00m using_copy_on_write()\n",
      "\u001b[31mTypeError\u001b[39m: float() argument must be a string or a real number, not 'datetime.date'"
     ]
    }
   ],
   "source": [
    "pipeline.fit(X_train, y_train)"
   ]
  },
  {
   "cell_type": "code",
   "execution_count": 24,
   "id": "6191ddf3",
   "metadata": {},
   "outputs": [],
   "source": [
    "y_pred_prob = pipeline.predict_proba(X_test)"
   ]
  },
  {
   "cell_type": "code",
   "execution_count": 25,
   "id": "d456fea5",
   "metadata": {},
   "outputs": [],
   "source": [
    "prob_bajo = y_pred_prob[0][:, 1]\n",
    "prob_medio = y_pred_prob[1][:, 1]\n",
    "prob_alto = y_pred_prob[2][:, 1]"
   ]
  },
  {
   "cell_type": "code",
   "execution_count": 26,
   "id": "ec3ab267",
   "metadata": {},
   "outputs": [],
   "source": [
    "roc_bajo = roc_auc_score(y_test['bajo_impacto'], prob_bajo)\n",
    "roc_medio = roc_auc_score(y_test['impacto_medio'], prob_medio)\n",
    "roc_alto = roc_auc_score(y_test['alto_impacto'], prob_alto)"
   ]
  },
  {
   "cell_type": "code",
   "execution_count": 27,
   "id": "2edef92b",
   "metadata": {},
   "outputs": [
    {
     "name": "stdout",
     "output_type": "stream",
     "text": [
      "AUC para bajo impacto: 0.5673\n",
      "AUC para impacto medio: 0.5697\n",
      "AUC para alto impacto: 0.5519\n"
     ]
    }
   ],
   "source": [
    "print(f'AUC para bajo impacto: {roc_bajo:.4f}')\n",
    "print(f'AUC para impacto medio: {roc_medio:.4f}')\n",
    "print(f'AUC para alto impacto: {roc_alto:.4f}')"
   ]
  },
  {
   "cell_type": "code",
   "execution_count": 28,
   "id": "97409580",
   "metadata": {},
   "outputs": [
    {
     "data": {
      "text/plain": [
       "array([[1, 0, 0]])"
      ]
     },
     "execution_count": 28,
     "metadata": {},
     "output_type": "execute_result"
    }
   ],
   "source": [
    "pipeline.predict(X_test.loc[[0]])"
   ]
  },
  {
   "cell_type": "code",
   "execution_count": 29,
   "id": "1a9d0385",
   "metadata": {},
   "outputs": [
    {
     "data": {
      "text/plain": [
       "[array([[0.11736635, 0.88263365]]),\n",
       " array([[0.89436413, 0.10563587]]),\n",
       " array([[0.98835542, 0.01164458]])]"
      ]
     },
     "execution_count": 29,
     "metadata": {},
     "output_type": "execute_result"
    }
   ],
   "source": [
    "pipeline.predict_proba(X_test.loc[[0]])"
   ]
  },
  {
   "cell_type": "code",
   "execution_count": 30,
   "id": "70dabd3f",
   "metadata": {},
   "outputs": [
    {
     "data": {
      "text/plain": [
       "['modelos/modelo_coordenadas.joblib']"
      ]
     },
     "execution_count": 30,
     "metadata": {},
     "output_type": "execute_result"
    }
   ],
   "source": [
    "os.makedirs('modelos', exist_ok=True)\n",
    "joblib.dump(pipeline, 'modelos/modelo_coordenadas.joblib')"
   ]
  },
  {
   "cell_type": "code",
   "execution_count": null,
   "id": "311c5f48",
   "metadata": {},
   "outputs": [],
   "source": []
  }
 ],
 "metadata": {
  "kernelspec": {
   "display_name": "ml",
   "language": "python",
   "name": "python3"
  },
  "language_info": {
   "codemirror_mode": {
    "name": "ipython",
    "version": 3
   },
   "file_extension": ".py",
   "mimetype": "text/x-python",
   "name": "python",
   "nbconvert_exporter": "python",
   "pygments_lexer": "ipython3",
   "version": "3.13.3"
  }
 },
 "nbformat": 4,
 "nbformat_minor": 5
}
