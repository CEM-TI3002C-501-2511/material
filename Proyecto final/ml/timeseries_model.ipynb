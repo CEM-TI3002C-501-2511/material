{
 "cells": [
  {
   "cell_type": "markdown",
   "id": "f6e73ac2",
   "metadata": {},
   "source": [
    "# Predicción de series de tiempo con Prophet"
   ]
  },
  {
   "cell_type": "code",
   "execution_count": 1,
   "id": "b04196bb",
   "metadata": {},
   "outputs": [
    {
     "name": "stderr",
     "output_type": "stream",
     "text": [
      "c:\\Users\\L03041202\\Desktop\\TI3002C.501\\material\\Proyecto final\\ml\\.venv\\Lib\\site-packages\\tqdm\\auto.py:21: TqdmWarning: IProgress not found. Please update jupyter and ipywidgets. See https://ipywidgets.readthedocs.io/en/stable/user_install.html\n",
      "  from .autonotebook import tqdm as notebook_tqdm\n"
     ]
    }
   ],
   "source": [
    "import pandas as pd\n",
    "import joblib\n",
    "from prophet import Prophet\n",
    "from datetime import datetime\n",
    "from prophet.plot import plot_plotly, plot_components_plotly"
   ]
  },
  {
   "cell_type": "code",
   "execution_count": 2,
   "id": "4c57d87f",
   "metadata": {},
   "outputs": [],
   "source": [
    "df = pd.read_csv(\"carpetas.csv\")"
   ]
  },
  {
   "cell_type": "code",
   "execution_count": 3,
   "id": "6c259b1a",
   "metadata": {},
   "outputs": [
    {
     "data": {
      "text/html": [
       "<div>\n",
       "<style scoped>\n",
       "    .dataframe tbody tr th:only-of-type {\n",
       "        vertical-align: middle;\n",
       "    }\n",
       "\n",
       "    .dataframe tbody tr th {\n",
       "        vertical-align: top;\n",
       "    }\n",
       "\n",
       "    .dataframe thead th {\n",
       "        text-align: right;\n",
       "    }\n",
       "</style>\n",
       "<table border=\"1\" class=\"dataframe\">\n",
       "  <thead>\n",
       "    <tr style=\"text-align: right;\">\n",
       "      <th></th>\n",
       "      <th>id</th>\n",
       "      <th>inicio</th>\n",
       "      <th>delito</th>\n",
       "      <th>categoría</th>\n",
       "      <th>colonia</th>\n",
       "      <th>alcaldía</th>\n",
       "      <th>latitud</th>\n",
       "      <th>longitud</th>\n",
       "      <th>datetime</th>\n",
       "      <th>gravedad</th>\n",
       "    </tr>\n",
       "  </thead>\n",
       "  <tbody>\n",
       "    <tr>\n",
       "      <th>0</th>\n",
       "      <td>1</td>\n",
       "      <td>2016-01-01</td>\n",
       "      <td>lesiones culposas por transito vehicular en co...</td>\n",
       "      <td>delito de bajo impacto</td>\n",
       "      <td>jardines en la montaña</td>\n",
       "      <td>tlalpan</td>\n",
       "      <td>19.30086</td>\n",
       "      <td>-99.20877</td>\n",
       "      <td>2015-12-31 16:30:00</td>\n",
       "      <td>bajo impacto</td>\n",
       "    </tr>\n",
       "    <tr>\n",
       "      <th>1</th>\n",
       "      <td>2</td>\n",
       "      <td>2016-01-01</td>\n",
       "      <td>robo a pasajero a bordo de taxi con violencia</td>\n",
       "      <td>robo a pasajero a bordo de taxi con violencia</td>\n",
       "      <td>lomas de padierna</td>\n",
       "      <td>tlalpan</td>\n",
       "      <td>19.29003</td>\n",
       "      <td>-99.21748</td>\n",
       "      <td>2015-12-31 22:40:00</td>\n",
       "      <td>impacto medio</td>\n",
       "    </tr>\n",
       "    <tr>\n",
       "      <th>2</th>\n",
       "      <td>3</td>\n",
       "      <td>2016-01-01</td>\n",
       "      <td>robo a transeunte en via publica con violencia</td>\n",
       "      <td>robo a transeunte en vía pública con y sin vio...</td>\n",
       "      <td>san antonio culhuacán</td>\n",
       "      <td>iztapalapa</td>\n",
       "      <td>19.34080</td>\n",
       "      <td>-99.11431</td>\n",
       "      <td>2016-01-01 00:20:00</td>\n",
       "      <td>impacto medio</td>\n",
       "    </tr>\n",
       "    <tr>\n",
       "      <th>3</th>\n",
       "      <td>4</td>\n",
       "      <td>2016-01-01</td>\n",
       "      <td>robo de vehiculo de servicio particular sin vi...</td>\n",
       "      <td>robo de vehículo con y sin violencia</td>\n",
       "      <td>san juan de aragón ii sección</td>\n",
       "      <td>gustavo a. madero</td>\n",
       "      <td>19.45106</td>\n",
       "      <td>-99.08669</td>\n",
       "      <td>2015-12-31 22:00:00</td>\n",
       "      <td>impacto medio</td>\n",
       "    </tr>\n",
       "    <tr>\n",
       "      <th>4</th>\n",
       "      <td>5</td>\n",
       "      <td>2016-01-01</td>\n",
       "      <td>homicidios intencionales (otros)</td>\n",
       "      <td>homicidio doloso</td>\n",
       "      <td>nativitas</td>\n",
       "      <td>benito juarez</td>\n",
       "      <td>19.38095</td>\n",
       "      <td>-99.13982</td>\n",
       "      <td>2015-12-31 22:30:00</td>\n",
       "      <td>alto impacto</td>\n",
       "    </tr>\n",
       "  </tbody>\n",
       "</table>\n",
       "</div>"
      ],
      "text/plain": [
       "   id      inicio                                             delito  \\\n",
       "0   1  2016-01-01  lesiones culposas por transito vehicular en co...   \n",
       "1   2  2016-01-01      robo a pasajero a bordo de taxi con violencia   \n",
       "2   3  2016-01-01     robo a transeunte en via publica con violencia   \n",
       "3   4  2016-01-01  robo de vehiculo de servicio particular sin vi...   \n",
       "4   5  2016-01-01                   homicidios intencionales (otros)   \n",
       "\n",
       "                                           categoría  \\\n",
       "0                             delito de bajo impacto   \n",
       "1      robo a pasajero a bordo de taxi con violencia   \n",
       "2  robo a transeunte en vía pública con y sin vio...   \n",
       "3               robo de vehículo con y sin violencia   \n",
       "4                                   homicidio doloso   \n",
       "\n",
       "                         colonia           alcaldía   latitud  longitud  \\\n",
       "0         jardines en la montaña            tlalpan  19.30086 -99.20877   \n",
       "1              lomas de padierna            tlalpan  19.29003 -99.21748   \n",
       "2          san antonio culhuacán         iztapalapa  19.34080 -99.11431   \n",
       "3  san juan de aragón ii sección  gustavo a. madero  19.45106 -99.08669   \n",
       "4                      nativitas      benito juarez  19.38095 -99.13982   \n",
       "\n",
       "              datetime       gravedad  \n",
       "0  2015-12-31 16:30:00   bajo impacto  \n",
       "1  2015-12-31 22:40:00  impacto medio  \n",
       "2  2016-01-01 00:20:00  impacto medio  \n",
       "3  2015-12-31 22:00:00  impacto medio  \n",
       "4  2015-12-31 22:30:00   alto impacto  "
      ]
     },
     "execution_count": 3,
     "metadata": {},
     "output_type": "execute_result"
    }
   ],
   "source": [
    "df.head()"
   ]
  },
  {
   "cell_type": "code",
   "execution_count": 4,
   "id": "7273d2a5",
   "metadata": {},
   "outputs": [],
   "source": [
    "df[\"datetime\"] = pd.to_datetime(df[\"datetime\"], format=\"mixed\")"
   ]
  },
  {
   "cell_type": "code",
   "execution_count": 5,
   "id": "56d60065",
   "metadata": {},
   "outputs": [
    {
     "data": {
      "text/plain": [
       "array(['tlalpan', 'iztapalapa', 'gustavo a. madero', 'benito juarez',\n",
       "       'coyoacan', 'miguel hidalgo', 'azcapotzalco', 'iztacalco',\n",
       "       'alvaro obregon', 'cuauhtemoc', 'venustiano carranza',\n",
       "       'xochimilco', 'la magdalena contreras', 'tlahuac', 'milpa alta',\n",
       "       'cuajimalpa de morelos', nan], dtype=object)"
      ]
     },
     "execution_count": 5,
     "metadata": {},
     "output_type": "execute_result"
    }
   ],
   "source": [
    "df[\"alcaldía\"].unique()"
   ]
  },
  {
   "cell_type": "code",
   "execution_count": 6,
   "id": "83c91729",
   "metadata": {},
   "outputs": [
    {
     "name": "stderr",
     "output_type": "stream",
     "text": [
      "20:25:34 - cmdstanpy - INFO - Chain [1] start processing\n",
      "20:25:36 - cmdstanpy - INFO - Chain [1] done processing\n"
     ]
    },
    {
     "name": "stdout",
     "output_type": "stream",
     "text": [
      "Modelo guardado para tlalpan con gravedad bajo impacto\n"
     ]
    },
    {
     "name": "stderr",
     "output_type": "stream",
     "text": [
      "20:25:37 - cmdstanpy - INFO - Chain [1] start processing\n",
      "20:25:38 - cmdstanpy - INFO - Chain [1] done processing\n"
     ]
    },
    {
     "name": "stdout",
     "output_type": "stream",
     "text": [
      "Modelo guardado para tlalpan con gravedad impacto medio\n"
     ]
    },
    {
     "name": "stderr",
     "output_type": "stream",
     "text": [
      "20:25:38 - cmdstanpy - INFO - Chain [1] start processing\n",
      "20:25:39 - cmdstanpy - INFO - Chain [1] done processing\n"
     ]
    },
    {
     "name": "stdout",
     "output_type": "stream",
     "text": [
      "Modelo guardado para tlalpan con gravedad alto impacto\n"
     ]
    },
    {
     "name": "stderr",
     "output_type": "stream",
     "text": [
      "20:25:40 - cmdstanpy - INFO - Chain [1] start processing\n",
      "20:25:41 - cmdstanpy - INFO - Chain [1] done processing\n"
     ]
    },
    {
     "name": "stdout",
     "output_type": "stream",
     "text": [
      "Modelo guardado para iztapalapa con gravedad impacto medio\n"
     ]
    },
    {
     "name": "stderr",
     "output_type": "stream",
     "text": [
      "20:25:42 - cmdstanpy - INFO - Chain [1] start processing\n",
      "20:25:45 - cmdstanpy - INFO - Chain [1] done processing\n"
     ]
    },
    {
     "name": "stdout",
     "output_type": "stream",
     "text": [
      "Modelo guardado para iztapalapa con gravedad bajo impacto\n"
     ]
    },
    {
     "name": "stderr",
     "output_type": "stream",
     "text": [
      "20:25:46 - cmdstanpy - INFO - Chain [1] start processing\n",
      "20:25:47 - cmdstanpy - INFO - Chain [1] done processing\n"
     ]
    },
    {
     "name": "stdout",
     "output_type": "stream",
     "text": [
      "Modelo guardado para iztapalapa con gravedad alto impacto\n"
     ]
    },
    {
     "name": "stderr",
     "output_type": "stream",
     "text": [
      "20:25:48 - cmdstanpy - INFO - Chain [1] start processing\n",
      "20:25:50 - cmdstanpy - INFO - Chain [1] done processing\n"
     ]
    },
    {
     "name": "stdout",
     "output_type": "stream",
     "text": [
      "Modelo guardado para gustavo a. madero con gravedad impacto medio\n"
     ]
    },
    {
     "name": "stderr",
     "output_type": "stream",
     "text": [
      "20:25:51 - cmdstanpy - INFO - Chain [1] start processing\n",
      "20:25:51 - cmdstanpy - INFO - Chain [1] done processing\n"
     ]
    },
    {
     "name": "stdout",
     "output_type": "stream",
     "text": [
      "Modelo guardado para gustavo a. madero con gravedad alto impacto\n"
     ]
    },
    {
     "name": "stderr",
     "output_type": "stream",
     "text": [
      "20:25:52 - cmdstanpy - INFO - Chain [1] start processing\n",
      "20:25:54 - cmdstanpy - INFO - Chain [1] done processing\n"
     ]
    },
    {
     "name": "stdout",
     "output_type": "stream",
     "text": [
      "Modelo guardado para gustavo a. madero con gravedad bajo impacto\n"
     ]
    },
    {
     "name": "stderr",
     "output_type": "stream",
     "text": [
      "20:25:55 - cmdstanpy - INFO - Chain [1] start processing\n",
      "20:25:55 - cmdstanpy - INFO - Chain [1] done processing\n"
     ]
    },
    {
     "name": "stdout",
     "output_type": "stream",
     "text": [
      "Modelo guardado para benito juarez con gravedad alto impacto\n"
     ]
    },
    {
     "name": "stderr",
     "output_type": "stream",
     "text": [
      "20:25:56 - cmdstanpy - INFO - Chain [1] start processing\n",
      "20:25:58 - cmdstanpy - INFO - Chain [1] done processing\n"
     ]
    },
    {
     "name": "stdout",
     "output_type": "stream",
     "text": [
      "Modelo guardado para benito juarez con gravedad bajo impacto\n"
     ]
    },
    {
     "name": "stderr",
     "output_type": "stream",
     "text": [
      "20:25:59 - cmdstanpy - INFO - Chain [1] start processing\n",
      "20:25:59 - cmdstanpy - INFO - Chain [1] done processing\n"
     ]
    },
    {
     "name": "stdout",
     "output_type": "stream",
     "text": [
      "Modelo guardado para benito juarez con gravedad impacto medio\n"
     ]
    },
    {
     "name": "stderr",
     "output_type": "stream",
     "text": [
      "20:26:00 - cmdstanpy - INFO - Chain [1] start processing\n",
      "20:26:01 - cmdstanpy - INFO - Chain [1] done processing\n"
     ]
    },
    {
     "name": "stdout",
     "output_type": "stream",
     "text": [
      "Modelo guardado para coyoacan con gravedad impacto medio\n"
     ]
    },
    {
     "name": "stderr",
     "output_type": "stream",
     "text": [
      "20:26:01 - cmdstanpy - INFO - Chain [1] start processing\n",
      "20:26:03 - cmdstanpy - INFO - Chain [1] done processing\n"
     ]
    },
    {
     "name": "stdout",
     "output_type": "stream",
     "text": [
      "Modelo guardado para coyoacan con gravedad bajo impacto\n"
     ]
    },
    {
     "name": "stderr",
     "output_type": "stream",
     "text": [
      "20:26:03 - cmdstanpy - INFO - Chain [1] start processing\n",
      "20:26:03 - cmdstanpy - INFO - Chain [1] done processing\n"
     ]
    },
    {
     "name": "stdout",
     "output_type": "stream",
     "text": [
      "Modelo guardado para coyoacan con gravedad alto impacto\n"
     ]
    },
    {
     "name": "stderr",
     "output_type": "stream",
     "text": [
      "20:26:04 - cmdstanpy - INFO - Chain [1] start processing\n",
      "20:26:06 - cmdstanpy - INFO - Chain [1] done processing\n"
     ]
    },
    {
     "name": "stdout",
     "output_type": "stream",
     "text": [
      "Modelo guardado para miguel hidalgo con gravedad bajo impacto\n"
     ]
    },
    {
     "name": "stderr",
     "output_type": "stream",
     "text": [
      "20:26:06 - cmdstanpy - INFO - Chain [1] start processing\n",
      "20:26:08 - cmdstanpy - INFO - Chain [1] done processing\n"
     ]
    },
    {
     "name": "stdout",
     "output_type": "stream",
     "text": [
      "Modelo guardado para miguel hidalgo con gravedad impacto medio\n"
     ]
    },
    {
     "name": "stderr",
     "output_type": "stream",
     "text": [
      "20:26:08 - cmdstanpy - INFO - Chain [1] start processing\n",
      "20:26:08 - cmdstanpy - INFO - Chain [1] done processing\n"
     ]
    },
    {
     "name": "stdout",
     "output_type": "stream",
     "text": [
      "Modelo guardado para miguel hidalgo con gravedad alto impacto\n"
     ]
    },
    {
     "name": "stderr",
     "output_type": "stream",
     "text": [
      "20:26:09 - cmdstanpy - INFO - Chain [1] start processing\n",
      "20:26:11 - cmdstanpy - INFO - Chain [1] done processing\n"
     ]
    },
    {
     "name": "stdout",
     "output_type": "stream",
     "text": [
      "Modelo guardado para azcapotzalco con gravedad bajo impacto\n"
     ]
    },
    {
     "name": "stderr",
     "output_type": "stream",
     "text": [
      "20:26:11 - cmdstanpy - INFO - Chain [1] start processing\n",
      "20:26:12 - cmdstanpy - INFO - Chain [1] done processing\n"
     ]
    },
    {
     "name": "stdout",
     "output_type": "stream",
     "text": [
      "Modelo guardado para azcapotzalco con gravedad impacto medio\n"
     ]
    },
    {
     "name": "stderr",
     "output_type": "stream",
     "text": [
      "20:26:12 - cmdstanpy - INFO - Chain [1] start processing\n",
      "20:26:13 - cmdstanpy - INFO - Chain [1] done processing\n"
     ]
    },
    {
     "name": "stdout",
     "output_type": "stream",
     "text": [
      "Modelo guardado para azcapotzalco con gravedad alto impacto\n"
     ]
    },
    {
     "name": "stderr",
     "output_type": "stream",
     "text": [
      "20:26:13 - cmdstanpy - INFO - Chain [1] start processing\n",
      "20:26:15 - cmdstanpy - INFO - Chain [1] done processing\n"
     ]
    },
    {
     "name": "stdout",
     "output_type": "stream",
     "text": [
      "Modelo guardado para iztacalco con gravedad impacto medio\n"
     ]
    },
    {
     "name": "stderr",
     "output_type": "stream",
     "text": [
      "20:26:15 - cmdstanpy - INFO - Chain [1] start processing\n",
      "20:26:17 - cmdstanpy - INFO - Chain [1] done processing\n"
     ]
    },
    {
     "name": "stdout",
     "output_type": "stream",
     "text": [
      "Modelo guardado para iztacalco con gravedad bajo impacto\n"
     ]
    },
    {
     "name": "stderr",
     "output_type": "stream",
     "text": [
      "20:26:17 - cmdstanpy - INFO - Chain [1] start processing\n",
      "20:26:17 - cmdstanpy - INFO - Chain [1] done processing\n"
     ]
    },
    {
     "name": "stdout",
     "output_type": "stream",
     "text": [
      "Modelo guardado para iztacalco con gravedad alto impacto\n"
     ]
    },
    {
     "name": "stderr",
     "output_type": "stream",
     "text": [
      "20:26:18 - cmdstanpy - INFO - Chain [1] start processing\n",
      "20:26:18 - cmdstanpy - INFO - Chain [1] done processing\n"
     ]
    },
    {
     "name": "stdout",
     "output_type": "stream",
     "text": [
      "Modelo guardado para alvaro obregon con gravedad alto impacto\n"
     ]
    },
    {
     "name": "stderr",
     "output_type": "stream",
     "text": [
      "20:26:19 - cmdstanpy - INFO - Chain [1] start processing\n",
      "20:26:21 - cmdstanpy - INFO - Chain [1] done processing\n"
     ]
    },
    {
     "name": "stdout",
     "output_type": "stream",
     "text": [
      "Modelo guardado para alvaro obregon con gravedad bajo impacto\n"
     ]
    },
    {
     "name": "stderr",
     "output_type": "stream",
     "text": [
      "20:26:21 - cmdstanpy - INFO - Chain [1] start processing\n",
      "20:26:22 - cmdstanpy - INFO - Chain [1] done processing\n"
     ]
    },
    {
     "name": "stdout",
     "output_type": "stream",
     "text": [
      "Modelo guardado para alvaro obregon con gravedad impacto medio\n"
     ]
    },
    {
     "name": "stderr",
     "output_type": "stream",
     "text": [
      "20:26:23 - cmdstanpy - INFO - Chain [1] start processing\n",
      "20:26:23 - cmdstanpy - INFO - Chain [1] done processing\n"
     ]
    },
    {
     "name": "stdout",
     "output_type": "stream",
     "text": [
      "Modelo guardado para cuauhtemoc con gravedad alto impacto\n"
     ]
    },
    {
     "name": "stderr",
     "output_type": "stream",
     "text": [
      "20:26:24 - cmdstanpy - INFO - Chain [1] start processing\n",
      "20:26:28 - cmdstanpy - INFO - Chain [1] done processing\n"
     ]
    },
    {
     "name": "stdout",
     "output_type": "stream",
     "text": [
      "Modelo guardado para cuauhtemoc con gravedad bajo impacto\n"
     ]
    },
    {
     "name": "stderr",
     "output_type": "stream",
     "text": [
      "20:26:29 - cmdstanpy - INFO - Chain [1] start processing\n",
      "20:26:30 - cmdstanpy - INFO - Chain [1] done processing\n"
     ]
    },
    {
     "name": "stdout",
     "output_type": "stream",
     "text": [
      "Modelo guardado para cuauhtemoc con gravedad impacto medio\n"
     ]
    },
    {
     "name": "stderr",
     "output_type": "stream",
     "text": [
      "20:26:31 - cmdstanpy - INFO - Chain [1] start processing\n",
      "20:26:32 - cmdstanpy - INFO - Chain [1] done processing\n"
     ]
    },
    {
     "name": "stdout",
     "output_type": "stream",
     "text": [
      "Modelo guardado para venustiano carranza con gravedad bajo impacto\n"
     ]
    },
    {
     "name": "stderr",
     "output_type": "stream",
     "text": [
      "20:26:33 - cmdstanpy - INFO - Chain [1] start processing\n",
      "20:26:33 - cmdstanpy - INFO - Chain [1] done processing\n"
     ]
    },
    {
     "name": "stdout",
     "output_type": "stream",
     "text": [
      "Modelo guardado para venustiano carranza con gravedad impacto medio\n"
     ]
    },
    {
     "name": "stderr",
     "output_type": "stream",
     "text": [
      "20:26:34 - cmdstanpy - INFO - Chain [1] start processing\n",
      "20:26:34 - cmdstanpy - INFO - Chain [1] done processing\n"
     ]
    },
    {
     "name": "stdout",
     "output_type": "stream",
     "text": [
      "Modelo guardado para venustiano carranza con gravedad alto impacto\n"
     ]
    },
    {
     "name": "stderr",
     "output_type": "stream",
     "text": [
      "20:26:35 - cmdstanpy - INFO - Chain [1] start processing\n",
      "20:26:36 - cmdstanpy - INFO - Chain [1] done processing\n"
     ]
    },
    {
     "name": "stdout",
     "output_type": "stream",
     "text": [
      "Modelo guardado para xochimilco con gravedad bajo impacto\n"
     ]
    },
    {
     "name": "stderr",
     "output_type": "stream",
     "text": [
      "20:26:37 - cmdstanpy - INFO - Chain [1] start processing\n",
      "20:26:38 - cmdstanpy - INFO - Chain [1] done processing\n"
     ]
    },
    {
     "name": "stdout",
     "output_type": "stream",
     "text": [
      "Modelo guardado para xochimilco con gravedad impacto medio\n"
     ]
    },
    {
     "name": "stderr",
     "output_type": "stream",
     "text": [
      "20:26:38 - cmdstanpy - INFO - Chain [1] start processing\n",
      "20:26:38 - cmdstanpy - INFO - Chain [1] done processing\n"
     ]
    },
    {
     "name": "stdout",
     "output_type": "stream",
     "text": [
      "Modelo guardado para xochimilco con gravedad alto impacto\n"
     ]
    },
    {
     "name": "stderr",
     "output_type": "stream",
     "text": [
      "20:26:39 - cmdstanpy - INFO - Chain [1] start processing\n",
      "20:26:40 - cmdstanpy - INFO - Chain [1] done processing\n"
     ]
    },
    {
     "name": "stdout",
     "output_type": "stream",
     "text": [
      "Modelo guardado para la magdalena contreras con gravedad bajo impacto\n"
     ]
    },
    {
     "name": "stderr",
     "output_type": "stream",
     "text": [
      "20:26:40 - cmdstanpy - INFO - Chain [1] start processing\n",
      "20:26:41 - cmdstanpy - INFO - Chain [1] done processing\n"
     ]
    },
    {
     "name": "stdout",
     "output_type": "stream",
     "text": [
      "Modelo guardado para la magdalena contreras con gravedad impacto medio\n"
     ]
    },
    {
     "name": "stderr",
     "output_type": "stream",
     "text": [
      "20:26:41 - cmdstanpy - INFO - Chain [1] start processing\n",
      "20:26:42 - cmdstanpy - INFO - Chain [1] done processing\n"
     ]
    },
    {
     "name": "stdout",
     "output_type": "stream",
     "text": [
      "Modelo guardado para la magdalena contreras con gravedad alto impacto\n"
     ]
    },
    {
     "name": "stderr",
     "output_type": "stream",
     "text": [
      "20:26:43 - cmdstanpy - INFO - Chain [1] start processing\n",
      "20:26:43 - cmdstanpy - INFO - Chain [1] done processing\n"
     ]
    },
    {
     "name": "stdout",
     "output_type": "stream",
     "text": [
      "Modelo guardado para tlahuac con gravedad bajo impacto\n"
     ]
    },
    {
     "name": "stderr",
     "output_type": "stream",
     "text": [
      "20:26:44 - cmdstanpy - INFO - Chain [1] start processing\n",
      "20:26:45 - cmdstanpy - INFO - Chain [1] done processing\n"
     ]
    },
    {
     "name": "stdout",
     "output_type": "stream",
     "text": [
      "Modelo guardado para tlahuac con gravedad impacto medio\n"
     ]
    },
    {
     "name": "stderr",
     "output_type": "stream",
     "text": [
      "20:26:45 - cmdstanpy - INFO - Chain [1] start processing\n",
      "20:26:45 - cmdstanpy - INFO - Chain [1] done processing\n"
     ]
    },
    {
     "name": "stdout",
     "output_type": "stream",
     "text": [
      "Modelo guardado para tlahuac con gravedad alto impacto\n"
     ]
    },
    {
     "name": "stderr",
     "output_type": "stream",
     "text": [
      "20:26:46 - cmdstanpy - INFO - Chain [1] start processing\n",
      "20:26:47 - cmdstanpy - INFO - Chain [1] done processing\n"
     ]
    },
    {
     "name": "stdout",
     "output_type": "stream",
     "text": [
      "Modelo guardado para milpa alta con gravedad bajo impacto\n"
     ]
    },
    {
     "name": "stderr",
     "output_type": "stream",
     "text": [
      "20:26:47 - cmdstanpy - INFO - Chain [1] start processing\n",
      "20:26:48 - cmdstanpy - INFO - Chain [1] done processing\n"
     ]
    },
    {
     "name": "stdout",
     "output_type": "stream",
     "text": [
      "Modelo guardado para milpa alta con gravedad impacto medio\n"
     ]
    },
    {
     "name": "stderr",
     "output_type": "stream",
     "text": [
      "20:26:48 - cmdstanpy - INFO - Chain [1] start processing\n",
      "20:26:48 - cmdstanpy - INFO - Chain [1] done processing\n"
     ]
    },
    {
     "name": "stdout",
     "output_type": "stream",
     "text": [
      "Modelo guardado para milpa alta con gravedad alto impacto\n"
     ]
    },
    {
     "name": "stderr",
     "output_type": "stream",
     "text": [
      "20:26:49 - cmdstanpy - INFO - Chain [1] start processing\n",
      "20:26:50 - cmdstanpy - INFO - Chain [1] done processing\n"
     ]
    },
    {
     "name": "stdout",
     "output_type": "stream",
     "text": [
      "Modelo guardado para cuajimalpa de morelos con gravedad bajo impacto\n"
     ]
    },
    {
     "name": "stderr",
     "output_type": "stream",
     "text": [
      "20:26:51 - cmdstanpy - INFO - Chain [1] start processing\n",
      "20:26:51 - cmdstanpy - INFO - Chain [1] done processing\n"
     ]
    },
    {
     "name": "stdout",
     "output_type": "stream",
     "text": [
      "Modelo guardado para cuajimalpa de morelos con gravedad impacto medio\n"
     ]
    },
    {
     "name": "stderr",
     "output_type": "stream",
     "text": [
      "20:26:51 - cmdstanpy - INFO - Chain [1] start processing\n",
      "20:26:52 - cmdstanpy - INFO - Chain [1] done processing\n"
     ]
    },
    {
     "name": "stdout",
     "output_type": "stream",
     "text": [
      "Modelo guardado para cuajimalpa de morelos con gravedad alto impacto\n"
     ]
    }
   ],
   "source": [
    "for alcaldia in df[\"alcaldía\"].unique():\n",
    "    df_alcaldia = df[df[\"alcaldía\"] == alcaldia]\n",
    "    for gravedad in df_alcaldia[\"gravedad\"].unique():\n",
    "        df_gravedad = df_alcaldia[df_alcaldia[\"gravedad\"] == gravedad]\n",
    "        df_gravedad = df_gravedad.groupby(df_alcaldia[\"datetime\"].dt.date).size().reset_index(name=\"count\")\n",
    "        model = Prophet()\n",
    "        model.fit(df_gravedad.rename(columns={\"datetime\": \"ds\", \"count\": \"y\"}))\n",
    "        joblib.dump(model, f\"modelos/{alcaldia}_{gravedad}.joblib\")\n",
    "        print(f\"Modelo guardado para {alcaldia} con gravedad {gravedad}\")"
   ]
  },
  {
   "cell_type": "code",
   "execution_count": 11,
   "id": "ff4f981d",
   "metadata": {},
   "outputs": [
    {
     "name": "stdout",
     "output_type": "stream",
     "text": [
      "datetime max: 2025-01-31 22:20:00\n",
      "Días hasta la fecha futura: 150\n"
     ]
    },
    {
     "data": {
      "text/html": [
       "<div>\n",
       "<style scoped>\n",
       "    .dataframe tbody tr th:only-of-type {\n",
       "        vertical-align: middle;\n",
       "    }\n",
       "\n",
       "    .dataframe tbody tr th {\n",
       "        vertical-align: top;\n",
       "    }\n",
       "\n",
       "    .dataframe thead th {\n",
       "        text-align: right;\n",
       "    }\n",
       "</style>\n",
       "<table border=\"1\" class=\"dataframe\">\n",
       "  <thead>\n",
       "    <tr style=\"text-align: right;\">\n",
       "      <th></th>\n",
       "      <th>ds</th>\n",
       "      <th>yhat</th>\n",
       "      <th>yhat_lower</th>\n",
       "      <th>yhat_upper</th>\n",
       "    </tr>\n",
       "  </thead>\n",
       "  <tbody>\n",
       "    <tr>\n",
       "      <th>0</th>\n",
       "      <td>2003-12-31</td>\n",
       "      <td>1.273897</td>\n",
       "      <td>0.950654</td>\n",
       "      <td>1.561873</td>\n",
       "    </tr>\n",
       "    <tr>\n",
       "      <th>1</th>\n",
       "      <td>2004-02-15</td>\n",
       "      <td>1.118255</td>\n",
       "      <td>0.818083</td>\n",
       "      <td>1.430328</td>\n",
       "    </tr>\n",
       "    <tr>\n",
       "      <th>2</th>\n",
       "      <td>2008-04-17</td>\n",
       "      <td>1.085759</td>\n",
       "      <td>0.775237</td>\n",
       "      <td>1.371466</td>\n",
       "    </tr>\n",
       "    <tr>\n",
       "      <th>3</th>\n",
       "      <td>2009-09-01</td>\n",
       "      <td>0.936514</td>\n",
       "      <td>0.621798</td>\n",
       "      <td>1.243053</td>\n",
       "    </tr>\n",
       "    <tr>\n",
       "      <th>4</th>\n",
       "      <td>2009-10-24</td>\n",
       "      <td>0.991827</td>\n",
       "      <td>0.676307</td>\n",
       "      <td>1.278174</td>\n",
       "    </tr>\n",
       "    <tr>\n",
       "      <th>...</th>\n",
       "      <td>...</td>\n",
       "      <td>...</td>\n",
       "      <td>...</td>\n",
       "      <td>...</td>\n",
       "    </tr>\n",
       "    <tr>\n",
       "      <th>489</th>\n",
       "      <td>2025-06-23</td>\n",
       "      <td>1.137519</td>\n",
       "      <td>0.829463</td>\n",
       "      <td>1.463852</td>\n",
       "    </tr>\n",
       "    <tr>\n",
       "      <th>490</th>\n",
       "      <td>2025-06-24</td>\n",
       "      <td>1.001888</td>\n",
       "      <td>0.675080</td>\n",
       "      <td>1.319899</td>\n",
       "    </tr>\n",
       "    <tr>\n",
       "      <th>491</th>\n",
       "      <td>2025-06-25</td>\n",
       "      <td>1.036259</td>\n",
       "      <td>0.738485</td>\n",
       "      <td>1.352747</td>\n",
       "    </tr>\n",
       "    <tr>\n",
       "      <th>492</th>\n",
       "      <td>2025-06-26</td>\n",
       "      <td>1.046835</td>\n",
       "      <td>0.708834</td>\n",
       "      <td>1.356009</td>\n",
       "    </tr>\n",
       "    <tr>\n",
       "      <th>493</th>\n",
       "      <td>2025-06-27</td>\n",
       "      <td>1.040588</td>\n",
       "      <td>0.719529</td>\n",
       "      <td>1.325555</td>\n",
       "    </tr>\n",
       "  </tbody>\n",
       "</table>\n",
       "<p>494 rows × 4 columns</p>\n",
       "</div>"
      ],
      "text/plain": [
       "            ds      yhat  yhat_lower  yhat_upper\n",
       "0   2003-12-31  1.273897    0.950654    1.561873\n",
       "1   2004-02-15  1.118255    0.818083    1.430328\n",
       "2   2008-04-17  1.085759    0.775237    1.371466\n",
       "3   2009-09-01  0.936514    0.621798    1.243053\n",
       "4   2009-10-24  0.991827    0.676307    1.278174\n",
       "..         ...       ...         ...         ...\n",
       "489 2025-06-23  1.137519    0.829463    1.463852\n",
       "490 2025-06-24  1.001888    0.675080    1.319899\n",
       "491 2025-06-25  1.036259    0.738485    1.352747\n",
       "492 2025-06-26  1.046835    0.708834    1.356009\n",
       "493 2025-06-27  1.040588    0.719529    1.325555\n",
       "\n",
       "[494 rows x 4 columns]"
      ]
     },
     "execution_count": 11,
     "metadata": {},
     "output_type": "execute_result"
    }
   ],
   "source": [
    "fecha_futura = pd.to_datetime(\"2025-07-01\")\n",
    "days_diff = (fecha_futura - df[\"datetime\"].max()).days\n",
    "print(\"datetime max:\", df[\"datetime\"].max())\n",
    "print(f\"Días hasta la fecha futura: {days_diff}\")\n",
    "future = model.make_future_dataframe(periods=days_diff, freq=\"D\")\n",
    "forecast = model.predict(future)\n",
    "predictions = forecast[['ds', 'yhat', 'yhat_lower', 'yhat_upper']]\n",
    "predictions"
   ]
  },
  {
   "cell_type": "code",
   "execution_count": 12,
   "id": "db7ce020",
   "metadata": {},
   "outputs": [
    {
     "data": {
      "application/vnd.plotly.v1+json": {
       "config": {
        "plotlyServerURL": "https://plot.ly"
       },
       "data": [
        {
         "marker": {
          "color": "black",
          "size": 4
         },
         "mode": "markers",
         "name": "Actual",
         "type": "scatter",
         "x": [
          "2003-12-31T00:00:00.000000000",
          "2004-02-15T00:00:00.000000000",
          "2008-04-17T00:00:00.000000000",
          "2009-09-01T00:00:00.000000000",
          "2009-10-24T00:00:00.000000000",
          "2010-10-29T00:00:00.000000000",
          "2010-12-12T00:00:00.000000000",
          "2011-05-01T00:00:00.000000000",
          "2012-01-01T00:00:00.000000000",
          "2012-02-15T00:00:00.000000000",
          "2013-12-28T00:00:00.000000000",
          "2014-03-10T00:00:00.000000000",
          "2015-11-15T00:00:00.000000000",
          "2016-02-11T00:00:00.000000000",
          "2016-04-09T00:00:00.000000000",
          "2016-05-02T00:00:00.000000000",
          "2016-05-06T00:00:00.000000000",
          "2016-05-20T00:00:00.000000000",
          "2016-06-03T00:00:00.000000000",
          "2016-06-08T00:00:00.000000000",
          "2016-08-09T00:00:00.000000000",
          "2016-08-12T00:00:00.000000000",
          "2016-08-25T00:00:00.000000000",
          "2016-09-17T00:00:00.000000000",
          "2016-09-21T00:00:00.000000000",
          "2016-09-25T00:00:00.000000000",
          "2016-10-17T00:00:00.000000000",
          "2016-11-29T00:00:00.000000000",
          "2016-12-04T00:00:00.000000000",
          "2016-12-08T00:00:00.000000000",
          "2016-12-12T00:00:00.000000000",
          "2016-12-13T00:00:00.000000000",
          "2016-12-15T00:00:00.000000000",
          "2016-12-29T00:00:00.000000000",
          "2017-03-17T00:00:00.000000000",
          "2017-03-31T00:00:00.000000000",
          "2017-04-07T00:00:00.000000000",
          "2017-04-08T00:00:00.000000000",
          "2017-04-23T00:00:00.000000000",
          "2017-05-01T00:00:00.000000000",
          "2017-05-05T00:00:00.000000000",
          "2017-05-25T00:00:00.000000000",
          "2017-06-06T00:00:00.000000000",
          "2017-07-06T00:00:00.000000000",
          "2017-07-16T00:00:00.000000000",
          "2017-07-17T00:00:00.000000000",
          "2017-07-30T00:00:00.000000000",
          "2017-08-24T00:00:00.000000000",
          "2017-09-15T00:00:00.000000000",
          "2017-09-17T00:00:00.000000000",
          "2017-09-27T00:00:00.000000000",
          "2017-10-02T00:00:00.000000000",
          "2017-10-08T00:00:00.000000000",
          "2017-10-12T00:00:00.000000000",
          "2017-10-13T00:00:00.000000000",
          "2017-11-05T00:00:00.000000000",
          "2017-11-28T00:00:00.000000000",
          "2017-12-02T00:00:00.000000000",
          "2017-12-14T00:00:00.000000000",
          "2017-12-17T00:00:00.000000000",
          "2017-12-23T00:00:00.000000000",
          "2017-12-31T00:00:00.000000000",
          "2018-01-18T00:00:00.000000000",
          "2018-02-25T00:00:00.000000000",
          "2018-03-03T00:00:00.000000000",
          "2018-03-04T00:00:00.000000000",
          "2018-03-10T00:00:00.000000000",
          "2018-03-16T00:00:00.000000000",
          "2018-03-29T00:00:00.000000000",
          "2018-03-30T00:00:00.000000000",
          "2018-04-01T00:00:00.000000000",
          "2018-04-04T00:00:00.000000000",
          "2018-04-14T00:00:00.000000000",
          "2018-04-22T00:00:00.000000000",
          "2018-05-04T00:00:00.000000000",
          "2018-05-12T00:00:00.000000000",
          "2018-05-16T00:00:00.000000000",
          "2018-06-03T00:00:00.000000000",
          "2018-06-20T00:00:00.000000000",
          "2018-06-25T00:00:00.000000000",
          "2018-07-05T00:00:00.000000000",
          "2018-07-14T00:00:00.000000000",
          "2018-07-21T00:00:00.000000000",
          "2018-08-01T00:00:00.000000000",
          "2018-08-05T00:00:00.000000000",
          "2018-08-23T00:00:00.000000000",
          "2018-09-01T00:00:00.000000000",
          "2018-09-07T00:00:00.000000000",
          "2018-09-10T00:00:00.000000000",
          "2018-09-16T00:00:00.000000000",
          "2018-10-08T00:00:00.000000000",
          "2018-10-10T00:00:00.000000000",
          "2018-10-14T00:00:00.000000000",
          "2018-10-23T00:00:00.000000000",
          "2018-11-03T00:00:00.000000000",
          "2018-11-10T00:00:00.000000000",
          "2018-11-12T00:00:00.000000000",
          "2018-11-13T00:00:00.000000000",
          "2018-12-02T00:00:00.000000000",
          "2018-12-05T00:00:00.000000000",
          "2018-12-07T00:00:00.000000000",
          "2018-12-15T00:00:00.000000000",
          "2019-01-08T00:00:00.000000000",
          "2019-01-09T00:00:00.000000000",
          "2019-01-17T00:00:00.000000000",
          "2019-02-07T00:00:00.000000000",
          "2019-02-18T00:00:00.000000000",
          "2019-02-28T00:00:00.000000000",
          "2019-03-01T00:00:00.000000000",
          "2019-03-13T00:00:00.000000000",
          "2019-03-16T00:00:00.000000000",
          "2019-03-28T00:00:00.000000000",
          "2019-03-29T00:00:00.000000000",
          "2019-04-01T00:00:00.000000000",
          "2019-04-03T00:00:00.000000000",
          "2019-04-09T00:00:00.000000000",
          "2019-04-14T00:00:00.000000000",
          "2019-04-17T00:00:00.000000000",
          "2019-04-29T00:00:00.000000000",
          "2019-05-03T00:00:00.000000000",
          "2019-05-08T00:00:00.000000000",
          "2019-05-10T00:00:00.000000000",
          "2019-06-02T00:00:00.000000000",
          "2019-06-18T00:00:00.000000000",
          "2019-06-27T00:00:00.000000000",
          "2019-06-29T00:00:00.000000000",
          "2019-06-30T00:00:00.000000000",
          "2019-07-09T00:00:00.000000000",
          "2019-07-14T00:00:00.000000000",
          "2019-07-27T00:00:00.000000000",
          "2019-08-16T00:00:00.000000000",
          "2019-08-19T00:00:00.000000000",
          "2019-08-21T00:00:00.000000000",
          "2019-09-04T00:00:00.000000000",
          "2019-09-06T00:00:00.000000000",
          "2019-09-11T00:00:00.000000000",
          "2019-09-22T00:00:00.000000000",
          "2019-09-30T00:00:00.000000000",
          "2019-10-04T00:00:00.000000000",
          "2019-10-11T00:00:00.000000000",
          "2019-10-19T00:00:00.000000000",
          "2019-10-20T00:00:00.000000000",
          "2019-10-26T00:00:00.000000000",
          "2019-11-01T00:00:00.000000000",
          "2019-11-03T00:00:00.000000000",
          "2019-11-11T00:00:00.000000000",
          "2019-11-16T00:00:00.000000000",
          "2019-11-17T00:00:00.000000000",
          "2019-11-21T00:00:00.000000000",
          "2019-12-07T00:00:00.000000000",
          "2019-12-12T00:00:00.000000000",
          "2019-12-21T00:00:00.000000000",
          "2019-12-23T00:00:00.000000000",
          "2020-01-19T00:00:00.000000000",
          "2020-02-01T00:00:00.000000000",
          "2020-02-06T00:00:00.000000000",
          "2020-02-15T00:00:00.000000000",
          "2020-02-20T00:00:00.000000000",
          "2020-03-07T00:00:00.000000000",
          "2020-03-17T00:00:00.000000000",
          "2020-03-19T00:00:00.000000000",
          "2020-03-27T00:00:00.000000000",
          "2020-04-09T00:00:00.000000000",
          "2020-04-17T00:00:00.000000000",
          "2020-05-02T00:00:00.000000000",
          "2020-06-07T00:00:00.000000000",
          "2020-06-11T00:00:00.000000000",
          "2020-06-14T00:00:00.000000000",
          "2020-06-17T00:00:00.000000000",
          "2020-06-27T00:00:00.000000000",
          "2020-07-17T00:00:00.000000000",
          "2020-07-22T00:00:00.000000000",
          "2020-07-25T00:00:00.000000000",
          "2020-08-30T00:00:00.000000000",
          "2020-09-20T00:00:00.000000000",
          "2020-09-21T00:00:00.000000000",
          "2020-10-05T00:00:00.000000000",
          "2020-10-15T00:00:00.000000000",
          "2020-10-27T00:00:00.000000000",
          "2020-11-01T00:00:00.000000000",
          "2020-11-02T00:00:00.000000000",
          "2020-12-05T00:00:00.000000000",
          "2020-12-21T00:00:00.000000000",
          "2020-12-24T00:00:00.000000000",
          "2020-12-25T00:00:00.000000000",
          "2021-01-08T00:00:00.000000000",
          "2021-01-11T00:00:00.000000000",
          "2021-01-20T00:00:00.000000000",
          "2021-01-23T00:00:00.000000000",
          "2021-02-01T00:00:00.000000000",
          "2021-02-21T00:00:00.000000000",
          "2021-02-24T00:00:00.000000000",
          "2021-03-01T00:00:00.000000000",
          "2021-03-06T00:00:00.000000000",
          "2021-03-12T00:00:00.000000000",
          "2021-03-20T00:00:00.000000000",
          "2021-03-30T00:00:00.000000000",
          "2021-04-01T00:00:00.000000000",
          "2021-04-13T00:00:00.000000000",
          "2021-04-18T00:00:00.000000000",
          "2021-05-04T00:00:00.000000000",
          "2021-05-06T00:00:00.000000000",
          "2021-05-10T00:00:00.000000000",
          "2021-05-13T00:00:00.000000000",
          "2021-05-21T00:00:00.000000000",
          "2021-05-23T00:00:00.000000000",
          "2021-06-02T00:00:00.000000000",
          "2021-06-04T00:00:00.000000000",
          "2021-06-07T00:00:00.000000000",
          "2021-07-15T00:00:00.000000000",
          "2021-07-17T00:00:00.000000000",
          "2021-07-31T00:00:00.000000000",
          "2021-08-20T00:00:00.000000000",
          "2021-08-21T00:00:00.000000000",
          "2021-09-01T00:00:00.000000000",
          "2021-09-04T00:00:00.000000000",
          "2021-09-09T00:00:00.000000000",
          "2021-09-26T00:00:00.000000000",
          "2021-10-01T00:00:00.000000000",
          "2021-10-10T00:00:00.000000000",
          "2021-10-16T00:00:00.000000000",
          "2021-11-07T00:00:00.000000000",
          "2021-11-17T00:00:00.000000000",
          "2021-11-20T00:00:00.000000000",
          "2021-12-01T00:00:00.000000000",
          "2022-01-05T00:00:00.000000000",
          "2022-01-24T00:00:00.000000000",
          "2022-02-20T00:00:00.000000000",
          "2022-02-22T00:00:00.000000000",
          "2022-03-13T00:00:00.000000000",
          "2022-03-15T00:00:00.000000000",
          "2022-03-19T00:00:00.000000000",
          "2022-03-21T00:00:00.000000000",
          "2022-03-27T00:00:00.000000000",
          "2022-03-31T00:00:00.000000000",
          "2022-04-07T00:00:00.000000000",
          "2022-04-09T00:00:00.000000000",
          "2022-04-15T00:00:00.000000000",
          "2022-04-16T00:00:00.000000000",
          "2022-04-26T00:00:00.000000000",
          "2022-04-30T00:00:00.000000000",
          "2022-05-03T00:00:00.000000000",
          "2022-05-04T00:00:00.000000000",
          "2022-06-04T00:00:00.000000000",
          "2022-06-17T00:00:00.000000000",
          "2022-07-02T00:00:00.000000000",
          "2022-07-06T00:00:00.000000000",
          "2022-07-21T00:00:00.000000000",
          "2022-07-24T00:00:00.000000000",
          "2022-07-29T00:00:00.000000000",
          "2022-08-05T00:00:00.000000000",
          "2022-08-08T00:00:00.000000000",
          "2022-08-10T00:00:00.000000000",
          "2022-08-17T00:00:00.000000000",
          "2022-08-23T00:00:00.000000000",
          "2022-08-31T00:00:00.000000000",
          "2022-09-10T00:00:00.000000000",
          "2022-09-21T00:00:00.000000000",
          "2022-10-01T00:00:00.000000000",
          "2022-10-10T00:00:00.000000000",
          "2022-10-13T00:00:00.000000000",
          "2022-10-24T00:00:00.000000000",
          "2022-10-26T00:00:00.000000000",
          "2022-12-04T00:00:00.000000000",
          "2022-12-06T00:00:00.000000000",
          "2022-12-16T00:00:00.000000000",
          "2022-12-29T00:00:00.000000000",
          "2022-12-31T00:00:00.000000000",
          "2023-01-17T00:00:00.000000000",
          "2023-01-22T00:00:00.000000000",
          "2023-02-11T00:00:00.000000000",
          "2023-02-14T00:00:00.000000000",
          "2023-03-02T00:00:00.000000000",
          "2023-03-07T00:00:00.000000000",
          "2023-03-10T00:00:00.000000000",
          "2023-03-11T00:00:00.000000000",
          "2023-03-17T00:00:00.000000000",
          "2023-03-18T00:00:00.000000000",
          "2023-03-24T00:00:00.000000000",
          "2023-03-28T00:00:00.000000000",
          "2023-03-29T00:00:00.000000000",
          "2023-03-31T00:00:00.000000000",
          "2023-04-16T00:00:00.000000000",
          "2023-05-01T00:00:00.000000000",
          "2023-05-22T00:00:00.000000000",
          "2023-05-23T00:00:00.000000000",
          "2023-05-26T00:00:00.000000000",
          "2023-05-29T00:00:00.000000000",
          "2023-06-17T00:00:00.000000000",
          "2023-07-08T00:00:00.000000000",
          "2023-07-20T00:00:00.000000000",
          "2023-07-22T00:00:00.000000000",
          "2023-07-23T00:00:00.000000000",
          "2023-08-03T00:00:00.000000000",
          "2023-08-04T00:00:00.000000000",
          "2023-08-21T00:00:00.000000000",
          "2023-08-31T00:00:00.000000000",
          "2023-09-02T00:00:00.000000000",
          "2023-09-06T00:00:00.000000000",
          "2023-09-13T00:00:00.000000000",
          "2023-09-20T00:00:00.000000000",
          "2023-09-30T00:00:00.000000000",
          "2023-10-28T00:00:00.000000000",
          "2023-11-09T00:00:00.000000000",
          "2023-11-29T00:00:00.000000000",
          "2023-12-08T00:00:00.000000000",
          "2023-12-09T00:00:00.000000000",
          "2023-12-24T00:00:00.000000000",
          "2024-01-13T00:00:00.000000000",
          "2024-01-16T00:00:00.000000000",
          "2024-03-01T00:00:00.000000000",
          "2024-03-08T00:00:00.000000000",
          "2024-03-09T00:00:00.000000000",
          "2024-03-22T00:00:00.000000000",
          "2024-04-01T00:00:00.000000000",
          "2024-05-03T00:00:00.000000000",
          "2024-05-17T00:00:00.000000000",
          "2024-06-16T00:00:00.000000000",
          "2024-06-17T00:00:00.000000000",
          "2024-06-18T00:00:00.000000000",
          "2024-06-21T00:00:00.000000000",
          "2024-07-13T00:00:00.000000000",
          "2024-07-19T00:00:00.000000000",
          "2024-07-26T00:00:00.000000000",
          "2024-08-10T00:00:00.000000000",
          "2024-08-12T00:00:00.000000000",
          "2024-08-13T00:00:00.000000000",
          "2024-08-25T00:00:00.000000000",
          "2024-08-26T00:00:00.000000000",
          "2024-09-01T00:00:00.000000000",
          "2024-09-02T00:00:00.000000000",
          "2024-09-03T00:00:00.000000000",
          "2024-09-09T00:00:00.000000000",
          "2024-09-10T00:00:00.000000000",
          "2024-09-13T00:00:00.000000000",
          "2024-09-18T00:00:00.000000000",
          "2024-09-27T00:00:00.000000000",
          "2024-10-22T00:00:00.000000000",
          "2024-10-24T00:00:00.000000000",
          "2024-10-28T00:00:00.000000000",
          "2024-12-21T00:00:00.000000000",
          "2025-01-16T00:00:00.000000000",
          "2025-01-18T00:00:00.000000000",
          "2025-01-28T00:00:00.000000000"
         ],
         "y": {
          "bdata": "AQEBAQEBAQEDAQEBAQEBAQEBAQEBAQEBAQEBAQEBAQEBAgEBAQEBAQEBAQEBAQEBAQEBAQEBAQEBAQEBAQEBAQEBAQEBAQEBAQEBAQEBAQEBAQEBAgEBAQECAQEBAQEBAgEBAQEBAQEBAQEBAQEBAQECAQEBAQICAQEBAQEBAQECAQEBAQEBAQEBAQEBAQEBAQEBAQEBAQEBAQEBAQIBAQEBAQEBAQEBAQEBAgEBAQEBAQEBAQECAgEBAQEBAQEBAQEBAQEBAQEBAQEBAQEBAQEBAQEBAQEBAQEBAQEBAgEBAQEBAQEBAQEBAQEBAQEBAQEBAQIBAQEBAQEBAQEBAQEBAQEBAgEBAQEBAQEBAQEBAQEBAQEBAQEBAgEBAQEBAQEBAQIBAQEBAQEBAQIBAQEBAQEBAQEBAQEBAQEBAQEBAQECAQEBAQEBAQEBAQEBAQEBAgEBAQE=",
          "dtype": "i1"
         }
        },
        {
         "hoverinfo": "skip",
         "line": {
          "width": 0
         },
         "mode": "lines",
         "type": "scatter",
         "x": [
          "2003-12-31T00:00:00.000000000",
          "2004-02-15T00:00:00.000000000",
          "2008-04-17T00:00:00.000000000",
          "2009-09-01T00:00:00.000000000",
          "2009-10-24T00:00:00.000000000",
          "2010-10-29T00:00:00.000000000",
          "2010-12-12T00:00:00.000000000",
          "2011-05-01T00:00:00.000000000",
          "2012-01-01T00:00:00.000000000",
          "2012-02-15T00:00:00.000000000",
          "2013-12-28T00:00:00.000000000",
          "2014-03-10T00:00:00.000000000",
          "2015-11-15T00:00:00.000000000",
          "2016-02-11T00:00:00.000000000",
          "2016-04-09T00:00:00.000000000",
          "2016-05-02T00:00:00.000000000",
          "2016-05-06T00:00:00.000000000",
          "2016-05-20T00:00:00.000000000",
          "2016-06-03T00:00:00.000000000",
          "2016-06-08T00:00:00.000000000",
          "2016-08-09T00:00:00.000000000",
          "2016-08-12T00:00:00.000000000",
          "2016-08-25T00:00:00.000000000",
          "2016-09-17T00:00:00.000000000",
          "2016-09-21T00:00:00.000000000",
          "2016-09-25T00:00:00.000000000",
          "2016-10-17T00:00:00.000000000",
          "2016-11-29T00:00:00.000000000",
          "2016-12-04T00:00:00.000000000",
          "2016-12-08T00:00:00.000000000",
          "2016-12-12T00:00:00.000000000",
          "2016-12-13T00:00:00.000000000",
          "2016-12-15T00:00:00.000000000",
          "2016-12-29T00:00:00.000000000",
          "2017-03-17T00:00:00.000000000",
          "2017-03-31T00:00:00.000000000",
          "2017-04-07T00:00:00.000000000",
          "2017-04-08T00:00:00.000000000",
          "2017-04-23T00:00:00.000000000",
          "2017-05-01T00:00:00.000000000",
          "2017-05-05T00:00:00.000000000",
          "2017-05-25T00:00:00.000000000",
          "2017-06-06T00:00:00.000000000",
          "2017-07-06T00:00:00.000000000",
          "2017-07-16T00:00:00.000000000",
          "2017-07-17T00:00:00.000000000",
          "2017-07-30T00:00:00.000000000",
          "2017-08-24T00:00:00.000000000",
          "2017-09-15T00:00:00.000000000",
          "2017-09-17T00:00:00.000000000",
          "2017-09-27T00:00:00.000000000",
          "2017-10-02T00:00:00.000000000",
          "2017-10-08T00:00:00.000000000",
          "2017-10-12T00:00:00.000000000",
          "2017-10-13T00:00:00.000000000",
          "2017-11-05T00:00:00.000000000",
          "2017-11-28T00:00:00.000000000",
          "2017-12-02T00:00:00.000000000",
          "2017-12-14T00:00:00.000000000",
          "2017-12-17T00:00:00.000000000",
          "2017-12-23T00:00:00.000000000",
          "2017-12-31T00:00:00.000000000",
          "2018-01-18T00:00:00.000000000",
          "2018-02-25T00:00:00.000000000",
          "2018-03-03T00:00:00.000000000",
          "2018-03-04T00:00:00.000000000",
          "2018-03-10T00:00:00.000000000",
          "2018-03-16T00:00:00.000000000",
          "2018-03-29T00:00:00.000000000",
          "2018-03-30T00:00:00.000000000",
          "2018-04-01T00:00:00.000000000",
          "2018-04-04T00:00:00.000000000",
          "2018-04-14T00:00:00.000000000",
          "2018-04-22T00:00:00.000000000",
          "2018-05-04T00:00:00.000000000",
          "2018-05-12T00:00:00.000000000",
          "2018-05-16T00:00:00.000000000",
          "2018-06-03T00:00:00.000000000",
          "2018-06-20T00:00:00.000000000",
          "2018-06-25T00:00:00.000000000",
          "2018-07-05T00:00:00.000000000",
          "2018-07-14T00:00:00.000000000",
          "2018-07-21T00:00:00.000000000",
          "2018-08-01T00:00:00.000000000",
          "2018-08-05T00:00:00.000000000",
          "2018-08-23T00:00:00.000000000",
          "2018-09-01T00:00:00.000000000",
          "2018-09-07T00:00:00.000000000",
          "2018-09-10T00:00:00.000000000",
          "2018-09-16T00:00:00.000000000",
          "2018-10-08T00:00:00.000000000",
          "2018-10-10T00:00:00.000000000",
          "2018-10-14T00:00:00.000000000",
          "2018-10-23T00:00:00.000000000",
          "2018-11-03T00:00:00.000000000",
          "2018-11-10T00:00:00.000000000",
          "2018-11-12T00:00:00.000000000",
          "2018-11-13T00:00:00.000000000",
          "2018-12-02T00:00:00.000000000",
          "2018-12-05T00:00:00.000000000",
          "2018-12-07T00:00:00.000000000",
          "2018-12-15T00:00:00.000000000",
          "2019-01-08T00:00:00.000000000",
          "2019-01-09T00:00:00.000000000",
          "2019-01-17T00:00:00.000000000",
          "2019-02-07T00:00:00.000000000",
          "2019-02-18T00:00:00.000000000",
          "2019-02-28T00:00:00.000000000",
          "2019-03-01T00:00:00.000000000",
          "2019-03-13T00:00:00.000000000",
          "2019-03-16T00:00:00.000000000",
          "2019-03-28T00:00:00.000000000",
          "2019-03-29T00:00:00.000000000",
          "2019-04-01T00:00:00.000000000",
          "2019-04-03T00:00:00.000000000",
          "2019-04-09T00:00:00.000000000",
          "2019-04-14T00:00:00.000000000",
          "2019-04-17T00:00:00.000000000",
          "2019-04-29T00:00:00.000000000",
          "2019-05-03T00:00:00.000000000",
          "2019-05-08T00:00:00.000000000",
          "2019-05-10T00:00:00.000000000",
          "2019-06-02T00:00:00.000000000",
          "2019-06-18T00:00:00.000000000",
          "2019-06-27T00:00:00.000000000",
          "2019-06-29T00:00:00.000000000",
          "2019-06-30T00:00:00.000000000",
          "2019-07-09T00:00:00.000000000",
          "2019-07-14T00:00:00.000000000",
          "2019-07-27T00:00:00.000000000",
          "2019-08-16T00:00:00.000000000",
          "2019-08-19T00:00:00.000000000",
          "2019-08-21T00:00:00.000000000",
          "2019-09-04T00:00:00.000000000",
          "2019-09-06T00:00:00.000000000",
          "2019-09-11T00:00:00.000000000",
          "2019-09-22T00:00:00.000000000",
          "2019-09-30T00:00:00.000000000",
          "2019-10-04T00:00:00.000000000",
          "2019-10-11T00:00:00.000000000",
          "2019-10-19T00:00:00.000000000",
          "2019-10-20T00:00:00.000000000",
          "2019-10-26T00:00:00.000000000",
          "2019-11-01T00:00:00.000000000",
          "2019-11-03T00:00:00.000000000",
          "2019-11-11T00:00:00.000000000",
          "2019-11-16T00:00:00.000000000",
          "2019-11-17T00:00:00.000000000",
          "2019-11-21T00:00:00.000000000",
          "2019-12-07T00:00:00.000000000",
          "2019-12-12T00:00:00.000000000",
          "2019-12-21T00:00:00.000000000",
          "2019-12-23T00:00:00.000000000",
          "2020-01-19T00:00:00.000000000",
          "2020-02-01T00:00:00.000000000",
          "2020-02-06T00:00:00.000000000",
          "2020-02-15T00:00:00.000000000",
          "2020-02-20T00:00:00.000000000",
          "2020-03-07T00:00:00.000000000",
          "2020-03-17T00:00:00.000000000",
          "2020-03-19T00:00:00.000000000",
          "2020-03-27T00:00:00.000000000",
          "2020-04-09T00:00:00.000000000",
          "2020-04-17T00:00:00.000000000",
          "2020-05-02T00:00:00.000000000",
          "2020-06-07T00:00:00.000000000",
          "2020-06-11T00:00:00.000000000",
          "2020-06-14T00:00:00.000000000",
          "2020-06-17T00:00:00.000000000",
          "2020-06-27T00:00:00.000000000",
          "2020-07-17T00:00:00.000000000",
          "2020-07-22T00:00:00.000000000",
          "2020-07-25T00:00:00.000000000",
          "2020-08-30T00:00:00.000000000",
          "2020-09-20T00:00:00.000000000",
          "2020-09-21T00:00:00.000000000",
          "2020-10-05T00:00:00.000000000",
          "2020-10-15T00:00:00.000000000",
          "2020-10-27T00:00:00.000000000",
          "2020-11-01T00:00:00.000000000",
          "2020-11-02T00:00:00.000000000",
          "2020-12-05T00:00:00.000000000",
          "2020-12-21T00:00:00.000000000",
          "2020-12-24T00:00:00.000000000",
          "2020-12-25T00:00:00.000000000",
          "2021-01-08T00:00:00.000000000",
          "2021-01-11T00:00:00.000000000",
          "2021-01-20T00:00:00.000000000",
          "2021-01-23T00:00:00.000000000",
          "2021-02-01T00:00:00.000000000",
          "2021-02-21T00:00:00.000000000",
          "2021-02-24T00:00:00.000000000",
          "2021-03-01T00:00:00.000000000",
          "2021-03-06T00:00:00.000000000",
          "2021-03-12T00:00:00.000000000",
          "2021-03-20T00:00:00.000000000",
          "2021-03-30T00:00:00.000000000",
          "2021-04-01T00:00:00.000000000",
          "2021-04-13T00:00:00.000000000",
          "2021-04-18T00:00:00.000000000",
          "2021-05-04T00:00:00.000000000",
          "2021-05-06T00:00:00.000000000",
          "2021-05-10T00:00:00.000000000",
          "2021-05-13T00:00:00.000000000",
          "2021-05-21T00:00:00.000000000",
          "2021-05-23T00:00:00.000000000",
          "2021-06-02T00:00:00.000000000",
          "2021-06-04T00:00:00.000000000",
          "2021-06-07T00:00:00.000000000",
          "2021-07-15T00:00:00.000000000",
          "2021-07-17T00:00:00.000000000",
          "2021-07-31T00:00:00.000000000",
          "2021-08-20T00:00:00.000000000",
          "2021-08-21T00:00:00.000000000",
          "2021-09-01T00:00:00.000000000",
          "2021-09-04T00:00:00.000000000",
          "2021-09-09T00:00:00.000000000",
          "2021-09-26T00:00:00.000000000",
          "2021-10-01T00:00:00.000000000",
          "2021-10-10T00:00:00.000000000",
          "2021-10-16T00:00:00.000000000",
          "2021-11-07T00:00:00.000000000",
          "2021-11-17T00:00:00.000000000",
          "2021-11-20T00:00:00.000000000",
          "2021-12-01T00:00:00.000000000",
          "2022-01-05T00:00:00.000000000",
          "2022-01-24T00:00:00.000000000",
          "2022-02-20T00:00:00.000000000",
          "2022-02-22T00:00:00.000000000",
          "2022-03-13T00:00:00.000000000",
          "2022-03-15T00:00:00.000000000",
          "2022-03-19T00:00:00.000000000",
          "2022-03-21T00:00:00.000000000",
          "2022-03-27T00:00:00.000000000",
          "2022-03-31T00:00:00.000000000",
          "2022-04-07T00:00:00.000000000",
          "2022-04-09T00:00:00.000000000",
          "2022-04-15T00:00:00.000000000",
          "2022-04-16T00:00:00.000000000",
          "2022-04-26T00:00:00.000000000",
          "2022-04-30T00:00:00.000000000",
          "2022-05-03T00:00:00.000000000",
          "2022-05-04T00:00:00.000000000",
          "2022-06-04T00:00:00.000000000",
          "2022-06-17T00:00:00.000000000",
          "2022-07-02T00:00:00.000000000",
          "2022-07-06T00:00:00.000000000",
          "2022-07-21T00:00:00.000000000",
          "2022-07-24T00:00:00.000000000",
          "2022-07-29T00:00:00.000000000",
          "2022-08-05T00:00:00.000000000",
          "2022-08-08T00:00:00.000000000",
          "2022-08-10T00:00:00.000000000",
          "2022-08-17T00:00:00.000000000",
          "2022-08-23T00:00:00.000000000",
          "2022-08-31T00:00:00.000000000",
          "2022-09-10T00:00:00.000000000",
          "2022-09-21T00:00:00.000000000",
          "2022-10-01T00:00:00.000000000",
          "2022-10-10T00:00:00.000000000",
          "2022-10-13T00:00:00.000000000",
          "2022-10-24T00:00:00.000000000",
          "2022-10-26T00:00:00.000000000",
          "2022-12-04T00:00:00.000000000",
          "2022-12-06T00:00:00.000000000",
          "2022-12-16T00:00:00.000000000",
          "2022-12-29T00:00:00.000000000",
          "2022-12-31T00:00:00.000000000",
          "2023-01-17T00:00:00.000000000",
          "2023-01-22T00:00:00.000000000",
          "2023-02-11T00:00:00.000000000",
          "2023-02-14T00:00:00.000000000",
          "2023-03-02T00:00:00.000000000",
          "2023-03-07T00:00:00.000000000",
          "2023-03-10T00:00:00.000000000",
          "2023-03-11T00:00:00.000000000",
          "2023-03-17T00:00:00.000000000",
          "2023-03-18T00:00:00.000000000",
          "2023-03-24T00:00:00.000000000",
          "2023-03-28T00:00:00.000000000",
          "2023-03-29T00:00:00.000000000",
          "2023-03-31T00:00:00.000000000",
          "2023-04-16T00:00:00.000000000",
          "2023-05-01T00:00:00.000000000",
          "2023-05-22T00:00:00.000000000",
          "2023-05-23T00:00:00.000000000",
          "2023-05-26T00:00:00.000000000",
          "2023-05-29T00:00:00.000000000",
          "2023-06-17T00:00:00.000000000",
          "2023-07-08T00:00:00.000000000",
          "2023-07-20T00:00:00.000000000",
          "2023-07-22T00:00:00.000000000",
          "2023-07-23T00:00:00.000000000",
          "2023-08-03T00:00:00.000000000",
          "2023-08-04T00:00:00.000000000",
          "2023-08-21T00:00:00.000000000",
          "2023-08-31T00:00:00.000000000",
          "2023-09-02T00:00:00.000000000",
          "2023-09-06T00:00:00.000000000",
          "2023-09-13T00:00:00.000000000",
          "2023-09-20T00:00:00.000000000",
          "2023-09-30T00:00:00.000000000",
          "2023-10-28T00:00:00.000000000",
          "2023-11-09T00:00:00.000000000",
          "2023-11-29T00:00:00.000000000",
          "2023-12-08T00:00:00.000000000",
          "2023-12-09T00:00:00.000000000",
          "2023-12-24T00:00:00.000000000",
          "2024-01-13T00:00:00.000000000",
          "2024-01-16T00:00:00.000000000",
          "2024-03-01T00:00:00.000000000",
          "2024-03-08T00:00:00.000000000",
          "2024-03-09T00:00:00.000000000",
          "2024-03-22T00:00:00.000000000",
          "2024-04-01T00:00:00.000000000",
          "2024-05-03T00:00:00.000000000",
          "2024-05-17T00:00:00.000000000",
          "2024-06-16T00:00:00.000000000",
          "2024-06-17T00:00:00.000000000",
          "2024-06-18T00:00:00.000000000",
          "2024-06-21T00:00:00.000000000",
          "2024-07-13T00:00:00.000000000",
          "2024-07-19T00:00:00.000000000",
          "2024-07-26T00:00:00.000000000",
          "2024-08-10T00:00:00.000000000",
          "2024-08-12T00:00:00.000000000",
          "2024-08-13T00:00:00.000000000",
          "2024-08-25T00:00:00.000000000",
          "2024-08-26T00:00:00.000000000",
          "2024-09-01T00:00:00.000000000",
          "2024-09-02T00:00:00.000000000",
          "2024-09-03T00:00:00.000000000",
          "2024-09-09T00:00:00.000000000",
          "2024-09-10T00:00:00.000000000",
          "2024-09-13T00:00:00.000000000",
          "2024-09-18T00:00:00.000000000",
          "2024-09-27T00:00:00.000000000",
          "2024-10-22T00:00:00.000000000",
          "2024-10-24T00:00:00.000000000",
          "2024-10-28T00:00:00.000000000",
          "2024-12-21T00:00:00.000000000",
          "2025-01-16T00:00:00.000000000",
          "2025-01-18T00:00:00.000000000",
          "2025-01-28T00:00:00.000000000",
          "2025-01-29T00:00:00.000000000",
          "2025-01-30T00:00:00.000000000",
          "2025-01-31T00:00:00.000000000",
          "2025-02-01T00:00:00.000000000",
          "2025-02-02T00:00:00.000000000",
          "2025-02-03T00:00:00.000000000",
          "2025-02-04T00:00:00.000000000",
          "2025-02-05T00:00:00.000000000",
          "2025-02-06T00:00:00.000000000",
          "2025-02-07T00:00:00.000000000",
          "2025-02-08T00:00:00.000000000",
          "2025-02-09T00:00:00.000000000",
          "2025-02-10T00:00:00.000000000",
          "2025-02-11T00:00:00.000000000",
          "2025-02-12T00:00:00.000000000",
          "2025-02-13T00:00:00.000000000",
          "2025-02-14T00:00:00.000000000",
          "2025-02-15T00:00:00.000000000",
          "2025-02-16T00:00:00.000000000",
          "2025-02-17T00:00:00.000000000",
          "2025-02-18T00:00:00.000000000",
          "2025-02-19T00:00:00.000000000",
          "2025-02-20T00:00:00.000000000",
          "2025-02-21T00:00:00.000000000",
          "2025-02-22T00:00:00.000000000",
          "2025-02-23T00:00:00.000000000",
          "2025-02-24T00:00:00.000000000",
          "2025-02-25T00:00:00.000000000",
          "2025-02-26T00:00:00.000000000",
          "2025-02-27T00:00:00.000000000",
          "2025-02-28T00:00:00.000000000",
          "2025-03-01T00:00:00.000000000",
          "2025-03-02T00:00:00.000000000",
          "2025-03-03T00:00:00.000000000",
          "2025-03-04T00:00:00.000000000",
          "2025-03-05T00:00:00.000000000",
          "2025-03-06T00:00:00.000000000",
          "2025-03-07T00:00:00.000000000",
          "2025-03-08T00:00:00.000000000",
          "2025-03-09T00:00:00.000000000",
          "2025-03-10T00:00:00.000000000",
          "2025-03-11T00:00:00.000000000",
          "2025-03-12T00:00:00.000000000",
          "2025-03-13T00:00:00.000000000",
          "2025-03-14T00:00:00.000000000",
          "2025-03-15T00:00:00.000000000",
          "2025-03-16T00:00:00.000000000",
          "2025-03-17T00:00:00.000000000",
          "2025-03-18T00:00:00.000000000",
          "2025-03-19T00:00:00.000000000",
          "2025-03-20T00:00:00.000000000",
          "2025-03-21T00:00:00.000000000",
          "2025-03-22T00:00:00.000000000",
          "2025-03-23T00:00:00.000000000",
          "2025-03-24T00:00:00.000000000",
          "2025-03-25T00:00:00.000000000",
          "2025-03-26T00:00:00.000000000",
          "2025-03-27T00:00:00.000000000",
          "2025-03-28T00:00:00.000000000",
          "2025-03-29T00:00:00.000000000",
          "2025-03-30T00:00:00.000000000",
          "2025-03-31T00:00:00.000000000",
          "2025-04-01T00:00:00.000000000",
          "2025-04-02T00:00:00.000000000",
          "2025-04-03T00:00:00.000000000",
          "2025-04-04T00:00:00.000000000",
          "2025-04-05T00:00:00.000000000",
          "2025-04-06T00:00:00.000000000",
          "2025-04-07T00:00:00.000000000",
          "2025-04-08T00:00:00.000000000",
          "2025-04-09T00:00:00.000000000",
          "2025-04-10T00:00:00.000000000",
          "2025-04-11T00:00:00.000000000",
          "2025-04-12T00:00:00.000000000",
          "2025-04-13T00:00:00.000000000",
          "2025-04-14T00:00:00.000000000",
          "2025-04-15T00:00:00.000000000",
          "2025-04-16T00:00:00.000000000",
          "2025-04-17T00:00:00.000000000",
          "2025-04-18T00:00:00.000000000",
          "2025-04-19T00:00:00.000000000",
          "2025-04-20T00:00:00.000000000",
          "2025-04-21T00:00:00.000000000",
          "2025-04-22T00:00:00.000000000",
          "2025-04-23T00:00:00.000000000",
          "2025-04-24T00:00:00.000000000",
          "2025-04-25T00:00:00.000000000",
          "2025-04-26T00:00:00.000000000",
          "2025-04-27T00:00:00.000000000",
          "2025-04-28T00:00:00.000000000",
          "2025-04-29T00:00:00.000000000",
          "2025-04-30T00:00:00.000000000",
          "2025-05-01T00:00:00.000000000",
          "2025-05-02T00:00:00.000000000",
          "2025-05-03T00:00:00.000000000",
          "2025-05-04T00:00:00.000000000",
          "2025-05-05T00:00:00.000000000",
          "2025-05-06T00:00:00.000000000",
          "2025-05-07T00:00:00.000000000",
          "2025-05-08T00:00:00.000000000",
          "2025-05-09T00:00:00.000000000",
          "2025-05-10T00:00:00.000000000",
          "2025-05-11T00:00:00.000000000",
          "2025-05-12T00:00:00.000000000",
          "2025-05-13T00:00:00.000000000",
          "2025-05-14T00:00:00.000000000",
          "2025-05-15T00:00:00.000000000",
          "2025-05-16T00:00:00.000000000",
          "2025-05-17T00:00:00.000000000",
          "2025-05-18T00:00:00.000000000",
          "2025-05-19T00:00:00.000000000",
          "2025-05-20T00:00:00.000000000",
          "2025-05-21T00:00:00.000000000",
          "2025-05-22T00:00:00.000000000",
          "2025-05-23T00:00:00.000000000",
          "2025-05-24T00:00:00.000000000",
          "2025-05-25T00:00:00.000000000",
          "2025-05-26T00:00:00.000000000",
          "2025-05-27T00:00:00.000000000",
          "2025-05-28T00:00:00.000000000",
          "2025-05-29T00:00:00.000000000",
          "2025-05-30T00:00:00.000000000",
          "2025-05-31T00:00:00.000000000",
          "2025-06-01T00:00:00.000000000",
          "2025-06-02T00:00:00.000000000",
          "2025-06-03T00:00:00.000000000",
          "2025-06-04T00:00:00.000000000",
          "2025-06-05T00:00:00.000000000",
          "2025-06-06T00:00:00.000000000",
          "2025-06-07T00:00:00.000000000",
          "2025-06-08T00:00:00.000000000",
          "2025-06-09T00:00:00.000000000",
          "2025-06-10T00:00:00.000000000",
          "2025-06-11T00:00:00.000000000",
          "2025-06-12T00:00:00.000000000",
          "2025-06-13T00:00:00.000000000",
          "2025-06-14T00:00:00.000000000",
          "2025-06-15T00:00:00.000000000",
          "2025-06-16T00:00:00.000000000",
          "2025-06-17T00:00:00.000000000",
          "2025-06-18T00:00:00.000000000",
          "2025-06-19T00:00:00.000000000",
          "2025-06-20T00:00:00.000000000",
          "2025-06-21T00:00:00.000000000",
          "2025-06-22T00:00:00.000000000",
          "2025-06-23T00:00:00.000000000",
          "2025-06-24T00:00:00.000000000",
          "2025-06-25T00:00:00.000000000",
          "2025-06-26T00:00:00.000000000",
          "2025-06-27T00:00:00.000000000"
         ],
         "y": {
          "bdata": "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",
          "dtype": "f8"
         }
        },
        {
         "fill": "tonexty",
         "fillcolor": "rgba(0, 114, 178, 0.2)",
         "line": {
          "color": "#0072B2",
          "width": 2
         },
         "mode": "lines",
         "name": "Predicted",
         "type": "scatter",
         "x": [
          "2003-12-31T00:00:00.000000000",
          "2004-02-15T00:00:00.000000000",
          "2008-04-17T00:00:00.000000000",
          "2009-09-01T00:00:00.000000000",
          "2009-10-24T00:00:00.000000000",
          "2010-10-29T00:00:00.000000000",
          "2010-12-12T00:00:00.000000000",
          "2011-05-01T00:00:00.000000000",
          "2012-01-01T00:00:00.000000000",
          "2012-02-15T00:00:00.000000000",
          "2013-12-28T00:00:00.000000000",
          "2014-03-10T00:00:00.000000000",
          "2015-11-15T00:00:00.000000000",
          "2016-02-11T00:00:00.000000000",
          "2016-04-09T00:00:00.000000000",
          "2016-05-02T00:00:00.000000000",
          "2016-05-06T00:00:00.000000000",
          "2016-05-20T00:00:00.000000000",
          "2016-06-03T00:00:00.000000000",
          "2016-06-08T00:00:00.000000000",
          "2016-08-09T00:00:00.000000000",
          "2016-08-12T00:00:00.000000000",
          "2016-08-25T00:00:00.000000000",
          "2016-09-17T00:00:00.000000000",
          "2016-09-21T00:00:00.000000000",
          "2016-09-25T00:00:00.000000000",
          "2016-10-17T00:00:00.000000000",
          "2016-11-29T00:00:00.000000000",
          "2016-12-04T00:00:00.000000000",
          "2016-12-08T00:00:00.000000000",
          "2016-12-12T00:00:00.000000000",
          "2016-12-13T00:00:00.000000000",
          "2016-12-15T00:00:00.000000000",
          "2016-12-29T00:00:00.000000000",
          "2017-03-17T00:00:00.000000000",
          "2017-03-31T00:00:00.000000000",
          "2017-04-07T00:00:00.000000000",
          "2017-04-08T00:00:00.000000000",
          "2017-04-23T00:00:00.000000000",
          "2017-05-01T00:00:00.000000000",
          "2017-05-05T00:00:00.000000000",
          "2017-05-25T00:00:00.000000000",
          "2017-06-06T00:00:00.000000000",
          "2017-07-06T00:00:00.000000000",
          "2017-07-16T00:00:00.000000000",
          "2017-07-17T00:00:00.000000000",
          "2017-07-30T00:00:00.000000000",
          "2017-08-24T00:00:00.000000000",
          "2017-09-15T00:00:00.000000000",
          "2017-09-17T00:00:00.000000000",
          "2017-09-27T00:00:00.000000000",
          "2017-10-02T00:00:00.000000000",
          "2017-10-08T00:00:00.000000000",
          "2017-10-12T00:00:00.000000000",
          "2017-10-13T00:00:00.000000000",
          "2017-11-05T00:00:00.000000000",
          "2017-11-28T00:00:00.000000000",
          "2017-12-02T00:00:00.000000000",
          "2017-12-14T00:00:00.000000000",
          "2017-12-17T00:00:00.000000000",
          "2017-12-23T00:00:00.000000000",
          "2017-12-31T00:00:00.000000000",
          "2018-01-18T00:00:00.000000000",
          "2018-02-25T00:00:00.000000000",
          "2018-03-03T00:00:00.000000000",
          "2018-03-04T00:00:00.000000000",
          "2018-03-10T00:00:00.000000000",
          "2018-03-16T00:00:00.000000000",
          "2018-03-29T00:00:00.000000000",
          "2018-03-30T00:00:00.000000000",
          "2018-04-01T00:00:00.000000000",
          "2018-04-04T00:00:00.000000000",
          "2018-04-14T00:00:00.000000000",
          "2018-04-22T00:00:00.000000000",
          "2018-05-04T00:00:00.000000000",
          "2018-05-12T00:00:00.000000000",
          "2018-05-16T00:00:00.000000000",
          "2018-06-03T00:00:00.000000000",
          "2018-06-20T00:00:00.000000000",
          "2018-06-25T00:00:00.000000000",
          "2018-07-05T00:00:00.000000000",
          "2018-07-14T00:00:00.000000000",
          "2018-07-21T00:00:00.000000000",
          "2018-08-01T00:00:00.000000000",
          "2018-08-05T00:00:00.000000000",
          "2018-08-23T00:00:00.000000000",
          "2018-09-01T00:00:00.000000000",
          "2018-09-07T00:00:00.000000000",
          "2018-09-10T00:00:00.000000000",
          "2018-09-16T00:00:00.000000000",
          "2018-10-08T00:00:00.000000000",
          "2018-10-10T00:00:00.000000000",
          "2018-10-14T00:00:00.000000000",
          "2018-10-23T00:00:00.000000000",
          "2018-11-03T00:00:00.000000000",
          "2018-11-10T00:00:00.000000000",
          "2018-11-12T00:00:00.000000000",
          "2018-11-13T00:00:00.000000000",
          "2018-12-02T00:00:00.000000000",
          "2018-12-05T00:00:00.000000000",
          "2018-12-07T00:00:00.000000000",
          "2018-12-15T00:00:00.000000000",
          "2019-01-08T00:00:00.000000000",
          "2019-01-09T00:00:00.000000000",
          "2019-01-17T00:00:00.000000000",
          "2019-02-07T00:00:00.000000000",
          "2019-02-18T00:00:00.000000000",
          "2019-02-28T00:00:00.000000000",
          "2019-03-01T00:00:00.000000000",
          "2019-03-13T00:00:00.000000000",
          "2019-03-16T00:00:00.000000000",
          "2019-03-28T00:00:00.000000000",
          "2019-03-29T00:00:00.000000000",
          "2019-04-01T00:00:00.000000000",
          "2019-04-03T00:00:00.000000000",
          "2019-04-09T00:00:00.000000000",
          "2019-04-14T00:00:00.000000000",
          "2019-04-17T00:00:00.000000000",
          "2019-04-29T00:00:00.000000000",
          "2019-05-03T00:00:00.000000000",
          "2019-05-08T00:00:00.000000000",
          "2019-05-10T00:00:00.000000000",
          "2019-06-02T00:00:00.000000000",
          "2019-06-18T00:00:00.000000000",
          "2019-06-27T00:00:00.000000000",
          "2019-06-29T00:00:00.000000000",
          "2019-06-30T00:00:00.000000000",
          "2019-07-09T00:00:00.000000000",
          "2019-07-14T00:00:00.000000000",
          "2019-07-27T00:00:00.000000000",
          "2019-08-16T00:00:00.000000000",
          "2019-08-19T00:00:00.000000000",
          "2019-08-21T00:00:00.000000000",
          "2019-09-04T00:00:00.000000000",
          "2019-09-06T00:00:00.000000000",
          "2019-09-11T00:00:00.000000000",
          "2019-09-22T00:00:00.000000000",
          "2019-09-30T00:00:00.000000000",
          "2019-10-04T00:00:00.000000000",
          "2019-10-11T00:00:00.000000000",
          "2019-10-19T00:00:00.000000000",
          "2019-10-20T00:00:00.000000000",
          "2019-10-26T00:00:00.000000000",
          "2019-11-01T00:00:00.000000000",
          "2019-11-03T00:00:00.000000000",
          "2019-11-11T00:00:00.000000000",
          "2019-11-16T00:00:00.000000000",
          "2019-11-17T00:00:00.000000000",
          "2019-11-21T00:00:00.000000000",
          "2019-12-07T00:00:00.000000000",
          "2019-12-12T00:00:00.000000000",
          "2019-12-21T00:00:00.000000000",
          "2019-12-23T00:00:00.000000000",
          "2020-01-19T00:00:00.000000000",
          "2020-02-01T00:00:00.000000000",
          "2020-02-06T00:00:00.000000000",
          "2020-02-15T00:00:00.000000000",
          "2020-02-20T00:00:00.000000000",
          "2020-03-07T00:00:00.000000000",
          "2020-03-17T00:00:00.000000000",
          "2020-03-19T00:00:00.000000000",
          "2020-03-27T00:00:00.000000000",
          "2020-04-09T00:00:00.000000000",
          "2020-04-17T00:00:00.000000000",
          "2020-05-02T00:00:00.000000000",
          "2020-06-07T00:00:00.000000000",
          "2020-06-11T00:00:00.000000000",
          "2020-06-14T00:00:00.000000000",
          "2020-06-17T00:00:00.000000000",
          "2020-06-27T00:00:00.000000000",
          "2020-07-17T00:00:00.000000000",
          "2020-07-22T00:00:00.000000000",
          "2020-07-25T00:00:00.000000000",
          "2020-08-30T00:00:00.000000000",
          "2020-09-20T00:00:00.000000000",
          "2020-09-21T00:00:00.000000000",
          "2020-10-05T00:00:00.000000000",
          "2020-10-15T00:00:00.000000000",
          "2020-10-27T00:00:00.000000000",
          "2020-11-01T00:00:00.000000000",
          "2020-11-02T00:00:00.000000000",
          "2020-12-05T00:00:00.000000000",
          "2020-12-21T00:00:00.000000000",
          "2020-12-24T00:00:00.000000000",
          "2020-12-25T00:00:00.000000000",
          "2021-01-08T00:00:00.000000000",
          "2021-01-11T00:00:00.000000000",
          "2021-01-20T00:00:00.000000000",
          "2021-01-23T00:00:00.000000000",
          "2021-02-01T00:00:00.000000000",
          "2021-02-21T00:00:00.000000000",
          "2021-02-24T00:00:00.000000000",
          "2021-03-01T00:00:00.000000000",
          "2021-03-06T00:00:00.000000000",
          "2021-03-12T00:00:00.000000000",
          "2021-03-20T00:00:00.000000000",
          "2021-03-30T00:00:00.000000000",
          "2021-04-01T00:00:00.000000000",
          "2021-04-13T00:00:00.000000000",
          "2021-04-18T00:00:00.000000000",
          "2021-05-04T00:00:00.000000000",
          "2021-05-06T00:00:00.000000000",
          "2021-05-10T00:00:00.000000000",
          "2021-05-13T00:00:00.000000000",
          "2021-05-21T00:00:00.000000000",
          "2021-05-23T00:00:00.000000000",
          "2021-06-02T00:00:00.000000000",
          "2021-06-04T00:00:00.000000000",
          "2021-06-07T00:00:00.000000000",
          "2021-07-15T00:00:00.000000000",
          "2021-07-17T00:00:00.000000000",
          "2021-07-31T00:00:00.000000000",
          "2021-08-20T00:00:00.000000000",
          "2021-08-21T00:00:00.000000000",
          "2021-09-01T00:00:00.000000000",
          "2021-09-04T00:00:00.000000000",
          "2021-09-09T00:00:00.000000000",
          "2021-09-26T00:00:00.000000000",
          "2021-10-01T00:00:00.000000000",
          "2021-10-10T00:00:00.000000000",
          "2021-10-16T00:00:00.000000000",
          "2021-11-07T00:00:00.000000000",
          "2021-11-17T00:00:00.000000000",
          "2021-11-20T00:00:00.000000000",
          "2021-12-01T00:00:00.000000000",
          "2022-01-05T00:00:00.000000000",
          "2022-01-24T00:00:00.000000000",
          "2022-02-20T00:00:00.000000000",
          "2022-02-22T00:00:00.000000000",
          "2022-03-13T00:00:00.000000000",
          "2022-03-15T00:00:00.000000000",
          "2022-03-19T00:00:00.000000000",
          "2022-03-21T00:00:00.000000000",
          "2022-03-27T00:00:00.000000000",
          "2022-03-31T00:00:00.000000000",
          "2022-04-07T00:00:00.000000000",
          "2022-04-09T00:00:00.000000000",
          "2022-04-15T00:00:00.000000000",
          "2022-04-16T00:00:00.000000000",
          "2022-04-26T00:00:00.000000000",
          "2022-04-30T00:00:00.000000000",
          "2022-05-03T00:00:00.000000000",
          "2022-05-04T00:00:00.000000000",
          "2022-06-04T00:00:00.000000000",
          "2022-06-17T00:00:00.000000000",
          "2022-07-02T00:00:00.000000000",
          "2022-07-06T00:00:00.000000000",
          "2022-07-21T00:00:00.000000000",
          "2022-07-24T00:00:00.000000000",
          "2022-07-29T00:00:00.000000000",
          "2022-08-05T00:00:00.000000000",
          "2022-08-08T00:00:00.000000000",
          "2022-08-10T00:00:00.000000000",
          "2022-08-17T00:00:00.000000000",
          "2022-08-23T00:00:00.000000000",
          "2022-08-31T00:00:00.000000000",
          "2022-09-10T00:00:00.000000000",
          "2022-09-21T00:00:00.000000000",
          "2022-10-01T00:00:00.000000000",
          "2022-10-10T00:00:00.000000000",
          "2022-10-13T00:00:00.000000000",
          "2022-10-24T00:00:00.000000000",
          "2022-10-26T00:00:00.000000000",
          "2022-12-04T00:00:00.000000000",
          "2022-12-06T00:00:00.000000000",
          "2022-12-16T00:00:00.000000000",
          "2022-12-29T00:00:00.000000000",
          "2022-12-31T00:00:00.000000000",
          "2023-01-17T00:00:00.000000000",
          "2023-01-22T00:00:00.000000000",
          "2023-02-11T00:00:00.000000000",
          "2023-02-14T00:00:00.000000000",
          "2023-03-02T00:00:00.000000000",
          "2023-03-07T00:00:00.000000000",
          "2023-03-10T00:00:00.000000000",
          "2023-03-11T00:00:00.000000000",
          "2023-03-17T00:00:00.000000000",
          "2023-03-18T00:00:00.000000000",
          "2023-03-24T00:00:00.000000000",
          "2023-03-28T00:00:00.000000000",
          "2023-03-29T00:00:00.000000000",
          "2023-03-31T00:00:00.000000000",
          "2023-04-16T00:00:00.000000000",
          "2023-05-01T00:00:00.000000000",
          "2023-05-22T00:00:00.000000000",
          "2023-05-23T00:00:00.000000000",
          "2023-05-26T00:00:00.000000000",
          "2023-05-29T00:00:00.000000000",
          "2023-06-17T00:00:00.000000000",
          "2023-07-08T00:00:00.000000000",
          "2023-07-20T00:00:00.000000000",
          "2023-07-22T00:00:00.000000000",
          "2023-07-23T00:00:00.000000000",
          "2023-08-03T00:00:00.000000000",
          "2023-08-04T00:00:00.000000000",
          "2023-08-21T00:00:00.000000000",
          "2023-08-31T00:00:00.000000000",
          "2023-09-02T00:00:00.000000000",
          "2023-09-06T00:00:00.000000000",
          "2023-09-13T00:00:00.000000000",
          "2023-09-20T00:00:00.000000000",
          "2023-09-30T00:00:00.000000000",
          "2023-10-28T00:00:00.000000000",
          "2023-11-09T00:00:00.000000000",
          "2023-11-29T00:00:00.000000000",
          "2023-12-08T00:00:00.000000000",
          "2023-12-09T00:00:00.000000000",
          "2023-12-24T00:00:00.000000000",
          "2024-01-13T00:00:00.000000000",
          "2024-01-16T00:00:00.000000000",
          "2024-03-01T00:00:00.000000000",
          "2024-03-08T00:00:00.000000000",
          "2024-03-09T00:00:00.000000000",
          "2024-03-22T00:00:00.000000000",
          "2024-04-01T00:00:00.000000000",
          "2024-05-03T00:00:00.000000000",
          "2024-05-17T00:00:00.000000000",
          "2024-06-16T00:00:00.000000000",
          "2024-06-17T00:00:00.000000000",
          "2024-06-18T00:00:00.000000000",
          "2024-06-21T00:00:00.000000000",
          "2024-07-13T00:00:00.000000000",
          "2024-07-19T00:00:00.000000000",
          "2024-07-26T00:00:00.000000000",
          "2024-08-10T00:00:00.000000000",
          "2024-08-12T00:00:00.000000000",
          "2024-08-13T00:00:00.000000000",
          "2024-08-25T00:00:00.000000000",
          "2024-08-26T00:00:00.000000000",
          "2024-09-01T00:00:00.000000000",
          "2024-09-02T00:00:00.000000000",
          "2024-09-03T00:00:00.000000000",
          "2024-09-09T00:00:00.000000000",
          "2024-09-10T00:00:00.000000000",
          "2024-09-13T00:00:00.000000000",
          "2024-09-18T00:00:00.000000000",
          "2024-09-27T00:00:00.000000000",
          "2024-10-22T00:00:00.000000000",
          "2024-10-24T00:00:00.000000000",
          "2024-10-28T00:00:00.000000000",
          "2024-12-21T00:00:00.000000000",
          "2025-01-16T00:00:00.000000000",
          "2025-01-18T00:00:00.000000000",
          "2025-01-28T00:00:00.000000000",
          "2025-01-29T00:00:00.000000000",
          "2025-01-30T00:00:00.000000000",
          "2025-01-31T00:00:00.000000000",
          "2025-02-01T00:00:00.000000000",
          "2025-02-02T00:00:00.000000000",
          "2025-02-03T00:00:00.000000000",
          "2025-02-04T00:00:00.000000000",
          "2025-02-05T00:00:00.000000000",
          "2025-02-06T00:00:00.000000000",
          "2025-02-07T00:00:00.000000000",
          "2025-02-08T00:00:00.000000000",
          "2025-02-09T00:00:00.000000000",
          "2025-02-10T00:00:00.000000000",
          "2025-02-11T00:00:00.000000000",
          "2025-02-12T00:00:00.000000000",
          "2025-02-13T00:00:00.000000000",
          "2025-02-14T00:00:00.000000000",
          "2025-02-15T00:00:00.000000000",
          "2025-02-16T00:00:00.000000000",
          "2025-02-17T00:00:00.000000000",
          "2025-02-18T00:00:00.000000000",
          "2025-02-19T00:00:00.000000000",
          "2025-02-20T00:00:00.000000000",
          "2025-02-21T00:00:00.000000000",
          "2025-02-22T00:00:00.000000000",
          "2025-02-23T00:00:00.000000000",
          "2025-02-24T00:00:00.000000000",
          "2025-02-25T00:00:00.000000000",
          "2025-02-26T00:00:00.000000000",
          "2025-02-27T00:00:00.000000000",
          "2025-02-28T00:00:00.000000000",
          "2025-03-01T00:00:00.000000000",
          "2025-03-02T00:00:00.000000000",
          "2025-03-03T00:00:00.000000000",
          "2025-03-04T00:00:00.000000000",
          "2025-03-05T00:00:00.000000000",
          "2025-03-06T00:00:00.000000000",
          "2025-03-07T00:00:00.000000000",
          "2025-03-08T00:00:00.000000000",
          "2025-03-09T00:00:00.000000000",
          "2025-03-10T00:00:00.000000000",
          "2025-03-11T00:00:00.000000000",
          "2025-03-12T00:00:00.000000000",
          "2025-03-13T00:00:00.000000000",
          "2025-03-14T00:00:00.000000000",
          "2025-03-15T00:00:00.000000000",
          "2025-03-16T00:00:00.000000000",
          "2025-03-17T00:00:00.000000000",
          "2025-03-18T00:00:00.000000000",
          "2025-03-19T00:00:00.000000000",
          "2025-03-20T00:00:00.000000000",
          "2025-03-21T00:00:00.000000000",
          "2025-03-22T00:00:00.000000000",
          "2025-03-23T00:00:00.000000000",
          "2025-03-24T00:00:00.000000000",
          "2025-03-25T00:00:00.000000000",
          "2025-03-26T00:00:00.000000000",
          "2025-03-27T00:00:00.000000000",
          "2025-03-28T00:00:00.000000000",
          "2025-03-29T00:00:00.000000000",
          "2025-03-30T00:00:00.000000000",
          "2025-03-31T00:00:00.000000000",
          "2025-04-01T00:00:00.000000000",
          "2025-04-02T00:00:00.000000000",
          "2025-04-03T00:00:00.000000000",
          "2025-04-04T00:00:00.000000000",
          "2025-04-05T00:00:00.000000000",
          "2025-04-06T00:00:00.000000000",
          "2025-04-07T00:00:00.000000000",
          "2025-04-08T00:00:00.000000000",
          "2025-04-09T00:00:00.000000000",
          "2025-04-10T00:00:00.000000000",
          "2025-04-11T00:00:00.000000000",
          "2025-04-12T00:00:00.000000000",
          "2025-04-13T00:00:00.000000000",
          "2025-04-14T00:00:00.000000000",
          "2025-04-15T00:00:00.000000000",
          "2025-04-16T00:00:00.000000000",
          "2025-04-17T00:00:00.000000000",
          "2025-04-18T00:00:00.000000000",
          "2025-04-19T00:00:00.000000000",
          "2025-04-20T00:00:00.000000000",
          "2025-04-21T00:00:00.000000000",
          "2025-04-22T00:00:00.000000000",
          "2025-04-23T00:00:00.000000000",
          "2025-04-24T00:00:00.000000000",
          "2025-04-25T00:00:00.000000000",
          "2025-04-26T00:00:00.000000000",
          "2025-04-27T00:00:00.000000000",
          "2025-04-28T00:00:00.000000000",
          "2025-04-29T00:00:00.000000000",
          "2025-04-30T00:00:00.000000000",
          "2025-05-01T00:00:00.000000000",
          "2025-05-02T00:00:00.000000000",
          "2025-05-03T00:00:00.000000000",
          "2025-05-04T00:00:00.000000000",
          "2025-05-05T00:00:00.000000000",
          "2025-05-06T00:00:00.000000000",
          "2025-05-07T00:00:00.000000000",
          "2025-05-08T00:00:00.000000000",
          "2025-05-09T00:00:00.000000000",
          "2025-05-10T00:00:00.000000000",
          "2025-05-11T00:00:00.000000000",
          "2025-05-12T00:00:00.000000000",
          "2025-05-13T00:00:00.000000000",
          "2025-05-14T00:00:00.000000000",
          "2025-05-15T00:00:00.000000000",
          "2025-05-16T00:00:00.000000000",
          "2025-05-17T00:00:00.000000000",
          "2025-05-18T00:00:00.000000000",
          "2025-05-19T00:00:00.000000000",
          "2025-05-20T00:00:00.000000000",
          "2025-05-21T00:00:00.000000000",
          "2025-05-22T00:00:00.000000000",
          "2025-05-23T00:00:00.000000000",
          "2025-05-24T00:00:00.000000000",
          "2025-05-25T00:00:00.000000000",
          "2025-05-26T00:00:00.000000000",
          "2025-05-27T00:00:00.000000000",
          "2025-05-28T00:00:00.000000000",
          "2025-05-29T00:00:00.000000000",
          "2025-05-30T00:00:00.000000000",
          "2025-05-31T00:00:00.000000000",
          "2025-06-01T00:00:00.000000000",
          "2025-06-02T00:00:00.000000000",
          "2025-06-03T00:00:00.000000000",
          "2025-06-04T00:00:00.000000000",
          "2025-06-05T00:00:00.000000000",
          "2025-06-06T00:00:00.000000000",
          "2025-06-07T00:00:00.000000000",
          "2025-06-08T00:00:00.000000000",
          "2025-06-09T00:00:00.000000000",
          "2025-06-10T00:00:00.000000000",
          "2025-06-11T00:00:00.000000000",
          "2025-06-12T00:00:00.000000000",
          "2025-06-13T00:00:00.000000000",
          "2025-06-14T00:00:00.000000000",
          "2025-06-15T00:00:00.000000000",
          "2025-06-16T00:00:00.000000000",
          "2025-06-17T00:00:00.000000000",
          "2025-06-18T00:00:00.000000000",
          "2025-06-19T00:00:00.000000000",
          "2025-06-20T00:00:00.000000000",
          "2025-06-21T00:00:00.000000000",
          "2025-06-22T00:00:00.000000000",
          "2025-06-23T00:00:00.000000000",
          "2025-06-24T00:00:00.000000000",
          "2025-06-25T00:00:00.000000000",
          "2025-06-26T00:00:00.000000000",
          "2025-06-27T00:00:00.000000000"
         ],
         "y": {
          "bdata": "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",
          "dtype": "f8"
         }
        },
        {
         "fill": "tonexty",
         "fillcolor": "rgba(0, 114, 178, 0.2)",
         "hoverinfo": "skip",
         "line": {
          "width": 0
         },
         "mode": "lines",
         "type": "scatter",
         "x": [
          "2003-12-31T00:00:00.000000000",
          "2004-02-15T00:00:00.000000000",
          "2008-04-17T00:00:00.000000000",
          "2009-09-01T00:00:00.000000000",
          "2009-10-24T00:00:00.000000000",
          "2010-10-29T00:00:00.000000000",
          "2010-12-12T00:00:00.000000000",
          "2011-05-01T00:00:00.000000000",
          "2012-01-01T00:00:00.000000000",
          "2012-02-15T00:00:00.000000000",
          "2013-12-28T00:00:00.000000000",
          "2014-03-10T00:00:00.000000000",
          "2015-11-15T00:00:00.000000000",
          "2016-02-11T00:00:00.000000000",
          "2016-04-09T00:00:00.000000000",
          "2016-05-02T00:00:00.000000000",
          "2016-05-06T00:00:00.000000000",
          "2016-05-20T00:00:00.000000000",
          "2016-06-03T00:00:00.000000000",
          "2016-06-08T00:00:00.000000000",
          "2016-08-09T00:00:00.000000000",
          "2016-08-12T00:00:00.000000000",
          "2016-08-25T00:00:00.000000000",
          "2016-09-17T00:00:00.000000000",
          "2016-09-21T00:00:00.000000000",
          "2016-09-25T00:00:00.000000000",
          "2016-10-17T00:00:00.000000000",
          "2016-11-29T00:00:00.000000000",
          "2016-12-04T00:00:00.000000000",
          "2016-12-08T00:00:00.000000000",
          "2016-12-12T00:00:00.000000000",
          "2016-12-13T00:00:00.000000000",
          "2016-12-15T00:00:00.000000000",
          "2016-12-29T00:00:00.000000000",
          "2017-03-17T00:00:00.000000000",
          "2017-03-31T00:00:00.000000000",
          "2017-04-07T00:00:00.000000000",
          "2017-04-08T00:00:00.000000000",
          "2017-04-23T00:00:00.000000000",
          "2017-05-01T00:00:00.000000000",
          "2017-05-05T00:00:00.000000000",
          "2017-05-25T00:00:00.000000000",
          "2017-06-06T00:00:00.000000000",
          "2017-07-06T00:00:00.000000000",
          "2017-07-16T00:00:00.000000000",
          "2017-07-17T00:00:00.000000000",
          "2017-07-30T00:00:00.000000000",
          "2017-08-24T00:00:00.000000000",
          "2017-09-15T00:00:00.000000000",
          "2017-09-17T00:00:00.000000000",
          "2017-09-27T00:00:00.000000000",
          "2017-10-02T00:00:00.000000000",
          "2017-10-08T00:00:00.000000000",
          "2017-10-12T00:00:00.000000000",
          "2017-10-13T00:00:00.000000000",
          "2017-11-05T00:00:00.000000000",
          "2017-11-28T00:00:00.000000000",
          "2017-12-02T00:00:00.000000000",
          "2017-12-14T00:00:00.000000000",
          "2017-12-17T00:00:00.000000000",
          "2017-12-23T00:00:00.000000000",
          "2017-12-31T00:00:00.000000000",
          "2018-01-18T00:00:00.000000000",
          "2018-02-25T00:00:00.000000000",
          "2018-03-03T00:00:00.000000000",
          "2018-03-04T00:00:00.000000000",
          "2018-03-10T00:00:00.000000000",
          "2018-03-16T00:00:00.000000000",
          "2018-03-29T00:00:00.000000000",
          "2018-03-30T00:00:00.000000000",
          "2018-04-01T00:00:00.000000000",
          "2018-04-04T00:00:00.000000000",
          "2018-04-14T00:00:00.000000000",
          "2018-04-22T00:00:00.000000000",
          "2018-05-04T00:00:00.000000000",
          "2018-05-12T00:00:00.000000000",
          "2018-05-16T00:00:00.000000000",
          "2018-06-03T00:00:00.000000000",
          "2018-06-20T00:00:00.000000000",
          "2018-06-25T00:00:00.000000000",
          "2018-07-05T00:00:00.000000000",
          "2018-07-14T00:00:00.000000000",
          "2018-07-21T00:00:00.000000000",
          "2018-08-01T00:00:00.000000000",
          "2018-08-05T00:00:00.000000000",
          "2018-08-23T00:00:00.000000000",
          "2018-09-01T00:00:00.000000000",
          "2018-09-07T00:00:00.000000000",
          "2018-09-10T00:00:00.000000000",
          "2018-09-16T00:00:00.000000000",
          "2018-10-08T00:00:00.000000000",
          "2018-10-10T00:00:00.000000000",
          "2018-10-14T00:00:00.000000000",
          "2018-10-23T00:00:00.000000000",
          "2018-11-03T00:00:00.000000000",
          "2018-11-10T00:00:00.000000000",
          "2018-11-12T00:00:00.000000000",
          "2018-11-13T00:00:00.000000000",
          "2018-12-02T00:00:00.000000000",
          "2018-12-05T00:00:00.000000000",
          "2018-12-07T00:00:00.000000000",
          "2018-12-15T00:00:00.000000000",
          "2019-01-08T00:00:00.000000000",
          "2019-01-09T00:00:00.000000000",
          "2019-01-17T00:00:00.000000000",
          "2019-02-07T00:00:00.000000000",
          "2019-02-18T00:00:00.000000000",
          "2019-02-28T00:00:00.000000000",
          "2019-03-01T00:00:00.000000000",
          "2019-03-13T00:00:00.000000000",
          "2019-03-16T00:00:00.000000000",
          "2019-03-28T00:00:00.000000000",
          "2019-03-29T00:00:00.000000000",
          "2019-04-01T00:00:00.000000000",
          "2019-04-03T00:00:00.000000000",
          "2019-04-09T00:00:00.000000000",
          "2019-04-14T00:00:00.000000000",
          "2019-04-17T00:00:00.000000000",
          "2019-04-29T00:00:00.000000000",
          "2019-05-03T00:00:00.000000000",
          "2019-05-08T00:00:00.000000000",
          "2019-05-10T00:00:00.000000000",
          "2019-06-02T00:00:00.000000000",
          "2019-06-18T00:00:00.000000000",
          "2019-06-27T00:00:00.000000000",
          "2019-06-29T00:00:00.000000000",
          "2019-06-30T00:00:00.000000000",
          "2019-07-09T00:00:00.000000000",
          "2019-07-14T00:00:00.000000000",
          "2019-07-27T00:00:00.000000000",
          "2019-08-16T00:00:00.000000000",
          "2019-08-19T00:00:00.000000000",
          "2019-08-21T00:00:00.000000000",
          "2019-09-04T00:00:00.000000000",
          "2019-09-06T00:00:00.000000000",
          "2019-09-11T00:00:00.000000000",
          "2019-09-22T00:00:00.000000000",
          "2019-09-30T00:00:00.000000000",
          "2019-10-04T00:00:00.000000000",
          "2019-10-11T00:00:00.000000000",
          "2019-10-19T00:00:00.000000000",
          "2019-10-20T00:00:00.000000000",
          "2019-10-26T00:00:00.000000000",
          "2019-11-01T00:00:00.000000000",
          "2019-11-03T00:00:00.000000000",
          "2019-11-11T00:00:00.000000000",
          "2019-11-16T00:00:00.000000000",
          "2019-11-17T00:00:00.000000000",
          "2019-11-21T00:00:00.000000000",
          "2019-12-07T00:00:00.000000000",
          "2019-12-12T00:00:00.000000000",
          "2019-12-21T00:00:00.000000000",
          "2019-12-23T00:00:00.000000000",
          "2020-01-19T00:00:00.000000000",
          "2020-02-01T00:00:00.000000000",
          "2020-02-06T00:00:00.000000000",
          "2020-02-15T00:00:00.000000000",
          "2020-02-20T00:00:00.000000000",
          "2020-03-07T00:00:00.000000000",
          "2020-03-17T00:00:00.000000000",
          "2020-03-19T00:00:00.000000000",
          "2020-03-27T00:00:00.000000000",
          "2020-04-09T00:00:00.000000000",
          "2020-04-17T00:00:00.000000000",
          "2020-05-02T00:00:00.000000000",
          "2020-06-07T00:00:00.000000000",
          "2020-06-11T00:00:00.000000000",
          "2020-06-14T00:00:00.000000000",
          "2020-06-17T00:00:00.000000000",
          "2020-06-27T00:00:00.000000000",
          "2020-07-17T00:00:00.000000000",
          "2020-07-22T00:00:00.000000000",
          "2020-07-25T00:00:00.000000000",
          "2020-08-30T00:00:00.000000000",
          "2020-09-20T00:00:00.000000000",
          "2020-09-21T00:00:00.000000000",
          "2020-10-05T00:00:00.000000000",
          "2020-10-15T00:00:00.000000000",
          "2020-10-27T00:00:00.000000000",
          "2020-11-01T00:00:00.000000000",
          "2020-11-02T00:00:00.000000000",
          "2020-12-05T00:00:00.000000000",
          "2020-12-21T00:00:00.000000000",
          "2020-12-24T00:00:00.000000000",
          "2020-12-25T00:00:00.000000000",
          "2021-01-08T00:00:00.000000000",
          "2021-01-11T00:00:00.000000000",
          "2021-01-20T00:00:00.000000000",
          "2021-01-23T00:00:00.000000000",
          "2021-02-01T00:00:00.000000000",
          "2021-02-21T00:00:00.000000000",
          "2021-02-24T00:00:00.000000000",
          "2021-03-01T00:00:00.000000000",
          "2021-03-06T00:00:00.000000000",
          "2021-03-12T00:00:00.000000000",
          "2021-03-20T00:00:00.000000000",
          "2021-03-30T00:00:00.000000000",
          "2021-04-01T00:00:00.000000000",
          "2021-04-13T00:00:00.000000000",
          "2021-04-18T00:00:00.000000000",
          "2021-05-04T00:00:00.000000000",
          "2021-05-06T00:00:00.000000000",
          "2021-05-10T00:00:00.000000000",
          "2021-05-13T00:00:00.000000000",
          "2021-05-21T00:00:00.000000000",
          "2021-05-23T00:00:00.000000000",
          "2021-06-02T00:00:00.000000000",
          "2021-06-04T00:00:00.000000000",
          "2021-06-07T00:00:00.000000000",
          "2021-07-15T00:00:00.000000000",
          "2021-07-17T00:00:00.000000000",
          "2021-07-31T00:00:00.000000000",
          "2021-08-20T00:00:00.000000000",
          "2021-08-21T00:00:00.000000000",
          "2021-09-01T00:00:00.000000000",
          "2021-09-04T00:00:00.000000000",
          "2021-09-09T00:00:00.000000000",
          "2021-09-26T00:00:00.000000000",
          "2021-10-01T00:00:00.000000000",
          "2021-10-10T00:00:00.000000000",
          "2021-10-16T00:00:00.000000000",
          "2021-11-07T00:00:00.000000000",
          "2021-11-17T00:00:00.000000000",
          "2021-11-20T00:00:00.000000000",
          "2021-12-01T00:00:00.000000000",
          "2022-01-05T00:00:00.000000000",
          "2022-01-24T00:00:00.000000000",
          "2022-02-20T00:00:00.000000000",
          "2022-02-22T00:00:00.000000000",
          "2022-03-13T00:00:00.000000000",
          "2022-03-15T00:00:00.000000000",
          "2022-03-19T00:00:00.000000000",
          "2022-03-21T00:00:00.000000000",
          "2022-03-27T00:00:00.000000000",
          "2022-03-31T00:00:00.000000000",
          "2022-04-07T00:00:00.000000000",
          "2022-04-09T00:00:00.000000000",
          "2022-04-15T00:00:00.000000000",
          "2022-04-16T00:00:00.000000000",
          "2022-04-26T00:00:00.000000000",
          "2022-04-30T00:00:00.000000000",
          "2022-05-03T00:00:00.000000000",
          "2022-05-04T00:00:00.000000000",
          "2022-06-04T00:00:00.000000000",
          "2022-06-17T00:00:00.000000000",
          "2022-07-02T00:00:00.000000000",
          "2022-07-06T00:00:00.000000000",
          "2022-07-21T00:00:00.000000000",
          "2022-07-24T00:00:00.000000000",
          "2022-07-29T00:00:00.000000000",
          "2022-08-05T00:00:00.000000000",
          "2022-08-08T00:00:00.000000000",
          "2022-08-10T00:00:00.000000000",
          "2022-08-17T00:00:00.000000000",
          "2022-08-23T00:00:00.000000000",
          "2022-08-31T00:00:00.000000000",
          "2022-09-10T00:00:00.000000000",
          "2022-09-21T00:00:00.000000000",
          "2022-10-01T00:00:00.000000000",
          "2022-10-10T00:00:00.000000000",
          "2022-10-13T00:00:00.000000000",
          "2022-10-24T00:00:00.000000000",
          "2022-10-26T00:00:00.000000000",
          "2022-12-04T00:00:00.000000000",
          "2022-12-06T00:00:00.000000000",
          "2022-12-16T00:00:00.000000000",
          "2022-12-29T00:00:00.000000000",
          "2022-12-31T00:00:00.000000000",
          "2023-01-17T00:00:00.000000000",
          "2023-01-22T00:00:00.000000000",
          "2023-02-11T00:00:00.000000000",
          "2023-02-14T00:00:00.000000000",
          "2023-03-02T00:00:00.000000000",
          "2023-03-07T00:00:00.000000000",
          "2023-03-10T00:00:00.000000000",
          "2023-03-11T00:00:00.000000000",
          "2023-03-17T00:00:00.000000000",
          "2023-03-18T00:00:00.000000000",
          "2023-03-24T00:00:00.000000000",
          "2023-03-28T00:00:00.000000000",
          "2023-03-29T00:00:00.000000000",
          "2023-03-31T00:00:00.000000000",
          "2023-04-16T00:00:00.000000000",
          "2023-05-01T00:00:00.000000000",
          "2023-05-22T00:00:00.000000000",
          "2023-05-23T00:00:00.000000000",
          "2023-05-26T00:00:00.000000000",
          "2023-05-29T00:00:00.000000000",
          "2023-06-17T00:00:00.000000000",
          "2023-07-08T00:00:00.000000000",
          "2023-07-20T00:00:00.000000000",
          "2023-07-22T00:00:00.000000000",
          "2023-07-23T00:00:00.000000000",
          "2023-08-03T00:00:00.000000000",
          "2023-08-04T00:00:00.000000000",
          "2023-08-21T00:00:00.000000000",
          "2023-08-31T00:00:00.000000000",
          "2023-09-02T00:00:00.000000000",
          "2023-09-06T00:00:00.000000000",
          "2023-09-13T00:00:00.000000000",
          "2023-09-20T00:00:00.000000000",
          "2023-09-30T00:00:00.000000000",
          "2023-10-28T00:00:00.000000000",
          "2023-11-09T00:00:00.000000000",
          "2023-11-29T00:00:00.000000000",
          "2023-12-08T00:00:00.000000000",
          "2023-12-09T00:00:00.000000000",
          "2023-12-24T00:00:00.000000000",
          "2024-01-13T00:00:00.000000000",
          "2024-01-16T00:00:00.000000000",
          "2024-03-01T00:00:00.000000000",
          "2024-03-08T00:00:00.000000000",
          "2024-03-09T00:00:00.000000000",
          "2024-03-22T00:00:00.000000000",
          "2024-04-01T00:00:00.000000000",
          "2024-05-03T00:00:00.000000000",
          "2024-05-17T00:00:00.000000000",
          "2024-06-16T00:00:00.000000000",
          "2024-06-17T00:00:00.000000000",
          "2024-06-18T00:00:00.000000000",
          "2024-06-21T00:00:00.000000000",
          "2024-07-13T00:00:00.000000000",
          "2024-07-19T00:00:00.000000000",
          "2024-07-26T00:00:00.000000000",
          "2024-08-10T00:00:00.000000000",
          "2024-08-12T00:00:00.000000000",
          "2024-08-13T00:00:00.000000000",
          "2024-08-25T00:00:00.000000000",
          "2024-08-26T00:00:00.000000000",
          "2024-09-01T00:00:00.000000000",
          "2024-09-02T00:00:00.000000000",
          "2024-09-03T00:00:00.000000000",
          "2024-09-09T00:00:00.000000000",
          "2024-09-10T00:00:00.000000000",
          "2024-09-13T00:00:00.000000000",
          "2024-09-18T00:00:00.000000000",
          "2024-09-27T00:00:00.000000000",
          "2024-10-22T00:00:00.000000000",
          "2024-10-24T00:00:00.000000000",
          "2024-10-28T00:00:00.000000000",
          "2024-12-21T00:00:00.000000000",
          "2025-01-16T00:00:00.000000000",
          "2025-01-18T00:00:00.000000000",
          "2025-01-28T00:00:00.000000000",
          "2025-01-29T00:00:00.000000000",
          "2025-01-30T00:00:00.000000000",
          "2025-01-31T00:00:00.000000000",
          "2025-02-01T00:00:00.000000000",
          "2025-02-02T00:00:00.000000000",
          "2025-02-03T00:00:00.000000000",
          "2025-02-04T00:00:00.000000000",
          "2025-02-05T00:00:00.000000000",
          "2025-02-06T00:00:00.000000000",
          "2025-02-07T00:00:00.000000000",
          "2025-02-08T00:00:00.000000000",
          "2025-02-09T00:00:00.000000000",
          "2025-02-10T00:00:00.000000000",
          "2025-02-11T00:00:00.000000000",
          "2025-02-12T00:00:00.000000000",
          "2025-02-13T00:00:00.000000000",
          "2025-02-14T00:00:00.000000000",
          "2025-02-15T00:00:00.000000000",
          "2025-02-16T00:00:00.000000000",
          "2025-02-17T00:00:00.000000000",
          "2025-02-18T00:00:00.000000000",
          "2025-02-19T00:00:00.000000000",
          "2025-02-20T00:00:00.000000000",
          "2025-02-21T00:00:00.000000000",
          "2025-02-22T00:00:00.000000000",
          "2025-02-23T00:00:00.000000000",
          "2025-02-24T00:00:00.000000000",
          "2025-02-25T00:00:00.000000000",
          "2025-02-26T00:00:00.000000000",
          "2025-02-27T00:00:00.000000000",
          "2025-02-28T00:00:00.000000000",
          "2025-03-01T00:00:00.000000000",
          "2025-03-02T00:00:00.000000000",
          "2025-03-03T00:00:00.000000000",
          "2025-03-04T00:00:00.000000000",
          "2025-03-05T00:00:00.000000000",
          "2025-03-06T00:00:00.000000000",
          "2025-03-07T00:00:00.000000000",
          "2025-03-08T00:00:00.000000000",
          "2025-03-09T00:00:00.000000000",
          "2025-03-10T00:00:00.000000000",
          "2025-03-11T00:00:00.000000000",
          "2025-03-12T00:00:00.000000000",
          "2025-03-13T00:00:00.000000000",
          "2025-03-14T00:00:00.000000000",
          "2025-03-15T00:00:00.000000000",
          "2025-03-16T00:00:00.000000000",
          "2025-03-17T00:00:00.000000000",
          "2025-03-18T00:00:00.000000000",
          "2025-03-19T00:00:00.000000000",
          "2025-03-20T00:00:00.000000000",
          "2025-03-21T00:00:00.000000000",
          "2025-03-22T00:00:00.000000000",
          "2025-03-23T00:00:00.000000000",
          "2025-03-24T00:00:00.000000000",
          "2025-03-25T00:00:00.000000000",
          "2025-03-26T00:00:00.000000000",
          "2025-03-27T00:00:00.000000000",
          "2025-03-28T00:00:00.000000000",
          "2025-03-29T00:00:00.000000000",
          "2025-03-30T00:00:00.000000000",
          "2025-03-31T00:00:00.000000000",
          "2025-04-01T00:00:00.000000000",
          "2025-04-02T00:00:00.000000000",
          "2025-04-03T00:00:00.000000000",
          "2025-04-04T00:00:00.000000000",
          "2025-04-05T00:00:00.000000000",
          "2025-04-06T00:00:00.000000000",
          "2025-04-07T00:00:00.000000000",
          "2025-04-08T00:00:00.000000000",
          "2025-04-09T00:00:00.000000000",
          "2025-04-10T00:00:00.000000000",
          "2025-04-11T00:00:00.000000000",
          "2025-04-12T00:00:00.000000000",
          "2025-04-13T00:00:00.000000000",
          "2025-04-14T00:00:00.000000000",
          "2025-04-15T00:00:00.000000000",
          "2025-04-16T00:00:00.000000000",
          "2025-04-17T00:00:00.000000000",
          "2025-04-18T00:00:00.000000000",
          "2025-04-19T00:00:00.000000000",
          "2025-04-20T00:00:00.000000000",
          "2025-04-21T00:00:00.000000000",
          "2025-04-22T00:00:00.000000000",
          "2025-04-23T00:00:00.000000000",
          "2025-04-24T00:00:00.000000000",
          "2025-04-25T00:00:00.000000000",
          "2025-04-26T00:00:00.000000000",
          "2025-04-27T00:00:00.000000000",
          "2025-04-28T00:00:00.000000000",
          "2025-04-29T00:00:00.000000000",
          "2025-04-30T00:00:00.000000000",
          "2025-05-01T00:00:00.000000000",
          "2025-05-02T00:00:00.000000000",
          "2025-05-03T00:00:00.000000000",
          "2025-05-04T00:00:00.000000000",
          "2025-05-05T00:00:00.000000000",
          "2025-05-06T00:00:00.000000000",
          "2025-05-07T00:00:00.000000000",
          "2025-05-08T00:00:00.000000000",
          "2025-05-09T00:00:00.000000000",
          "2025-05-10T00:00:00.000000000",
          "2025-05-11T00:00:00.000000000",
          "2025-05-12T00:00:00.000000000",
          "2025-05-13T00:00:00.000000000",
          "2025-05-14T00:00:00.000000000",
          "2025-05-15T00:00:00.000000000",
          "2025-05-16T00:00:00.000000000",
          "2025-05-17T00:00:00.000000000",
          "2025-05-18T00:00:00.000000000",
          "2025-05-19T00:00:00.000000000",
          "2025-05-20T00:00:00.000000000",
          "2025-05-21T00:00:00.000000000",
          "2025-05-22T00:00:00.000000000",
          "2025-05-23T00:00:00.000000000",
          "2025-05-24T00:00:00.000000000",
          "2025-05-25T00:00:00.000000000",
          "2025-05-26T00:00:00.000000000",
          "2025-05-27T00:00:00.000000000",
          "2025-05-28T00:00:00.000000000",
          "2025-05-29T00:00:00.000000000",
          "2025-05-30T00:00:00.000000000",
          "2025-05-31T00:00:00.000000000",
          "2025-06-01T00:00:00.000000000",
          "2025-06-02T00:00:00.000000000",
          "2025-06-03T00:00:00.000000000",
          "2025-06-04T00:00:00.000000000",
          "2025-06-05T00:00:00.000000000",
          "2025-06-06T00:00:00.000000000",
          "2025-06-07T00:00:00.000000000",
          "2025-06-08T00:00:00.000000000",
          "2025-06-09T00:00:00.000000000",
          "2025-06-10T00:00:00.000000000",
          "2025-06-11T00:00:00.000000000",
          "2025-06-12T00:00:00.000000000",
          "2025-06-13T00:00:00.000000000",
          "2025-06-14T00:00:00.000000000",
          "2025-06-15T00:00:00.000000000",
          "2025-06-16T00:00:00.000000000",
          "2025-06-17T00:00:00.000000000",
          "2025-06-18T00:00:00.000000000",
          "2025-06-19T00:00:00.000000000",
          "2025-06-20T00:00:00.000000000",
          "2025-06-21T00:00:00.000000000",
          "2025-06-22T00:00:00.000000000",
          "2025-06-23T00:00:00.000000000",
          "2025-06-24T00:00:00.000000000",
          "2025-06-25T00:00:00.000000000",
          "2025-06-26T00:00:00.000000000",
          "2025-06-27T00:00:00.000000000"
         ],
         "y": {
          "bdata": "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",
          "dtype": "f8"
         }
        }
       ],
       "layout": {
        "height": 600,
        "showlegend": false,
        "template": {
         "data": {
          "bar": [
           {
            "error_x": {
             "color": "#2a3f5f"
            },
            "error_y": {
             "color": "#2a3f5f"
            },
            "marker": {
             "line": {
              "color": "#E5ECF6",
              "width": 0.5
             },
             "pattern": {
              "fillmode": "overlay",
              "size": 10,
              "solidity": 0.2
             }
            },
            "type": "bar"
           }
          ],
          "barpolar": [
           {
            "marker": {
             "line": {
              "color": "#E5ECF6",
              "width": 0.5
             },
             "pattern": {
              "fillmode": "overlay",
              "size": 10,
              "solidity": 0.2
             }
            },
            "type": "barpolar"
           }
          ],
          "carpet": [
           {
            "aaxis": {
             "endlinecolor": "#2a3f5f",
             "gridcolor": "white",
             "linecolor": "white",
             "minorgridcolor": "white",
             "startlinecolor": "#2a3f5f"
            },
            "baxis": {
             "endlinecolor": "#2a3f5f",
             "gridcolor": "white",
             "linecolor": "white",
             "minorgridcolor": "white",
             "startlinecolor": "#2a3f5f"
            },
            "type": "carpet"
           }
          ],
          "choropleth": [
           {
            "colorbar": {
             "outlinewidth": 0,
             "ticks": ""
            },
            "type": "choropleth"
           }
          ],
          "contour": [
           {
            "colorbar": {
             "outlinewidth": 0,
             "ticks": ""
            },
            "colorscale": [
             [
              0,
              "#0d0887"
             ],
             [
              0.1111111111111111,
              "#46039f"
             ],
             [
              0.2222222222222222,
              "#7201a8"
             ],
             [
              0.3333333333333333,
              "#9c179e"
             ],
             [
              0.4444444444444444,
              "#bd3786"
             ],
             [
              0.5555555555555556,
              "#d8576b"
             ],
             [
              0.6666666666666666,
              "#ed7953"
             ],
             [
              0.7777777777777778,
              "#fb9f3a"
             ],
             [
              0.8888888888888888,
              "#fdca26"
             ],
             [
              1,
              "#f0f921"
             ]
            ],
            "type": "contour"
           }
          ],
          "contourcarpet": [
           {
            "colorbar": {
             "outlinewidth": 0,
             "ticks": ""
            },
            "type": "contourcarpet"
           }
          ],
          "heatmap": [
           {
            "colorbar": {
             "outlinewidth": 0,
             "ticks": ""
            },
            "colorscale": [
             [
              0,
              "#0d0887"
             ],
             [
              0.1111111111111111,
              "#46039f"
             ],
             [
              0.2222222222222222,
              "#7201a8"
             ],
             [
              0.3333333333333333,
              "#9c179e"
             ],
             [
              0.4444444444444444,
              "#bd3786"
             ],
             [
              0.5555555555555556,
              "#d8576b"
             ],
             [
              0.6666666666666666,
              "#ed7953"
             ],
             [
              0.7777777777777778,
              "#fb9f3a"
             ],
             [
              0.8888888888888888,
              "#fdca26"
             ],
             [
              1,
              "#f0f921"
             ]
            ],
            "type": "heatmap"
           }
          ],
          "histogram": [
           {
            "marker": {
             "pattern": {
              "fillmode": "overlay",
              "size": 10,
              "solidity": 0.2
             }
            },
            "type": "histogram"
           }
          ],
          "histogram2d": [
           {
            "colorbar": {
             "outlinewidth": 0,
             "ticks": ""
            },
            "colorscale": [
             [
              0,
              "#0d0887"
             ],
             [
              0.1111111111111111,
              "#46039f"
             ],
             [
              0.2222222222222222,
              "#7201a8"
             ],
             [
              0.3333333333333333,
              "#9c179e"
             ],
             [
              0.4444444444444444,
              "#bd3786"
             ],
             [
              0.5555555555555556,
              "#d8576b"
             ],
             [
              0.6666666666666666,
              "#ed7953"
             ],
             [
              0.7777777777777778,
              "#fb9f3a"
             ],
             [
              0.8888888888888888,
              "#fdca26"
             ],
             [
              1,
              "#f0f921"
             ]
            ],
            "type": "histogram2d"
           }
          ],
          "histogram2dcontour": [
           {
            "colorbar": {
             "outlinewidth": 0,
             "ticks": ""
            },
            "colorscale": [
             [
              0,
              "#0d0887"
             ],
             [
              0.1111111111111111,
              "#46039f"
             ],
             [
              0.2222222222222222,
              "#7201a8"
             ],
             [
              0.3333333333333333,
              "#9c179e"
             ],
             [
              0.4444444444444444,
              "#bd3786"
             ],
             [
              0.5555555555555556,
              "#d8576b"
             ],
             [
              0.6666666666666666,
              "#ed7953"
             ],
             [
              0.7777777777777778,
              "#fb9f3a"
             ],
             [
              0.8888888888888888,
              "#fdca26"
             ],
             [
              1,
              "#f0f921"
             ]
            ],
            "type": "histogram2dcontour"
           }
          ],
          "mesh3d": [
           {
            "colorbar": {
             "outlinewidth": 0,
             "ticks": ""
            },
            "type": "mesh3d"
           }
          ],
          "parcoords": [
           {
            "line": {
             "colorbar": {
              "outlinewidth": 0,
              "ticks": ""
             }
            },
            "type": "parcoords"
           }
          ],
          "pie": [
           {
            "automargin": true,
            "type": "pie"
           }
          ],
          "scatter": [
           {
            "fillpattern": {
             "fillmode": "overlay",
             "size": 10,
             "solidity": 0.2
            },
            "type": "scatter"
           }
          ],
          "scatter3d": [
           {
            "line": {
             "colorbar": {
              "outlinewidth": 0,
              "ticks": ""
             }
            },
            "marker": {
             "colorbar": {
              "outlinewidth": 0,
              "ticks": ""
             }
            },
            "type": "scatter3d"
           }
          ],
          "scattercarpet": [
           {
            "marker": {
             "colorbar": {
              "outlinewidth": 0,
              "ticks": ""
             }
            },
            "type": "scattercarpet"
           }
          ],
          "scattergeo": [
           {
            "marker": {
             "colorbar": {
              "outlinewidth": 0,
              "ticks": ""
             }
            },
            "type": "scattergeo"
           }
          ],
          "scattergl": [
           {
            "marker": {
             "colorbar": {
              "outlinewidth": 0,
              "ticks": ""
             }
            },
            "type": "scattergl"
           }
          ],
          "scattermap": [
           {
            "marker": {
             "colorbar": {
              "outlinewidth": 0,
              "ticks": ""
             }
            },
            "type": "scattermap"
           }
          ],
          "scattermapbox": [
           {
            "marker": {
             "colorbar": {
              "outlinewidth": 0,
              "ticks": ""
             }
            },
            "type": "scattermapbox"
           }
          ],
          "scatterpolar": [
           {
            "marker": {
             "colorbar": {
              "outlinewidth": 0,
              "ticks": ""
             }
            },
            "type": "scatterpolar"
           }
          ],
          "scatterpolargl": [
           {
            "marker": {
             "colorbar": {
              "outlinewidth": 0,
              "ticks": ""
             }
            },
            "type": "scatterpolargl"
           }
          ],
          "scatterternary": [
           {
            "marker": {
             "colorbar": {
              "outlinewidth": 0,
              "ticks": ""
             }
            },
            "type": "scatterternary"
           }
          ],
          "surface": [
           {
            "colorbar": {
             "outlinewidth": 0,
             "ticks": ""
            },
            "colorscale": [
             [
              0,
              "#0d0887"
             ],
             [
              0.1111111111111111,
              "#46039f"
             ],
             [
              0.2222222222222222,
              "#7201a8"
             ],
             [
              0.3333333333333333,
              "#9c179e"
             ],
             [
              0.4444444444444444,
              "#bd3786"
             ],
             [
              0.5555555555555556,
              "#d8576b"
             ],
             [
              0.6666666666666666,
              "#ed7953"
             ],
             [
              0.7777777777777778,
              "#fb9f3a"
             ],
             [
              0.8888888888888888,
              "#fdca26"
             ],
             [
              1,
              "#f0f921"
             ]
            ],
            "type": "surface"
           }
          ],
          "table": [
           {
            "cells": {
             "fill": {
              "color": "#EBF0F8"
             },
             "line": {
              "color": "white"
             }
            },
            "header": {
             "fill": {
              "color": "#C8D4E3"
             },
             "line": {
              "color": "white"
             }
            },
            "type": "table"
           }
          ]
         },
         "layout": {
          "annotationdefaults": {
           "arrowcolor": "#2a3f5f",
           "arrowhead": 0,
           "arrowwidth": 1
          },
          "autotypenumbers": "strict",
          "coloraxis": {
           "colorbar": {
            "outlinewidth": 0,
            "ticks": ""
           }
          },
          "colorscale": {
           "diverging": [
            [
             0,
             "#8e0152"
            ],
            [
             0.1,
             "#c51b7d"
            ],
            [
             0.2,
             "#de77ae"
            ],
            [
             0.3,
             "#f1b6da"
            ],
            [
             0.4,
             "#fde0ef"
            ],
            [
             0.5,
             "#f7f7f7"
            ],
            [
             0.6,
             "#e6f5d0"
            ],
            [
             0.7,
             "#b8e186"
            ],
            [
             0.8,
             "#7fbc41"
            ],
            [
             0.9,
             "#4d9221"
            ],
            [
             1,
             "#276419"
            ]
           ],
           "sequential": [
            [
             0,
             "#0d0887"
            ],
            [
             0.1111111111111111,
             "#46039f"
            ],
            [
             0.2222222222222222,
             "#7201a8"
            ],
            [
             0.3333333333333333,
             "#9c179e"
            ],
            [
             0.4444444444444444,
             "#bd3786"
            ],
            [
             0.5555555555555556,
             "#d8576b"
            ],
            [
             0.6666666666666666,
             "#ed7953"
            ],
            [
             0.7777777777777778,
             "#fb9f3a"
            ],
            [
             0.8888888888888888,
             "#fdca26"
            ],
            [
             1,
             "#f0f921"
            ]
           ],
           "sequentialminus": [
            [
             0,
             "#0d0887"
            ],
            [
             0.1111111111111111,
             "#46039f"
            ],
            [
             0.2222222222222222,
             "#7201a8"
            ],
            [
             0.3333333333333333,
             "#9c179e"
            ],
            [
             0.4444444444444444,
             "#bd3786"
            ],
            [
             0.5555555555555556,
             "#d8576b"
            ],
            [
             0.6666666666666666,
             "#ed7953"
            ],
            [
             0.7777777777777778,
             "#fb9f3a"
            ],
            [
             0.8888888888888888,
             "#fdca26"
            ],
            [
             1,
             "#f0f921"
            ]
           ]
          },
          "colorway": [
           "#636efa",
           "#EF553B",
           "#00cc96",
           "#ab63fa",
           "#FFA15A",
           "#19d3f3",
           "#FF6692",
           "#B6E880",
           "#FF97FF",
           "#FECB52"
          ],
          "font": {
           "color": "#2a3f5f"
          },
          "geo": {
           "bgcolor": "white",
           "lakecolor": "white",
           "landcolor": "#E5ECF6",
           "showlakes": true,
           "showland": true,
           "subunitcolor": "white"
          },
          "hoverlabel": {
           "align": "left"
          },
          "hovermode": "closest",
          "mapbox": {
           "style": "light"
          },
          "paper_bgcolor": "white",
          "plot_bgcolor": "#E5ECF6",
          "polar": {
           "angularaxis": {
            "gridcolor": "white",
            "linecolor": "white",
            "ticks": ""
           },
           "bgcolor": "#E5ECF6",
           "radialaxis": {
            "gridcolor": "white",
            "linecolor": "white",
            "ticks": ""
           }
          },
          "scene": {
           "xaxis": {
            "backgroundcolor": "#E5ECF6",
            "gridcolor": "white",
            "gridwidth": 2,
            "linecolor": "white",
            "showbackground": true,
            "ticks": "",
            "zerolinecolor": "white"
           },
           "yaxis": {
            "backgroundcolor": "#E5ECF6",
            "gridcolor": "white",
            "gridwidth": 2,
            "linecolor": "white",
            "showbackground": true,
            "ticks": "",
            "zerolinecolor": "white"
           },
           "zaxis": {
            "backgroundcolor": "#E5ECF6",
            "gridcolor": "white",
            "gridwidth": 2,
            "linecolor": "white",
            "showbackground": true,
            "ticks": "",
            "zerolinecolor": "white"
           }
          },
          "shapedefaults": {
           "line": {
            "color": "#2a3f5f"
           }
          },
          "ternary": {
           "aaxis": {
            "gridcolor": "white",
            "linecolor": "white",
            "ticks": ""
           },
           "baxis": {
            "gridcolor": "white",
            "linecolor": "white",
            "ticks": ""
           },
           "bgcolor": "#E5ECF6",
           "caxis": {
            "gridcolor": "white",
            "linecolor": "white",
            "ticks": ""
           }
          },
          "title": {
           "x": 0.05
          },
          "xaxis": {
           "automargin": true,
           "gridcolor": "white",
           "linecolor": "white",
           "ticks": "",
           "title": {
            "standoff": 15
           },
           "zerolinecolor": "white",
           "zerolinewidth": 2
          },
          "yaxis": {
           "automargin": true,
           "gridcolor": "white",
           "linecolor": "white",
           "ticks": "",
           "title": {
            "standoff": 15
           },
           "zerolinecolor": "white",
           "zerolinewidth": 2
          }
         }
        },
        "width": 900,
        "xaxis": {
         "rangeselector": {
          "buttons": [
           {
            "count": 7,
            "label": "1w",
            "step": "day",
            "stepmode": "backward"
           },
           {
            "count": 1,
            "label": "1m",
            "step": "month",
            "stepmode": "backward"
           },
           {
            "count": 6,
            "label": "6m",
            "step": "month",
            "stepmode": "backward"
           },
           {
            "count": 1,
            "label": "1y",
            "step": "year",
            "stepmode": "backward"
           },
           {
            "step": "all"
           }
          ]
         },
         "rangeslider": {
          "visible": true
         },
         "title": {
          "text": "ds"
         },
         "type": "date"
        },
        "yaxis": {
         "title": {
          "text": "y"
         }
        }
       }
      }
     },
     "metadata": {},
     "output_type": "display_data"
    }
   ],
   "source": [
    "plot_plotly(model, forecast)"
   ]
  },
  {
   "cell_type": "code",
   "execution_count": 13,
   "id": "3eb1374d",
   "metadata": {},
   "outputs": [
    {
     "data": {
      "application/vnd.plotly.v1+json": {
       "config": {
        "plotlyServerURL": "https://plot.ly"
       },
       "data": [
        {
         "line": {
          "color": "#0072B2",
          "width": 2
         },
         "mode": "lines",
         "name": "trend",
         "type": "scatter",
         "x": [
          "2003-12-31T00:00:00.000000000",
          "2004-02-15T00:00:00.000000000",
          "2008-04-17T00:00:00.000000000",
          "2009-09-01T00:00:00.000000000",
          "2009-10-24T00:00:00.000000000",
          "2010-10-29T00:00:00.000000000",
          "2010-12-12T00:00:00.000000000",
          "2011-05-01T00:00:00.000000000",
          "2012-01-01T00:00:00.000000000",
          "2012-02-15T00:00:00.000000000",
          "2013-12-28T00:00:00.000000000",
          "2014-03-10T00:00:00.000000000",
          "2015-11-15T00:00:00.000000000",
          "2016-02-11T00:00:00.000000000",
          "2016-04-09T00:00:00.000000000",
          "2016-05-02T00:00:00.000000000",
          "2016-05-06T00:00:00.000000000",
          "2016-05-20T00:00:00.000000000",
          "2016-06-03T00:00:00.000000000",
          "2016-06-08T00:00:00.000000000",
          "2016-08-09T00:00:00.000000000",
          "2016-08-12T00:00:00.000000000",
          "2016-08-25T00:00:00.000000000",
          "2016-09-17T00:00:00.000000000",
          "2016-09-21T00:00:00.000000000",
          "2016-09-25T00:00:00.000000000",
          "2016-10-17T00:00:00.000000000",
          "2016-11-29T00:00:00.000000000",
          "2016-12-04T00:00:00.000000000",
          "2016-12-08T00:00:00.000000000",
          "2016-12-12T00:00:00.000000000",
          "2016-12-13T00:00:00.000000000",
          "2016-12-15T00:00:00.000000000",
          "2016-12-29T00:00:00.000000000",
          "2017-03-17T00:00:00.000000000",
          "2017-03-31T00:00:00.000000000",
          "2017-04-07T00:00:00.000000000",
          "2017-04-08T00:00:00.000000000",
          "2017-04-23T00:00:00.000000000",
          "2017-05-01T00:00:00.000000000",
          "2017-05-05T00:00:00.000000000",
          "2017-05-25T00:00:00.000000000",
          "2017-06-06T00:00:00.000000000",
          "2017-07-06T00:00:00.000000000",
          "2017-07-16T00:00:00.000000000",
          "2017-07-17T00:00:00.000000000",
          "2017-07-30T00:00:00.000000000",
          "2017-08-24T00:00:00.000000000",
          "2017-09-15T00:00:00.000000000",
          "2017-09-17T00:00:00.000000000",
          "2017-09-27T00:00:00.000000000",
          "2017-10-02T00:00:00.000000000",
          "2017-10-08T00:00:00.000000000",
          "2017-10-12T00:00:00.000000000",
          "2017-10-13T00:00:00.000000000",
          "2017-11-05T00:00:00.000000000",
          "2017-11-28T00:00:00.000000000",
          "2017-12-02T00:00:00.000000000",
          "2017-12-14T00:00:00.000000000",
          "2017-12-17T00:00:00.000000000",
          "2017-12-23T00:00:00.000000000",
          "2017-12-31T00:00:00.000000000",
          "2018-01-18T00:00:00.000000000",
          "2018-02-25T00:00:00.000000000",
          "2018-03-03T00:00:00.000000000",
          "2018-03-04T00:00:00.000000000",
          "2018-03-10T00:00:00.000000000",
          "2018-03-16T00:00:00.000000000",
          "2018-03-29T00:00:00.000000000",
          "2018-03-30T00:00:00.000000000",
          "2018-04-01T00:00:00.000000000",
          "2018-04-04T00:00:00.000000000",
          "2018-04-14T00:00:00.000000000",
          "2018-04-22T00:00:00.000000000",
          "2018-05-04T00:00:00.000000000",
          "2018-05-12T00:00:00.000000000",
          "2018-05-16T00:00:00.000000000",
          "2018-06-03T00:00:00.000000000",
          "2018-06-20T00:00:00.000000000",
          "2018-06-25T00:00:00.000000000",
          "2018-07-05T00:00:00.000000000",
          "2018-07-14T00:00:00.000000000",
          "2018-07-21T00:00:00.000000000",
          "2018-08-01T00:00:00.000000000",
          "2018-08-05T00:00:00.000000000",
          "2018-08-23T00:00:00.000000000",
          "2018-09-01T00:00:00.000000000",
          "2018-09-07T00:00:00.000000000",
          "2018-09-10T00:00:00.000000000",
          "2018-09-16T00:00:00.000000000",
          "2018-10-08T00:00:00.000000000",
          "2018-10-10T00:00:00.000000000",
          "2018-10-14T00:00:00.000000000",
          "2018-10-23T00:00:00.000000000",
          "2018-11-03T00:00:00.000000000",
          "2018-11-10T00:00:00.000000000",
          "2018-11-12T00:00:00.000000000",
          "2018-11-13T00:00:00.000000000",
          "2018-12-02T00:00:00.000000000",
          "2018-12-05T00:00:00.000000000",
          "2018-12-07T00:00:00.000000000",
          "2018-12-15T00:00:00.000000000",
          "2019-01-08T00:00:00.000000000",
          "2019-01-09T00:00:00.000000000",
          "2019-01-17T00:00:00.000000000",
          "2019-02-07T00:00:00.000000000",
          "2019-02-18T00:00:00.000000000",
          "2019-02-28T00:00:00.000000000",
          "2019-03-01T00:00:00.000000000",
          "2019-03-13T00:00:00.000000000",
          "2019-03-16T00:00:00.000000000",
          "2019-03-28T00:00:00.000000000",
          "2019-03-29T00:00:00.000000000",
          "2019-04-01T00:00:00.000000000",
          "2019-04-03T00:00:00.000000000",
          "2019-04-09T00:00:00.000000000",
          "2019-04-14T00:00:00.000000000",
          "2019-04-17T00:00:00.000000000",
          "2019-04-29T00:00:00.000000000",
          "2019-05-03T00:00:00.000000000",
          "2019-05-08T00:00:00.000000000",
          "2019-05-10T00:00:00.000000000",
          "2019-06-02T00:00:00.000000000",
          "2019-06-18T00:00:00.000000000",
          "2019-06-27T00:00:00.000000000",
          "2019-06-29T00:00:00.000000000",
          "2019-06-30T00:00:00.000000000",
          "2019-07-09T00:00:00.000000000",
          "2019-07-14T00:00:00.000000000",
          "2019-07-27T00:00:00.000000000",
          "2019-08-16T00:00:00.000000000",
          "2019-08-19T00:00:00.000000000",
          "2019-08-21T00:00:00.000000000",
          "2019-09-04T00:00:00.000000000",
          "2019-09-06T00:00:00.000000000",
          "2019-09-11T00:00:00.000000000",
          "2019-09-22T00:00:00.000000000",
          "2019-09-30T00:00:00.000000000",
          "2019-10-04T00:00:00.000000000",
          "2019-10-11T00:00:00.000000000",
          "2019-10-19T00:00:00.000000000",
          "2019-10-20T00:00:00.000000000",
          "2019-10-26T00:00:00.000000000",
          "2019-11-01T00:00:00.000000000",
          "2019-11-03T00:00:00.000000000",
          "2019-11-11T00:00:00.000000000",
          "2019-11-16T00:00:00.000000000",
          "2019-11-17T00:00:00.000000000",
          "2019-11-21T00:00:00.000000000",
          "2019-12-07T00:00:00.000000000",
          "2019-12-12T00:00:00.000000000",
          "2019-12-21T00:00:00.000000000",
          "2019-12-23T00:00:00.000000000",
          "2020-01-19T00:00:00.000000000",
          "2020-02-01T00:00:00.000000000",
          "2020-02-06T00:00:00.000000000",
          "2020-02-15T00:00:00.000000000",
          "2020-02-20T00:00:00.000000000",
          "2020-03-07T00:00:00.000000000",
          "2020-03-17T00:00:00.000000000",
          "2020-03-19T00:00:00.000000000",
          "2020-03-27T00:00:00.000000000",
          "2020-04-09T00:00:00.000000000",
          "2020-04-17T00:00:00.000000000",
          "2020-05-02T00:00:00.000000000",
          "2020-06-07T00:00:00.000000000",
          "2020-06-11T00:00:00.000000000",
          "2020-06-14T00:00:00.000000000",
          "2020-06-17T00:00:00.000000000",
          "2020-06-27T00:00:00.000000000",
          "2020-07-17T00:00:00.000000000",
          "2020-07-22T00:00:00.000000000",
          "2020-07-25T00:00:00.000000000",
          "2020-08-30T00:00:00.000000000",
          "2020-09-20T00:00:00.000000000",
          "2020-09-21T00:00:00.000000000",
          "2020-10-05T00:00:00.000000000",
          "2020-10-15T00:00:00.000000000",
          "2020-10-27T00:00:00.000000000",
          "2020-11-01T00:00:00.000000000",
          "2020-11-02T00:00:00.000000000",
          "2020-12-05T00:00:00.000000000",
          "2020-12-21T00:00:00.000000000",
          "2020-12-24T00:00:00.000000000",
          "2020-12-25T00:00:00.000000000",
          "2021-01-08T00:00:00.000000000",
          "2021-01-11T00:00:00.000000000",
          "2021-01-20T00:00:00.000000000",
          "2021-01-23T00:00:00.000000000",
          "2021-02-01T00:00:00.000000000",
          "2021-02-21T00:00:00.000000000",
          "2021-02-24T00:00:00.000000000",
          "2021-03-01T00:00:00.000000000",
          "2021-03-06T00:00:00.000000000",
          "2021-03-12T00:00:00.000000000",
          "2021-03-20T00:00:00.000000000",
          "2021-03-30T00:00:00.000000000",
          "2021-04-01T00:00:00.000000000",
          "2021-04-13T00:00:00.000000000",
          "2021-04-18T00:00:00.000000000",
          "2021-05-04T00:00:00.000000000",
          "2021-05-06T00:00:00.000000000",
          "2021-05-10T00:00:00.000000000",
          "2021-05-13T00:00:00.000000000",
          "2021-05-21T00:00:00.000000000",
          "2021-05-23T00:00:00.000000000",
          "2021-06-02T00:00:00.000000000",
          "2021-06-04T00:00:00.000000000",
          "2021-06-07T00:00:00.000000000",
          "2021-07-15T00:00:00.000000000",
          "2021-07-17T00:00:00.000000000",
          "2021-07-31T00:00:00.000000000",
          "2021-08-20T00:00:00.000000000",
          "2021-08-21T00:00:00.000000000",
          "2021-09-01T00:00:00.000000000",
          "2021-09-04T00:00:00.000000000",
          "2021-09-09T00:00:00.000000000",
          "2021-09-26T00:00:00.000000000",
          "2021-10-01T00:00:00.000000000",
          "2021-10-10T00:00:00.000000000",
          "2021-10-16T00:00:00.000000000",
          "2021-11-07T00:00:00.000000000",
          "2021-11-17T00:00:00.000000000",
          "2021-11-20T00:00:00.000000000",
          "2021-12-01T00:00:00.000000000",
          "2022-01-05T00:00:00.000000000",
          "2022-01-24T00:00:00.000000000",
          "2022-02-20T00:00:00.000000000",
          "2022-02-22T00:00:00.000000000",
          "2022-03-13T00:00:00.000000000",
          "2022-03-15T00:00:00.000000000",
          "2022-03-19T00:00:00.000000000",
          "2022-03-21T00:00:00.000000000",
          "2022-03-27T00:00:00.000000000",
          "2022-03-31T00:00:00.000000000",
          "2022-04-07T00:00:00.000000000",
          "2022-04-09T00:00:00.000000000",
          "2022-04-15T00:00:00.000000000",
          "2022-04-16T00:00:00.000000000",
          "2022-04-26T00:00:00.000000000",
          "2022-04-30T00:00:00.000000000",
          "2022-05-03T00:00:00.000000000",
          "2022-05-04T00:00:00.000000000",
          "2022-06-04T00:00:00.000000000",
          "2022-06-17T00:00:00.000000000",
          "2022-07-02T00:00:00.000000000",
          "2022-07-06T00:00:00.000000000",
          "2022-07-21T00:00:00.000000000",
          "2022-07-24T00:00:00.000000000",
          "2022-07-29T00:00:00.000000000",
          "2022-08-05T00:00:00.000000000",
          "2022-08-08T00:00:00.000000000",
          "2022-08-10T00:00:00.000000000",
          "2022-08-17T00:00:00.000000000",
          "2022-08-23T00:00:00.000000000",
          "2022-08-31T00:00:00.000000000",
          "2022-09-10T00:00:00.000000000",
          "2022-09-21T00:00:00.000000000",
          "2022-10-01T00:00:00.000000000",
          "2022-10-10T00:00:00.000000000",
          "2022-10-13T00:00:00.000000000",
          "2022-10-24T00:00:00.000000000",
          "2022-10-26T00:00:00.000000000",
          "2022-12-04T00:00:00.000000000",
          "2022-12-06T00:00:00.000000000",
          "2022-12-16T00:00:00.000000000",
          "2022-12-29T00:00:00.000000000",
          "2022-12-31T00:00:00.000000000",
          "2023-01-17T00:00:00.000000000",
          "2023-01-22T00:00:00.000000000",
          "2023-02-11T00:00:00.000000000",
          "2023-02-14T00:00:00.000000000",
          "2023-03-02T00:00:00.000000000",
          "2023-03-07T00:00:00.000000000",
          "2023-03-10T00:00:00.000000000",
          "2023-03-11T00:00:00.000000000",
          "2023-03-17T00:00:00.000000000",
          "2023-03-18T00:00:00.000000000",
          "2023-03-24T00:00:00.000000000",
          "2023-03-28T00:00:00.000000000",
          "2023-03-29T00:00:00.000000000",
          "2023-03-31T00:00:00.000000000",
          "2023-04-16T00:00:00.000000000",
          "2023-05-01T00:00:00.000000000",
          "2023-05-22T00:00:00.000000000",
          "2023-05-23T00:00:00.000000000",
          "2023-05-26T00:00:00.000000000",
          "2023-05-29T00:00:00.000000000",
          "2023-06-17T00:00:00.000000000",
          "2023-07-08T00:00:00.000000000",
          "2023-07-20T00:00:00.000000000",
          "2023-07-22T00:00:00.000000000",
          "2023-07-23T00:00:00.000000000",
          "2023-08-03T00:00:00.000000000",
          "2023-08-04T00:00:00.000000000",
          "2023-08-21T00:00:00.000000000",
          "2023-08-31T00:00:00.000000000",
          "2023-09-02T00:00:00.000000000",
          "2023-09-06T00:00:00.000000000",
          "2023-09-13T00:00:00.000000000",
          "2023-09-20T00:00:00.000000000",
          "2023-09-30T00:00:00.000000000",
          "2023-10-28T00:00:00.000000000",
          "2023-11-09T00:00:00.000000000",
          "2023-11-29T00:00:00.000000000",
          "2023-12-08T00:00:00.000000000",
          "2023-12-09T00:00:00.000000000",
          "2023-12-24T00:00:00.000000000",
          "2024-01-13T00:00:00.000000000",
          "2024-01-16T00:00:00.000000000",
          "2024-03-01T00:00:00.000000000",
          "2024-03-08T00:00:00.000000000",
          "2024-03-09T00:00:00.000000000",
          "2024-03-22T00:00:00.000000000",
          "2024-04-01T00:00:00.000000000",
          "2024-05-03T00:00:00.000000000",
          "2024-05-17T00:00:00.000000000",
          "2024-06-16T00:00:00.000000000",
          "2024-06-17T00:00:00.000000000",
          "2024-06-18T00:00:00.000000000",
          "2024-06-21T00:00:00.000000000",
          "2024-07-13T00:00:00.000000000",
          "2024-07-19T00:00:00.000000000",
          "2024-07-26T00:00:00.000000000",
          "2024-08-10T00:00:00.000000000",
          "2024-08-12T00:00:00.000000000",
          "2024-08-13T00:00:00.000000000",
          "2024-08-25T00:00:00.000000000",
          "2024-08-26T00:00:00.000000000",
          "2024-09-01T00:00:00.000000000",
          "2024-09-02T00:00:00.000000000",
          "2024-09-03T00:00:00.000000000",
          "2024-09-09T00:00:00.000000000",
          "2024-09-10T00:00:00.000000000",
          "2024-09-13T00:00:00.000000000",
          "2024-09-18T00:00:00.000000000",
          "2024-09-27T00:00:00.000000000",
          "2024-10-22T00:00:00.000000000",
          "2024-10-24T00:00:00.000000000",
          "2024-10-28T00:00:00.000000000",
          "2024-12-21T00:00:00.000000000",
          "2025-01-16T00:00:00.000000000",
          "2025-01-18T00:00:00.000000000",
          "2025-01-28T00:00:00.000000000",
          "2025-01-29T00:00:00.000000000",
          "2025-01-30T00:00:00.000000000",
          "2025-01-31T00:00:00.000000000",
          "2025-02-01T00:00:00.000000000",
          "2025-02-02T00:00:00.000000000",
          "2025-02-03T00:00:00.000000000",
          "2025-02-04T00:00:00.000000000",
          "2025-02-05T00:00:00.000000000",
          "2025-02-06T00:00:00.000000000",
          "2025-02-07T00:00:00.000000000",
          "2025-02-08T00:00:00.000000000",
          "2025-02-09T00:00:00.000000000",
          "2025-02-10T00:00:00.000000000",
          "2025-02-11T00:00:00.000000000",
          "2025-02-12T00:00:00.000000000",
          "2025-02-13T00:00:00.000000000",
          "2025-02-14T00:00:00.000000000",
          "2025-02-15T00:00:00.000000000",
          "2025-02-16T00:00:00.000000000",
          "2025-02-17T00:00:00.000000000",
          "2025-02-18T00:00:00.000000000",
          "2025-02-19T00:00:00.000000000",
          "2025-02-20T00:00:00.000000000",
          "2025-02-21T00:00:00.000000000",
          "2025-02-22T00:00:00.000000000",
          "2025-02-23T00:00:00.000000000",
          "2025-02-24T00:00:00.000000000",
          "2025-02-25T00:00:00.000000000",
          "2025-02-26T00:00:00.000000000",
          "2025-02-27T00:00:00.000000000",
          "2025-02-28T00:00:00.000000000",
          "2025-03-01T00:00:00.000000000",
          "2025-03-02T00:00:00.000000000",
          "2025-03-03T00:00:00.000000000",
          "2025-03-04T00:00:00.000000000",
          "2025-03-05T00:00:00.000000000",
          "2025-03-06T00:00:00.000000000",
          "2025-03-07T00:00:00.000000000",
          "2025-03-08T00:00:00.000000000",
          "2025-03-09T00:00:00.000000000",
          "2025-03-10T00:00:00.000000000",
          "2025-03-11T00:00:00.000000000",
          "2025-03-12T00:00:00.000000000",
          "2025-03-13T00:00:00.000000000",
          "2025-03-14T00:00:00.000000000",
          "2025-03-15T00:00:00.000000000",
          "2025-03-16T00:00:00.000000000",
          "2025-03-17T00:00:00.000000000",
          "2025-03-18T00:00:00.000000000",
          "2025-03-19T00:00:00.000000000",
          "2025-03-20T00:00:00.000000000",
          "2025-03-21T00:00:00.000000000",
          "2025-03-22T00:00:00.000000000",
          "2025-03-23T00:00:00.000000000",
          "2025-03-24T00:00:00.000000000",
          "2025-03-25T00:00:00.000000000",
          "2025-03-26T00:00:00.000000000",
          "2025-03-27T00:00:00.000000000",
          "2025-03-28T00:00:00.000000000",
          "2025-03-29T00:00:00.000000000",
          "2025-03-30T00:00:00.000000000",
          "2025-03-31T00:00:00.000000000",
          "2025-04-01T00:00:00.000000000",
          "2025-04-02T00:00:00.000000000",
          "2025-04-03T00:00:00.000000000",
          "2025-04-04T00:00:00.000000000",
          "2025-04-05T00:00:00.000000000",
          "2025-04-06T00:00:00.000000000",
          "2025-04-07T00:00:00.000000000",
          "2025-04-08T00:00:00.000000000",
          "2025-04-09T00:00:00.000000000",
          "2025-04-10T00:00:00.000000000",
          "2025-04-11T00:00:00.000000000",
          "2025-04-12T00:00:00.000000000",
          "2025-04-13T00:00:00.000000000",
          "2025-04-14T00:00:00.000000000",
          "2025-04-15T00:00:00.000000000",
          "2025-04-16T00:00:00.000000000",
          "2025-04-17T00:00:00.000000000",
          "2025-04-18T00:00:00.000000000",
          "2025-04-19T00:00:00.000000000",
          "2025-04-20T00:00:00.000000000",
          "2025-04-21T00:00:00.000000000",
          "2025-04-22T00:00:00.000000000",
          "2025-04-23T00:00:00.000000000",
          "2025-04-24T00:00:00.000000000",
          "2025-04-25T00:00:00.000000000",
          "2025-04-26T00:00:00.000000000",
          "2025-04-27T00:00:00.000000000",
          "2025-04-28T00:00:00.000000000",
          "2025-04-29T00:00:00.000000000",
          "2025-04-30T00:00:00.000000000",
          "2025-05-01T00:00:00.000000000",
          "2025-05-02T00:00:00.000000000",
          "2025-05-03T00:00:00.000000000",
          "2025-05-04T00:00:00.000000000",
          "2025-05-05T00:00:00.000000000",
          "2025-05-06T00:00:00.000000000",
          "2025-05-07T00:00:00.000000000",
          "2025-05-08T00:00:00.000000000",
          "2025-05-09T00:00:00.000000000",
          "2025-05-10T00:00:00.000000000",
          "2025-05-11T00:00:00.000000000",
          "2025-05-12T00:00:00.000000000",
          "2025-05-13T00:00:00.000000000",
          "2025-05-14T00:00:00.000000000",
          "2025-05-15T00:00:00.000000000",
          "2025-05-16T00:00:00.000000000",
          "2025-05-17T00:00:00.000000000",
          "2025-05-18T00:00:00.000000000",
          "2025-05-19T00:00:00.000000000",
          "2025-05-20T00:00:00.000000000",
          "2025-05-21T00:00:00.000000000",
          "2025-05-22T00:00:00.000000000",
          "2025-05-23T00:00:00.000000000",
          "2025-05-24T00:00:00.000000000",
          "2025-05-25T00:00:00.000000000",
          "2025-05-26T00:00:00.000000000",
          "2025-05-27T00:00:00.000000000",
          "2025-05-28T00:00:00.000000000",
          "2025-05-29T00:00:00.000000000",
          "2025-05-30T00:00:00.000000000",
          "2025-05-31T00:00:00.000000000",
          "2025-06-01T00:00:00.000000000",
          "2025-06-02T00:00:00.000000000",
          "2025-06-03T00:00:00.000000000",
          "2025-06-04T00:00:00.000000000",
          "2025-06-05T00:00:00.000000000",
          "2025-06-06T00:00:00.000000000",
          "2025-06-07T00:00:00.000000000",
          "2025-06-08T00:00:00.000000000",
          "2025-06-09T00:00:00.000000000",
          "2025-06-10T00:00:00.000000000",
          "2025-06-11T00:00:00.000000000",
          "2025-06-12T00:00:00.000000000",
          "2025-06-13T00:00:00.000000000",
          "2025-06-14T00:00:00.000000000",
          "2025-06-15T00:00:00.000000000",
          "2025-06-16T00:00:00.000000000",
          "2025-06-17T00:00:00.000000000",
          "2025-06-18T00:00:00.000000000",
          "2025-06-19T00:00:00.000000000",
          "2025-06-20T00:00:00.000000000",
          "2025-06-21T00:00:00.000000000",
          "2025-06-22T00:00:00.000000000",
          "2025-06-23T00:00:00.000000000",
          "2025-06-24T00:00:00.000000000",
          "2025-06-25T00:00:00.000000000",
          "2025-06-26T00:00:00.000000000",
          "2025-06-27T00:00:00.000000000"
         ],
         "xaxis": "x",
         "y": {
          "bdata": "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",
          "dtype": "f8"
         },
         "yaxis": "y"
        },
        {
         "line": {
          "color": "rgba(0, 114, 178, 0.2)",
          "width": 0
         },
         "mode": "lines",
         "name": "trend_upper",
         "type": "scatter",
         "x": [
          "2003-12-31T00:00:00.000000000",
          "2004-02-15T00:00:00.000000000",
          "2008-04-17T00:00:00.000000000",
          "2009-09-01T00:00:00.000000000",
          "2009-10-24T00:00:00.000000000",
          "2010-10-29T00:00:00.000000000",
          "2010-12-12T00:00:00.000000000",
          "2011-05-01T00:00:00.000000000",
          "2012-01-01T00:00:00.000000000",
          "2012-02-15T00:00:00.000000000",
          "2013-12-28T00:00:00.000000000",
          "2014-03-10T00:00:00.000000000",
          "2015-11-15T00:00:00.000000000",
          "2016-02-11T00:00:00.000000000",
          "2016-04-09T00:00:00.000000000",
          "2016-05-02T00:00:00.000000000",
          "2016-05-06T00:00:00.000000000",
          "2016-05-20T00:00:00.000000000",
          "2016-06-03T00:00:00.000000000",
          "2016-06-08T00:00:00.000000000",
          "2016-08-09T00:00:00.000000000",
          "2016-08-12T00:00:00.000000000",
          "2016-08-25T00:00:00.000000000",
          "2016-09-17T00:00:00.000000000",
          "2016-09-21T00:00:00.000000000",
          "2016-09-25T00:00:00.000000000",
          "2016-10-17T00:00:00.000000000",
          "2016-11-29T00:00:00.000000000",
          "2016-12-04T00:00:00.000000000",
          "2016-12-08T00:00:00.000000000",
          "2016-12-12T00:00:00.000000000",
          "2016-12-13T00:00:00.000000000",
          "2016-12-15T00:00:00.000000000",
          "2016-12-29T00:00:00.000000000",
          "2017-03-17T00:00:00.000000000",
          "2017-03-31T00:00:00.000000000",
          "2017-04-07T00:00:00.000000000",
          "2017-04-08T00:00:00.000000000",
          "2017-04-23T00:00:00.000000000",
          "2017-05-01T00:00:00.000000000",
          "2017-05-05T00:00:00.000000000",
          "2017-05-25T00:00:00.000000000",
          "2017-06-06T00:00:00.000000000",
          "2017-07-06T00:00:00.000000000",
          "2017-07-16T00:00:00.000000000",
          "2017-07-17T00:00:00.000000000",
          "2017-07-30T00:00:00.000000000",
          "2017-08-24T00:00:00.000000000",
          "2017-09-15T00:00:00.000000000",
          "2017-09-17T00:00:00.000000000",
          "2017-09-27T00:00:00.000000000",
          "2017-10-02T00:00:00.000000000",
          "2017-10-08T00:00:00.000000000",
          "2017-10-12T00:00:00.000000000",
          "2017-10-13T00:00:00.000000000",
          "2017-11-05T00:00:00.000000000",
          "2017-11-28T00:00:00.000000000",
          "2017-12-02T00:00:00.000000000",
          "2017-12-14T00:00:00.000000000",
          "2017-12-17T00:00:00.000000000",
          "2017-12-23T00:00:00.000000000",
          "2017-12-31T00:00:00.000000000",
          "2018-01-18T00:00:00.000000000",
          "2018-02-25T00:00:00.000000000",
          "2018-03-03T00:00:00.000000000",
          "2018-03-04T00:00:00.000000000",
          "2018-03-10T00:00:00.000000000",
          "2018-03-16T00:00:00.000000000",
          "2018-03-29T00:00:00.000000000",
          "2018-03-30T00:00:00.000000000",
          "2018-04-01T00:00:00.000000000",
          "2018-04-04T00:00:00.000000000",
          "2018-04-14T00:00:00.000000000",
          "2018-04-22T00:00:00.000000000",
          "2018-05-04T00:00:00.000000000",
          "2018-05-12T00:00:00.000000000",
          "2018-05-16T00:00:00.000000000",
          "2018-06-03T00:00:00.000000000",
          "2018-06-20T00:00:00.000000000",
          "2018-06-25T00:00:00.000000000",
          "2018-07-05T00:00:00.000000000",
          "2018-07-14T00:00:00.000000000",
          "2018-07-21T00:00:00.000000000",
          "2018-08-01T00:00:00.000000000",
          "2018-08-05T00:00:00.000000000",
          "2018-08-23T00:00:00.000000000",
          "2018-09-01T00:00:00.000000000",
          "2018-09-07T00:00:00.000000000",
          "2018-09-10T00:00:00.000000000",
          "2018-09-16T00:00:00.000000000",
          "2018-10-08T00:00:00.000000000",
          "2018-10-10T00:00:00.000000000",
          "2018-10-14T00:00:00.000000000",
          "2018-10-23T00:00:00.000000000",
          "2018-11-03T00:00:00.000000000",
          "2018-11-10T00:00:00.000000000",
          "2018-11-12T00:00:00.000000000",
          "2018-11-13T00:00:00.000000000",
          "2018-12-02T00:00:00.000000000",
          "2018-12-05T00:00:00.000000000",
          "2018-12-07T00:00:00.000000000",
          "2018-12-15T00:00:00.000000000",
          "2019-01-08T00:00:00.000000000",
          "2019-01-09T00:00:00.000000000",
          "2019-01-17T00:00:00.000000000",
          "2019-02-07T00:00:00.000000000",
          "2019-02-18T00:00:00.000000000",
          "2019-02-28T00:00:00.000000000",
          "2019-03-01T00:00:00.000000000",
          "2019-03-13T00:00:00.000000000",
          "2019-03-16T00:00:00.000000000",
          "2019-03-28T00:00:00.000000000",
          "2019-03-29T00:00:00.000000000",
          "2019-04-01T00:00:00.000000000",
          "2019-04-03T00:00:00.000000000",
          "2019-04-09T00:00:00.000000000",
          "2019-04-14T00:00:00.000000000",
          "2019-04-17T00:00:00.000000000",
          "2019-04-29T00:00:00.000000000",
          "2019-05-03T00:00:00.000000000",
          "2019-05-08T00:00:00.000000000",
          "2019-05-10T00:00:00.000000000",
          "2019-06-02T00:00:00.000000000",
          "2019-06-18T00:00:00.000000000",
          "2019-06-27T00:00:00.000000000",
          "2019-06-29T00:00:00.000000000",
          "2019-06-30T00:00:00.000000000",
          "2019-07-09T00:00:00.000000000",
          "2019-07-14T00:00:00.000000000",
          "2019-07-27T00:00:00.000000000",
          "2019-08-16T00:00:00.000000000",
          "2019-08-19T00:00:00.000000000",
          "2019-08-21T00:00:00.000000000",
          "2019-09-04T00:00:00.000000000",
          "2019-09-06T00:00:00.000000000",
          "2019-09-11T00:00:00.000000000",
          "2019-09-22T00:00:00.000000000",
          "2019-09-30T00:00:00.000000000",
          "2019-10-04T00:00:00.000000000",
          "2019-10-11T00:00:00.000000000",
          "2019-10-19T00:00:00.000000000",
          "2019-10-20T00:00:00.000000000",
          "2019-10-26T00:00:00.000000000",
          "2019-11-01T00:00:00.000000000",
          "2019-11-03T00:00:00.000000000",
          "2019-11-11T00:00:00.000000000",
          "2019-11-16T00:00:00.000000000",
          "2019-11-17T00:00:00.000000000",
          "2019-11-21T00:00:00.000000000",
          "2019-12-07T00:00:00.000000000",
          "2019-12-12T00:00:00.000000000",
          "2019-12-21T00:00:00.000000000",
          "2019-12-23T00:00:00.000000000",
          "2020-01-19T00:00:00.000000000",
          "2020-02-01T00:00:00.000000000",
          "2020-02-06T00:00:00.000000000",
          "2020-02-15T00:00:00.000000000",
          "2020-02-20T00:00:00.000000000",
          "2020-03-07T00:00:00.000000000",
          "2020-03-17T00:00:00.000000000",
          "2020-03-19T00:00:00.000000000",
          "2020-03-27T00:00:00.000000000",
          "2020-04-09T00:00:00.000000000",
          "2020-04-17T00:00:00.000000000",
          "2020-05-02T00:00:00.000000000",
          "2020-06-07T00:00:00.000000000",
          "2020-06-11T00:00:00.000000000",
          "2020-06-14T00:00:00.000000000",
          "2020-06-17T00:00:00.000000000",
          "2020-06-27T00:00:00.000000000",
          "2020-07-17T00:00:00.000000000",
          "2020-07-22T00:00:00.000000000",
          "2020-07-25T00:00:00.000000000",
          "2020-08-30T00:00:00.000000000",
          "2020-09-20T00:00:00.000000000",
          "2020-09-21T00:00:00.000000000",
          "2020-10-05T00:00:00.000000000",
          "2020-10-15T00:00:00.000000000",
          "2020-10-27T00:00:00.000000000",
          "2020-11-01T00:00:00.000000000",
          "2020-11-02T00:00:00.000000000",
          "2020-12-05T00:00:00.000000000",
          "2020-12-21T00:00:00.000000000",
          "2020-12-24T00:00:00.000000000",
          "2020-12-25T00:00:00.000000000",
          "2021-01-08T00:00:00.000000000",
          "2021-01-11T00:00:00.000000000",
          "2021-01-20T00:00:00.000000000",
          "2021-01-23T00:00:00.000000000",
          "2021-02-01T00:00:00.000000000",
          "2021-02-21T00:00:00.000000000",
          "2021-02-24T00:00:00.000000000",
          "2021-03-01T00:00:00.000000000",
          "2021-03-06T00:00:00.000000000",
          "2021-03-12T00:00:00.000000000",
          "2021-03-20T00:00:00.000000000",
          "2021-03-30T00:00:00.000000000",
          "2021-04-01T00:00:00.000000000",
          "2021-04-13T00:00:00.000000000",
          "2021-04-18T00:00:00.000000000",
          "2021-05-04T00:00:00.000000000",
          "2021-05-06T00:00:00.000000000",
          "2021-05-10T00:00:00.000000000",
          "2021-05-13T00:00:00.000000000",
          "2021-05-21T00:00:00.000000000",
          "2021-05-23T00:00:00.000000000",
          "2021-06-02T00:00:00.000000000",
          "2021-06-04T00:00:00.000000000",
          "2021-06-07T00:00:00.000000000",
          "2021-07-15T00:00:00.000000000",
          "2021-07-17T00:00:00.000000000",
          "2021-07-31T00:00:00.000000000",
          "2021-08-20T00:00:00.000000000",
          "2021-08-21T00:00:00.000000000",
          "2021-09-01T00:00:00.000000000",
          "2021-09-04T00:00:00.000000000",
          "2021-09-09T00:00:00.000000000",
          "2021-09-26T00:00:00.000000000",
          "2021-10-01T00:00:00.000000000",
          "2021-10-10T00:00:00.000000000",
          "2021-10-16T00:00:00.000000000",
          "2021-11-07T00:00:00.000000000",
          "2021-11-17T00:00:00.000000000",
          "2021-11-20T00:00:00.000000000",
          "2021-12-01T00:00:00.000000000",
          "2022-01-05T00:00:00.000000000",
          "2022-01-24T00:00:00.000000000",
          "2022-02-20T00:00:00.000000000",
          "2022-02-22T00:00:00.000000000",
          "2022-03-13T00:00:00.000000000",
          "2022-03-15T00:00:00.000000000",
          "2022-03-19T00:00:00.000000000",
          "2022-03-21T00:00:00.000000000",
          "2022-03-27T00:00:00.000000000",
          "2022-03-31T00:00:00.000000000",
          "2022-04-07T00:00:00.000000000",
          "2022-04-09T00:00:00.000000000",
          "2022-04-15T00:00:00.000000000",
          "2022-04-16T00:00:00.000000000",
          "2022-04-26T00:00:00.000000000",
          "2022-04-30T00:00:00.000000000",
          "2022-05-03T00:00:00.000000000",
          "2022-05-04T00:00:00.000000000",
          "2022-06-04T00:00:00.000000000",
          "2022-06-17T00:00:00.000000000",
          "2022-07-02T00:00:00.000000000",
          "2022-07-06T00:00:00.000000000",
          "2022-07-21T00:00:00.000000000",
          "2022-07-24T00:00:00.000000000",
          "2022-07-29T00:00:00.000000000",
          "2022-08-05T00:00:00.000000000",
          "2022-08-08T00:00:00.000000000",
          "2022-08-10T00:00:00.000000000",
          "2022-08-17T00:00:00.000000000",
          "2022-08-23T00:00:00.000000000",
          "2022-08-31T00:00:00.000000000",
          "2022-09-10T00:00:00.000000000",
          "2022-09-21T00:00:00.000000000",
          "2022-10-01T00:00:00.000000000",
          "2022-10-10T00:00:00.000000000",
          "2022-10-13T00:00:00.000000000",
          "2022-10-24T00:00:00.000000000",
          "2022-10-26T00:00:00.000000000",
          "2022-12-04T00:00:00.000000000",
          "2022-12-06T00:00:00.000000000",
          "2022-12-16T00:00:00.000000000",
          "2022-12-29T00:00:00.000000000",
          "2022-12-31T00:00:00.000000000",
          "2023-01-17T00:00:00.000000000",
          "2023-01-22T00:00:00.000000000",
          "2023-02-11T00:00:00.000000000",
          "2023-02-14T00:00:00.000000000",
          "2023-03-02T00:00:00.000000000",
          "2023-03-07T00:00:00.000000000",
          "2023-03-10T00:00:00.000000000",
          "2023-03-11T00:00:00.000000000",
          "2023-03-17T00:00:00.000000000",
          "2023-03-18T00:00:00.000000000",
          "2023-03-24T00:00:00.000000000",
          "2023-03-28T00:00:00.000000000",
          "2023-03-29T00:00:00.000000000",
          "2023-03-31T00:00:00.000000000",
          "2023-04-16T00:00:00.000000000",
          "2023-05-01T00:00:00.000000000",
          "2023-05-22T00:00:00.000000000",
          "2023-05-23T00:00:00.000000000",
          "2023-05-26T00:00:00.000000000",
          "2023-05-29T00:00:00.000000000",
          "2023-06-17T00:00:00.000000000",
          "2023-07-08T00:00:00.000000000",
          "2023-07-20T00:00:00.000000000",
          "2023-07-22T00:00:00.000000000",
          "2023-07-23T00:00:00.000000000",
          "2023-08-03T00:00:00.000000000",
          "2023-08-04T00:00:00.000000000",
          "2023-08-21T00:00:00.000000000",
          "2023-08-31T00:00:00.000000000",
          "2023-09-02T00:00:00.000000000",
          "2023-09-06T00:00:00.000000000",
          "2023-09-13T00:00:00.000000000",
          "2023-09-20T00:00:00.000000000",
          "2023-09-30T00:00:00.000000000",
          "2023-10-28T00:00:00.000000000",
          "2023-11-09T00:00:00.000000000",
          "2023-11-29T00:00:00.000000000",
          "2023-12-08T00:00:00.000000000",
          "2023-12-09T00:00:00.000000000",
          "2023-12-24T00:00:00.000000000",
          "2024-01-13T00:00:00.000000000",
          "2024-01-16T00:00:00.000000000",
          "2024-03-01T00:00:00.000000000",
          "2024-03-08T00:00:00.000000000",
          "2024-03-09T00:00:00.000000000",
          "2024-03-22T00:00:00.000000000",
          "2024-04-01T00:00:00.000000000",
          "2024-05-03T00:00:00.000000000",
          "2024-05-17T00:00:00.000000000",
          "2024-06-16T00:00:00.000000000",
          "2024-06-17T00:00:00.000000000",
          "2024-06-18T00:00:00.000000000",
          "2024-06-21T00:00:00.000000000",
          "2024-07-13T00:00:00.000000000",
          "2024-07-19T00:00:00.000000000",
          "2024-07-26T00:00:00.000000000",
          "2024-08-10T00:00:00.000000000",
          "2024-08-12T00:00:00.000000000",
          "2024-08-13T00:00:00.000000000",
          "2024-08-25T00:00:00.000000000",
          "2024-08-26T00:00:00.000000000",
          "2024-09-01T00:00:00.000000000",
          "2024-09-02T00:00:00.000000000",
          "2024-09-03T00:00:00.000000000",
          "2024-09-09T00:00:00.000000000",
          "2024-09-10T00:00:00.000000000",
          "2024-09-13T00:00:00.000000000",
          "2024-09-18T00:00:00.000000000",
          "2024-09-27T00:00:00.000000000",
          "2024-10-22T00:00:00.000000000",
          "2024-10-24T00:00:00.000000000",
          "2024-10-28T00:00:00.000000000",
          "2024-12-21T00:00:00.000000000",
          "2025-01-16T00:00:00.000000000",
          "2025-01-18T00:00:00.000000000",
          "2025-01-28T00:00:00.000000000",
          "2025-01-29T00:00:00.000000000",
          "2025-01-30T00:00:00.000000000",
          "2025-01-31T00:00:00.000000000",
          "2025-02-01T00:00:00.000000000",
          "2025-02-02T00:00:00.000000000",
          "2025-02-03T00:00:00.000000000",
          "2025-02-04T00:00:00.000000000",
          "2025-02-05T00:00:00.000000000",
          "2025-02-06T00:00:00.000000000",
          "2025-02-07T00:00:00.000000000",
          "2025-02-08T00:00:00.000000000",
          "2025-02-09T00:00:00.000000000",
          "2025-02-10T00:00:00.000000000",
          "2025-02-11T00:00:00.000000000",
          "2025-02-12T00:00:00.000000000",
          "2025-02-13T00:00:00.000000000",
          "2025-02-14T00:00:00.000000000",
          "2025-02-15T00:00:00.000000000",
          "2025-02-16T00:00:00.000000000",
          "2025-02-17T00:00:00.000000000",
          "2025-02-18T00:00:00.000000000",
          "2025-02-19T00:00:00.000000000",
          "2025-02-20T00:00:00.000000000",
          "2025-02-21T00:00:00.000000000",
          "2025-02-22T00:00:00.000000000",
          "2025-02-23T00:00:00.000000000",
          "2025-02-24T00:00:00.000000000",
          "2025-02-25T00:00:00.000000000",
          "2025-02-26T00:00:00.000000000",
          "2025-02-27T00:00:00.000000000",
          "2025-02-28T00:00:00.000000000",
          "2025-03-01T00:00:00.000000000",
          "2025-03-02T00:00:00.000000000",
          "2025-03-03T00:00:00.000000000",
          "2025-03-04T00:00:00.000000000",
          "2025-03-05T00:00:00.000000000",
          "2025-03-06T00:00:00.000000000",
          "2025-03-07T00:00:00.000000000",
          "2025-03-08T00:00:00.000000000",
          "2025-03-09T00:00:00.000000000",
          "2025-03-10T00:00:00.000000000",
          "2025-03-11T00:00:00.000000000",
          "2025-03-12T00:00:00.000000000",
          "2025-03-13T00:00:00.000000000",
          "2025-03-14T00:00:00.000000000",
          "2025-03-15T00:00:00.000000000",
          "2025-03-16T00:00:00.000000000",
          "2025-03-17T00:00:00.000000000",
          "2025-03-18T00:00:00.000000000",
          "2025-03-19T00:00:00.000000000",
          "2025-03-20T00:00:00.000000000",
          "2025-03-21T00:00:00.000000000",
          "2025-03-22T00:00:00.000000000",
          "2025-03-23T00:00:00.000000000",
          "2025-03-24T00:00:00.000000000",
          "2025-03-25T00:00:00.000000000",
          "2025-03-26T00:00:00.000000000",
          "2025-03-27T00:00:00.000000000",
          "2025-03-28T00:00:00.000000000",
          "2025-03-29T00:00:00.000000000",
          "2025-03-30T00:00:00.000000000",
          "2025-03-31T00:00:00.000000000",
          "2025-04-01T00:00:00.000000000",
          "2025-04-02T00:00:00.000000000",
          "2025-04-03T00:00:00.000000000",
          "2025-04-04T00:00:00.000000000",
          "2025-04-05T00:00:00.000000000",
          "2025-04-06T00:00:00.000000000",
          "2025-04-07T00:00:00.000000000",
          "2025-04-08T00:00:00.000000000",
          "2025-04-09T00:00:00.000000000",
          "2025-04-10T00:00:00.000000000",
          "2025-04-11T00:00:00.000000000",
          "2025-04-12T00:00:00.000000000",
          "2025-04-13T00:00:00.000000000",
          "2025-04-14T00:00:00.000000000",
          "2025-04-15T00:00:00.000000000",
          "2025-04-16T00:00:00.000000000",
          "2025-04-17T00:00:00.000000000",
          "2025-04-18T00:00:00.000000000",
          "2025-04-19T00:00:00.000000000",
          "2025-04-20T00:00:00.000000000",
          "2025-04-21T00:00:00.000000000",
          "2025-04-22T00:00:00.000000000",
          "2025-04-23T00:00:00.000000000",
          "2025-04-24T00:00:00.000000000",
          "2025-04-25T00:00:00.000000000",
          "2025-04-26T00:00:00.000000000",
          "2025-04-27T00:00:00.000000000",
          "2025-04-28T00:00:00.000000000",
          "2025-04-29T00:00:00.000000000",
          "2025-04-30T00:00:00.000000000",
          "2025-05-01T00:00:00.000000000",
          "2025-05-02T00:00:00.000000000",
          "2025-05-03T00:00:00.000000000",
          "2025-05-04T00:00:00.000000000",
          "2025-05-05T00:00:00.000000000",
          "2025-05-06T00:00:00.000000000",
          "2025-05-07T00:00:00.000000000",
          "2025-05-08T00:00:00.000000000",
          "2025-05-09T00:00:00.000000000",
          "2025-05-10T00:00:00.000000000",
          "2025-05-11T00:00:00.000000000",
          "2025-05-12T00:00:00.000000000",
          "2025-05-13T00:00:00.000000000",
          "2025-05-14T00:00:00.000000000",
          "2025-05-15T00:00:00.000000000",
          "2025-05-16T00:00:00.000000000",
          "2025-05-17T00:00:00.000000000",
          "2025-05-18T00:00:00.000000000",
          "2025-05-19T00:00:00.000000000",
          "2025-05-20T00:00:00.000000000",
          "2025-05-21T00:00:00.000000000",
          "2025-05-22T00:00:00.000000000",
          "2025-05-23T00:00:00.000000000",
          "2025-05-24T00:00:00.000000000",
          "2025-05-25T00:00:00.000000000",
          "2025-05-26T00:00:00.000000000",
          "2025-05-27T00:00:00.000000000",
          "2025-05-28T00:00:00.000000000",
          "2025-05-29T00:00:00.000000000",
          "2025-05-30T00:00:00.000000000",
          "2025-05-31T00:00:00.000000000",
          "2025-06-01T00:00:00.000000000",
          "2025-06-02T00:00:00.000000000",
          "2025-06-03T00:00:00.000000000",
          "2025-06-04T00:00:00.000000000",
          "2025-06-05T00:00:00.000000000",
          "2025-06-06T00:00:00.000000000",
          "2025-06-07T00:00:00.000000000",
          "2025-06-08T00:00:00.000000000",
          "2025-06-09T00:00:00.000000000",
          "2025-06-10T00:00:00.000000000",
          "2025-06-11T00:00:00.000000000",
          "2025-06-12T00:00:00.000000000",
          "2025-06-13T00:00:00.000000000",
          "2025-06-14T00:00:00.000000000",
          "2025-06-15T00:00:00.000000000",
          "2025-06-16T00:00:00.000000000",
          "2025-06-17T00:00:00.000000000",
          "2025-06-18T00:00:00.000000000",
          "2025-06-19T00:00:00.000000000",
          "2025-06-20T00:00:00.000000000",
          "2025-06-21T00:00:00.000000000",
          "2025-06-22T00:00:00.000000000",
          "2025-06-23T00:00:00.000000000",
          "2025-06-24T00:00:00.000000000",
          "2025-06-25T00:00:00.000000000",
          "2025-06-26T00:00:00.000000000",
          "2025-06-27T00:00:00.000000000"
         ],
         "xaxis": "x",
         "y": {
          "bdata": "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",
          "dtype": "f8"
         },
         "yaxis": "y"
        },
        {
         "fill": "tonexty",
         "fillcolor": "rgba(0, 114, 178, 0.2)",
         "line": {
          "color": "rgba(0, 114, 178, 0.2)",
          "width": 0
         },
         "mode": "lines",
         "name": "trend_lower",
         "type": "scatter",
         "x": [
          "2003-12-31T00:00:00.000000000",
          "2004-02-15T00:00:00.000000000",
          "2008-04-17T00:00:00.000000000",
          "2009-09-01T00:00:00.000000000",
          "2009-10-24T00:00:00.000000000",
          "2010-10-29T00:00:00.000000000",
          "2010-12-12T00:00:00.000000000",
          "2011-05-01T00:00:00.000000000",
          "2012-01-01T00:00:00.000000000",
          "2012-02-15T00:00:00.000000000",
          "2013-12-28T00:00:00.000000000",
          "2014-03-10T00:00:00.000000000",
          "2015-11-15T00:00:00.000000000",
          "2016-02-11T00:00:00.000000000",
          "2016-04-09T00:00:00.000000000",
          "2016-05-02T00:00:00.000000000",
          "2016-05-06T00:00:00.000000000",
          "2016-05-20T00:00:00.000000000",
          "2016-06-03T00:00:00.000000000",
          "2016-06-08T00:00:00.000000000",
          "2016-08-09T00:00:00.000000000",
          "2016-08-12T00:00:00.000000000",
          "2016-08-25T00:00:00.000000000",
          "2016-09-17T00:00:00.000000000",
          "2016-09-21T00:00:00.000000000",
          "2016-09-25T00:00:00.000000000",
          "2016-10-17T00:00:00.000000000",
          "2016-11-29T00:00:00.000000000",
          "2016-12-04T00:00:00.000000000",
          "2016-12-08T00:00:00.000000000",
          "2016-12-12T00:00:00.000000000",
          "2016-12-13T00:00:00.000000000",
          "2016-12-15T00:00:00.000000000",
          "2016-12-29T00:00:00.000000000",
          "2017-03-17T00:00:00.000000000",
          "2017-03-31T00:00:00.000000000",
          "2017-04-07T00:00:00.000000000",
          "2017-04-08T00:00:00.000000000",
          "2017-04-23T00:00:00.000000000",
          "2017-05-01T00:00:00.000000000",
          "2017-05-05T00:00:00.000000000",
          "2017-05-25T00:00:00.000000000",
          "2017-06-06T00:00:00.000000000",
          "2017-07-06T00:00:00.000000000",
          "2017-07-16T00:00:00.000000000",
          "2017-07-17T00:00:00.000000000",
          "2017-07-30T00:00:00.000000000",
          "2017-08-24T00:00:00.000000000",
          "2017-09-15T00:00:00.000000000",
          "2017-09-17T00:00:00.000000000",
          "2017-09-27T00:00:00.000000000",
          "2017-10-02T00:00:00.000000000",
          "2017-10-08T00:00:00.000000000",
          "2017-10-12T00:00:00.000000000",
          "2017-10-13T00:00:00.000000000",
          "2017-11-05T00:00:00.000000000",
          "2017-11-28T00:00:00.000000000",
          "2017-12-02T00:00:00.000000000",
          "2017-12-14T00:00:00.000000000",
          "2017-12-17T00:00:00.000000000",
          "2017-12-23T00:00:00.000000000",
          "2017-12-31T00:00:00.000000000",
          "2018-01-18T00:00:00.000000000",
          "2018-02-25T00:00:00.000000000",
          "2018-03-03T00:00:00.000000000",
          "2018-03-04T00:00:00.000000000",
          "2018-03-10T00:00:00.000000000",
          "2018-03-16T00:00:00.000000000",
          "2018-03-29T00:00:00.000000000",
          "2018-03-30T00:00:00.000000000",
          "2018-04-01T00:00:00.000000000",
          "2018-04-04T00:00:00.000000000",
          "2018-04-14T00:00:00.000000000",
          "2018-04-22T00:00:00.000000000",
          "2018-05-04T00:00:00.000000000",
          "2018-05-12T00:00:00.000000000",
          "2018-05-16T00:00:00.000000000",
          "2018-06-03T00:00:00.000000000",
          "2018-06-20T00:00:00.000000000",
          "2018-06-25T00:00:00.000000000",
          "2018-07-05T00:00:00.000000000",
          "2018-07-14T00:00:00.000000000",
          "2018-07-21T00:00:00.000000000",
          "2018-08-01T00:00:00.000000000",
          "2018-08-05T00:00:00.000000000",
          "2018-08-23T00:00:00.000000000",
          "2018-09-01T00:00:00.000000000",
          "2018-09-07T00:00:00.000000000",
          "2018-09-10T00:00:00.000000000",
          "2018-09-16T00:00:00.000000000",
          "2018-10-08T00:00:00.000000000",
          "2018-10-10T00:00:00.000000000",
          "2018-10-14T00:00:00.000000000",
          "2018-10-23T00:00:00.000000000",
          "2018-11-03T00:00:00.000000000",
          "2018-11-10T00:00:00.000000000",
          "2018-11-12T00:00:00.000000000",
          "2018-11-13T00:00:00.000000000",
          "2018-12-02T00:00:00.000000000",
          "2018-12-05T00:00:00.000000000",
          "2018-12-07T00:00:00.000000000",
          "2018-12-15T00:00:00.000000000",
          "2019-01-08T00:00:00.000000000",
          "2019-01-09T00:00:00.000000000",
          "2019-01-17T00:00:00.000000000",
          "2019-02-07T00:00:00.000000000",
          "2019-02-18T00:00:00.000000000",
          "2019-02-28T00:00:00.000000000",
          "2019-03-01T00:00:00.000000000",
          "2019-03-13T00:00:00.000000000",
          "2019-03-16T00:00:00.000000000",
          "2019-03-28T00:00:00.000000000",
          "2019-03-29T00:00:00.000000000",
          "2019-04-01T00:00:00.000000000",
          "2019-04-03T00:00:00.000000000",
          "2019-04-09T00:00:00.000000000",
          "2019-04-14T00:00:00.000000000",
          "2019-04-17T00:00:00.000000000",
          "2019-04-29T00:00:00.000000000",
          "2019-05-03T00:00:00.000000000",
          "2019-05-08T00:00:00.000000000",
          "2019-05-10T00:00:00.000000000",
          "2019-06-02T00:00:00.000000000",
          "2019-06-18T00:00:00.000000000",
          "2019-06-27T00:00:00.000000000",
          "2019-06-29T00:00:00.000000000",
          "2019-06-30T00:00:00.000000000",
          "2019-07-09T00:00:00.000000000",
          "2019-07-14T00:00:00.000000000",
          "2019-07-27T00:00:00.000000000",
          "2019-08-16T00:00:00.000000000",
          "2019-08-19T00:00:00.000000000",
          "2019-08-21T00:00:00.000000000",
          "2019-09-04T00:00:00.000000000",
          "2019-09-06T00:00:00.000000000",
          "2019-09-11T00:00:00.000000000",
          "2019-09-22T00:00:00.000000000",
          "2019-09-30T00:00:00.000000000",
          "2019-10-04T00:00:00.000000000",
          "2019-10-11T00:00:00.000000000",
          "2019-10-19T00:00:00.000000000",
          "2019-10-20T00:00:00.000000000",
          "2019-10-26T00:00:00.000000000",
          "2019-11-01T00:00:00.000000000",
          "2019-11-03T00:00:00.000000000",
          "2019-11-11T00:00:00.000000000",
          "2019-11-16T00:00:00.000000000",
          "2019-11-17T00:00:00.000000000",
          "2019-11-21T00:00:00.000000000",
          "2019-12-07T00:00:00.000000000",
          "2019-12-12T00:00:00.000000000",
          "2019-12-21T00:00:00.000000000",
          "2019-12-23T00:00:00.000000000",
          "2020-01-19T00:00:00.000000000",
          "2020-02-01T00:00:00.000000000",
          "2020-02-06T00:00:00.000000000",
          "2020-02-15T00:00:00.000000000",
          "2020-02-20T00:00:00.000000000",
          "2020-03-07T00:00:00.000000000",
          "2020-03-17T00:00:00.000000000",
          "2020-03-19T00:00:00.000000000",
          "2020-03-27T00:00:00.000000000",
          "2020-04-09T00:00:00.000000000",
          "2020-04-17T00:00:00.000000000",
          "2020-05-02T00:00:00.000000000",
          "2020-06-07T00:00:00.000000000",
          "2020-06-11T00:00:00.000000000",
          "2020-06-14T00:00:00.000000000",
          "2020-06-17T00:00:00.000000000",
          "2020-06-27T00:00:00.000000000",
          "2020-07-17T00:00:00.000000000",
          "2020-07-22T00:00:00.000000000",
          "2020-07-25T00:00:00.000000000",
          "2020-08-30T00:00:00.000000000",
          "2020-09-20T00:00:00.000000000",
          "2020-09-21T00:00:00.000000000",
          "2020-10-05T00:00:00.000000000",
          "2020-10-15T00:00:00.000000000",
          "2020-10-27T00:00:00.000000000",
          "2020-11-01T00:00:00.000000000",
          "2020-11-02T00:00:00.000000000",
          "2020-12-05T00:00:00.000000000",
          "2020-12-21T00:00:00.000000000",
          "2020-12-24T00:00:00.000000000",
          "2020-12-25T00:00:00.000000000",
          "2021-01-08T00:00:00.000000000",
          "2021-01-11T00:00:00.000000000",
          "2021-01-20T00:00:00.000000000",
          "2021-01-23T00:00:00.000000000",
          "2021-02-01T00:00:00.000000000",
          "2021-02-21T00:00:00.000000000",
          "2021-02-24T00:00:00.000000000",
          "2021-03-01T00:00:00.000000000",
          "2021-03-06T00:00:00.000000000",
          "2021-03-12T00:00:00.000000000",
          "2021-03-20T00:00:00.000000000",
          "2021-03-30T00:00:00.000000000",
          "2021-04-01T00:00:00.000000000",
          "2021-04-13T00:00:00.000000000",
          "2021-04-18T00:00:00.000000000",
          "2021-05-04T00:00:00.000000000",
          "2021-05-06T00:00:00.000000000",
          "2021-05-10T00:00:00.000000000",
          "2021-05-13T00:00:00.000000000",
          "2021-05-21T00:00:00.000000000",
          "2021-05-23T00:00:00.000000000",
          "2021-06-02T00:00:00.000000000",
          "2021-06-04T00:00:00.000000000",
          "2021-06-07T00:00:00.000000000",
          "2021-07-15T00:00:00.000000000",
          "2021-07-17T00:00:00.000000000",
          "2021-07-31T00:00:00.000000000",
          "2021-08-20T00:00:00.000000000",
          "2021-08-21T00:00:00.000000000",
          "2021-09-01T00:00:00.000000000",
          "2021-09-04T00:00:00.000000000",
          "2021-09-09T00:00:00.000000000",
          "2021-09-26T00:00:00.000000000",
          "2021-10-01T00:00:00.000000000",
          "2021-10-10T00:00:00.000000000",
          "2021-10-16T00:00:00.000000000",
          "2021-11-07T00:00:00.000000000",
          "2021-11-17T00:00:00.000000000",
          "2021-11-20T00:00:00.000000000",
          "2021-12-01T00:00:00.000000000",
          "2022-01-05T00:00:00.000000000",
          "2022-01-24T00:00:00.000000000",
          "2022-02-20T00:00:00.000000000",
          "2022-02-22T00:00:00.000000000",
          "2022-03-13T00:00:00.000000000",
          "2022-03-15T00:00:00.000000000",
          "2022-03-19T00:00:00.000000000",
          "2022-03-21T00:00:00.000000000",
          "2022-03-27T00:00:00.000000000",
          "2022-03-31T00:00:00.000000000",
          "2022-04-07T00:00:00.000000000",
          "2022-04-09T00:00:00.000000000",
          "2022-04-15T00:00:00.000000000",
          "2022-04-16T00:00:00.000000000",
          "2022-04-26T00:00:00.000000000",
          "2022-04-30T00:00:00.000000000",
          "2022-05-03T00:00:00.000000000",
          "2022-05-04T00:00:00.000000000",
          "2022-06-04T00:00:00.000000000",
          "2022-06-17T00:00:00.000000000",
          "2022-07-02T00:00:00.000000000",
          "2022-07-06T00:00:00.000000000",
          "2022-07-21T00:00:00.000000000",
          "2022-07-24T00:00:00.000000000",
          "2022-07-29T00:00:00.000000000",
          "2022-08-05T00:00:00.000000000",
          "2022-08-08T00:00:00.000000000",
          "2022-08-10T00:00:00.000000000",
          "2022-08-17T00:00:00.000000000",
          "2022-08-23T00:00:00.000000000",
          "2022-08-31T00:00:00.000000000",
          "2022-09-10T00:00:00.000000000",
          "2022-09-21T00:00:00.000000000",
          "2022-10-01T00:00:00.000000000",
          "2022-10-10T00:00:00.000000000",
          "2022-10-13T00:00:00.000000000",
          "2022-10-24T00:00:00.000000000",
          "2022-10-26T00:00:00.000000000",
          "2022-12-04T00:00:00.000000000",
          "2022-12-06T00:00:00.000000000",
          "2022-12-16T00:00:00.000000000",
          "2022-12-29T00:00:00.000000000",
          "2022-12-31T00:00:00.000000000",
          "2023-01-17T00:00:00.000000000",
          "2023-01-22T00:00:00.000000000",
          "2023-02-11T00:00:00.000000000",
          "2023-02-14T00:00:00.000000000",
          "2023-03-02T00:00:00.000000000",
          "2023-03-07T00:00:00.000000000",
          "2023-03-10T00:00:00.000000000",
          "2023-03-11T00:00:00.000000000",
          "2023-03-17T00:00:00.000000000",
          "2023-03-18T00:00:00.000000000",
          "2023-03-24T00:00:00.000000000",
          "2023-03-28T00:00:00.000000000",
          "2023-03-29T00:00:00.000000000",
          "2023-03-31T00:00:00.000000000",
          "2023-04-16T00:00:00.000000000",
          "2023-05-01T00:00:00.000000000",
          "2023-05-22T00:00:00.000000000",
          "2023-05-23T00:00:00.000000000",
          "2023-05-26T00:00:00.000000000",
          "2023-05-29T00:00:00.000000000",
          "2023-06-17T00:00:00.000000000",
          "2023-07-08T00:00:00.000000000",
          "2023-07-20T00:00:00.000000000",
          "2023-07-22T00:00:00.000000000",
          "2023-07-23T00:00:00.000000000",
          "2023-08-03T00:00:00.000000000",
          "2023-08-04T00:00:00.000000000",
          "2023-08-21T00:00:00.000000000",
          "2023-08-31T00:00:00.000000000",
          "2023-09-02T00:00:00.000000000",
          "2023-09-06T00:00:00.000000000",
          "2023-09-13T00:00:00.000000000",
          "2023-09-20T00:00:00.000000000",
          "2023-09-30T00:00:00.000000000",
          "2023-10-28T00:00:00.000000000",
          "2023-11-09T00:00:00.000000000",
          "2023-11-29T00:00:00.000000000",
          "2023-12-08T00:00:00.000000000",
          "2023-12-09T00:00:00.000000000",
          "2023-12-24T00:00:00.000000000",
          "2024-01-13T00:00:00.000000000",
          "2024-01-16T00:00:00.000000000",
          "2024-03-01T00:00:00.000000000",
          "2024-03-08T00:00:00.000000000",
          "2024-03-09T00:00:00.000000000",
          "2024-03-22T00:00:00.000000000",
          "2024-04-01T00:00:00.000000000",
          "2024-05-03T00:00:00.000000000",
          "2024-05-17T00:00:00.000000000",
          "2024-06-16T00:00:00.000000000",
          "2024-06-17T00:00:00.000000000",
          "2024-06-18T00:00:00.000000000",
          "2024-06-21T00:00:00.000000000",
          "2024-07-13T00:00:00.000000000",
          "2024-07-19T00:00:00.000000000",
          "2024-07-26T00:00:00.000000000",
          "2024-08-10T00:00:00.000000000",
          "2024-08-12T00:00:00.000000000",
          "2024-08-13T00:00:00.000000000",
          "2024-08-25T00:00:00.000000000",
          "2024-08-26T00:00:00.000000000",
          "2024-09-01T00:00:00.000000000",
          "2024-09-02T00:00:00.000000000",
          "2024-09-03T00:00:00.000000000",
          "2024-09-09T00:00:00.000000000",
          "2024-09-10T00:00:00.000000000",
          "2024-09-13T00:00:00.000000000",
          "2024-09-18T00:00:00.000000000",
          "2024-09-27T00:00:00.000000000",
          "2024-10-22T00:00:00.000000000",
          "2024-10-24T00:00:00.000000000",
          "2024-10-28T00:00:00.000000000",
          "2024-12-21T00:00:00.000000000",
          "2025-01-16T00:00:00.000000000",
          "2025-01-18T00:00:00.000000000",
          "2025-01-28T00:00:00.000000000",
          "2025-01-29T00:00:00.000000000",
          "2025-01-30T00:00:00.000000000",
          "2025-01-31T00:00:00.000000000",
          "2025-02-01T00:00:00.000000000",
          "2025-02-02T00:00:00.000000000",
          "2025-02-03T00:00:00.000000000",
          "2025-02-04T00:00:00.000000000",
          "2025-02-05T00:00:00.000000000",
          "2025-02-06T00:00:00.000000000",
          "2025-02-07T00:00:00.000000000",
          "2025-02-08T00:00:00.000000000",
          "2025-02-09T00:00:00.000000000",
          "2025-02-10T00:00:00.000000000",
          "2025-02-11T00:00:00.000000000",
          "2025-02-12T00:00:00.000000000",
          "2025-02-13T00:00:00.000000000",
          "2025-02-14T00:00:00.000000000",
          "2025-02-15T00:00:00.000000000",
          "2025-02-16T00:00:00.000000000",
          "2025-02-17T00:00:00.000000000",
          "2025-02-18T00:00:00.000000000",
          "2025-02-19T00:00:00.000000000",
          "2025-02-20T00:00:00.000000000",
          "2025-02-21T00:00:00.000000000",
          "2025-02-22T00:00:00.000000000",
          "2025-02-23T00:00:00.000000000",
          "2025-02-24T00:00:00.000000000",
          "2025-02-25T00:00:00.000000000",
          "2025-02-26T00:00:00.000000000",
          "2025-02-27T00:00:00.000000000",
          "2025-02-28T00:00:00.000000000",
          "2025-03-01T00:00:00.000000000",
          "2025-03-02T00:00:00.000000000",
          "2025-03-03T00:00:00.000000000",
          "2025-03-04T00:00:00.000000000",
          "2025-03-05T00:00:00.000000000",
          "2025-03-06T00:00:00.000000000",
          "2025-03-07T00:00:00.000000000",
          "2025-03-08T00:00:00.000000000",
          "2025-03-09T00:00:00.000000000",
          "2025-03-10T00:00:00.000000000",
          "2025-03-11T00:00:00.000000000",
          "2025-03-12T00:00:00.000000000",
          "2025-03-13T00:00:00.000000000",
          "2025-03-14T00:00:00.000000000",
          "2025-03-15T00:00:00.000000000",
          "2025-03-16T00:00:00.000000000",
          "2025-03-17T00:00:00.000000000",
          "2025-03-18T00:00:00.000000000",
          "2025-03-19T00:00:00.000000000",
          "2025-03-20T00:00:00.000000000",
          "2025-03-21T00:00:00.000000000",
          "2025-03-22T00:00:00.000000000",
          "2025-03-23T00:00:00.000000000",
          "2025-03-24T00:00:00.000000000",
          "2025-03-25T00:00:00.000000000",
          "2025-03-26T00:00:00.000000000",
          "2025-03-27T00:00:00.000000000",
          "2025-03-28T00:00:00.000000000",
          "2025-03-29T00:00:00.000000000",
          "2025-03-30T00:00:00.000000000",
          "2025-03-31T00:00:00.000000000",
          "2025-04-01T00:00:00.000000000",
          "2025-04-02T00:00:00.000000000",
          "2025-04-03T00:00:00.000000000",
          "2025-04-04T00:00:00.000000000",
          "2025-04-05T00:00:00.000000000",
          "2025-04-06T00:00:00.000000000",
          "2025-04-07T00:00:00.000000000",
          "2025-04-08T00:00:00.000000000",
          "2025-04-09T00:00:00.000000000",
          "2025-04-10T00:00:00.000000000",
          "2025-04-11T00:00:00.000000000",
          "2025-04-12T00:00:00.000000000",
          "2025-04-13T00:00:00.000000000",
          "2025-04-14T00:00:00.000000000",
          "2025-04-15T00:00:00.000000000",
          "2025-04-16T00:00:00.000000000",
          "2025-04-17T00:00:00.000000000",
          "2025-04-18T00:00:00.000000000",
          "2025-04-19T00:00:00.000000000",
          "2025-04-20T00:00:00.000000000",
          "2025-04-21T00:00:00.000000000",
          "2025-04-22T00:00:00.000000000",
          "2025-04-23T00:00:00.000000000",
          "2025-04-24T00:00:00.000000000",
          "2025-04-25T00:00:00.000000000",
          "2025-04-26T00:00:00.000000000",
          "2025-04-27T00:00:00.000000000",
          "2025-04-28T00:00:00.000000000",
          "2025-04-29T00:00:00.000000000",
          "2025-04-30T00:00:00.000000000",
          "2025-05-01T00:00:00.000000000",
          "2025-05-02T00:00:00.000000000",
          "2025-05-03T00:00:00.000000000",
          "2025-05-04T00:00:00.000000000",
          "2025-05-05T00:00:00.000000000",
          "2025-05-06T00:00:00.000000000",
          "2025-05-07T00:00:00.000000000",
          "2025-05-08T00:00:00.000000000",
          "2025-05-09T00:00:00.000000000",
          "2025-05-10T00:00:00.000000000",
          "2025-05-11T00:00:00.000000000",
          "2025-05-12T00:00:00.000000000",
          "2025-05-13T00:00:00.000000000",
          "2025-05-14T00:00:00.000000000",
          "2025-05-15T00:00:00.000000000",
          "2025-05-16T00:00:00.000000000",
          "2025-05-17T00:00:00.000000000",
          "2025-05-18T00:00:00.000000000",
          "2025-05-19T00:00:00.000000000",
          "2025-05-20T00:00:00.000000000",
          "2025-05-21T00:00:00.000000000",
          "2025-05-22T00:00:00.000000000",
          "2025-05-23T00:00:00.000000000",
          "2025-05-24T00:00:00.000000000",
          "2025-05-25T00:00:00.000000000",
          "2025-05-26T00:00:00.000000000",
          "2025-05-27T00:00:00.000000000",
          "2025-05-28T00:00:00.000000000",
          "2025-05-29T00:00:00.000000000",
          "2025-05-30T00:00:00.000000000",
          "2025-05-31T00:00:00.000000000",
          "2025-06-01T00:00:00.000000000",
          "2025-06-02T00:00:00.000000000",
          "2025-06-03T00:00:00.000000000",
          "2025-06-04T00:00:00.000000000",
          "2025-06-05T00:00:00.000000000",
          "2025-06-06T00:00:00.000000000",
          "2025-06-07T00:00:00.000000000",
          "2025-06-08T00:00:00.000000000",
          "2025-06-09T00:00:00.000000000",
          "2025-06-10T00:00:00.000000000",
          "2025-06-11T00:00:00.000000000",
          "2025-06-12T00:00:00.000000000",
          "2025-06-13T00:00:00.000000000",
          "2025-06-14T00:00:00.000000000",
          "2025-06-15T00:00:00.000000000",
          "2025-06-16T00:00:00.000000000",
          "2025-06-17T00:00:00.000000000",
          "2025-06-18T00:00:00.000000000",
          "2025-06-19T00:00:00.000000000",
          "2025-06-20T00:00:00.000000000",
          "2025-06-21T00:00:00.000000000",
          "2025-06-22T00:00:00.000000000",
          "2025-06-23T00:00:00.000000000",
          "2025-06-24T00:00:00.000000000",
          "2025-06-25T00:00:00.000000000",
          "2025-06-26T00:00:00.000000000",
          "2025-06-27T00:00:00.000000000"
         ],
         "xaxis": "x",
         "y": {
          "bdata": "ViWRfZCl8D/xfG0vZabwP/5WSzvnwfA/YNv9YPjK8D+zYbNw7cvwPyy++D6c0vA/JHZysWfT8D+YHGoG79XwP+B/G9tb2vA/qodG7Svb8D8yK6VbfefwPw+eg0XK6PA/JKJg6OXz8D90Y1DNfPXwP5cLevuI9vA/BkFnVPP28D9yVSzTBffwP+0c3o5G9/A/aeSPSof38D/wPQZpnvfwP4D69BW9+PA/0skI9cr48D8xTAkRB/nwP2Fy+Wlx+fA/twm/6IP58D8NoYRnlvnwP2dhwyD8+fA/RnyP88L68D9yeQYS2vrwP8gQzJDs+vA/H6iRD//68D/0DUOvA/vwP5/Zpe4M+/A/TmtZqk378D8MJ3ZStvzwP2KKLA73/PA/DrwHbBf98D9vVbkLHP3wPyhSIWdh/fA/NB2uZIb98D+7gnTjmP3wP1t+VF31/fA/766n2Sz+8D9gqHeQt/7wPzCmZ83l/vA/rxsZber+8D8iExyJJv/wP4eMcCGa//A/caWw2v//8D9ukBMaCQDxP2QnAlc3APE/33J5dU4A8T/ZM6IzagDxP9QJaLJ8APE/VH8ZUoEA8T+8DQur6wDxP/GZAhBWAfE/db3fkGgB8T8AKHcToAHxP6MCHfStAfE/6LdotckB8T/w/iK37gHxP8EeBvtBAvE/JvA6w/EC8T9rpYaEDQPxP0zuvSQSA/E/kqMJ5i0D8T96exCuSQPxP52kdN+FA/E/7x3LgIoD8T+SEHjDkwPxP4Z8e6ehA/E/tDnc9M8D8T9ABJD/9APxPxK0nY8sBPE/nX5RmlEE8T/kY6sfZATxP57rv3e3BPE/rFODLgYF8T8ZRTVVHQXxP/QnmaJLBfE/7ECmTnUF8T8gxgW4lQXxP91ywKbIBfE/aJobLNsF8T9ZzDWELgbxP1HlQjBYBvE/oaBL+HMG8T9J/k/cgQbxP6zJWKSdBvE/Fl7OgQMH8T8393vEDAfxP3kp10kfB/E/jFrk9UgH8T/CJJ/kewfxP7W8/k2cB/E/1VWskKUH8T9mIgMyqgfxPx9RdCsCCPE/0LZ4DxAI8T8ceSdSGQjxP0yC4lw+CPE/2p0Tfa0I8T8A/2oesgjxPy8IJinXCPE/TABRZTgJ8T/uLBJUawnxP2n4e6GZCfE/j1nTQp4J8T9W5+vS1QnxP8gK8rbjCfE//EkKRxsK8T+WpGHoHwrxP2S0Z8wtCvE/l2kWDzcK8T8yiSLXUgrxPzJO1/1pCvE//13d4XcK8T80nfVxrwrxP5oHU/fBCvE/m8wHHtkK8T/OgbZg4grxP827lt9MC/E/c1MR9ZYL8T/BSCahwAvxP7ab1ePJC/E/MEUthc4L8T9+OkIx+AvxP+GJ+FcPDPE/GCVsiUsM8T+oYkUkqAzxPxdfTAi2DPE/DLL7Sr8M8T9qcccdAA3xP+TVdmAJDfE/GFEthyAN8T+++fF1Uw3xP6qLr4B4DfE/oFQOBosN8T9PNHRvqw3xPzzGMXrQDfE/eXiJG9UN8T/qpZfj8A3xP/sLp6sMDvE/q9hW7hUO8T9sCxb5Og7xPySLzR9SDvE/fHElwVYO8T/cCoVGaQ7xP11wA1yzDvE/FfC6gsoO8T8uCdIu9A7xP97VgXH9DvE/JiHHdXoP8T8JrkCntg/xP65G+c3ND/E/clkSevcP8T8Y8sqgDhDxP5LaTLZYEPE/3Au+A4cQ8T/sSG5GkBDxPyg9L1G1EPE/CsqogvEQ8T9HvmmNFhHxPziIkwFcEfE/ZOHvsQIS8T+GeU83FRLxP54rVxsjEvE/uN1e/zAS8T8L2s1MXxLxP7LSq+e7EvE/3FBjDtMS8T/0Amvy4BLxPyBcx6KHE/E/zzr93ugT8T/YIFWA7RPxP1rCJFMuFPE/3H6UoFwU8T/eLbQwlBTxPx4MbFerFPE/XwXE+K8U8T+kJhvFSBXxP6e6mtqSFfE/aKaivqAV8T+on/pfpRXxPypByjLmFfE/6izSFvQV8T+dVurCHRbxP4Rk8qYrFvE/No4KU1UW8T/g6urtsRbxP8b48tG/FvE/8Q+r+NYW8T8aJ2Mf7hbxP+dCc+cJF/E/+Gcz8i4X8T9NlqM/XRfxP5GfU4JmF/E/dUN4Ep4X8T9pMjI5tRfxP0JiuE7/F/E/PihpkQgY8T80tMoWGxjxPy7d0/ooGPE/GvWWBU4Y8T8Vu0dIVxjxP/6Yu5WFGPE/+V5s2I4Y8T/yh3W8nBjxP6q1lK9MGfE/LoJF8lUZ8T/CGRvFlhnxP+AWA2DzGfE/IX1bAfgZ8T/y4SfwKhrxP7YUMdQ4GvE//hPr+k8a8T9X3smxnhrxP57dg9i1GvE/7HWfhN8a8T/WibFM+xrxPzEoSSphG/E/uJ68d48b8T+sqMVbnRvxP9p3kUrQG/E/sZalWXIc8T8XKzRTyhzxP7WEhVdHHfE/BDY2mlAd8T9qysSTqB3xP7d7ddaxHfE/01bYW8Qd8T9hxImezR3xPwoNnmbpHfE/JugA7Psd8T+X521VHB7xPyRVH5glHvE/zp0zYEEe8T+VVIwBRh7xP1p4A090HvE/dlNm1IYe8T/Kd3C4lB7xP12byVmZHvE/IuqU4ygf8T+WuBsVZR/xPy/OVImqH/E/ely5Dr0f8T8UcvKCAiDxP8zc/WYQIPE/qo67jScg8T+thyv3RyDxP2XyNttVIPE/iznpHV8g8T9341mHfyDxP4tQcU+bIPE/Tzc7WsAg8T/Gl7en7iDxPxQ1jZYhIfE/ipUJ5E8h8T8ouSyQeSHxP7FvOHSHIfE/AA0OY7oh8T+xhsClwyHxP7DLWDp4IvE/d0wLfYEi8T9a0IfKryLxP2cVEPzrIvE/LpbCPvUi8T/K3K/1QyPxP7sebhxbI/E/gSZnt7cj8T+r53KbxSPxP+TtBrEPJPE/1S/F1yYk8T//8NC7NCTxP2cWKl05JPE/1PZAJVUk8T88HJrGWSTxP6n8sI51JPE/SJIVFIgk8T+vt261jCTxP34CIfiVJPE/+FizDeAk8T8JiuyBJSXxP4ibPL6GJfE/8MCVX4sl8T8mMaFDmSXxP12hrCenJfE/DWhKIf8l8T+MeZpdYCbxP2c6yO2XJvE/NoV6MKEm8T+eqtPRpSbxPxFGqMDYJvE/eGsBYt0m8T9Z5+wYLCfxP2VdaGZaJ/E/NKgaqWMn8T/TPX8udifxP6dD75eWJ/E/fElfAbcn8T+Iv9pO5SfxP9zWmvRmKPE/t5fIhJ4o8T/Pg78f+yjxP3PU4cskKfE/2vk6bSkp8T/sKnThbinxPwMXa3zLKfE/Ood2YNkp8T9vGiK9qSrxP0QgkibKKvE/rEXrx84q8T/uK3L5CivxP/qh7UY5K/E/7E4Scs0r8T+WWvJEDizxP7q8ZC2ZLPE/IeK9zp0s8T+JBxdwoizxP793IlSwLPE/pq7LMRYt8T8Uj+L5MS3xP+mUUmNSLfE/+sWL15ct8T/JED4aoS3xPzE2l7ulLfE/DPfES90t8T90HB7t4S3xP+D8NLX9LfE/SSKOVgIu8T+wR+f3Bi7xPx0o/r8iLvE/hU1XYScu8T+8vWJFNS7xP8J4IGxMLvE/ZslCGHYu8T+EcPfZ6S7xP1K7qRzzLvE/8FAOogUv8T/KNNyq/y/xP04B6g14MPE/HkycUIEw8T8pwheerzDxP5HncD+0MPE/+AzK4Lgw8T9gMiOCvTDxP8hXfCPCMPE/MH3VxMYw8T+Xoi5myzDxP/7HhwfQMPE/Zu3gqNQw8T/OEjpK2TDxPzU4k+vdMPE/nF3sjOIw8T8Eg0Uu5zDxP2yons/rMPE/1M33cPAw8T8781AS9TDxP6MYqrP5MPE/Cj4DVf4w8T9yY1z2AjHxP9mItZcHMfE/Qa4OOQwx8T+o02faEDHxPxD5wHsVMfE/eB4aHRox8T/gQ3O+HjHxP0dpzF8jMfE/ro4lASgx8T8WtH6iLDHxP37Z10MxMfE/5f4w5TUx8T9MJIqGOjHxP7RJ4yc/MfE/HG88yUMx8T+ElJVqSDHxP+u57gtNMfE/U99HrVEx8T+6BKFOVjHxPyIq+u9aMfE/iU9TkV8x8T/xdKwyZDHxP1iaBdRoMfE/wL9edW0x8T8n5bcWcjHxP5AKEbh2MfE/9y9qWXsx8T9eVcP6fzHxP8Z6HJyEMfE/LqB1PYkx8T+Vxc7ejTHxP/zqJ4CSMfE/ZBCBIZcx8T/MNdrCmzHxPzNbM2SgMfE/m4CMBaUx8T8DpuWmqTHxP2rLPkiuMfE/0vCX6bIx8T85FvGKtzHxP6E7Siy8MfE/CGGjzcAx8T9whvxuxTHxP9erVRDKMfE/P9Gusc4x8T+n9gdT0zHxPw4cYfTXMfE/dkG6ldwx8T/eZhM34THxP0WMbNjlMfE/rLHFeeox8T9E0R4b7zHxPzmfd7zzMfE/ETnNXfgx8T9KkR///DHxP7P6d6ABMvE/Bk3PQQYy8T/qpCXjCjLxPwQCeoQPMvE/l8rJJRQy8T/LViDHGDLxP2EXc2gdMvE/JTrCCSIy8T+R5Q+rJjLxP5ulZEwrMvE/EHG77S8y8T9/9A2PNDLxP7+kXjA5MvE/xF+10T0y8T/OmAhzQjLxP0AqXxRHMvE/BnW2tUsy8T/P1wZXUDLxP0e/T/hUMvE/BguymVky8T++9Pk6XjLxP0lkStxiMvE/LuCgfWcy8T+wkvQebDLxPw+HP8BwMvE/ctuNYXUy8T9ANuQCejLxP/TKOqR+MvE/c5KKRYMy8T+h3N/mhzLxP0c3MIiMMvE/kaxyKZEy8T/8bsTKlTLxP/bvFmyaMvE/VQNhDZ8y8T8dha2uozLxP2grAlCoMvE/oi9L8awy8T+IPp6SsTLxP7cU8DO2MvE/vWZB1boy8T+lkn52vzLxPz4xzhfEMvE/J5Mcucgy8T/G8m1azTLxPwvJv/vRMvE//vkUndYy8T/RL2o+2zLxP/Z9v9/fMvE/QBgUgeQy8T+6U2Ai6TLxP0aQs8PtMvE/sxUCZfIy8T+aa1YG9zLxPxUtr6f7MvE/D/gHSQAz8T+gtUDqBDPxP2BojYsJM/E/pDTeLA4z8T/pAC/OEjPxPy7Nf28XM/E/cZLIEBwz8T8u7QqyIDPxP4lKTVMlM/E/n5qU9Ckz8T+MqOeVLjPxPwHpOjczM/E/KRCL2Dcz8T/ox995PDPxP7ruMxtBM/E/gxGHvEUz8T9NNNpdSjPxPxVXLf9OM/E/33mAoFMz8T+onNNBWDPxP3C/JuNcM/E/h4x3hGEz8T8JlsElZjPxPw==",
          "dtype": "f8"
         },
         "yaxis": "y"
        },
        {
         "line": {
          "color": "#0072B2",
          "width": 2
         },
         "mode": "lines",
         "name": "yearly",
         "type": "scatter",
         "x": [
          "2017-01-01T00:00:00.000000000",
          "2017-01-02T00:00:59.178082304",
          "2017-01-03T00:01:58.356164352",
          "2017-01-04T00:02:57.534246656",
          "2017-01-05T00:03:56.712328704",
          "2017-01-06T00:04:55.890411008",
          "2017-01-07T00:05:55.068493056",
          "2017-01-08T00:06:54.246575360",
          "2017-01-09T00:07:53.424657408",
          "2017-01-10T00:08:52.602739712",
          "2017-01-11T00:09:51.780822016",
          "2017-01-12T00:10:50.958904064",
          "2017-01-13T00:11:50.136986368",
          "2017-01-14T00:12:49.315068416",
          "2017-01-15T00:13:48.493150720",
          "2017-01-16T00:14:47.671232768",
          "2017-01-17T00:15:46.849315072",
          "2017-01-18T00:16:46.027397376",
          "2017-01-19T00:17:45.205479424",
          "2017-01-20T00:18:44.383561728",
          "2017-01-21T00:19:43.561643776",
          "2017-01-22T00:20:42.739726080",
          "2017-01-23T00:21:41.917808128",
          "2017-01-24T00:22:41.095890432",
          "2017-01-25T00:23:40.273972480",
          "2017-01-26T00:24:39.452054784",
          "2017-01-27T00:25:38.630137088",
          "2017-01-28T00:26:37.808219136",
          "2017-01-29T00:27:36.986301440",
          "2017-01-30T00:28:36.164383488",
          "2017-01-31T00:29:35.342465792",
          "2017-02-01T00:30:34.520547840",
          "2017-02-02T00:31:33.698630144",
          "2017-02-03T00:32:32.876712448",
          "2017-02-04T00:33:32.054794496",
          "2017-02-05T00:34:31.232876800",
          "2017-02-06T00:35:30.410958848",
          "2017-02-07T00:36:29.589041152",
          "2017-02-08T00:37:28.767123200",
          "2017-02-09T00:38:27.945205504",
          "2017-02-10T00:39:27.123287552",
          "2017-02-11T00:40:26.301369856",
          "2017-02-12T00:41:25.479452160",
          "2017-02-13T00:42:24.657534208",
          "2017-02-14T00:43:23.835616512",
          "2017-02-15T00:44:23.013698560",
          "2017-02-16T00:45:22.191780864",
          "2017-02-17T00:46:21.369862912",
          "2017-02-18T00:47:20.547945216",
          "2017-02-19T00:48:19.726027520",
          "2017-02-20T00:49:18.904109568",
          "2017-02-21T00:50:18.082191872",
          "2017-02-22T00:51:17.260273920",
          "2017-02-23T00:52:16.438356224",
          "2017-02-24T00:53:15.616438272",
          "2017-02-25T00:54:14.794520576",
          "2017-02-26T00:55:13.972602624",
          "2017-02-27T00:56:13.150684928",
          "2017-02-28T00:57:12.328767232",
          "2017-03-01T00:58:11.506849280",
          "2017-03-02T00:59:10.684931584",
          "2017-03-03T01:00:09.863013632",
          "2017-03-04T01:01:09.041095936",
          "2017-03-05T01:02:08.219177984",
          "2017-03-06T01:03:07.397260288",
          "2017-03-07T01:04:06.575342592",
          "2017-03-08T01:05:05.753424640",
          "2017-03-09T01:06:04.931506944",
          "2017-03-10T01:07:04.109588992",
          "2017-03-11T01:08:03.287671296",
          "2017-03-12T01:09:02.465753344",
          "2017-03-13T01:10:01.643835648",
          "2017-03-14T01:11:00.821917696",
          "2017-03-15T01:12:00.000000000",
          "2017-03-16T01:12:59.178082304",
          "2017-03-17T01:13:58.356164352",
          "2017-03-18T01:14:57.534246656",
          "2017-03-19T01:15:56.712328704",
          "2017-03-20T01:16:55.890411008",
          "2017-03-21T01:17:55.068493056",
          "2017-03-22T01:18:54.246575360",
          "2017-03-23T01:19:53.424657408",
          "2017-03-24T01:20:52.602739712",
          "2017-03-25T01:21:51.780822016",
          "2017-03-26T01:22:50.958904064",
          "2017-03-27T01:23:50.136986368",
          "2017-03-28T01:24:49.315068416",
          "2017-03-29T01:25:48.493150720",
          "2017-03-30T01:26:47.671232768",
          "2017-03-31T01:27:46.849315072",
          "2017-04-01T01:28:46.027397376",
          "2017-04-02T01:29:45.205479424",
          "2017-04-03T01:30:44.383561728",
          "2017-04-04T01:31:43.561643776",
          "2017-04-05T01:32:42.739726080",
          "2017-04-06T01:33:41.917808128",
          "2017-04-07T01:34:41.095890432",
          "2017-04-08T01:35:40.273972480",
          "2017-04-09T01:36:39.452054784",
          "2017-04-10T01:37:38.630137088",
          "2017-04-11T01:38:37.808219136",
          "2017-04-12T01:39:36.986301440",
          "2017-04-13T01:40:36.164383488",
          "2017-04-14T01:41:35.342465792",
          "2017-04-15T01:42:34.520547840",
          "2017-04-16T01:43:33.698630144",
          "2017-04-17T01:44:32.876712448",
          "2017-04-18T01:45:32.054794496",
          "2017-04-19T01:46:31.232876800",
          "2017-04-20T01:47:30.410958848",
          "2017-04-21T01:48:29.589041152",
          "2017-04-22T01:49:28.767123200",
          "2017-04-23T01:50:27.945205504",
          "2017-04-24T01:51:27.123287552",
          "2017-04-25T01:52:26.301369856",
          "2017-04-26T01:53:25.479452160",
          "2017-04-27T01:54:24.657534208",
          "2017-04-28T01:55:23.835616512",
          "2017-04-29T01:56:23.013698560",
          "2017-04-30T01:57:22.191780864",
          "2017-05-01T01:58:21.369862912",
          "2017-05-02T01:59:20.547945216",
          "2017-05-03T02:00:19.726027520",
          "2017-05-04T02:01:18.904109568",
          "2017-05-05T02:02:18.082191872",
          "2017-05-06T02:03:17.260273920",
          "2017-05-07T02:04:16.438356224",
          "2017-05-08T02:05:15.616438272",
          "2017-05-09T02:06:14.794520576",
          "2017-05-10T02:07:13.972602624",
          "2017-05-11T02:08:13.150684928",
          "2017-05-12T02:09:12.328767232",
          "2017-05-13T02:10:11.506849280",
          "2017-05-14T02:11:10.684931584",
          "2017-05-15T02:12:09.863013632",
          "2017-05-16T02:13:09.041095936",
          "2017-05-17T02:14:08.219177984",
          "2017-05-18T02:15:07.397260288",
          "2017-05-19T02:16:06.575342592",
          "2017-05-20T02:17:05.753424640",
          "2017-05-21T02:18:04.931506944",
          "2017-05-22T02:19:04.109588992",
          "2017-05-23T02:20:03.287671296",
          "2017-05-24T02:21:02.465753344",
          "2017-05-25T02:22:01.643835648",
          "2017-05-26T02:23:00.821917696",
          "2017-05-27T02:24:00.000000000",
          "2017-05-28T02:24:59.178082304",
          "2017-05-29T02:25:58.356164352",
          "2017-05-30T02:26:57.534246656",
          "2017-05-31T02:27:56.712328704",
          "2017-06-01T02:28:55.890411008",
          "2017-06-02T02:29:55.068493056",
          "2017-06-03T02:30:54.246575360",
          "2017-06-04T02:31:53.424657408",
          "2017-06-05T02:32:52.602739712",
          "2017-06-06T02:33:51.780822016",
          "2017-06-07T02:34:50.958904064",
          "2017-06-08T02:35:50.136986368",
          "2017-06-09T02:36:49.315068416",
          "2017-06-10T02:37:48.493150720",
          "2017-06-11T02:38:47.671232768",
          "2017-06-12T02:39:46.849315072",
          "2017-06-13T02:40:46.027397376",
          "2017-06-14T02:41:45.205479424",
          "2017-06-15T02:42:44.383561728",
          "2017-06-16T02:43:43.561643776",
          "2017-06-17T02:44:42.739726080",
          "2017-06-18T02:45:41.917808128",
          "2017-06-19T02:46:41.095890432",
          "2017-06-20T02:47:40.273972480",
          "2017-06-21T02:48:39.452054784",
          "2017-06-22T02:49:38.630137088",
          "2017-06-23T02:50:37.808219136",
          "2017-06-24T02:51:36.986301440",
          "2017-06-25T02:52:36.164383488",
          "2017-06-26T02:53:35.342465792",
          "2017-06-27T02:54:34.520547840",
          "2017-06-28T02:55:33.698630144",
          "2017-06-29T02:56:32.876712448",
          "2017-06-30T02:57:32.054794496",
          "2017-07-01T02:58:31.232876800",
          "2017-07-02T02:59:30.410958848",
          "2017-07-03T03:00:29.589041152",
          "2017-07-04T03:01:28.767123200",
          "2017-07-05T03:02:27.945205504",
          "2017-07-06T03:03:27.123287552",
          "2017-07-07T03:04:26.301369856",
          "2017-07-08T03:05:25.479452160",
          "2017-07-09T03:06:24.657534208",
          "2017-07-10T03:07:23.835616512",
          "2017-07-11T03:08:23.013698560",
          "2017-07-12T03:09:22.191780864",
          "2017-07-13T03:10:21.369862912",
          "2017-07-14T03:11:20.547945216",
          "2017-07-15T03:12:19.726027520",
          "2017-07-16T03:13:18.904109568",
          "2017-07-17T03:14:18.082191872",
          "2017-07-18T03:15:17.260273920",
          "2017-07-19T03:16:16.438356224",
          "2017-07-20T03:17:15.616438272",
          "2017-07-21T03:18:14.794520576",
          "2017-07-22T03:19:13.972602624",
          "2017-07-23T03:20:13.150684928",
          "2017-07-24T03:21:12.328767232",
          "2017-07-25T03:22:11.506849280",
          "2017-07-26T03:23:10.684931584",
          "2017-07-27T03:24:09.863013632",
          "2017-07-28T03:25:09.041095936",
          "2017-07-29T03:26:08.219177984",
          "2017-07-30T03:27:07.397260288",
          "2017-07-31T03:28:06.575342592",
          "2017-08-01T03:29:05.753424640",
          "2017-08-02T03:30:04.931506944",
          "2017-08-03T03:31:04.109588992",
          "2017-08-04T03:32:03.287671296",
          "2017-08-05T03:33:02.465753344",
          "2017-08-06T03:34:01.643835648",
          "2017-08-07T03:35:00.821917696",
          "2017-08-08T03:36:00.000000000",
          "2017-08-09T03:36:59.178082304",
          "2017-08-10T03:37:58.356164352",
          "2017-08-11T03:38:57.534246656",
          "2017-08-12T03:39:56.712328704",
          "2017-08-13T03:40:55.890411008",
          "2017-08-14T03:41:55.068493056",
          "2017-08-15T03:42:54.246575360",
          "2017-08-16T03:43:53.424657408",
          "2017-08-17T03:44:52.602739712",
          "2017-08-18T03:45:51.780822016",
          "2017-08-19T03:46:50.958904064",
          "2017-08-20T03:47:50.136986368",
          "2017-08-21T03:48:49.315068416",
          "2017-08-22T03:49:48.493150720",
          "2017-08-23T03:50:47.671232768",
          "2017-08-24T03:51:46.849315072",
          "2017-08-25T03:52:46.027397376",
          "2017-08-26T03:53:45.205479424",
          "2017-08-27T03:54:44.383561728",
          "2017-08-28T03:55:43.561643776",
          "2017-08-29T03:56:42.739726080",
          "2017-08-30T03:57:41.917808128",
          "2017-08-31T03:58:41.095890432",
          "2017-09-01T03:59:40.273972480",
          "2017-09-02T04:00:39.452054784",
          "2017-09-03T04:01:38.630137088",
          "2017-09-04T04:02:37.808219136",
          "2017-09-05T04:03:36.986301440",
          "2017-09-06T04:04:36.164383488",
          "2017-09-07T04:05:35.342465792",
          "2017-09-08T04:06:34.520547840",
          "2017-09-09T04:07:33.698630144",
          "2017-09-10T04:08:32.876712448",
          "2017-09-11T04:09:32.054794496",
          "2017-09-12T04:10:31.232876800",
          "2017-09-13T04:11:30.410958848",
          "2017-09-14T04:12:29.589041152",
          "2017-09-15T04:13:28.767123200",
          "2017-09-16T04:14:27.945205504",
          "2017-09-17T04:15:27.123287552",
          "2017-09-18T04:16:26.301369856",
          "2017-09-19T04:17:25.479452160",
          "2017-09-20T04:18:24.657534208",
          "2017-09-21T04:19:23.835616512",
          "2017-09-22T04:20:23.013698560",
          "2017-09-23T04:21:22.191780864",
          "2017-09-24T04:22:21.369862912",
          "2017-09-25T04:23:20.547945216",
          "2017-09-26T04:24:19.726027520",
          "2017-09-27T04:25:18.904109568",
          "2017-09-28T04:26:18.082191872",
          "2017-09-29T04:27:17.260273920",
          "2017-09-30T04:28:16.438356224",
          "2017-10-01T04:29:15.616438272",
          "2017-10-02T04:30:14.794520576",
          "2017-10-03T04:31:13.972602624",
          "2017-10-04T04:32:13.150684928",
          "2017-10-05T04:33:12.328767232",
          "2017-10-06T04:34:11.506849280",
          "2017-10-07T04:35:10.684931584",
          "2017-10-08T04:36:09.863013632",
          "2017-10-09T04:37:09.041095936",
          "2017-10-10T04:38:08.219177984",
          "2017-10-11T04:39:07.397260288",
          "2017-10-12T04:40:06.575342592",
          "2017-10-13T04:41:05.753424640",
          "2017-10-14T04:42:04.931506944",
          "2017-10-15T04:43:04.109588992",
          "2017-10-16T04:44:03.287671296",
          "2017-10-17T04:45:02.465753344",
          "2017-10-18T04:46:01.643835648",
          "2017-10-19T04:47:00.821917696",
          "2017-10-20T04:48:00.000000000",
          "2017-10-21T04:48:59.178082304",
          "2017-10-22T04:49:58.356164352",
          "2017-10-23T04:50:57.534246656",
          "2017-10-24T04:51:56.712328704",
          "2017-10-25T04:52:55.890411008",
          "2017-10-26T04:53:55.068493056",
          "2017-10-27T04:54:54.246575360",
          "2017-10-28T04:55:53.424657408",
          "2017-10-29T04:56:52.602739712",
          "2017-10-30T04:57:51.780822016",
          "2017-10-31T04:58:50.958904064",
          "2017-11-01T04:59:50.136986368",
          "2017-11-02T05:00:49.315068416",
          "2017-11-03T05:01:48.493150720",
          "2017-11-04T05:02:47.671232768",
          "2017-11-05T05:03:46.849315072",
          "2017-11-06T05:04:46.027397376",
          "2017-11-07T05:05:45.205479424",
          "2017-11-08T05:06:44.383561728",
          "2017-11-09T05:07:43.561643776",
          "2017-11-10T05:08:42.739726080",
          "2017-11-11T05:09:41.917808128",
          "2017-11-12T05:10:41.095890432",
          "2017-11-13T05:11:40.273972480",
          "2017-11-14T05:12:39.452054784",
          "2017-11-15T05:13:38.630137088",
          "2017-11-16T05:14:37.808219136",
          "2017-11-17T05:15:36.986301440",
          "2017-11-18T05:16:36.164383488",
          "2017-11-19T05:17:35.342465792",
          "2017-11-20T05:18:34.520547840",
          "2017-11-21T05:19:33.698630144",
          "2017-11-22T05:20:32.876712448",
          "2017-11-23T05:21:32.054794496",
          "2017-11-24T05:22:31.232876800",
          "2017-11-25T05:23:30.410958848",
          "2017-11-26T05:24:29.589041152",
          "2017-11-27T05:25:28.767123200",
          "2017-11-28T05:26:27.945205504",
          "2017-11-29T05:27:27.123287552",
          "2017-11-30T05:28:26.301369856",
          "2017-12-01T05:29:25.479452160",
          "2017-12-02T05:30:24.657534208",
          "2017-12-03T05:31:23.835616512",
          "2017-12-04T05:32:23.013698560",
          "2017-12-05T05:33:22.191780864",
          "2017-12-06T05:34:21.369862912",
          "2017-12-07T05:35:20.547945216",
          "2017-12-08T05:36:19.726027520",
          "2017-12-09T05:37:18.904109568",
          "2017-12-10T05:38:18.082191872",
          "2017-12-11T05:39:17.260273920",
          "2017-12-12T05:40:16.438356224",
          "2017-12-13T05:41:15.616438272",
          "2017-12-14T05:42:14.794520576",
          "2017-12-15T05:43:13.972602624",
          "2017-12-16T05:44:13.150684928",
          "2017-12-17T05:45:12.328767232",
          "2017-12-18T05:46:11.506849280",
          "2017-12-19T05:47:10.684931584",
          "2017-12-20T05:48:09.863013632",
          "2017-12-21T05:49:09.041095936",
          "2017-12-22T05:50:08.219177984",
          "2017-12-23T05:51:07.397260288",
          "2017-12-24T05:52:06.575342592",
          "2017-12-25T05:53:05.753424640",
          "2017-12-26T05:54:04.931506944",
          "2017-12-27T05:55:04.109588992",
          "2017-12-28T05:56:03.287671296",
          "2017-12-29T05:57:02.465753344",
          "2017-12-30T05:58:01.643835648",
          "2017-12-31T05:59:00.821917696"
         ],
         "xaxis": "x2",
         "y": {
          "bdata": "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",
          "dtype": "f8"
         },
         "yaxis": "y2"
        },
        {
         "line": {
          "color": "#0072B2",
          "width": 2
         },
         "mode": "lines",
         "name": "weekly",
         "type": "scatter",
         "x": [
          "2017-01-01T00:00:00.000000000",
          "2017-01-02T00:00:00.000000000",
          "2017-01-03T00:00:00.000000000",
          "2017-01-04T00:00:00.000000000",
          "2017-01-05T00:00:00.000000000",
          "2017-01-06T00:00:00.000000000",
          "2017-01-07T00:00:00.000000000"
         ],
         "xaxis": "x3",
         "y": {
          "bdata": "Zv0bHBqHqD/PRR3+/yO1P+DDCcp6yKm/3yVBzL2Ji7/4kMrpFcNDv3P8JQzwXnS/eLEPgkVJr78=",
          "dtype": "f8"
         },
         "yaxis": "y3"
        }
       ],
       "layout": {
        "height": 600,
        "showlegend": false,
        "template": {
         "data": {
          "bar": [
           {
            "error_x": {
             "color": "#2a3f5f"
            },
            "error_y": {
             "color": "#2a3f5f"
            },
            "marker": {
             "line": {
              "color": "#E5ECF6",
              "width": 0.5
             },
             "pattern": {
              "fillmode": "overlay",
              "size": 10,
              "solidity": 0.2
             }
            },
            "type": "bar"
           }
          ],
          "barpolar": [
           {
            "marker": {
             "line": {
              "color": "#E5ECF6",
              "width": 0.5
             },
             "pattern": {
              "fillmode": "overlay",
              "size": 10,
              "solidity": 0.2
             }
            },
            "type": "barpolar"
           }
          ],
          "carpet": [
           {
            "aaxis": {
             "endlinecolor": "#2a3f5f",
             "gridcolor": "white",
             "linecolor": "white",
             "minorgridcolor": "white",
             "startlinecolor": "#2a3f5f"
            },
            "baxis": {
             "endlinecolor": "#2a3f5f",
             "gridcolor": "white",
             "linecolor": "white",
             "minorgridcolor": "white",
             "startlinecolor": "#2a3f5f"
            },
            "type": "carpet"
           }
          ],
          "choropleth": [
           {
            "colorbar": {
             "outlinewidth": 0,
             "ticks": ""
            },
            "type": "choropleth"
           }
          ],
          "contour": [
           {
            "colorbar": {
             "outlinewidth": 0,
             "ticks": ""
            },
            "colorscale": [
             [
              0,
              "#0d0887"
             ],
             [
              0.1111111111111111,
              "#46039f"
             ],
             [
              0.2222222222222222,
              "#7201a8"
             ],
             [
              0.3333333333333333,
              "#9c179e"
             ],
             [
              0.4444444444444444,
              "#bd3786"
             ],
             [
              0.5555555555555556,
              "#d8576b"
             ],
             [
              0.6666666666666666,
              "#ed7953"
             ],
             [
              0.7777777777777778,
              "#fb9f3a"
             ],
             [
              0.8888888888888888,
              "#fdca26"
             ],
             [
              1,
              "#f0f921"
             ]
            ],
            "type": "contour"
           }
          ],
          "contourcarpet": [
           {
            "colorbar": {
             "outlinewidth": 0,
             "ticks": ""
            },
            "type": "contourcarpet"
           }
          ],
          "heatmap": [
           {
            "colorbar": {
             "outlinewidth": 0,
             "ticks": ""
            },
            "colorscale": [
             [
              0,
              "#0d0887"
             ],
             [
              0.1111111111111111,
              "#46039f"
             ],
             [
              0.2222222222222222,
              "#7201a8"
             ],
             [
              0.3333333333333333,
              "#9c179e"
             ],
             [
              0.4444444444444444,
              "#bd3786"
             ],
             [
              0.5555555555555556,
              "#d8576b"
             ],
             [
              0.6666666666666666,
              "#ed7953"
             ],
             [
              0.7777777777777778,
              "#fb9f3a"
             ],
             [
              0.8888888888888888,
              "#fdca26"
             ],
             [
              1,
              "#f0f921"
             ]
            ],
            "type": "heatmap"
           }
          ],
          "histogram": [
           {
            "marker": {
             "pattern": {
              "fillmode": "overlay",
              "size": 10,
              "solidity": 0.2
             }
            },
            "type": "histogram"
           }
          ],
          "histogram2d": [
           {
            "colorbar": {
             "outlinewidth": 0,
             "ticks": ""
            },
            "colorscale": [
             [
              0,
              "#0d0887"
             ],
             [
              0.1111111111111111,
              "#46039f"
             ],
             [
              0.2222222222222222,
              "#7201a8"
             ],
             [
              0.3333333333333333,
              "#9c179e"
             ],
             [
              0.4444444444444444,
              "#bd3786"
             ],
             [
              0.5555555555555556,
              "#d8576b"
             ],
             [
              0.6666666666666666,
              "#ed7953"
             ],
             [
              0.7777777777777778,
              "#fb9f3a"
             ],
             [
              0.8888888888888888,
              "#fdca26"
             ],
             [
              1,
              "#f0f921"
             ]
            ],
            "type": "histogram2d"
           }
          ],
          "histogram2dcontour": [
           {
            "colorbar": {
             "outlinewidth": 0,
             "ticks": ""
            },
            "colorscale": [
             [
              0,
              "#0d0887"
             ],
             [
              0.1111111111111111,
              "#46039f"
             ],
             [
              0.2222222222222222,
              "#7201a8"
             ],
             [
              0.3333333333333333,
              "#9c179e"
             ],
             [
              0.4444444444444444,
              "#bd3786"
             ],
             [
              0.5555555555555556,
              "#d8576b"
             ],
             [
              0.6666666666666666,
              "#ed7953"
             ],
             [
              0.7777777777777778,
              "#fb9f3a"
             ],
             [
              0.8888888888888888,
              "#fdca26"
             ],
             [
              1,
              "#f0f921"
             ]
            ],
            "type": "histogram2dcontour"
           }
          ],
          "mesh3d": [
           {
            "colorbar": {
             "outlinewidth": 0,
             "ticks": ""
            },
            "type": "mesh3d"
           }
          ],
          "parcoords": [
           {
            "line": {
             "colorbar": {
              "outlinewidth": 0,
              "ticks": ""
             }
            },
            "type": "parcoords"
           }
          ],
          "pie": [
           {
            "automargin": true,
            "type": "pie"
           }
          ],
          "scatter": [
           {
            "fillpattern": {
             "fillmode": "overlay",
             "size": 10,
             "solidity": 0.2
            },
            "type": "scatter"
           }
          ],
          "scatter3d": [
           {
            "line": {
             "colorbar": {
              "outlinewidth": 0,
              "ticks": ""
             }
            },
            "marker": {
             "colorbar": {
              "outlinewidth": 0,
              "ticks": ""
             }
            },
            "type": "scatter3d"
           }
          ],
          "scattercarpet": [
           {
            "marker": {
             "colorbar": {
              "outlinewidth": 0,
              "ticks": ""
             }
            },
            "type": "scattercarpet"
           }
          ],
          "scattergeo": [
           {
            "marker": {
             "colorbar": {
              "outlinewidth": 0,
              "ticks": ""
             }
            },
            "type": "scattergeo"
           }
          ],
          "scattergl": [
           {
            "marker": {
             "colorbar": {
              "outlinewidth": 0,
              "ticks": ""
             }
            },
            "type": "scattergl"
           }
          ],
          "scattermap": [
           {
            "marker": {
             "colorbar": {
              "outlinewidth": 0,
              "ticks": ""
             }
            },
            "type": "scattermap"
           }
          ],
          "scattermapbox": [
           {
            "marker": {
             "colorbar": {
              "outlinewidth": 0,
              "ticks": ""
             }
            },
            "type": "scattermapbox"
           }
          ],
          "scatterpolar": [
           {
            "marker": {
             "colorbar": {
              "outlinewidth": 0,
              "ticks": ""
             }
            },
            "type": "scatterpolar"
           }
          ],
          "scatterpolargl": [
           {
            "marker": {
             "colorbar": {
              "outlinewidth": 0,
              "ticks": ""
             }
            },
            "type": "scatterpolargl"
           }
          ],
          "scatterternary": [
           {
            "marker": {
             "colorbar": {
              "outlinewidth": 0,
              "ticks": ""
             }
            },
            "type": "scatterternary"
           }
          ],
          "surface": [
           {
            "colorbar": {
             "outlinewidth": 0,
             "ticks": ""
            },
            "colorscale": [
             [
              0,
              "#0d0887"
             ],
             [
              0.1111111111111111,
              "#46039f"
             ],
             [
              0.2222222222222222,
              "#7201a8"
             ],
             [
              0.3333333333333333,
              "#9c179e"
             ],
             [
              0.4444444444444444,
              "#bd3786"
             ],
             [
              0.5555555555555556,
              "#d8576b"
             ],
             [
              0.6666666666666666,
              "#ed7953"
             ],
             [
              0.7777777777777778,
              "#fb9f3a"
             ],
             [
              0.8888888888888888,
              "#fdca26"
             ],
             [
              1,
              "#f0f921"
             ]
            ],
            "type": "surface"
           }
          ],
          "table": [
           {
            "cells": {
             "fill": {
              "color": "#EBF0F8"
             },
             "line": {
              "color": "white"
             }
            },
            "header": {
             "fill": {
              "color": "#C8D4E3"
             },
             "line": {
              "color": "white"
             }
            },
            "type": "table"
           }
          ]
         },
         "layout": {
          "annotationdefaults": {
           "arrowcolor": "#2a3f5f",
           "arrowhead": 0,
           "arrowwidth": 1
          },
          "autotypenumbers": "strict",
          "coloraxis": {
           "colorbar": {
            "outlinewidth": 0,
            "ticks": ""
           }
          },
          "colorscale": {
           "diverging": [
            [
             0,
             "#8e0152"
            ],
            [
             0.1,
             "#c51b7d"
            ],
            [
             0.2,
             "#de77ae"
            ],
            [
             0.3,
             "#f1b6da"
            ],
            [
             0.4,
             "#fde0ef"
            ],
            [
             0.5,
             "#f7f7f7"
            ],
            [
             0.6,
             "#e6f5d0"
            ],
            [
             0.7,
             "#b8e186"
            ],
            [
             0.8,
             "#7fbc41"
            ],
            [
             0.9,
             "#4d9221"
            ],
            [
             1,
             "#276419"
            ]
           ],
           "sequential": [
            [
             0,
             "#0d0887"
            ],
            [
             0.1111111111111111,
             "#46039f"
            ],
            [
             0.2222222222222222,
             "#7201a8"
            ],
            [
             0.3333333333333333,
             "#9c179e"
            ],
            [
             0.4444444444444444,
             "#bd3786"
            ],
            [
             0.5555555555555556,
             "#d8576b"
            ],
            [
             0.6666666666666666,
             "#ed7953"
            ],
            [
             0.7777777777777778,
             "#fb9f3a"
            ],
            [
             0.8888888888888888,
             "#fdca26"
            ],
            [
             1,
             "#f0f921"
            ]
           ],
           "sequentialminus": [
            [
             0,
             "#0d0887"
            ],
            [
             0.1111111111111111,
             "#46039f"
            ],
            [
             0.2222222222222222,
             "#7201a8"
            ],
            [
             0.3333333333333333,
             "#9c179e"
            ],
            [
             0.4444444444444444,
             "#bd3786"
            ],
            [
             0.5555555555555556,
             "#d8576b"
            ],
            [
             0.6666666666666666,
             "#ed7953"
            ],
            [
             0.7777777777777778,
             "#fb9f3a"
            ],
            [
             0.8888888888888888,
             "#fdca26"
            ],
            [
             1,
             "#f0f921"
            ]
           ]
          },
          "colorway": [
           "#636efa",
           "#EF553B",
           "#00cc96",
           "#ab63fa",
           "#FFA15A",
           "#19d3f3",
           "#FF6692",
           "#B6E880",
           "#FF97FF",
           "#FECB52"
          ],
          "font": {
           "color": "#2a3f5f"
          },
          "geo": {
           "bgcolor": "white",
           "lakecolor": "white",
           "landcolor": "#E5ECF6",
           "showlakes": true,
           "showland": true,
           "subunitcolor": "white"
          },
          "hoverlabel": {
           "align": "left"
          },
          "hovermode": "closest",
          "mapbox": {
           "style": "light"
          },
          "paper_bgcolor": "white",
          "plot_bgcolor": "#E5ECF6",
          "polar": {
           "angularaxis": {
            "gridcolor": "white",
            "linecolor": "white",
            "ticks": ""
           },
           "bgcolor": "#E5ECF6",
           "radialaxis": {
            "gridcolor": "white",
            "linecolor": "white",
            "ticks": ""
           }
          },
          "scene": {
           "xaxis": {
            "backgroundcolor": "#E5ECF6",
            "gridcolor": "white",
            "gridwidth": 2,
            "linecolor": "white",
            "showbackground": true,
            "ticks": "",
            "zerolinecolor": "white"
           },
           "yaxis": {
            "backgroundcolor": "#E5ECF6",
            "gridcolor": "white",
            "gridwidth": 2,
            "linecolor": "white",
            "showbackground": true,
            "ticks": "",
            "zerolinecolor": "white"
           },
           "zaxis": {
            "backgroundcolor": "#E5ECF6",
            "gridcolor": "white",
            "gridwidth": 2,
            "linecolor": "white",
            "showbackground": true,
            "ticks": "",
            "zerolinecolor": "white"
           }
          },
          "shapedefaults": {
           "line": {
            "color": "#2a3f5f"
           }
          },
          "ternary": {
           "aaxis": {
            "gridcolor": "white",
            "linecolor": "white",
            "ticks": ""
           },
           "baxis": {
            "gridcolor": "white",
            "linecolor": "white",
            "ticks": ""
           },
           "bgcolor": "#E5ECF6",
           "caxis": {
            "gridcolor": "white",
            "linecolor": "white",
            "ticks": ""
           }
          },
          "title": {
           "x": 0.05
          },
          "xaxis": {
           "automargin": true,
           "gridcolor": "white",
           "linecolor": "white",
           "ticks": "",
           "title": {
            "standoff": 15
           },
           "zerolinecolor": "white",
           "zerolinewidth": 2
          },
          "yaxis": {
           "automargin": true,
           "gridcolor": "white",
           "linecolor": "white",
           "ticks": "",
           "title": {
            "standoff": 15
           },
           "zerolinecolor": "white",
           "zerolinewidth": 2
          }
         }
        },
        "width": 900,
        "xaxis": {
         "anchor": "y",
         "domain": [
          0,
          1
         ],
         "range": [
          "2002-12-03T13:12:00",
          "2026-07-24T10:48:00"
         ],
         "type": "date"
        },
        "xaxis2": {
         "anchor": "y2",
         "domain": [
          0,
          1
         ],
         "range": [
          "2016-12-13T18:54:02.958904115",
          "2018-01-18T11:04:57.863013581"
         ],
         "tickformat": "%B %e",
         "type": "date"
        },
        "xaxis3": {
         "anchor": "y3",
         "domain": [
          0,
          1
         ],
         "range": [
          "2016-12-31T16:48:00",
          "2017-01-07T07:12:00"
         ],
         "tickformat": "%A",
         "type": "date"
        },
        "yaxis": {
         "anchor": "x",
         "domain": [
          0.7333333333333333,
          1
         ],
         "rangemode": "normal",
         "title": {
          "text": "trend"
         },
         "zerolinecolor": "#AAA"
        },
        "yaxis2": {
         "anchor": "x2",
         "domain": [
          0.36666666666666664,
          0.6333333333333333
         ],
         "title": {
          "text": "yearly"
         },
         "zerolinecolor": "#AAA"
        },
        "yaxis3": {
         "anchor": "x3",
         "domain": [
          0,
          0.26666666666666666
         ],
         "title": {
          "text": "weekly"
         },
         "zerolinecolor": "#AAA"
        }
       }
      }
     },
     "metadata": {},
     "output_type": "display_data"
    }
   ],
   "source": [
    "plot_components_plotly(model, forecast)"
   ]
  },
  {
   "cell_type": "code",
   "execution_count": null,
   "id": "cf9bc919",
   "metadata": {},
   "outputs": [],
   "source": []
  }
 ],
 "metadata": {
  "kernelspec": {
   "display_name": "ml",
   "language": "python",
   "name": "python3"
  },
  "language_info": {
   "codemirror_mode": {
    "name": "ipython",
    "version": 3
   },
   "file_extension": ".py",
   "mimetype": "text/x-python",
   "name": "python",
   "nbconvert_exporter": "python",
   "pygments_lexer": "ipython3",
   "version": "3.13.3"
  }
 },
 "nbformat": 4,
 "nbformat_minor": 5
}
