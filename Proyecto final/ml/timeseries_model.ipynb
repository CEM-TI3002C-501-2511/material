{
 "cells": [
  {
   "cell_type": "markdown",
   "id": "f6e73ac2",
   "metadata": {},
   "source": [
    "# Predicción de series de tiempo con Prophet"
   ]
  },
  {
   "cell_type": "code",
   "execution_count": 1,
   "id": "b04196bb",
   "metadata": {},
   "outputs": [
    {
     "name": "stderr",
     "output_type": "stream",
     "text": [
      "c:\\Users\\L03041202\\Desktop\\TI3002C.501\\material\\Proyecto final\\ml\\.venv\\Lib\\site-packages\\tqdm\\auto.py:21: TqdmWarning: IProgress not found. Please update jupyter and ipywidgets. See https://ipywidgets.readthedocs.io/en/stable/user_install.html\n",
      "  from .autonotebook import tqdm as notebook_tqdm\n"
     ]
    }
   ],
   "source": [
    "import pandas as pd\n",
    "import joblib\n",
    "from prophet import Prophet\n",
    "from datetime import datetime\n",
    "from prophet.plot import plot_plotly, plot_components_plotly"
   ]
  },
  {
   "cell_type": "code",
   "execution_count": 2,
   "id": "4c57d87f",
   "metadata": {},
   "outputs": [],
   "source": [
    "df = pd.read_csv(\"carpetas.csv\")"
   ]
  },
  {
   "cell_type": "code",
   "execution_count": 3,
   "id": "6c259b1a",
   "metadata": {},
   "outputs": [
    {
     "data": {
      "text/html": [
       "<div>\n",
       "<style scoped>\n",
       "    .dataframe tbody tr th:only-of-type {\n",
       "        vertical-align: middle;\n",
       "    }\n",
       "\n",
       "    .dataframe tbody tr th {\n",
       "        vertical-align: top;\n",
       "    }\n",
       "\n",
       "    .dataframe thead th {\n",
       "        text-align: right;\n",
       "    }\n",
       "</style>\n",
       "<table border=\"1\" class=\"dataframe\">\n",
       "  <thead>\n",
       "    <tr style=\"text-align: right;\">\n",
       "      <th></th>\n",
       "      <th>id</th>\n",
       "      <th>inicio</th>\n",
       "      <th>delito</th>\n",
       "      <th>categoría</th>\n",
       "      <th>colonia</th>\n",
       "      <th>alcaldía</th>\n",
       "      <th>latitud</th>\n",
       "      <th>longitud</th>\n",
       "      <th>datetime</th>\n",
       "      <th>gravedad</th>\n",
       "    </tr>\n",
       "  </thead>\n",
       "  <tbody>\n",
       "    <tr>\n",
       "      <th>0</th>\n",
       "      <td>1</td>\n",
       "      <td>2016-01-01</td>\n",
       "      <td>lesiones culposas por transito vehicular en co...</td>\n",
       "      <td>delito de bajo impacto</td>\n",
       "      <td>jardines en la montaña</td>\n",
       "      <td>tlalpan</td>\n",
       "      <td>19.30086</td>\n",
       "      <td>-99.20877</td>\n",
       "      <td>2015-12-31 16:30:00</td>\n",
       "      <td>bajo impacto</td>\n",
       "    </tr>\n",
       "    <tr>\n",
       "      <th>1</th>\n",
       "      <td>2</td>\n",
       "      <td>2016-01-01</td>\n",
       "      <td>robo a pasajero a bordo de taxi con violencia</td>\n",
       "      <td>robo a pasajero a bordo de taxi con violencia</td>\n",
       "      <td>lomas de padierna</td>\n",
       "      <td>tlalpan</td>\n",
       "      <td>19.29003</td>\n",
       "      <td>-99.21748</td>\n",
       "      <td>2015-12-31 22:40:00</td>\n",
       "      <td>impacto medio</td>\n",
       "    </tr>\n",
       "    <tr>\n",
       "      <th>2</th>\n",
       "      <td>3</td>\n",
       "      <td>2016-01-01</td>\n",
       "      <td>robo a transeunte en via publica con violencia</td>\n",
       "      <td>robo a transeunte en vía pública con y sin vio...</td>\n",
       "      <td>san antonio culhuacán</td>\n",
       "      <td>iztapalapa</td>\n",
       "      <td>19.34080</td>\n",
       "      <td>-99.11431</td>\n",
       "      <td>2016-01-01 00:20:00</td>\n",
       "      <td>impacto medio</td>\n",
       "    </tr>\n",
       "    <tr>\n",
       "      <th>3</th>\n",
       "      <td>4</td>\n",
       "      <td>2016-01-01</td>\n",
       "      <td>robo de vehiculo de servicio particular sin vi...</td>\n",
       "      <td>robo de vehículo con y sin violencia</td>\n",
       "      <td>san juan de aragón ii sección</td>\n",
       "      <td>gustavo a. madero</td>\n",
       "      <td>19.45106</td>\n",
       "      <td>-99.08669</td>\n",
       "      <td>2015-12-31 22:00:00</td>\n",
       "      <td>impacto medio</td>\n",
       "    </tr>\n",
       "    <tr>\n",
       "      <th>4</th>\n",
       "      <td>5</td>\n",
       "      <td>2016-01-01</td>\n",
       "      <td>homicidios intencionales (otros)</td>\n",
       "      <td>homicidio doloso</td>\n",
       "      <td>nativitas</td>\n",
       "      <td>benito juarez</td>\n",
       "      <td>19.38095</td>\n",
       "      <td>-99.13982</td>\n",
       "      <td>2015-12-31 22:30:00</td>\n",
       "      <td>alto impacto</td>\n",
       "    </tr>\n",
       "  </tbody>\n",
       "</table>\n",
       "</div>"
      ],
      "text/plain": [
       "   id      inicio                                             delito  \\\n",
       "0   1  2016-01-01  lesiones culposas por transito vehicular en co...   \n",
       "1   2  2016-01-01      robo a pasajero a bordo de taxi con violencia   \n",
       "2   3  2016-01-01     robo a transeunte en via publica con violencia   \n",
       "3   4  2016-01-01  robo de vehiculo de servicio particular sin vi...   \n",
       "4   5  2016-01-01                   homicidios intencionales (otros)   \n",
       "\n",
       "                                           categoría  \\\n",
       "0                             delito de bajo impacto   \n",
       "1      robo a pasajero a bordo de taxi con violencia   \n",
       "2  robo a transeunte en vía pública con y sin vio...   \n",
       "3               robo de vehículo con y sin violencia   \n",
       "4                                   homicidio doloso   \n",
       "\n",
       "                         colonia           alcaldía   latitud  longitud  \\\n",
       "0         jardines en la montaña            tlalpan  19.30086 -99.20877   \n",
       "1              lomas de padierna            tlalpan  19.29003 -99.21748   \n",
       "2          san antonio culhuacán         iztapalapa  19.34080 -99.11431   \n",
       "3  san juan de aragón ii sección  gustavo a. madero  19.45106 -99.08669   \n",
       "4                      nativitas      benito juarez  19.38095 -99.13982   \n",
       "\n",
       "              datetime       gravedad  \n",
       "0  2015-12-31 16:30:00   bajo impacto  \n",
       "1  2015-12-31 22:40:00  impacto medio  \n",
       "2  2016-01-01 00:20:00  impacto medio  \n",
       "3  2015-12-31 22:00:00  impacto medio  \n",
       "4  2015-12-31 22:30:00   alto impacto  "
      ]
     },
     "execution_count": 3,
     "metadata": {},
     "output_type": "execute_result"
    }
   ],
   "source": [
    "df.head()"
   ]
  },
  {
   "cell_type": "code",
   "execution_count": 4,
   "id": "7273d2a5",
   "metadata": {},
   "outputs": [],
   "source": [
    "df[\"datetime\"] = pd.to_datetime(df[\"datetime\"], format=\"mixed\")"
   ]
  },
  {
   "cell_type": "code",
   "execution_count": 5,
   "id": "56d60065",
   "metadata": {},
   "outputs": [
    {
     "data": {
      "text/plain": [
       "array(['tlalpan', 'iztapalapa', 'gustavo a. madero', 'benito juarez',\n",
       "       'coyoacan', 'miguel hidalgo', 'azcapotzalco', 'iztacalco',\n",
       "       'alvaro obregon', 'cuauhtemoc', 'venustiano carranza',\n",
       "       'xochimilco', 'la magdalena contreras', 'tlahuac', 'milpa alta',\n",
       "       'cuajimalpa de morelos', nan], dtype=object)"
      ]
     },
     "execution_count": 5,
     "metadata": {},
     "output_type": "execute_result"
    }
   ],
   "source": [
    "df[\"alcaldía\"].unique()"
   ]
  },
  {
   "cell_type": "code",
   "execution_count": 6,
   "id": "83c91729",
   "metadata": {},
   "outputs": [
    {
     "name": "stderr",
     "output_type": "stream",
     "text": [
      "18:53:37 - cmdstanpy - INFO - Chain [1] start processing\n",
      "18:53:38 - cmdstanpy - INFO - Chain [1] done processing\n"
     ]
    },
    {
     "name": "stdout",
     "output_type": "stream",
     "text": [
      "Modelo guardado para tlalpan con gravedad bajo impacto\n"
     ]
    },
    {
     "name": "stderr",
     "output_type": "stream",
     "text": [
      "18:53:39 - cmdstanpy - INFO - Chain [1] start processing\n",
      "18:53:39 - cmdstanpy - INFO - Chain [1] done processing\n"
     ]
    },
    {
     "name": "stdout",
     "output_type": "stream",
     "text": [
      "Modelo guardado para tlalpan con gravedad impacto medio\n"
     ]
    },
    {
     "name": "stderr",
     "output_type": "stream",
     "text": [
      "18:53:39 - cmdstanpy - INFO - Chain [1] start processing\n",
      "18:53:40 - cmdstanpy - INFO - Chain [1] done processing\n"
     ]
    },
    {
     "name": "stdout",
     "output_type": "stream",
     "text": [
      "Modelo guardado para tlalpan con gravedad alto impacto\n"
     ]
    },
    {
     "name": "stderr",
     "output_type": "stream",
     "text": [
      "18:53:41 - cmdstanpy - INFO - Chain [1] start processing\n",
      "18:53:42 - cmdstanpy - INFO - Chain [1] done processing\n"
     ]
    },
    {
     "name": "stdout",
     "output_type": "stream",
     "text": [
      "Modelo guardado para iztapalapa con gravedad impacto medio\n"
     ]
    },
    {
     "name": "stderr",
     "output_type": "stream",
     "text": [
      "18:53:43 - cmdstanpy - INFO - Chain [1] start processing\n",
      "18:53:45 - cmdstanpy - INFO - Chain [1] done processing\n"
     ]
    },
    {
     "name": "stdout",
     "output_type": "stream",
     "text": [
      "Modelo guardado para iztapalapa con gravedad bajo impacto\n"
     ]
    },
    {
     "name": "stderr",
     "output_type": "stream",
     "text": [
      "18:53:46 - cmdstanpy - INFO - Chain [1] start processing\n",
      "18:53:46 - cmdstanpy - INFO - Chain [1] done processing\n"
     ]
    },
    {
     "name": "stdout",
     "output_type": "stream",
     "text": [
      "Modelo guardado para iztapalapa con gravedad alto impacto\n"
     ]
    },
    {
     "name": "stderr",
     "output_type": "stream",
     "text": [
      "18:53:47 - cmdstanpy - INFO - Chain [1] start processing\n",
      "18:53:47 - cmdstanpy - INFO - Chain [1] done processing\n"
     ]
    },
    {
     "name": "stdout",
     "output_type": "stream",
     "text": [
      "Modelo guardado para gustavo a. madero con gravedad impacto medio\n"
     ]
    },
    {
     "name": "stderr",
     "output_type": "stream",
     "text": [
      "18:53:48 - cmdstanpy - INFO - Chain [1] start processing\n",
      "18:53:48 - cmdstanpy - INFO - Chain [1] done processing\n"
     ]
    },
    {
     "name": "stdout",
     "output_type": "stream",
     "text": [
      "Modelo guardado para gustavo a. madero con gravedad alto impacto\n"
     ]
    },
    {
     "name": "stderr",
     "output_type": "stream",
     "text": [
      "18:53:49 - cmdstanpy - INFO - Chain [1] start processing\n",
      "18:53:50 - cmdstanpy - INFO - Chain [1] done processing\n"
     ]
    },
    {
     "name": "stdout",
     "output_type": "stream",
     "text": [
      "Modelo guardado para gustavo a. madero con gravedad bajo impacto\n"
     ]
    },
    {
     "name": "stderr",
     "output_type": "stream",
     "text": [
      "18:53:51 - cmdstanpy - INFO - Chain [1] start processing\n",
      "18:53:51 - cmdstanpy - INFO - Chain [1] done processing\n"
     ]
    },
    {
     "name": "stdout",
     "output_type": "stream",
     "text": [
      "Modelo guardado para benito juarez con gravedad alto impacto\n"
     ]
    },
    {
     "name": "stderr",
     "output_type": "stream",
     "text": [
      "18:53:51 - cmdstanpy - INFO - Chain [1] start processing\n",
      "18:53:52 - cmdstanpy - INFO - Chain [1] done processing\n"
     ]
    },
    {
     "name": "stdout",
     "output_type": "stream",
     "text": [
      "Modelo guardado para benito juarez con gravedad bajo impacto\n"
     ]
    },
    {
     "name": "stderr",
     "output_type": "stream",
     "text": [
      "18:53:53 - cmdstanpy - INFO - Chain [1] start processing\n",
      "18:53:53 - cmdstanpy - INFO - Chain [1] done processing\n"
     ]
    },
    {
     "name": "stdout",
     "output_type": "stream",
     "text": [
      "Modelo guardado para benito juarez con gravedad impacto medio\n"
     ]
    },
    {
     "name": "stderr",
     "output_type": "stream",
     "text": [
      "18:53:54 - cmdstanpy - INFO - Chain [1] start processing\n",
      "18:53:54 - cmdstanpy - INFO - Chain [1] done processing\n"
     ]
    },
    {
     "name": "stdout",
     "output_type": "stream",
     "text": [
      "Modelo guardado para coyoacan con gravedad impacto medio\n"
     ]
    },
    {
     "name": "stderr",
     "output_type": "stream",
     "text": [
      "18:53:55 - cmdstanpy - INFO - Chain [1] start processing\n",
      "18:53:55 - cmdstanpy - INFO - Chain [1] done processing\n",
      "18:53:56 - cmdstanpy - INFO - Chain [1] start processing\n"
     ]
    },
    {
     "name": "stdout",
     "output_type": "stream",
     "text": [
      "Modelo guardado para coyoacan con gravedad bajo impacto\n"
     ]
    },
    {
     "name": "stderr",
     "output_type": "stream",
     "text": [
      "18:53:56 - cmdstanpy - INFO - Chain [1] done processing\n"
     ]
    },
    {
     "name": "stdout",
     "output_type": "stream",
     "text": [
      "Modelo guardado para coyoacan con gravedad alto impacto\n"
     ]
    },
    {
     "name": "stderr",
     "output_type": "stream",
     "text": [
      "18:53:56 - cmdstanpy - INFO - Chain [1] start processing\n",
      "18:53:57 - cmdstanpy - INFO - Chain [1] done processing\n"
     ]
    },
    {
     "name": "stdout",
     "output_type": "stream",
     "text": [
      "Modelo guardado para miguel hidalgo con gravedad bajo impacto\n"
     ]
    },
    {
     "name": "stderr",
     "output_type": "stream",
     "text": [
      "18:53:58 - cmdstanpy - INFO - Chain [1] start processing\n",
      "18:53:58 - cmdstanpy - INFO - Chain [1] done processing\n",
      "18:53:58 - cmdstanpy - INFO - Chain [1] start processing\n"
     ]
    },
    {
     "name": "stdout",
     "output_type": "stream",
     "text": [
      "Modelo guardado para miguel hidalgo con gravedad impacto medio\n"
     ]
    },
    {
     "name": "stderr",
     "output_type": "stream",
     "text": [
      "18:53:58 - cmdstanpy - INFO - Chain [1] done processing\n"
     ]
    },
    {
     "name": "stdout",
     "output_type": "stream",
     "text": [
      "Modelo guardado para miguel hidalgo con gravedad alto impacto\n"
     ]
    },
    {
     "name": "stderr",
     "output_type": "stream",
     "text": [
      "18:53:59 - cmdstanpy - INFO - Chain [1] start processing\n",
      "18:54:00 - cmdstanpy - INFO - Chain [1] done processing\n"
     ]
    },
    {
     "name": "stdout",
     "output_type": "stream",
     "text": [
      "Modelo guardado para azcapotzalco con gravedad bajo impacto\n"
     ]
    },
    {
     "name": "stderr",
     "output_type": "stream",
     "text": [
      "18:54:01 - cmdstanpy - INFO - Chain [1] start processing\n",
      "18:54:01 - cmdstanpy - INFO - Chain [1] done processing\n"
     ]
    },
    {
     "name": "stdout",
     "output_type": "stream",
     "text": [
      "Modelo guardado para azcapotzalco con gravedad impacto medio\n"
     ]
    },
    {
     "name": "stderr",
     "output_type": "stream",
     "text": [
      "18:54:01 - cmdstanpy - INFO - Chain [1] start processing\n",
      "18:54:02 - cmdstanpy - INFO - Chain [1] done processing\n"
     ]
    },
    {
     "name": "stdout",
     "output_type": "stream",
     "text": [
      "Modelo guardado para azcapotzalco con gravedad alto impacto\n"
     ]
    },
    {
     "name": "stderr",
     "output_type": "stream",
     "text": [
      "18:54:02 - cmdstanpy - INFO - Chain [1] start processing\n",
      "18:54:03 - cmdstanpy - INFO - Chain [1] done processing\n"
     ]
    },
    {
     "name": "stdout",
     "output_type": "stream",
     "text": [
      "Modelo guardado para iztacalco con gravedad impacto medio\n"
     ]
    },
    {
     "name": "stderr",
     "output_type": "stream",
     "text": [
      "18:54:03 - cmdstanpy - INFO - Chain [1] start processing\n",
      "18:54:05 - cmdstanpy - INFO - Chain [1] done processing\n"
     ]
    },
    {
     "name": "stdout",
     "output_type": "stream",
     "text": [
      "Modelo guardado para iztacalco con gravedad bajo impacto\n"
     ]
    },
    {
     "name": "stderr",
     "output_type": "stream",
     "text": [
      "18:54:06 - cmdstanpy - INFO - Chain [1] start processing\n",
      "18:54:06 - cmdstanpy - INFO - Chain [1] done processing\n"
     ]
    },
    {
     "name": "stdout",
     "output_type": "stream",
     "text": [
      "Modelo guardado para iztacalco con gravedad alto impacto\n"
     ]
    },
    {
     "name": "stderr",
     "output_type": "stream",
     "text": [
      "18:54:06 - cmdstanpy - INFO - Chain [1] start processing\n",
      "18:54:07 - cmdstanpy - INFO - Chain [1] done processing\n"
     ]
    },
    {
     "name": "stdout",
     "output_type": "stream",
     "text": [
      "Modelo guardado para alvaro obregon con gravedad alto impacto\n"
     ]
    },
    {
     "name": "stderr",
     "output_type": "stream",
     "text": [
      "18:54:07 - cmdstanpy - INFO - Chain [1] start processing\n",
      "18:54:09 - cmdstanpy - INFO - Chain [1] done processing\n"
     ]
    },
    {
     "name": "stdout",
     "output_type": "stream",
     "text": [
      "Modelo guardado para alvaro obregon con gravedad bajo impacto\n"
     ]
    },
    {
     "name": "stderr",
     "output_type": "stream",
     "text": [
      "18:54:09 - cmdstanpy - INFO - Chain [1] start processing\n",
      "18:54:10 - cmdstanpy - INFO - Chain [1] done processing\n"
     ]
    },
    {
     "name": "stdout",
     "output_type": "stream",
     "text": [
      "Modelo guardado para alvaro obregon con gravedad impacto medio\n"
     ]
    },
    {
     "name": "stderr",
     "output_type": "stream",
     "text": [
      "18:54:11 - cmdstanpy - INFO - Chain [1] start processing\n",
      "18:54:11 - cmdstanpy - INFO - Chain [1] done processing\n"
     ]
    },
    {
     "name": "stdout",
     "output_type": "stream",
     "text": [
      "Modelo guardado para cuauhtemoc con gravedad alto impacto\n"
     ]
    },
    {
     "name": "stderr",
     "output_type": "stream",
     "text": [
      "18:54:11 - cmdstanpy - INFO - Chain [1] start processing\n",
      "18:54:14 - cmdstanpy - INFO - Chain [1] done processing\n"
     ]
    },
    {
     "name": "stdout",
     "output_type": "stream",
     "text": [
      "Modelo guardado para cuauhtemoc con gravedad bajo impacto\n"
     ]
    },
    {
     "name": "stderr",
     "output_type": "stream",
     "text": [
      "18:54:14 - cmdstanpy - INFO - Chain [1] start processing\n",
      "18:54:16 - cmdstanpy - INFO - Chain [1] done processing\n"
     ]
    },
    {
     "name": "stdout",
     "output_type": "stream",
     "text": [
      "Modelo guardado para cuauhtemoc con gravedad impacto medio\n"
     ]
    },
    {
     "name": "stderr",
     "output_type": "stream",
     "text": [
      "18:54:16 - cmdstanpy - INFO - Chain [1] start processing\n",
      "18:54:17 - cmdstanpy - INFO - Chain [1] done processing\n"
     ]
    },
    {
     "name": "stdout",
     "output_type": "stream",
     "text": [
      "Modelo guardado para venustiano carranza con gravedad bajo impacto\n"
     ]
    },
    {
     "name": "stderr",
     "output_type": "stream",
     "text": [
      "18:54:17 - cmdstanpy - INFO - Chain [1] start processing\n",
      "18:54:17 - cmdstanpy - INFO - Chain [1] done processing\n",
      "18:54:18 - cmdstanpy - INFO - Chain [1] start processing\n"
     ]
    },
    {
     "name": "stdout",
     "output_type": "stream",
     "text": [
      "Modelo guardado para venustiano carranza con gravedad impacto medio\n"
     ]
    },
    {
     "name": "stderr",
     "output_type": "stream",
     "text": [
      "18:54:18 - cmdstanpy - INFO - Chain [1] done processing\n"
     ]
    },
    {
     "name": "stdout",
     "output_type": "stream",
     "text": [
      "Modelo guardado para venustiano carranza con gravedad alto impacto\n"
     ]
    },
    {
     "name": "stderr",
     "output_type": "stream",
     "text": [
      "18:54:18 - cmdstanpy - INFO - Chain [1] start processing\n",
      "18:54:19 - cmdstanpy - INFO - Chain [1] done processing\n"
     ]
    },
    {
     "name": "stdout",
     "output_type": "stream",
     "text": [
      "Modelo guardado para xochimilco con gravedad bajo impacto\n"
     ]
    },
    {
     "name": "stderr",
     "output_type": "stream",
     "text": [
      "18:54:19 - cmdstanpy - INFO - Chain [1] start processing\n",
      "18:54:19 - cmdstanpy - INFO - Chain [1] done processing\n",
      "18:54:20 - cmdstanpy - INFO - Chain [1] start processing\n"
     ]
    },
    {
     "name": "stdout",
     "output_type": "stream",
     "text": [
      "Modelo guardado para xochimilco con gravedad impacto medio\n"
     ]
    },
    {
     "name": "stderr",
     "output_type": "stream",
     "text": [
      "18:54:20 - cmdstanpy - INFO - Chain [1] done processing\n"
     ]
    },
    {
     "name": "stdout",
     "output_type": "stream",
     "text": [
      "Modelo guardado para xochimilco con gravedad alto impacto\n"
     ]
    },
    {
     "name": "stderr",
     "output_type": "stream",
     "text": [
      "18:54:20 - cmdstanpy - INFO - Chain [1] start processing\n",
      "18:54:21 - cmdstanpy - INFO - Chain [1] done processing\n"
     ]
    },
    {
     "name": "stdout",
     "output_type": "stream",
     "text": [
      "Modelo guardado para la magdalena contreras con gravedad bajo impacto\n"
     ]
    },
    {
     "name": "stderr",
     "output_type": "stream",
     "text": [
      "18:54:21 - cmdstanpy - INFO - Chain [1] start processing\n",
      "18:54:21 - cmdstanpy - INFO - Chain [1] done processing\n",
      "18:54:22 - cmdstanpy - INFO - Chain [1] start processing\n"
     ]
    },
    {
     "name": "stdout",
     "output_type": "stream",
     "text": [
      "Modelo guardado para la magdalena contreras con gravedad impacto medio\n"
     ]
    },
    {
     "name": "stderr",
     "output_type": "stream",
     "text": [
      "18:54:22 - cmdstanpy - INFO - Chain [1] done processing\n"
     ]
    },
    {
     "name": "stdout",
     "output_type": "stream",
     "text": [
      "Modelo guardado para la magdalena contreras con gravedad alto impacto\n"
     ]
    },
    {
     "name": "stderr",
     "output_type": "stream",
     "text": [
      "18:54:22 - cmdstanpy - INFO - Chain [1] start processing\n",
      "18:54:23 - cmdstanpy - INFO - Chain [1] done processing\n"
     ]
    },
    {
     "name": "stdout",
     "output_type": "stream",
     "text": [
      "Modelo guardado para tlahuac con gravedad bajo impacto\n"
     ]
    },
    {
     "name": "stderr",
     "output_type": "stream",
     "text": [
      "18:54:23 - cmdstanpy - INFO - Chain [1] start processing\n",
      "18:54:23 - cmdstanpy - INFO - Chain [1] done processing\n"
     ]
    },
    {
     "name": "stdout",
     "output_type": "stream",
     "text": [
      "Modelo guardado para tlahuac con gravedad impacto medio\n"
     ]
    },
    {
     "name": "stderr",
     "output_type": "stream",
     "text": [
      "18:54:24 - cmdstanpy - INFO - Chain [1] start processing\n",
      "18:54:24 - cmdstanpy - INFO - Chain [1] done processing\n"
     ]
    },
    {
     "name": "stdout",
     "output_type": "stream",
     "text": [
      "Modelo guardado para tlahuac con gravedad alto impacto\n"
     ]
    },
    {
     "name": "stderr",
     "output_type": "stream",
     "text": [
      "18:54:24 - cmdstanpy - INFO - Chain [1] start processing\n",
      "18:54:25 - cmdstanpy - INFO - Chain [1] done processing\n",
      "18:54:25 - cmdstanpy - INFO - Chain [1] start processing\n"
     ]
    },
    {
     "name": "stdout",
     "output_type": "stream",
     "text": [
      "Modelo guardado para milpa alta con gravedad bajo impacto\n"
     ]
    },
    {
     "name": "stderr",
     "output_type": "stream",
     "text": [
      "18:54:25 - cmdstanpy - INFO - Chain [1] done processing\n",
      "18:54:25 - cmdstanpy - INFO - Chain [1] start processing\n"
     ]
    },
    {
     "name": "stdout",
     "output_type": "stream",
     "text": [
      "Modelo guardado para milpa alta con gravedad impacto medio\n"
     ]
    },
    {
     "name": "stderr",
     "output_type": "stream",
     "text": [
      "18:54:25 - cmdstanpy - INFO - Chain [1] done processing\n"
     ]
    },
    {
     "name": "stdout",
     "output_type": "stream",
     "text": [
      "Modelo guardado para milpa alta con gravedad alto impacto\n"
     ]
    },
    {
     "name": "stderr",
     "output_type": "stream",
     "text": [
      "18:54:26 - cmdstanpy - INFO - Chain [1] start processing\n",
      "18:54:26 - cmdstanpy - INFO - Chain [1] done processing\n"
     ]
    },
    {
     "name": "stdout",
     "output_type": "stream",
     "text": [
      "Modelo guardado para cuajimalpa de morelos con gravedad bajo impacto\n"
     ]
    },
    {
     "name": "stderr",
     "output_type": "stream",
     "text": [
      "18:54:27 - cmdstanpy - INFO - Chain [1] start processing\n",
      "18:54:27 - cmdstanpy - INFO - Chain [1] done processing\n"
     ]
    },
    {
     "name": "stdout",
     "output_type": "stream",
     "text": [
      "Modelo guardado para cuajimalpa de morelos con gravedad impacto medio\n"
     ]
    },
    {
     "name": "stderr",
     "output_type": "stream",
     "text": [
      "18:54:27 - cmdstanpy - INFO - Chain [1] start processing\n",
      "18:54:27 - cmdstanpy - INFO - Chain [1] done processing\n"
     ]
    },
    {
     "name": "stdout",
     "output_type": "stream",
     "text": [
      "Modelo guardado para cuajimalpa de morelos con gravedad alto impacto\n"
     ]
    }
   ],
   "source": [
    "for alcaldia in df[\"alcaldía\"].unique():\n",
    "    df_alcaldia = df[df[\"alcaldía\"] == alcaldia]\n",
    "    for gravedad in df_alcaldia[\"gravedad\"].unique():\n",
    "        df_gravedad = df_alcaldia[df_alcaldia[\"gravedad\"] == gravedad]\n",
    "        df_gravedad = df_gravedad.groupby(df_alcaldia[\"datetime\"].dt.date).size().reset_index(name=\"count\")\n",
    "        model = Prophet()\n",
    "        model.fit(df_gravedad.rename(columns={\"datetime\": \"ds\", \"count\": \"y\"}))\n",
    "        joblib.dump(model, f\"modelos/{alcaldia}_{gravedad}.joblib\")\n",
    "        print(f\"Modelo guardado para {alcaldia} con gravedad {gravedad}\")"
   ]
  },
  {
   "cell_type": "code",
   "execution_count": 7,
   "id": "ff4f981d",
   "metadata": {},
   "outputs": [
    {
     "data": {
      "text/html": [
       "<div>\n",
       "<style scoped>\n",
       "    .dataframe tbody tr th:only-of-type {\n",
       "        vertical-align: middle;\n",
       "    }\n",
       "\n",
       "    .dataframe tbody tr th {\n",
       "        vertical-align: top;\n",
       "    }\n",
       "\n",
       "    .dataframe thead th {\n",
       "        text-align: right;\n",
       "    }\n",
       "</style>\n",
       "<table border=\"1\" class=\"dataframe\">\n",
       "  <thead>\n",
       "    <tr style=\"text-align: right;\">\n",
       "      <th></th>\n",
       "      <th>ds</th>\n",
       "      <th>yhat</th>\n",
       "      <th>yhat_lower</th>\n",
       "      <th>yhat_upper</th>\n",
       "    </tr>\n",
       "  </thead>\n",
       "  <tbody>\n",
       "    <tr>\n",
       "      <th>0</th>\n",
       "      <td>2003-12-31 00:00:00</td>\n",
       "      <td>1.273897</td>\n",
       "      <td>0.976061</td>\n",
       "      <td>1.585346</td>\n",
       "    </tr>\n",
       "    <tr>\n",
       "      <th>1</th>\n",
       "      <td>2004-02-15 00:00:00</td>\n",
       "      <td>1.118255</td>\n",
       "      <td>0.792906</td>\n",
       "      <td>1.406970</td>\n",
       "    </tr>\n",
       "    <tr>\n",
       "      <th>2</th>\n",
       "      <td>2008-04-17 00:00:00</td>\n",
       "      <td>1.085759</td>\n",
       "      <td>0.784716</td>\n",
       "      <td>1.386732</td>\n",
       "    </tr>\n",
       "    <tr>\n",
       "      <th>3</th>\n",
       "      <td>2009-09-01 00:00:00</td>\n",
       "      <td>0.936514</td>\n",
       "      <td>0.605585</td>\n",
       "      <td>1.242174</td>\n",
       "    </tr>\n",
       "    <tr>\n",
       "      <th>4</th>\n",
       "      <td>2009-10-24 00:00:00</td>\n",
       "      <td>0.991827</td>\n",
       "      <td>0.685811</td>\n",
       "      <td>1.295910</td>\n",
       "    </tr>\n",
       "    <tr>\n",
       "      <th>...</th>\n",
       "      <td>...</td>\n",
       "      <td>...</td>\n",
       "      <td>...</td>\n",
       "      <td>...</td>\n",
       "    </tr>\n",
       "    <tr>\n",
       "      <th>363</th>\n",
       "      <td>2025-01-28 20:00:00</td>\n",
       "      <td>0.931283</td>\n",
       "      <td>0.635400</td>\n",
       "      <td>1.248444</td>\n",
       "    </tr>\n",
       "    <tr>\n",
       "      <th>364</th>\n",
       "      <td>2025-01-28 21:00:00</td>\n",
       "      <td>0.934249</td>\n",
       "      <td>0.633851</td>\n",
       "      <td>1.228588</td>\n",
       "    </tr>\n",
       "    <tr>\n",
       "      <th>365</th>\n",
       "      <td>2025-01-28 22:00:00</td>\n",
       "      <td>0.937116</td>\n",
       "      <td>0.619700</td>\n",
       "      <td>1.222540</td>\n",
       "    </tr>\n",
       "    <tr>\n",
       "      <th>366</th>\n",
       "      <td>2025-01-28 23:00:00</td>\n",
       "      <td>0.939865</td>\n",
       "      <td>0.638552</td>\n",
       "      <td>1.263462</td>\n",
       "    </tr>\n",
       "    <tr>\n",
       "      <th>367</th>\n",
       "      <td>2025-01-29 00:00:00</td>\n",
       "      <td>0.942477</td>\n",
       "      <td>0.624548</td>\n",
       "      <td>1.250494</td>\n",
       "    </tr>\n",
       "  </tbody>\n",
       "</table>\n",
       "<p>368 rows × 4 columns</p>\n",
       "</div>"
      ],
      "text/plain": [
       "                     ds      yhat  yhat_lower  yhat_upper\n",
       "0   2003-12-31 00:00:00  1.273897    0.976061    1.585346\n",
       "1   2004-02-15 00:00:00  1.118255    0.792906    1.406970\n",
       "2   2008-04-17 00:00:00  1.085759    0.784716    1.386732\n",
       "3   2009-09-01 00:00:00  0.936514    0.605585    1.242174\n",
       "4   2009-10-24 00:00:00  0.991827    0.685811    1.295910\n",
       "..                  ...       ...         ...         ...\n",
       "363 2025-01-28 20:00:00  0.931283    0.635400    1.248444\n",
       "364 2025-01-28 21:00:00  0.934249    0.633851    1.228588\n",
       "365 2025-01-28 22:00:00  0.937116    0.619700    1.222540\n",
       "366 2025-01-28 23:00:00  0.939865    0.638552    1.263462\n",
       "367 2025-01-29 00:00:00  0.942477    0.624548    1.250494\n",
       "\n",
       "[368 rows x 4 columns]"
      ]
     },
     "execution_count": 7,
     "metadata": {},
     "output_type": "execute_result"
    }
   ],
   "source": [
    "fecha_futura = pd.to_datetime(\"2025-01-01\")\n",
    "future = model.make_future_dataframe(periods=24, freq=\"h\")\n",
    "forecast = model.predict(future)\n",
    "predictions = forecast[['ds', 'yhat', 'yhat_lower', 'yhat_upper']]\n",
    "predictions"
   ]
  },
  {
   "cell_type": "code",
   "execution_count": 8,
   "id": "db7ce020",
   "metadata": {},
   "outputs": [
    {
     "data": {
      "application/vnd.plotly.v1+json": {
       "config": {
        "plotlyServerURL": "https://plot.ly"
       },
       "data": [
        {
         "marker": {
          "color": "black",
          "size": 4
         },
         "mode": "markers",
         "name": "Actual",
         "type": "scatter",
         "x": [
          "2003-12-31T00:00:00.000000000",
          "2004-02-15T00:00:00.000000000",
          "2008-04-17T00:00:00.000000000",
          "2009-09-01T00:00:00.000000000",
          "2009-10-24T00:00:00.000000000",
          "2010-10-29T00:00:00.000000000",
          "2010-12-12T00:00:00.000000000",
          "2011-05-01T00:00:00.000000000",
          "2012-01-01T00:00:00.000000000",
          "2012-02-15T00:00:00.000000000",
          "2013-12-28T00:00:00.000000000",
          "2014-03-10T00:00:00.000000000",
          "2015-11-15T00:00:00.000000000",
          "2016-02-11T00:00:00.000000000",
          "2016-04-09T00:00:00.000000000",
          "2016-05-02T00:00:00.000000000",
          "2016-05-06T00:00:00.000000000",
          "2016-05-20T00:00:00.000000000",
          "2016-06-03T00:00:00.000000000",
          "2016-06-08T00:00:00.000000000",
          "2016-08-09T00:00:00.000000000",
          "2016-08-12T00:00:00.000000000",
          "2016-08-25T00:00:00.000000000",
          "2016-09-17T00:00:00.000000000",
          "2016-09-21T00:00:00.000000000",
          "2016-09-25T00:00:00.000000000",
          "2016-10-17T00:00:00.000000000",
          "2016-11-29T00:00:00.000000000",
          "2016-12-04T00:00:00.000000000",
          "2016-12-08T00:00:00.000000000",
          "2016-12-12T00:00:00.000000000",
          "2016-12-13T00:00:00.000000000",
          "2016-12-15T00:00:00.000000000",
          "2016-12-29T00:00:00.000000000",
          "2017-03-17T00:00:00.000000000",
          "2017-03-31T00:00:00.000000000",
          "2017-04-07T00:00:00.000000000",
          "2017-04-08T00:00:00.000000000",
          "2017-04-23T00:00:00.000000000",
          "2017-05-01T00:00:00.000000000",
          "2017-05-05T00:00:00.000000000",
          "2017-05-25T00:00:00.000000000",
          "2017-06-06T00:00:00.000000000",
          "2017-07-06T00:00:00.000000000",
          "2017-07-16T00:00:00.000000000",
          "2017-07-17T00:00:00.000000000",
          "2017-07-30T00:00:00.000000000",
          "2017-08-24T00:00:00.000000000",
          "2017-09-15T00:00:00.000000000",
          "2017-09-17T00:00:00.000000000",
          "2017-09-27T00:00:00.000000000",
          "2017-10-02T00:00:00.000000000",
          "2017-10-08T00:00:00.000000000",
          "2017-10-12T00:00:00.000000000",
          "2017-10-13T00:00:00.000000000",
          "2017-11-05T00:00:00.000000000",
          "2017-11-28T00:00:00.000000000",
          "2017-12-02T00:00:00.000000000",
          "2017-12-14T00:00:00.000000000",
          "2017-12-17T00:00:00.000000000",
          "2017-12-23T00:00:00.000000000",
          "2017-12-31T00:00:00.000000000",
          "2018-01-18T00:00:00.000000000",
          "2018-02-25T00:00:00.000000000",
          "2018-03-03T00:00:00.000000000",
          "2018-03-04T00:00:00.000000000",
          "2018-03-10T00:00:00.000000000",
          "2018-03-16T00:00:00.000000000",
          "2018-03-29T00:00:00.000000000",
          "2018-03-30T00:00:00.000000000",
          "2018-04-01T00:00:00.000000000",
          "2018-04-04T00:00:00.000000000",
          "2018-04-14T00:00:00.000000000",
          "2018-04-22T00:00:00.000000000",
          "2018-05-04T00:00:00.000000000",
          "2018-05-12T00:00:00.000000000",
          "2018-05-16T00:00:00.000000000",
          "2018-06-03T00:00:00.000000000",
          "2018-06-20T00:00:00.000000000",
          "2018-06-25T00:00:00.000000000",
          "2018-07-05T00:00:00.000000000",
          "2018-07-14T00:00:00.000000000",
          "2018-07-21T00:00:00.000000000",
          "2018-08-01T00:00:00.000000000",
          "2018-08-05T00:00:00.000000000",
          "2018-08-23T00:00:00.000000000",
          "2018-09-01T00:00:00.000000000",
          "2018-09-07T00:00:00.000000000",
          "2018-09-10T00:00:00.000000000",
          "2018-09-16T00:00:00.000000000",
          "2018-10-08T00:00:00.000000000",
          "2018-10-10T00:00:00.000000000",
          "2018-10-14T00:00:00.000000000",
          "2018-10-23T00:00:00.000000000",
          "2018-11-03T00:00:00.000000000",
          "2018-11-10T00:00:00.000000000",
          "2018-11-12T00:00:00.000000000",
          "2018-11-13T00:00:00.000000000",
          "2018-12-02T00:00:00.000000000",
          "2018-12-05T00:00:00.000000000",
          "2018-12-07T00:00:00.000000000",
          "2018-12-15T00:00:00.000000000",
          "2019-01-08T00:00:00.000000000",
          "2019-01-09T00:00:00.000000000",
          "2019-01-17T00:00:00.000000000",
          "2019-02-07T00:00:00.000000000",
          "2019-02-18T00:00:00.000000000",
          "2019-02-28T00:00:00.000000000",
          "2019-03-01T00:00:00.000000000",
          "2019-03-13T00:00:00.000000000",
          "2019-03-16T00:00:00.000000000",
          "2019-03-28T00:00:00.000000000",
          "2019-03-29T00:00:00.000000000",
          "2019-04-01T00:00:00.000000000",
          "2019-04-03T00:00:00.000000000",
          "2019-04-09T00:00:00.000000000",
          "2019-04-14T00:00:00.000000000",
          "2019-04-17T00:00:00.000000000",
          "2019-04-29T00:00:00.000000000",
          "2019-05-03T00:00:00.000000000",
          "2019-05-08T00:00:00.000000000",
          "2019-05-10T00:00:00.000000000",
          "2019-06-02T00:00:00.000000000",
          "2019-06-18T00:00:00.000000000",
          "2019-06-27T00:00:00.000000000",
          "2019-06-29T00:00:00.000000000",
          "2019-06-30T00:00:00.000000000",
          "2019-07-09T00:00:00.000000000",
          "2019-07-14T00:00:00.000000000",
          "2019-07-27T00:00:00.000000000",
          "2019-08-16T00:00:00.000000000",
          "2019-08-19T00:00:00.000000000",
          "2019-08-21T00:00:00.000000000",
          "2019-09-04T00:00:00.000000000",
          "2019-09-06T00:00:00.000000000",
          "2019-09-11T00:00:00.000000000",
          "2019-09-22T00:00:00.000000000",
          "2019-09-30T00:00:00.000000000",
          "2019-10-04T00:00:00.000000000",
          "2019-10-11T00:00:00.000000000",
          "2019-10-19T00:00:00.000000000",
          "2019-10-20T00:00:00.000000000",
          "2019-10-26T00:00:00.000000000",
          "2019-11-01T00:00:00.000000000",
          "2019-11-03T00:00:00.000000000",
          "2019-11-11T00:00:00.000000000",
          "2019-11-16T00:00:00.000000000",
          "2019-11-17T00:00:00.000000000",
          "2019-11-21T00:00:00.000000000",
          "2019-12-07T00:00:00.000000000",
          "2019-12-12T00:00:00.000000000",
          "2019-12-21T00:00:00.000000000",
          "2019-12-23T00:00:00.000000000",
          "2020-01-19T00:00:00.000000000",
          "2020-02-01T00:00:00.000000000",
          "2020-02-06T00:00:00.000000000",
          "2020-02-15T00:00:00.000000000",
          "2020-02-20T00:00:00.000000000",
          "2020-03-07T00:00:00.000000000",
          "2020-03-17T00:00:00.000000000",
          "2020-03-19T00:00:00.000000000",
          "2020-03-27T00:00:00.000000000",
          "2020-04-09T00:00:00.000000000",
          "2020-04-17T00:00:00.000000000",
          "2020-05-02T00:00:00.000000000",
          "2020-06-07T00:00:00.000000000",
          "2020-06-11T00:00:00.000000000",
          "2020-06-14T00:00:00.000000000",
          "2020-06-17T00:00:00.000000000",
          "2020-06-27T00:00:00.000000000",
          "2020-07-17T00:00:00.000000000",
          "2020-07-22T00:00:00.000000000",
          "2020-07-25T00:00:00.000000000",
          "2020-08-30T00:00:00.000000000",
          "2020-09-20T00:00:00.000000000",
          "2020-09-21T00:00:00.000000000",
          "2020-10-05T00:00:00.000000000",
          "2020-10-15T00:00:00.000000000",
          "2020-10-27T00:00:00.000000000",
          "2020-11-01T00:00:00.000000000",
          "2020-11-02T00:00:00.000000000",
          "2020-12-05T00:00:00.000000000",
          "2020-12-21T00:00:00.000000000",
          "2020-12-24T00:00:00.000000000",
          "2020-12-25T00:00:00.000000000",
          "2021-01-08T00:00:00.000000000",
          "2021-01-11T00:00:00.000000000",
          "2021-01-20T00:00:00.000000000",
          "2021-01-23T00:00:00.000000000",
          "2021-02-01T00:00:00.000000000",
          "2021-02-21T00:00:00.000000000",
          "2021-02-24T00:00:00.000000000",
          "2021-03-01T00:00:00.000000000",
          "2021-03-06T00:00:00.000000000",
          "2021-03-12T00:00:00.000000000",
          "2021-03-20T00:00:00.000000000",
          "2021-03-30T00:00:00.000000000",
          "2021-04-01T00:00:00.000000000",
          "2021-04-13T00:00:00.000000000",
          "2021-04-18T00:00:00.000000000",
          "2021-05-04T00:00:00.000000000",
          "2021-05-06T00:00:00.000000000",
          "2021-05-10T00:00:00.000000000",
          "2021-05-13T00:00:00.000000000",
          "2021-05-21T00:00:00.000000000",
          "2021-05-23T00:00:00.000000000",
          "2021-06-02T00:00:00.000000000",
          "2021-06-04T00:00:00.000000000",
          "2021-06-07T00:00:00.000000000",
          "2021-07-15T00:00:00.000000000",
          "2021-07-17T00:00:00.000000000",
          "2021-07-31T00:00:00.000000000",
          "2021-08-20T00:00:00.000000000",
          "2021-08-21T00:00:00.000000000",
          "2021-09-01T00:00:00.000000000",
          "2021-09-04T00:00:00.000000000",
          "2021-09-09T00:00:00.000000000",
          "2021-09-26T00:00:00.000000000",
          "2021-10-01T00:00:00.000000000",
          "2021-10-10T00:00:00.000000000",
          "2021-10-16T00:00:00.000000000",
          "2021-11-07T00:00:00.000000000",
          "2021-11-17T00:00:00.000000000",
          "2021-11-20T00:00:00.000000000",
          "2021-12-01T00:00:00.000000000",
          "2022-01-05T00:00:00.000000000",
          "2022-01-24T00:00:00.000000000",
          "2022-02-20T00:00:00.000000000",
          "2022-02-22T00:00:00.000000000",
          "2022-03-13T00:00:00.000000000",
          "2022-03-15T00:00:00.000000000",
          "2022-03-19T00:00:00.000000000",
          "2022-03-21T00:00:00.000000000",
          "2022-03-27T00:00:00.000000000",
          "2022-03-31T00:00:00.000000000",
          "2022-04-07T00:00:00.000000000",
          "2022-04-09T00:00:00.000000000",
          "2022-04-15T00:00:00.000000000",
          "2022-04-16T00:00:00.000000000",
          "2022-04-26T00:00:00.000000000",
          "2022-04-30T00:00:00.000000000",
          "2022-05-03T00:00:00.000000000",
          "2022-05-04T00:00:00.000000000",
          "2022-06-04T00:00:00.000000000",
          "2022-06-17T00:00:00.000000000",
          "2022-07-02T00:00:00.000000000",
          "2022-07-06T00:00:00.000000000",
          "2022-07-21T00:00:00.000000000",
          "2022-07-24T00:00:00.000000000",
          "2022-07-29T00:00:00.000000000",
          "2022-08-05T00:00:00.000000000",
          "2022-08-08T00:00:00.000000000",
          "2022-08-10T00:00:00.000000000",
          "2022-08-17T00:00:00.000000000",
          "2022-08-23T00:00:00.000000000",
          "2022-08-31T00:00:00.000000000",
          "2022-09-10T00:00:00.000000000",
          "2022-09-21T00:00:00.000000000",
          "2022-10-01T00:00:00.000000000",
          "2022-10-10T00:00:00.000000000",
          "2022-10-13T00:00:00.000000000",
          "2022-10-24T00:00:00.000000000",
          "2022-10-26T00:00:00.000000000",
          "2022-12-04T00:00:00.000000000",
          "2022-12-06T00:00:00.000000000",
          "2022-12-16T00:00:00.000000000",
          "2022-12-29T00:00:00.000000000",
          "2022-12-31T00:00:00.000000000",
          "2023-01-17T00:00:00.000000000",
          "2023-01-22T00:00:00.000000000",
          "2023-02-11T00:00:00.000000000",
          "2023-02-14T00:00:00.000000000",
          "2023-03-02T00:00:00.000000000",
          "2023-03-07T00:00:00.000000000",
          "2023-03-10T00:00:00.000000000",
          "2023-03-11T00:00:00.000000000",
          "2023-03-17T00:00:00.000000000",
          "2023-03-18T00:00:00.000000000",
          "2023-03-24T00:00:00.000000000",
          "2023-03-28T00:00:00.000000000",
          "2023-03-29T00:00:00.000000000",
          "2023-03-31T00:00:00.000000000",
          "2023-04-16T00:00:00.000000000",
          "2023-05-01T00:00:00.000000000",
          "2023-05-22T00:00:00.000000000",
          "2023-05-23T00:00:00.000000000",
          "2023-05-26T00:00:00.000000000",
          "2023-05-29T00:00:00.000000000",
          "2023-06-17T00:00:00.000000000",
          "2023-07-08T00:00:00.000000000",
          "2023-07-20T00:00:00.000000000",
          "2023-07-22T00:00:00.000000000",
          "2023-07-23T00:00:00.000000000",
          "2023-08-03T00:00:00.000000000",
          "2023-08-04T00:00:00.000000000",
          "2023-08-21T00:00:00.000000000",
          "2023-08-31T00:00:00.000000000",
          "2023-09-02T00:00:00.000000000",
          "2023-09-06T00:00:00.000000000",
          "2023-09-13T00:00:00.000000000",
          "2023-09-20T00:00:00.000000000",
          "2023-09-30T00:00:00.000000000",
          "2023-10-28T00:00:00.000000000",
          "2023-11-09T00:00:00.000000000",
          "2023-11-29T00:00:00.000000000",
          "2023-12-08T00:00:00.000000000",
          "2023-12-09T00:00:00.000000000",
          "2023-12-24T00:00:00.000000000",
          "2024-01-13T00:00:00.000000000",
          "2024-01-16T00:00:00.000000000",
          "2024-03-01T00:00:00.000000000",
          "2024-03-08T00:00:00.000000000",
          "2024-03-09T00:00:00.000000000",
          "2024-03-22T00:00:00.000000000",
          "2024-04-01T00:00:00.000000000",
          "2024-05-03T00:00:00.000000000",
          "2024-05-17T00:00:00.000000000",
          "2024-06-16T00:00:00.000000000",
          "2024-06-17T00:00:00.000000000",
          "2024-06-18T00:00:00.000000000",
          "2024-06-21T00:00:00.000000000",
          "2024-07-13T00:00:00.000000000",
          "2024-07-19T00:00:00.000000000",
          "2024-07-26T00:00:00.000000000",
          "2024-08-10T00:00:00.000000000",
          "2024-08-12T00:00:00.000000000",
          "2024-08-13T00:00:00.000000000",
          "2024-08-25T00:00:00.000000000",
          "2024-08-26T00:00:00.000000000",
          "2024-09-01T00:00:00.000000000",
          "2024-09-02T00:00:00.000000000",
          "2024-09-03T00:00:00.000000000",
          "2024-09-09T00:00:00.000000000",
          "2024-09-10T00:00:00.000000000",
          "2024-09-13T00:00:00.000000000",
          "2024-09-18T00:00:00.000000000",
          "2024-09-27T00:00:00.000000000",
          "2024-10-22T00:00:00.000000000",
          "2024-10-24T00:00:00.000000000",
          "2024-10-28T00:00:00.000000000",
          "2024-12-21T00:00:00.000000000",
          "2025-01-16T00:00:00.000000000",
          "2025-01-18T00:00:00.000000000",
          "2025-01-28T00:00:00.000000000"
         ],
         "y": {
          "bdata": "AQEBAQEBAQEDAQEBAQEBAQEBAQEBAQEBAQEBAQEBAQEBAgEBAQEBAQEBAQEBAQEBAQEBAQEBAQEBAQEBAQEBAQEBAQEBAQEBAQEBAQEBAQEBAQEBAgEBAQECAQEBAQEBAgEBAQEBAQEBAQEBAQEBAQECAQEBAQICAQEBAQEBAQECAQEBAQEBAQEBAQEBAQEBAQEBAQEBAQEBAQEBAQIBAQEBAQEBAQEBAQEBAgEBAQEBAQEBAQECAgEBAQEBAQEBAQEBAQEBAQEBAQEBAQEBAQEBAQEBAQEBAQEBAQEBAgEBAQEBAQEBAQEBAQEBAQEBAQEBAQIBAQEBAQEBAQEBAQEBAQEBAgEBAQEBAQEBAQEBAQEBAQEBAQEBAgEBAQEBAQEBAQIBAQEBAQEBAQIBAQEBAQEBAQEBAQEBAQEBAQEBAQECAQEBAQEBAQEBAQEBAQEBAgEBAQE=",
          "dtype": "i1"
         }
        },
        {
         "hoverinfo": "skip",
         "line": {
          "width": 0
         },
         "mode": "lines",
         "type": "scatter",
         "x": [
          "2003-12-31T00:00:00.000000000",
          "2004-02-15T00:00:00.000000000",
          "2008-04-17T00:00:00.000000000",
          "2009-09-01T00:00:00.000000000",
          "2009-10-24T00:00:00.000000000",
          "2010-10-29T00:00:00.000000000",
          "2010-12-12T00:00:00.000000000",
          "2011-05-01T00:00:00.000000000",
          "2012-01-01T00:00:00.000000000",
          "2012-02-15T00:00:00.000000000",
          "2013-12-28T00:00:00.000000000",
          "2014-03-10T00:00:00.000000000",
          "2015-11-15T00:00:00.000000000",
          "2016-02-11T00:00:00.000000000",
          "2016-04-09T00:00:00.000000000",
          "2016-05-02T00:00:00.000000000",
          "2016-05-06T00:00:00.000000000",
          "2016-05-20T00:00:00.000000000",
          "2016-06-03T00:00:00.000000000",
          "2016-06-08T00:00:00.000000000",
          "2016-08-09T00:00:00.000000000",
          "2016-08-12T00:00:00.000000000",
          "2016-08-25T00:00:00.000000000",
          "2016-09-17T00:00:00.000000000",
          "2016-09-21T00:00:00.000000000",
          "2016-09-25T00:00:00.000000000",
          "2016-10-17T00:00:00.000000000",
          "2016-11-29T00:00:00.000000000",
          "2016-12-04T00:00:00.000000000",
          "2016-12-08T00:00:00.000000000",
          "2016-12-12T00:00:00.000000000",
          "2016-12-13T00:00:00.000000000",
          "2016-12-15T00:00:00.000000000",
          "2016-12-29T00:00:00.000000000",
          "2017-03-17T00:00:00.000000000",
          "2017-03-31T00:00:00.000000000",
          "2017-04-07T00:00:00.000000000",
          "2017-04-08T00:00:00.000000000",
          "2017-04-23T00:00:00.000000000",
          "2017-05-01T00:00:00.000000000",
          "2017-05-05T00:00:00.000000000",
          "2017-05-25T00:00:00.000000000",
          "2017-06-06T00:00:00.000000000",
          "2017-07-06T00:00:00.000000000",
          "2017-07-16T00:00:00.000000000",
          "2017-07-17T00:00:00.000000000",
          "2017-07-30T00:00:00.000000000",
          "2017-08-24T00:00:00.000000000",
          "2017-09-15T00:00:00.000000000",
          "2017-09-17T00:00:00.000000000",
          "2017-09-27T00:00:00.000000000",
          "2017-10-02T00:00:00.000000000",
          "2017-10-08T00:00:00.000000000",
          "2017-10-12T00:00:00.000000000",
          "2017-10-13T00:00:00.000000000",
          "2017-11-05T00:00:00.000000000",
          "2017-11-28T00:00:00.000000000",
          "2017-12-02T00:00:00.000000000",
          "2017-12-14T00:00:00.000000000",
          "2017-12-17T00:00:00.000000000",
          "2017-12-23T00:00:00.000000000",
          "2017-12-31T00:00:00.000000000",
          "2018-01-18T00:00:00.000000000",
          "2018-02-25T00:00:00.000000000",
          "2018-03-03T00:00:00.000000000",
          "2018-03-04T00:00:00.000000000",
          "2018-03-10T00:00:00.000000000",
          "2018-03-16T00:00:00.000000000",
          "2018-03-29T00:00:00.000000000",
          "2018-03-30T00:00:00.000000000",
          "2018-04-01T00:00:00.000000000",
          "2018-04-04T00:00:00.000000000",
          "2018-04-14T00:00:00.000000000",
          "2018-04-22T00:00:00.000000000",
          "2018-05-04T00:00:00.000000000",
          "2018-05-12T00:00:00.000000000",
          "2018-05-16T00:00:00.000000000",
          "2018-06-03T00:00:00.000000000",
          "2018-06-20T00:00:00.000000000",
          "2018-06-25T00:00:00.000000000",
          "2018-07-05T00:00:00.000000000",
          "2018-07-14T00:00:00.000000000",
          "2018-07-21T00:00:00.000000000",
          "2018-08-01T00:00:00.000000000",
          "2018-08-05T00:00:00.000000000",
          "2018-08-23T00:00:00.000000000",
          "2018-09-01T00:00:00.000000000",
          "2018-09-07T00:00:00.000000000",
          "2018-09-10T00:00:00.000000000",
          "2018-09-16T00:00:00.000000000",
          "2018-10-08T00:00:00.000000000",
          "2018-10-10T00:00:00.000000000",
          "2018-10-14T00:00:00.000000000",
          "2018-10-23T00:00:00.000000000",
          "2018-11-03T00:00:00.000000000",
          "2018-11-10T00:00:00.000000000",
          "2018-11-12T00:00:00.000000000",
          "2018-11-13T00:00:00.000000000",
          "2018-12-02T00:00:00.000000000",
          "2018-12-05T00:00:00.000000000",
          "2018-12-07T00:00:00.000000000",
          "2018-12-15T00:00:00.000000000",
          "2019-01-08T00:00:00.000000000",
          "2019-01-09T00:00:00.000000000",
          "2019-01-17T00:00:00.000000000",
          "2019-02-07T00:00:00.000000000",
          "2019-02-18T00:00:00.000000000",
          "2019-02-28T00:00:00.000000000",
          "2019-03-01T00:00:00.000000000",
          "2019-03-13T00:00:00.000000000",
          "2019-03-16T00:00:00.000000000",
          "2019-03-28T00:00:00.000000000",
          "2019-03-29T00:00:00.000000000",
          "2019-04-01T00:00:00.000000000",
          "2019-04-03T00:00:00.000000000",
          "2019-04-09T00:00:00.000000000",
          "2019-04-14T00:00:00.000000000",
          "2019-04-17T00:00:00.000000000",
          "2019-04-29T00:00:00.000000000",
          "2019-05-03T00:00:00.000000000",
          "2019-05-08T00:00:00.000000000",
          "2019-05-10T00:00:00.000000000",
          "2019-06-02T00:00:00.000000000",
          "2019-06-18T00:00:00.000000000",
          "2019-06-27T00:00:00.000000000",
          "2019-06-29T00:00:00.000000000",
          "2019-06-30T00:00:00.000000000",
          "2019-07-09T00:00:00.000000000",
          "2019-07-14T00:00:00.000000000",
          "2019-07-27T00:00:00.000000000",
          "2019-08-16T00:00:00.000000000",
          "2019-08-19T00:00:00.000000000",
          "2019-08-21T00:00:00.000000000",
          "2019-09-04T00:00:00.000000000",
          "2019-09-06T00:00:00.000000000",
          "2019-09-11T00:00:00.000000000",
          "2019-09-22T00:00:00.000000000",
          "2019-09-30T00:00:00.000000000",
          "2019-10-04T00:00:00.000000000",
          "2019-10-11T00:00:00.000000000",
          "2019-10-19T00:00:00.000000000",
          "2019-10-20T00:00:00.000000000",
          "2019-10-26T00:00:00.000000000",
          "2019-11-01T00:00:00.000000000",
          "2019-11-03T00:00:00.000000000",
          "2019-11-11T00:00:00.000000000",
          "2019-11-16T00:00:00.000000000",
          "2019-11-17T00:00:00.000000000",
          "2019-11-21T00:00:00.000000000",
          "2019-12-07T00:00:00.000000000",
          "2019-12-12T00:00:00.000000000",
          "2019-12-21T00:00:00.000000000",
          "2019-12-23T00:00:00.000000000",
          "2020-01-19T00:00:00.000000000",
          "2020-02-01T00:00:00.000000000",
          "2020-02-06T00:00:00.000000000",
          "2020-02-15T00:00:00.000000000",
          "2020-02-20T00:00:00.000000000",
          "2020-03-07T00:00:00.000000000",
          "2020-03-17T00:00:00.000000000",
          "2020-03-19T00:00:00.000000000",
          "2020-03-27T00:00:00.000000000",
          "2020-04-09T00:00:00.000000000",
          "2020-04-17T00:00:00.000000000",
          "2020-05-02T00:00:00.000000000",
          "2020-06-07T00:00:00.000000000",
          "2020-06-11T00:00:00.000000000",
          "2020-06-14T00:00:00.000000000",
          "2020-06-17T00:00:00.000000000",
          "2020-06-27T00:00:00.000000000",
          "2020-07-17T00:00:00.000000000",
          "2020-07-22T00:00:00.000000000",
          "2020-07-25T00:00:00.000000000",
          "2020-08-30T00:00:00.000000000",
          "2020-09-20T00:00:00.000000000",
          "2020-09-21T00:00:00.000000000",
          "2020-10-05T00:00:00.000000000",
          "2020-10-15T00:00:00.000000000",
          "2020-10-27T00:00:00.000000000",
          "2020-11-01T00:00:00.000000000",
          "2020-11-02T00:00:00.000000000",
          "2020-12-05T00:00:00.000000000",
          "2020-12-21T00:00:00.000000000",
          "2020-12-24T00:00:00.000000000",
          "2020-12-25T00:00:00.000000000",
          "2021-01-08T00:00:00.000000000",
          "2021-01-11T00:00:00.000000000",
          "2021-01-20T00:00:00.000000000",
          "2021-01-23T00:00:00.000000000",
          "2021-02-01T00:00:00.000000000",
          "2021-02-21T00:00:00.000000000",
          "2021-02-24T00:00:00.000000000",
          "2021-03-01T00:00:00.000000000",
          "2021-03-06T00:00:00.000000000",
          "2021-03-12T00:00:00.000000000",
          "2021-03-20T00:00:00.000000000",
          "2021-03-30T00:00:00.000000000",
          "2021-04-01T00:00:00.000000000",
          "2021-04-13T00:00:00.000000000",
          "2021-04-18T00:00:00.000000000",
          "2021-05-04T00:00:00.000000000",
          "2021-05-06T00:00:00.000000000",
          "2021-05-10T00:00:00.000000000",
          "2021-05-13T00:00:00.000000000",
          "2021-05-21T00:00:00.000000000",
          "2021-05-23T00:00:00.000000000",
          "2021-06-02T00:00:00.000000000",
          "2021-06-04T00:00:00.000000000",
          "2021-06-07T00:00:00.000000000",
          "2021-07-15T00:00:00.000000000",
          "2021-07-17T00:00:00.000000000",
          "2021-07-31T00:00:00.000000000",
          "2021-08-20T00:00:00.000000000",
          "2021-08-21T00:00:00.000000000",
          "2021-09-01T00:00:00.000000000",
          "2021-09-04T00:00:00.000000000",
          "2021-09-09T00:00:00.000000000",
          "2021-09-26T00:00:00.000000000",
          "2021-10-01T00:00:00.000000000",
          "2021-10-10T00:00:00.000000000",
          "2021-10-16T00:00:00.000000000",
          "2021-11-07T00:00:00.000000000",
          "2021-11-17T00:00:00.000000000",
          "2021-11-20T00:00:00.000000000",
          "2021-12-01T00:00:00.000000000",
          "2022-01-05T00:00:00.000000000",
          "2022-01-24T00:00:00.000000000",
          "2022-02-20T00:00:00.000000000",
          "2022-02-22T00:00:00.000000000",
          "2022-03-13T00:00:00.000000000",
          "2022-03-15T00:00:00.000000000",
          "2022-03-19T00:00:00.000000000",
          "2022-03-21T00:00:00.000000000",
          "2022-03-27T00:00:00.000000000",
          "2022-03-31T00:00:00.000000000",
          "2022-04-07T00:00:00.000000000",
          "2022-04-09T00:00:00.000000000",
          "2022-04-15T00:00:00.000000000",
          "2022-04-16T00:00:00.000000000",
          "2022-04-26T00:00:00.000000000",
          "2022-04-30T00:00:00.000000000",
          "2022-05-03T00:00:00.000000000",
          "2022-05-04T00:00:00.000000000",
          "2022-06-04T00:00:00.000000000",
          "2022-06-17T00:00:00.000000000",
          "2022-07-02T00:00:00.000000000",
          "2022-07-06T00:00:00.000000000",
          "2022-07-21T00:00:00.000000000",
          "2022-07-24T00:00:00.000000000",
          "2022-07-29T00:00:00.000000000",
          "2022-08-05T00:00:00.000000000",
          "2022-08-08T00:00:00.000000000",
          "2022-08-10T00:00:00.000000000",
          "2022-08-17T00:00:00.000000000",
          "2022-08-23T00:00:00.000000000",
          "2022-08-31T00:00:00.000000000",
          "2022-09-10T00:00:00.000000000",
          "2022-09-21T00:00:00.000000000",
          "2022-10-01T00:00:00.000000000",
          "2022-10-10T00:00:00.000000000",
          "2022-10-13T00:00:00.000000000",
          "2022-10-24T00:00:00.000000000",
          "2022-10-26T00:00:00.000000000",
          "2022-12-04T00:00:00.000000000",
          "2022-12-06T00:00:00.000000000",
          "2022-12-16T00:00:00.000000000",
          "2022-12-29T00:00:00.000000000",
          "2022-12-31T00:00:00.000000000",
          "2023-01-17T00:00:00.000000000",
          "2023-01-22T00:00:00.000000000",
          "2023-02-11T00:00:00.000000000",
          "2023-02-14T00:00:00.000000000",
          "2023-03-02T00:00:00.000000000",
          "2023-03-07T00:00:00.000000000",
          "2023-03-10T00:00:00.000000000",
          "2023-03-11T00:00:00.000000000",
          "2023-03-17T00:00:00.000000000",
          "2023-03-18T00:00:00.000000000",
          "2023-03-24T00:00:00.000000000",
          "2023-03-28T00:00:00.000000000",
          "2023-03-29T00:00:00.000000000",
          "2023-03-31T00:00:00.000000000",
          "2023-04-16T00:00:00.000000000",
          "2023-05-01T00:00:00.000000000",
          "2023-05-22T00:00:00.000000000",
          "2023-05-23T00:00:00.000000000",
          "2023-05-26T00:00:00.000000000",
          "2023-05-29T00:00:00.000000000",
          "2023-06-17T00:00:00.000000000",
          "2023-07-08T00:00:00.000000000",
          "2023-07-20T00:00:00.000000000",
          "2023-07-22T00:00:00.000000000",
          "2023-07-23T00:00:00.000000000",
          "2023-08-03T00:00:00.000000000",
          "2023-08-04T00:00:00.000000000",
          "2023-08-21T00:00:00.000000000",
          "2023-08-31T00:00:00.000000000",
          "2023-09-02T00:00:00.000000000",
          "2023-09-06T00:00:00.000000000",
          "2023-09-13T00:00:00.000000000",
          "2023-09-20T00:00:00.000000000",
          "2023-09-30T00:00:00.000000000",
          "2023-10-28T00:00:00.000000000",
          "2023-11-09T00:00:00.000000000",
          "2023-11-29T00:00:00.000000000",
          "2023-12-08T00:00:00.000000000",
          "2023-12-09T00:00:00.000000000",
          "2023-12-24T00:00:00.000000000",
          "2024-01-13T00:00:00.000000000",
          "2024-01-16T00:00:00.000000000",
          "2024-03-01T00:00:00.000000000",
          "2024-03-08T00:00:00.000000000",
          "2024-03-09T00:00:00.000000000",
          "2024-03-22T00:00:00.000000000",
          "2024-04-01T00:00:00.000000000",
          "2024-05-03T00:00:00.000000000",
          "2024-05-17T00:00:00.000000000",
          "2024-06-16T00:00:00.000000000",
          "2024-06-17T00:00:00.000000000",
          "2024-06-18T00:00:00.000000000",
          "2024-06-21T00:00:00.000000000",
          "2024-07-13T00:00:00.000000000",
          "2024-07-19T00:00:00.000000000",
          "2024-07-26T00:00:00.000000000",
          "2024-08-10T00:00:00.000000000",
          "2024-08-12T00:00:00.000000000",
          "2024-08-13T00:00:00.000000000",
          "2024-08-25T00:00:00.000000000",
          "2024-08-26T00:00:00.000000000",
          "2024-09-01T00:00:00.000000000",
          "2024-09-02T00:00:00.000000000",
          "2024-09-03T00:00:00.000000000",
          "2024-09-09T00:00:00.000000000",
          "2024-09-10T00:00:00.000000000",
          "2024-09-13T00:00:00.000000000",
          "2024-09-18T00:00:00.000000000",
          "2024-09-27T00:00:00.000000000",
          "2024-10-22T00:00:00.000000000",
          "2024-10-24T00:00:00.000000000",
          "2024-10-28T00:00:00.000000000",
          "2024-12-21T00:00:00.000000000",
          "2025-01-16T00:00:00.000000000",
          "2025-01-18T00:00:00.000000000",
          "2025-01-28T00:00:00.000000000",
          "2025-01-28T01:00:00.000000000",
          "2025-01-28T02:00:00.000000000",
          "2025-01-28T03:00:00.000000000",
          "2025-01-28T04:00:00.000000000",
          "2025-01-28T05:00:00.000000000",
          "2025-01-28T06:00:00.000000000",
          "2025-01-28T07:00:00.000000000",
          "2025-01-28T08:00:00.000000000",
          "2025-01-28T09:00:00.000000000",
          "2025-01-28T10:00:00.000000000",
          "2025-01-28T11:00:00.000000000",
          "2025-01-28T12:00:00.000000000",
          "2025-01-28T13:00:00.000000000",
          "2025-01-28T14:00:00.000000000",
          "2025-01-28T15:00:00.000000000",
          "2025-01-28T16:00:00.000000000",
          "2025-01-28T17:00:00.000000000",
          "2025-01-28T18:00:00.000000000",
          "2025-01-28T19:00:00.000000000",
          "2025-01-28T20:00:00.000000000",
          "2025-01-28T21:00:00.000000000",
          "2025-01-28T22:00:00.000000000",
          "2025-01-28T23:00:00.000000000",
          "2025-01-29T00:00:00.000000000"
         ],
         "y": {
          "bdata": "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",
          "dtype": "f8"
         }
        },
        {
         "fill": "tonexty",
         "fillcolor": "rgba(0, 114, 178, 0.2)",
         "line": {
          "color": "#0072B2",
          "width": 2
         },
         "mode": "lines",
         "name": "Predicted",
         "type": "scatter",
         "x": [
          "2003-12-31T00:00:00.000000000",
          "2004-02-15T00:00:00.000000000",
          "2008-04-17T00:00:00.000000000",
          "2009-09-01T00:00:00.000000000",
          "2009-10-24T00:00:00.000000000",
          "2010-10-29T00:00:00.000000000",
          "2010-12-12T00:00:00.000000000",
          "2011-05-01T00:00:00.000000000",
          "2012-01-01T00:00:00.000000000",
          "2012-02-15T00:00:00.000000000",
          "2013-12-28T00:00:00.000000000",
          "2014-03-10T00:00:00.000000000",
          "2015-11-15T00:00:00.000000000",
          "2016-02-11T00:00:00.000000000",
          "2016-04-09T00:00:00.000000000",
          "2016-05-02T00:00:00.000000000",
          "2016-05-06T00:00:00.000000000",
          "2016-05-20T00:00:00.000000000",
          "2016-06-03T00:00:00.000000000",
          "2016-06-08T00:00:00.000000000",
          "2016-08-09T00:00:00.000000000",
          "2016-08-12T00:00:00.000000000",
          "2016-08-25T00:00:00.000000000",
          "2016-09-17T00:00:00.000000000",
          "2016-09-21T00:00:00.000000000",
          "2016-09-25T00:00:00.000000000",
          "2016-10-17T00:00:00.000000000",
          "2016-11-29T00:00:00.000000000",
          "2016-12-04T00:00:00.000000000",
          "2016-12-08T00:00:00.000000000",
          "2016-12-12T00:00:00.000000000",
          "2016-12-13T00:00:00.000000000",
          "2016-12-15T00:00:00.000000000",
          "2016-12-29T00:00:00.000000000",
          "2017-03-17T00:00:00.000000000",
          "2017-03-31T00:00:00.000000000",
          "2017-04-07T00:00:00.000000000",
          "2017-04-08T00:00:00.000000000",
          "2017-04-23T00:00:00.000000000",
          "2017-05-01T00:00:00.000000000",
          "2017-05-05T00:00:00.000000000",
          "2017-05-25T00:00:00.000000000",
          "2017-06-06T00:00:00.000000000",
          "2017-07-06T00:00:00.000000000",
          "2017-07-16T00:00:00.000000000",
          "2017-07-17T00:00:00.000000000",
          "2017-07-30T00:00:00.000000000",
          "2017-08-24T00:00:00.000000000",
          "2017-09-15T00:00:00.000000000",
          "2017-09-17T00:00:00.000000000",
          "2017-09-27T00:00:00.000000000",
          "2017-10-02T00:00:00.000000000",
          "2017-10-08T00:00:00.000000000",
          "2017-10-12T00:00:00.000000000",
          "2017-10-13T00:00:00.000000000",
          "2017-11-05T00:00:00.000000000",
          "2017-11-28T00:00:00.000000000",
          "2017-12-02T00:00:00.000000000",
          "2017-12-14T00:00:00.000000000",
          "2017-12-17T00:00:00.000000000",
          "2017-12-23T00:00:00.000000000",
          "2017-12-31T00:00:00.000000000",
          "2018-01-18T00:00:00.000000000",
          "2018-02-25T00:00:00.000000000",
          "2018-03-03T00:00:00.000000000",
          "2018-03-04T00:00:00.000000000",
          "2018-03-10T00:00:00.000000000",
          "2018-03-16T00:00:00.000000000",
          "2018-03-29T00:00:00.000000000",
          "2018-03-30T00:00:00.000000000",
          "2018-04-01T00:00:00.000000000",
          "2018-04-04T00:00:00.000000000",
          "2018-04-14T00:00:00.000000000",
          "2018-04-22T00:00:00.000000000",
          "2018-05-04T00:00:00.000000000",
          "2018-05-12T00:00:00.000000000",
          "2018-05-16T00:00:00.000000000",
          "2018-06-03T00:00:00.000000000",
          "2018-06-20T00:00:00.000000000",
          "2018-06-25T00:00:00.000000000",
          "2018-07-05T00:00:00.000000000",
          "2018-07-14T00:00:00.000000000",
          "2018-07-21T00:00:00.000000000",
          "2018-08-01T00:00:00.000000000",
          "2018-08-05T00:00:00.000000000",
          "2018-08-23T00:00:00.000000000",
          "2018-09-01T00:00:00.000000000",
          "2018-09-07T00:00:00.000000000",
          "2018-09-10T00:00:00.000000000",
          "2018-09-16T00:00:00.000000000",
          "2018-10-08T00:00:00.000000000",
          "2018-10-10T00:00:00.000000000",
          "2018-10-14T00:00:00.000000000",
          "2018-10-23T00:00:00.000000000",
          "2018-11-03T00:00:00.000000000",
          "2018-11-10T00:00:00.000000000",
          "2018-11-12T00:00:00.000000000",
          "2018-11-13T00:00:00.000000000",
          "2018-12-02T00:00:00.000000000",
          "2018-12-05T00:00:00.000000000",
          "2018-12-07T00:00:00.000000000",
          "2018-12-15T00:00:00.000000000",
          "2019-01-08T00:00:00.000000000",
          "2019-01-09T00:00:00.000000000",
          "2019-01-17T00:00:00.000000000",
          "2019-02-07T00:00:00.000000000",
          "2019-02-18T00:00:00.000000000",
          "2019-02-28T00:00:00.000000000",
          "2019-03-01T00:00:00.000000000",
          "2019-03-13T00:00:00.000000000",
          "2019-03-16T00:00:00.000000000",
          "2019-03-28T00:00:00.000000000",
          "2019-03-29T00:00:00.000000000",
          "2019-04-01T00:00:00.000000000",
          "2019-04-03T00:00:00.000000000",
          "2019-04-09T00:00:00.000000000",
          "2019-04-14T00:00:00.000000000",
          "2019-04-17T00:00:00.000000000",
          "2019-04-29T00:00:00.000000000",
          "2019-05-03T00:00:00.000000000",
          "2019-05-08T00:00:00.000000000",
          "2019-05-10T00:00:00.000000000",
          "2019-06-02T00:00:00.000000000",
          "2019-06-18T00:00:00.000000000",
          "2019-06-27T00:00:00.000000000",
          "2019-06-29T00:00:00.000000000",
          "2019-06-30T00:00:00.000000000",
          "2019-07-09T00:00:00.000000000",
          "2019-07-14T00:00:00.000000000",
          "2019-07-27T00:00:00.000000000",
          "2019-08-16T00:00:00.000000000",
          "2019-08-19T00:00:00.000000000",
          "2019-08-21T00:00:00.000000000",
          "2019-09-04T00:00:00.000000000",
          "2019-09-06T00:00:00.000000000",
          "2019-09-11T00:00:00.000000000",
          "2019-09-22T00:00:00.000000000",
          "2019-09-30T00:00:00.000000000",
          "2019-10-04T00:00:00.000000000",
          "2019-10-11T00:00:00.000000000",
          "2019-10-19T00:00:00.000000000",
          "2019-10-20T00:00:00.000000000",
          "2019-10-26T00:00:00.000000000",
          "2019-11-01T00:00:00.000000000",
          "2019-11-03T00:00:00.000000000",
          "2019-11-11T00:00:00.000000000",
          "2019-11-16T00:00:00.000000000",
          "2019-11-17T00:00:00.000000000",
          "2019-11-21T00:00:00.000000000",
          "2019-12-07T00:00:00.000000000",
          "2019-12-12T00:00:00.000000000",
          "2019-12-21T00:00:00.000000000",
          "2019-12-23T00:00:00.000000000",
          "2020-01-19T00:00:00.000000000",
          "2020-02-01T00:00:00.000000000",
          "2020-02-06T00:00:00.000000000",
          "2020-02-15T00:00:00.000000000",
          "2020-02-20T00:00:00.000000000",
          "2020-03-07T00:00:00.000000000",
          "2020-03-17T00:00:00.000000000",
          "2020-03-19T00:00:00.000000000",
          "2020-03-27T00:00:00.000000000",
          "2020-04-09T00:00:00.000000000",
          "2020-04-17T00:00:00.000000000",
          "2020-05-02T00:00:00.000000000",
          "2020-06-07T00:00:00.000000000",
          "2020-06-11T00:00:00.000000000",
          "2020-06-14T00:00:00.000000000",
          "2020-06-17T00:00:00.000000000",
          "2020-06-27T00:00:00.000000000",
          "2020-07-17T00:00:00.000000000",
          "2020-07-22T00:00:00.000000000",
          "2020-07-25T00:00:00.000000000",
          "2020-08-30T00:00:00.000000000",
          "2020-09-20T00:00:00.000000000",
          "2020-09-21T00:00:00.000000000",
          "2020-10-05T00:00:00.000000000",
          "2020-10-15T00:00:00.000000000",
          "2020-10-27T00:00:00.000000000",
          "2020-11-01T00:00:00.000000000",
          "2020-11-02T00:00:00.000000000",
          "2020-12-05T00:00:00.000000000",
          "2020-12-21T00:00:00.000000000",
          "2020-12-24T00:00:00.000000000",
          "2020-12-25T00:00:00.000000000",
          "2021-01-08T00:00:00.000000000",
          "2021-01-11T00:00:00.000000000",
          "2021-01-20T00:00:00.000000000",
          "2021-01-23T00:00:00.000000000",
          "2021-02-01T00:00:00.000000000",
          "2021-02-21T00:00:00.000000000",
          "2021-02-24T00:00:00.000000000",
          "2021-03-01T00:00:00.000000000",
          "2021-03-06T00:00:00.000000000",
          "2021-03-12T00:00:00.000000000",
          "2021-03-20T00:00:00.000000000",
          "2021-03-30T00:00:00.000000000",
          "2021-04-01T00:00:00.000000000",
          "2021-04-13T00:00:00.000000000",
          "2021-04-18T00:00:00.000000000",
          "2021-05-04T00:00:00.000000000",
          "2021-05-06T00:00:00.000000000",
          "2021-05-10T00:00:00.000000000",
          "2021-05-13T00:00:00.000000000",
          "2021-05-21T00:00:00.000000000",
          "2021-05-23T00:00:00.000000000",
          "2021-06-02T00:00:00.000000000",
          "2021-06-04T00:00:00.000000000",
          "2021-06-07T00:00:00.000000000",
          "2021-07-15T00:00:00.000000000",
          "2021-07-17T00:00:00.000000000",
          "2021-07-31T00:00:00.000000000",
          "2021-08-20T00:00:00.000000000",
          "2021-08-21T00:00:00.000000000",
          "2021-09-01T00:00:00.000000000",
          "2021-09-04T00:00:00.000000000",
          "2021-09-09T00:00:00.000000000",
          "2021-09-26T00:00:00.000000000",
          "2021-10-01T00:00:00.000000000",
          "2021-10-10T00:00:00.000000000",
          "2021-10-16T00:00:00.000000000",
          "2021-11-07T00:00:00.000000000",
          "2021-11-17T00:00:00.000000000",
          "2021-11-20T00:00:00.000000000",
          "2021-12-01T00:00:00.000000000",
          "2022-01-05T00:00:00.000000000",
          "2022-01-24T00:00:00.000000000",
          "2022-02-20T00:00:00.000000000",
          "2022-02-22T00:00:00.000000000",
          "2022-03-13T00:00:00.000000000",
          "2022-03-15T00:00:00.000000000",
          "2022-03-19T00:00:00.000000000",
          "2022-03-21T00:00:00.000000000",
          "2022-03-27T00:00:00.000000000",
          "2022-03-31T00:00:00.000000000",
          "2022-04-07T00:00:00.000000000",
          "2022-04-09T00:00:00.000000000",
          "2022-04-15T00:00:00.000000000",
          "2022-04-16T00:00:00.000000000",
          "2022-04-26T00:00:00.000000000",
          "2022-04-30T00:00:00.000000000",
          "2022-05-03T00:00:00.000000000",
          "2022-05-04T00:00:00.000000000",
          "2022-06-04T00:00:00.000000000",
          "2022-06-17T00:00:00.000000000",
          "2022-07-02T00:00:00.000000000",
          "2022-07-06T00:00:00.000000000",
          "2022-07-21T00:00:00.000000000",
          "2022-07-24T00:00:00.000000000",
          "2022-07-29T00:00:00.000000000",
          "2022-08-05T00:00:00.000000000",
          "2022-08-08T00:00:00.000000000",
          "2022-08-10T00:00:00.000000000",
          "2022-08-17T00:00:00.000000000",
          "2022-08-23T00:00:00.000000000",
          "2022-08-31T00:00:00.000000000",
          "2022-09-10T00:00:00.000000000",
          "2022-09-21T00:00:00.000000000",
          "2022-10-01T00:00:00.000000000",
          "2022-10-10T00:00:00.000000000",
          "2022-10-13T00:00:00.000000000",
          "2022-10-24T00:00:00.000000000",
          "2022-10-26T00:00:00.000000000",
          "2022-12-04T00:00:00.000000000",
          "2022-12-06T00:00:00.000000000",
          "2022-12-16T00:00:00.000000000",
          "2022-12-29T00:00:00.000000000",
          "2022-12-31T00:00:00.000000000",
          "2023-01-17T00:00:00.000000000",
          "2023-01-22T00:00:00.000000000",
          "2023-02-11T00:00:00.000000000",
          "2023-02-14T00:00:00.000000000",
          "2023-03-02T00:00:00.000000000",
          "2023-03-07T00:00:00.000000000",
          "2023-03-10T00:00:00.000000000",
          "2023-03-11T00:00:00.000000000",
          "2023-03-17T00:00:00.000000000",
          "2023-03-18T00:00:00.000000000",
          "2023-03-24T00:00:00.000000000",
          "2023-03-28T00:00:00.000000000",
          "2023-03-29T00:00:00.000000000",
          "2023-03-31T00:00:00.000000000",
          "2023-04-16T00:00:00.000000000",
          "2023-05-01T00:00:00.000000000",
          "2023-05-22T00:00:00.000000000",
          "2023-05-23T00:00:00.000000000",
          "2023-05-26T00:00:00.000000000",
          "2023-05-29T00:00:00.000000000",
          "2023-06-17T00:00:00.000000000",
          "2023-07-08T00:00:00.000000000",
          "2023-07-20T00:00:00.000000000",
          "2023-07-22T00:00:00.000000000",
          "2023-07-23T00:00:00.000000000",
          "2023-08-03T00:00:00.000000000",
          "2023-08-04T00:00:00.000000000",
          "2023-08-21T00:00:00.000000000",
          "2023-08-31T00:00:00.000000000",
          "2023-09-02T00:00:00.000000000",
          "2023-09-06T00:00:00.000000000",
          "2023-09-13T00:00:00.000000000",
          "2023-09-20T00:00:00.000000000",
          "2023-09-30T00:00:00.000000000",
          "2023-10-28T00:00:00.000000000",
          "2023-11-09T00:00:00.000000000",
          "2023-11-29T00:00:00.000000000",
          "2023-12-08T00:00:00.000000000",
          "2023-12-09T00:00:00.000000000",
          "2023-12-24T00:00:00.000000000",
          "2024-01-13T00:00:00.000000000",
          "2024-01-16T00:00:00.000000000",
          "2024-03-01T00:00:00.000000000",
          "2024-03-08T00:00:00.000000000",
          "2024-03-09T00:00:00.000000000",
          "2024-03-22T00:00:00.000000000",
          "2024-04-01T00:00:00.000000000",
          "2024-05-03T00:00:00.000000000",
          "2024-05-17T00:00:00.000000000",
          "2024-06-16T00:00:00.000000000",
          "2024-06-17T00:00:00.000000000",
          "2024-06-18T00:00:00.000000000",
          "2024-06-21T00:00:00.000000000",
          "2024-07-13T00:00:00.000000000",
          "2024-07-19T00:00:00.000000000",
          "2024-07-26T00:00:00.000000000",
          "2024-08-10T00:00:00.000000000",
          "2024-08-12T00:00:00.000000000",
          "2024-08-13T00:00:00.000000000",
          "2024-08-25T00:00:00.000000000",
          "2024-08-26T00:00:00.000000000",
          "2024-09-01T00:00:00.000000000",
          "2024-09-02T00:00:00.000000000",
          "2024-09-03T00:00:00.000000000",
          "2024-09-09T00:00:00.000000000",
          "2024-09-10T00:00:00.000000000",
          "2024-09-13T00:00:00.000000000",
          "2024-09-18T00:00:00.000000000",
          "2024-09-27T00:00:00.000000000",
          "2024-10-22T00:00:00.000000000",
          "2024-10-24T00:00:00.000000000",
          "2024-10-28T00:00:00.000000000",
          "2024-12-21T00:00:00.000000000",
          "2025-01-16T00:00:00.000000000",
          "2025-01-18T00:00:00.000000000",
          "2025-01-28T00:00:00.000000000",
          "2025-01-28T01:00:00.000000000",
          "2025-01-28T02:00:00.000000000",
          "2025-01-28T03:00:00.000000000",
          "2025-01-28T04:00:00.000000000",
          "2025-01-28T05:00:00.000000000",
          "2025-01-28T06:00:00.000000000",
          "2025-01-28T07:00:00.000000000",
          "2025-01-28T08:00:00.000000000",
          "2025-01-28T09:00:00.000000000",
          "2025-01-28T10:00:00.000000000",
          "2025-01-28T11:00:00.000000000",
          "2025-01-28T12:00:00.000000000",
          "2025-01-28T13:00:00.000000000",
          "2025-01-28T14:00:00.000000000",
          "2025-01-28T15:00:00.000000000",
          "2025-01-28T16:00:00.000000000",
          "2025-01-28T17:00:00.000000000",
          "2025-01-28T18:00:00.000000000",
          "2025-01-28T19:00:00.000000000",
          "2025-01-28T20:00:00.000000000",
          "2025-01-28T21:00:00.000000000",
          "2025-01-28T22:00:00.000000000",
          "2025-01-28T23:00:00.000000000",
          "2025-01-29T00:00:00.000000000"
         ],
         "y": {
          "bdata": "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",
          "dtype": "f8"
         }
        },
        {
         "fill": "tonexty",
         "fillcolor": "rgba(0, 114, 178, 0.2)",
         "hoverinfo": "skip",
         "line": {
          "width": 0
         },
         "mode": "lines",
         "type": "scatter",
         "x": [
          "2003-12-31T00:00:00.000000000",
          "2004-02-15T00:00:00.000000000",
          "2008-04-17T00:00:00.000000000",
          "2009-09-01T00:00:00.000000000",
          "2009-10-24T00:00:00.000000000",
          "2010-10-29T00:00:00.000000000",
          "2010-12-12T00:00:00.000000000",
          "2011-05-01T00:00:00.000000000",
          "2012-01-01T00:00:00.000000000",
          "2012-02-15T00:00:00.000000000",
          "2013-12-28T00:00:00.000000000",
          "2014-03-10T00:00:00.000000000",
          "2015-11-15T00:00:00.000000000",
          "2016-02-11T00:00:00.000000000",
          "2016-04-09T00:00:00.000000000",
          "2016-05-02T00:00:00.000000000",
          "2016-05-06T00:00:00.000000000",
          "2016-05-20T00:00:00.000000000",
          "2016-06-03T00:00:00.000000000",
          "2016-06-08T00:00:00.000000000",
          "2016-08-09T00:00:00.000000000",
          "2016-08-12T00:00:00.000000000",
          "2016-08-25T00:00:00.000000000",
          "2016-09-17T00:00:00.000000000",
          "2016-09-21T00:00:00.000000000",
          "2016-09-25T00:00:00.000000000",
          "2016-10-17T00:00:00.000000000",
          "2016-11-29T00:00:00.000000000",
          "2016-12-04T00:00:00.000000000",
          "2016-12-08T00:00:00.000000000",
          "2016-12-12T00:00:00.000000000",
          "2016-12-13T00:00:00.000000000",
          "2016-12-15T00:00:00.000000000",
          "2016-12-29T00:00:00.000000000",
          "2017-03-17T00:00:00.000000000",
          "2017-03-31T00:00:00.000000000",
          "2017-04-07T00:00:00.000000000",
          "2017-04-08T00:00:00.000000000",
          "2017-04-23T00:00:00.000000000",
          "2017-05-01T00:00:00.000000000",
          "2017-05-05T00:00:00.000000000",
          "2017-05-25T00:00:00.000000000",
          "2017-06-06T00:00:00.000000000",
          "2017-07-06T00:00:00.000000000",
          "2017-07-16T00:00:00.000000000",
          "2017-07-17T00:00:00.000000000",
          "2017-07-30T00:00:00.000000000",
          "2017-08-24T00:00:00.000000000",
          "2017-09-15T00:00:00.000000000",
          "2017-09-17T00:00:00.000000000",
          "2017-09-27T00:00:00.000000000",
          "2017-10-02T00:00:00.000000000",
          "2017-10-08T00:00:00.000000000",
          "2017-10-12T00:00:00.000000000",
          "2017-10-13T00:00:00.000000000",
          "2017-11-05T00:00:00.000000000",
          "2017-11-28T00:00:00.000000000",
          "2017-12-02T00:00:00.000000000",
          "2017-12-14T00:00:00.000000000",
          "2017-12-17T00:00:00.000000000",
          "2017-12-23T00:00:00.000000000",
          "2017-12-31T00:00:00.000000000",
          "2018-01-18T00:00:00.000000000",
          "2018-02-25T00:00:00.000000000",
          "2018-03-03T00:00:00.000000000",
          "2018-03-04T00:00:00.000000000",
          "2018-03-10T00:00:00.000000000",
          "2018-03-16T00:00:00.000000000",
          "2018-03-29T00:00:00.000000000",
          "2018-03-30T00:00:00.000000000",
          "2018-04-01T00:00:00.000000000",
          "2018-04-04T00:00:00.000000000",
          "2018-04-14T00:00:00.000000000",
          "2018-04-22T00:00:00.000000000",
          "2018-05-04T00:00:00.000000000",
          "2018-05-12T00:00:00.000000000",
          "2018-05-16T00:00:00.000000000",
          "2018-06-03T00:00:00.000000000",
          "2018-06-20T00:00:00.000000000",
          "2018-06-25T00:00:00.000000000",
          "2018-07-05T00:00:00.000000000",
          "2018-07-14T00:00:00.000000000",
          "2018-07-21T00:00:00.000000000",
          "2018-08-01T00:00:00.000000000",
          "2018-08-05T00:00:00.000000000",
          "2018-08-23T00:00:00.000000000",
          "2018-09-01T00:00:00.000000000",
          "2018-09-07T00:00:00.000000000",
          "2018-09-10T00:00:00.000000000",
          "2018-09-16T00:00:00.000000000",
          "2018-10-08T00:00:00.000000000",
          "2018-10-10T00:00:00.000000000",
          "2018-10-14T00:00:00.000000000",
          "2018-10-23T00:00:00.000000000",
          "2018-11-03T00:00:00.000000000",
          "2018-11-10T00:00:00.000000000",
          "2018-11-12T00:00:00.000000000",
          "2018-11-13T00:00:00.000000000",
          "2018-12-02T00:00:00.000000000",
          "2018-12-05T00:00:00.000000000",
          "2018-12-07T00:00:00.000000000",
          "2018-12-15T00:00:00.000000000",
          "2019-01-08T00:00:00.000000000",
          "2019-01-09T00:00:00.000000000",
          "2019-01-17T00:00:00.000000000",
          "2019-02-07T00:00:00.000000000",
          "2019-02-18T00:00:00.000000000",
          "2019-02-28T00:00:00.000000000",
          "2019-03-01T00:00:00.000000000",
          "2019-03-13T00:00:00.000000000",
          "2019-03-16T00:00:00.000000000",
          "2019-03-28T00:00:00.000000000",
          "2019-03-29T00:00:00.000000000",
          "2019-04-01T00:00:00.000000000",
          "2019-04-03T00:00:00.000000000",
          "2019-04-09T00:00:00.000000000",
          "2019-04-14T00:00:00.000000000",
          "2019-04-17T00:00:00.000000000",
          "2019-04-29T00:00:00.000000000",
          "2019-05-03T00:00:00.000000000",
          "2019-05-08T00:00:00.000000000",
          "2019-05-10T00:00:00.000000000",
          "2019-06-02T00:00:00.000000000",
          "2019-06-18T00:00:00.000000000",
          "2019-06-27T00:00:00.000000000",
          "2019-06-29T00:00:00.000000000",
          "2019-06-30T00:00:00.000000000",
          "2019-07-09T00:00:00.000000000",
          "2019-07-14T00:00:00.000000000",
          "2019-07-27T00:00:00.000000000",
          "2019-08-16T00:00:00.000000000",
          "2019-08-19T00:00:00.000000000",
          "2019-08-21T00:00:00.000000000",
          "2019-09-04T00:00:00.000000000",
          "2019-09-06T00:00:00.000000000",
          "2019-09-11T00:00:00.000000000",
          "2019-09-22T00:00:00.000000000",
          "2019-09-30T00:00:00.000000000",
          "2019-10-04T00:00:00.000000000",
          "2019-10-11T00:00:00.000000000",
          "2019-10-19T00:00:00.000000000",
          "2019-10-20T00:00:00.000000000",
          "2019-10-26T00:00:00.000000000",
          "2019-11-01T00:00:00.000000000",
          "2019-11-03T00:00:00.000000000",
          "2019-11-11T00:00:00.000000000",
          "2019-11-16T00:00:00.000000000",
          "2019-11-17T00:00:00.000000000",
          "2019-11-21T00:00:00.000000000",
          "2019-12-07T00:00:00.000000000",
          "2019-12-12T00:00:00.000000000",
          "2019-12-21T00:00:00.000000000",
          "2019-12-23T00:00:00.000000000",
          "2020-01-19T00:00:00.000000000",
          "2020-02-01T00:00:00.000000000",
          "2020-02-06T00:00:00.000000000",
          "2020-02-15T00:00:00.000000000",
          "2020-02-20T00:00:00.000000000",
          "2020-03-07T00:00:00.000000000",
          "2020-03-17T00:00:00.000000000",
          "2020-03-19T00:00:00.000000000",
          "2020-03-27T00:00:00.000000000",
          "2020-04-09T00:00:00.000000000",
          "2020-04-17T00:00:00.000000000",
          "2020-05-02T00:00:00.000000000",
          "2020-06-07T00:00:00.000000000",
          "2020-06-11T00:00:00.000000000",
          "2020-06-14T00:00:00.000000000",
          "2020-06-17T00:00:00.000000000",
          "2020-06-27T00:00:00.000000000",
          "2020-07-17T00:00:00.000000000",
          "2020-07-22T00:00:00.000000000",
          "2020-07-25T00:00:00.000000000",
          "2020-08-30T00:00:00.000000000",
          "2020-09-20T00:00:00.000000000",
          "2020-09-21T00:00:00.000000000",
          "2020-10-05T00:00:00.000000000",
          "2020-10-15T00:00:00.000000000",
          "2020-10-27T00:00:00.000000000",
          "2020-11-01T00:00:00.000000000",
          "2020-11-02T00:00:00.000000000",
          "2020-12-05T00:00:00.000000000",
          "2020-12-21T00:00:00.000000000",
          "2020-12-24T00:00:00.000000000",
          "2020-12-25T00:00:00.000000000",
          "2021-01-08T00:00:00.000000000",
          "2021-01-11T00:00:00.000000000",
          "2021-01-20T00:00:00.000000000",
          "2021-01-23T00:00:00.000000000",
          "2021-02-01T00:00:00.000000000",
          "2021-02-21T00:00:00.000000000",
          "2021-02-24T00:00:00.000000000",
          "2021-03-01T00:00:00.000000000",
          "2021-03-06T00:00:00.000000000",
          "2021-03-12T00:00:00.000000000",
          "2021-03-20T00:00:00.000000000",
          "2021-03-30T00:00:00.000000000",
          "2021-04-01T00:00:00.000000000",
          "2021-04-13T00:00:00.000000000",
          "2021-04-18T00:00:00.000000000",
          "2021-05-04T00:00:00.000000000",
          "2021-05-06T00:00:00.000000000",
          "2021-05-10T00:00:00.000000000",
          "2021-05-13T00:00:00.000000000",
          "2021-05-21T00:00:00.000000000",
          "2021-05-23T00:00:00.000000000",
          "2021-06-02T00:00:00.000000000",
          "2021-06-04T00:00:00.000000000",
          "2021-06-07T00:00:00.000000000",
          "2021-07-15T00:00:00.000000000",
          "2021-07-17T00:00:00.000000000",
          "2021-07-31T00:00:00.000000000",
          "2021-08-20T00:00:00.000000000",
          "2021-08-21T00:00:00.000000000",
          "2021-09-01T00:00:00.000000000",
          "2021-09-04T00:00:00.000000000",
          "2021-09-09T00:00:00.000000000",
          "2021-09-26T00:00:00.000000000",
          "2021-10-01T00:00:00.000000000",
          "2021-10-10T00:00:00.000000000",
          "2021-10-16T00:00:00.000000000",
          "2021-11-07T00:00:00.000000000",
          "2021-11-17T00:00:00.000000000",
          "2021-11-20T00:00:00.000000000",
          "2021-12-01T00:00:00.000000000",
          "2022-01-05T00:00:00.000000000",
          "2022-01-24T00:00:00.000000000",
          "2022-02-20T00:00:00.000000000",
          "2022-02-22T00:00:00.000000000",
          "2022-03-13T00:00:00.000000000",
          "2022-03-15T00:00:00.000000000",
          "2022-03-19T00:00:00.000000000",
          "2022-03-21T00:00:00.000000000",
          "2022-03-27T00:00:00.000000000",
          "2022-03-31T00:00:00.000000000",
          "2022-04-07T00:00:00.000000000",
          "2022-04-09T00:00:00.000000000",
          "2022-04-15T00:00:00.000000000",
          "2022-04-16T00:00:00.000000000",
          "2022-04-26T00:00:00.000000000",
          "2022-04-30T00:00:00.000000000",
          "2022-05-03T00:00:00.000000000",
          "2022-05-04T00:00:00.000000000",
          "2022-06-04T00:00:00.000000000",
          "2022-06-17T00:00:00.000000000",
          "2022-07-02T00:00:00.000000000",
          "2022-07-06T00:00:00.000000000",
          "2022-07-21T00:00:00.000000000",
          "2022-07-24T00:00:00.000000000",
          "2022-07-29T00:00:00.000000000",
          "2022-08-05T00:00:00.000000000",
          "2022-08-08T00:00:00.000000000",
          "2022-08-10T00:00:00.000000000",
          "2022-08-17T00:00:00.000000000",
          "2022-08-23T00:00:00.000000000",
          "2022-08-31T00:00:00.000000000",
          "2022-09-10T00:00:00.000000000",
          "2022-09-21T00:00:00.000000000",
          "2022-10-01T00:00:00.000000000",
          "2022-10-10T00:00:00.000000000",
          "2022-10-13T00:00:00.000000000",
          "2022-10-24T00:00:00.000000000",
          "2022-10-26T00:00:00.000000000",
          "2022-12-04T00:00:00.000000000",
          "2022-12-06T00:00:00.000000000",
          "2022-12-16T00:00:00.000000000",
          "2022-12-29T00:00:00.000000000",
          "2022-12-31T00:00:00.000000000",
          "2023-01-17T00:00:00.000000000",
          "2023-01-22T00:00:00.000000000",
          "2023-02-11T00:00:00.000000000",
          "2023-02-14T00:00:00.000000000",
          "2023-03-02T00:00:00.000000000",
          "2023-03-07T00:00:00.000000000",
          "2023-03-10T00:00:00.000000000",
          "2023-03-11T00:00:00.000000000",
          "2023-03-17T00:00:00.000000000",
          "2023-03-18T00:00:00.000000000",
          "2023-03-24T00:00:00.000000000",
          "2023-03-28T00:00:00.000000000",
          "2023-03-29T00:00:00.000000000",
          "2023-03-31T00:00:00.000000000",
          "2023-04-16T00:00:00.000000000",
          "2023-05-01T00:00:00.000000000",
          "2023-05-22T00:00:00.000000000",
          "2023-05-23T00:00:00.000000000",
          "2023-05-26T00:00:00.000000000",
          "2023-05-29T00:00:00.000000000",
          "2023-06-17T00:00:00.000000000",
          "2023-07-08T00:00:00.000000000",
          "2023-07-20T00:00:00.000000000",
          "2023-07-22T00:00:00.000000000",
          "2023-07-23T00:00:00.000000000",
          "2023-08-03T00:00:00.000000000",
          "2023-08-04T00:00:00.000000000",
          "2023-08-21T00:00:00.000000000",
          "2023-08-31T00:00:00.000000000",
          "2023-09-02T00:00:00.000000000",
          "2023-09-06T00:00:00.000000000",
          "2023-09-13T00:00:00.000000000",
          "2023-09-20T00:00:00.000000000",
          "2023-09-30T00:00:00.000000000",
          "2023-10-28T00:00:00.000000000",
          "2023-11-09T00:00:00.000000000",
          "2023-11-29T00:00:00.000000000",
          "2023-12-08T00:00:00.000000000",
          "2023-12-09T00:00:00.000000000",
          "2023-12-24T00:00:00.000000000",
          "2024-01-13T00:00:00.000000000",
          "2024-01-16T00:00:00.000000000",
          "2024-03-01T00:00:00.000000000",
          "2024-03-08T00:00:00.000000000",
          "2024-03-09T00:00:00.000000000",
          "2024-03-22T00:00:00.000000000",
          "2024-04-01T00:00:00.000000000",
          "2024-05-03T00:00:00.000000000",
          "2024-05-17T00:00:00.000000000",
          "2024-06-16T00:00:00.000000000",
          "2024-06-17T00:00:00.000000000",
          "2024-06-18T00:00:00.000000000",
          "2024-06-21T00:00:00.000000000",
          "2024-07-13T00:00:00.000000000",
          "2024-07-19T00:00:00.000000000",
          "2024-07-26T00:00:00.000000000",
          "2024-08-10T00:00:00.000000000",
          "2024-08-12T00:00:00.000000000",
          "2024-08-13T00:00:00.000000000",
          "2024-08-25T00:00:00.000000000",
          "2024-08-26T00:00:00.000000000",
          "2024-09-01T00:00:00.000000000",
          "2024-09-02T00:00:00.000000000",
          "2024-09-03T00:00:00.000000000",
          "2024-09-09T00:00:00.000000000",
          "2024-09-10T00:00:00.000000000",
          "2024-09-13T00:00:00.000000000",
          "2024-09-18T00:00:00.000000000",
          "2024-09-27T00:00:00.000000000",
          "2024-10-22T00:00:00.000000000",
          "2024-10-24T00:00:00.000000000",
          "2024-10-28T00:00:00.000000000",
          "2024-12-21T00:00:00.000000000",
          "2025-01-16T00:00:00.000000000",
          "2025-01-18T00:00:00.000000000",
          "2025-01-28T00:00:00.000000000",
          "2025-01-28T01:00:00.000000000",
          "2025-01-28T02:00:00.000000000",
          "2025-01-28T03:00:00.000000000",
          "2025-01-28T04:00:00.000000000",
          "2025-01-28T05:00:00.000000000",
          "2025-01-28T06:00:00.000000000",
          "2025-01-28T07:00:00.000000000",
          "2025-01-28T08:00:00.000000000",
          "2025-01-28T09:00:00.000000000",
          "2025-01-28T10:00:00.000000000",
          "2025-01-28T11:00:00.000000000",
          "2025-01-28T12:00:00.000000000",
          "2025-01-28T13:00:00.000000000",
          "2025-01-28T14:00:00.000000000",
          "2025-01-28T15:00:00.000000000",
          "2025-01-28T16:00:00.000000000",
          "2025-01-28T17:00:00.000000000",
          "2025-01-28T18:00:00.000000000",
          "2025-01-28T19:00:00.000000000",
          "2025-01-28T20:00:00.000000000",
          "2025-01-28T21:00:00.000000000",
          "2025-01-28T22:00:00.000000000",
          "2025-01-28T23:00:00.000000000",
          "2025-01-29T00:00:00.000000000"
         ],
         "y": {
          "bdata": "w4aCvZNd+T8z4dNi84L2Pyext98NMPY/qGMvevHf8z9e59UIDLz0P11KoFSL4/U/5LgqDfft9T/wC0dN1Pv2P3jXVsSIa/o/b7+7Qn349T/d6ECGH6f4P1dZDU8OSvY/KxiwyA2C9z9GhnaGKyH2P77uYvi2K/U/cVmK7FR79z+Nl+iUP8v1Pwz5GI8yzvM/u3VlvPTc9D+C8Au/RL31P6QNX000R/U/9dne1ux99T9FcfPtN2n0Px/APhtH0vQ/gpCI45Fh9T+JI2XG6BH2P618A+EwyfY/ItYF29Jh9D895unQt4H1P7+yfDmjwPQ/w5UFlhYM9z8O3jAFw8f0P++s+Xq39/U/jM+3CSy4+T8s/dfjmvv0PxpbyJjPO/U/n+Kd0iZA9T/EumhxLY30P5x99xvufvc/quj3q3Hn9z/zTaJE+NH1P3m4sfamJPQ/MAtC5Q2T9D+V8WNRXX/1P64BJ+7N//c/If+MB4a3+D82+S/AOPb4Pwt+2QcXAvQ/savbz6xb9j8JxJKkKI32PyR0iYAIOvU/mWkzuupw9j9xvmFeQPT1Pz0nM3OKdvU/Xnonkndy9T+STcPiQtb3PyzH7M4t9fQ/afxf6FcO9D+ku8r+ePT1PzErNVjVkvc/nExKqH0d+D8PsEWbTqn6PwKSB1uQjfQ/7PSCjnM+9j9pNTpVz//zPxodEu8/r/U/Tp7S9jwC9D+8zpZ00U/1Pwp5zZ+EWvU/khOKarlN9T99opQUE7r2P9eBl2ESI/U/4ZTBbYpI9T8jdA5ul5T3Px1+cDIAd/Y/MzN6bB5o9D+Lyax7ezD0P6059GOAxvU/NaZLMEEw9T/buK9qJeH2P9w01NTVuvU/JKLHqA3w9T8371vyjwr3P/5/8J//iPc/lumPpZD99z/QK0aR8jX0P8sIdD5/APQ/TEzyWC9v9T/svb9OZV33P/eYF6Afl/Y/YIVDDN229j9wdhecblH1P64edzXxI/Y/BEF2UUou9T8Unla6c9r1P1txMd3/WPY/t5daIavL+D+sSD64+rz2P1JNbXxBzfU/HmIpn2aY9D9SflRp+Zf0PzHG1h3mFPU/E+FjLV7X9z9l1A6mq7v3P3nsOrhZzfQ//p1KpEKR9T8AKu1VK8L3P0IVv61MSfU/KKDTIc9S9T+GAB+Lv/j0P4EbOBJNS/Q/oO+YyyNC9T9FDbUxKEv1P6RCQ8FN9vY/r7Wf//FO9T+ZGLA731b1P0RD1RTSFfc/qlLwIfkn9j/yCoNcZvL3P3gzsnXXPPY/KZLY3Onb9T+6ToUs7TH1P6PZdxvudfU/mJrc45E99T/duLszUZ31P3yHC00UX/Q/+7UdGYZD9j/k0RVE2kb1P8PadkJ4mPc/CYpvioSJ9z+qX73ccgr1P2FK7OcAjvU/puBFXQWd8z8/chZHz3T1P0NCOee7U/U/J3N4IbzU9T89n2hXuXn2PzjorwPn3/Y/4XtNvTJR9T9xrTBcOXP1P7rle+JKy/Q/aQaUMG2C9j+m/FayDVX1P0pW6RFNafY/ieKCGaNt9z9YLqbmhaP4P+aI34mKf/Y/X/N1x0Ms+D+kaB6rTWn3P2t6fxmv3PM/2TJtBeEe9T90TXv4mxf3P/x/6Fwo2vk/JtaN/UBb9T8z9hAP1VfzP38YNa16sfU/6SbKb78i9T/I0Oo3CDf2P3rCxPJTJvQ/TLyiSRip9D+Yy6I/Lpb1Px5EULnNvPU/uVEdX1Ao9j9V2mf9H3b2P+JQ/WRxmfU/7VSvTpNH9j/mCEx7qgn2P1+I00tlbvY/RuhqjcVP9j+F5b6I5If0PxdNZXKkX/c/2Fjw4r3/9z8sdBrQZED3P4a+yRw0H/U/zN/X8jFq9j92Aho0tNj2P7/TV4yervY/nWzhivnH9T+KePESzyX1P+5j687co/c/oeG6guAu+D9RTTPC1N7zP2QtulVyyPk/IJLi4SLz+D9tYi5az1b5P5pyiPub0vc/XLT5cTxO+D87E/HSOhf0P2LqBn+IVPI/hUCNijTu9T+Ht0fiZeL2P/30fl0hm/U/qTm70Fdn9j8OicylSOfzP6YjDTfJx/Q/aIyalJCA9D9KXlPIVv70P1KL0FibBfU/5OT2aP+K9T+NGPReQzD3P79AMqZDdPU/sP9/90X69T97/5DtuMv2P99LjJ0Z6/Q/vWETKrAq9D+fK6AJEPH0P6Td6IA+yfQ/I222Trr09D/WePw/Cp32P/VjR5nvffc/1XRnysky9j/Pnj/40xH3P/tholSomvQ/LPKX6Vgv8z/QK2xS/9z0P5wfoJx9XfQ/pqeQrpQW9j9dH8jHfkH2PxkMV9lgC/U/N9xx6Uv/9T8Y3DKmRrn0P0K63GJKCvg/HRwKxnuh9z9T2xgAJTb2P8lsfYrawvQ/2zxWuLdJ+T949fUZGLr0PyCqm0/+7vY/lMRdDBRe9T92FaH8sBD2Py2B0sPrO/Q/IdN/e20p9D/E+oW0X8L2P34MbzNci/Y/yTLnK9jQ9T+WUwoga2n1P06IQM+z0vQ/IFf8sIFV9j/6E2wQScj1PwLOhBH1rvY/9w6E7/YQ9j8QaMNHqqH1P93pcl/lRPY/DPj1HMkr9D+EG0hzW4z1Pwa62la6v/Q/H2TdSuf39T9M2J7+xPz3PyL0p7pYLfk/aVHVvA0t+D8NYaUqLKv3P9yCUn5e2vc/FEL9nc2w9T/pKvJfkV70Pwg8ot3yT/M/FDLWeJia9D9Z/h0fT470PwgN6SugwPU/AGQT2mwk9D8SYMTRuen2P2+etFqNC/Y/i/XdNV589z+TsERgERv2P12ksBgdc/U/fz3dPy5M9D8K09jO/ln2P4hSyxHHMPo/QdJ6TbMA+T+3OHaRdvPzP3XVYgRrjvQ/vBIoHlfO9T8TUtQHPqr1Py3KsNZcCPU//wWBdOpv9D86dUiyXfT0P7vO/9+zC/Q/kCkdQHog9T+Lq4nN4on0P2lyg7Vv2PU/fSz/z6Je9D8obMMbE6f1P771AxiJ1PU/TmYZDMc39z9gfW+M0Rr4PzWOGNyrrPU/G4zCPss28z8XNh4NbnH0P7JN+zGc8/U/0xNlEA8R9T8c0olVJer0Py9FBKpq/fc/VAWJUWVA9z9RpxTk/2P5PxwKMZOJ3/c/DLL5q9+O9z9LZfo9e4v1PwRYNPPJ0PQ/fITStug29D9/4Ojvtnj1PzkjSp3g6/U/aTjcfXmR9T/2ZDUBe7P0Pz76EzXaaPU/DCh1x+N/9z8rTsr6joz1PyNtc4hAePQ/ss+pamB99D+xnomjCPv5P3HP2wxaR/U/svANfB1y9D+/itkZrnH1P3BQqDu++fQ/t/6X7YAk9D97zRpQDtz1P4FtxmtP9fY/3JuOINtQ9j+OYXxgvLT0Pyu8U9GlqPY/YkLwmsJ09z9Rr66QI7f0PwNJrY2oZfU/uAW5Ika+9T9NhA8St573P7YrvoCQ8Pc//W5wTLu+9D/gcT65NeL2P0MgLjGYhPQ/mNmQVZhU9T835yNDfBD2P/tCLr4d5PU/PPa/ew/c9j846tsgVJL0P3Nx6vOU1vY/52AMtmw19T94BWFqst31PznOWZ3jevU/D5dpARfW9T8cU1iFUwn1P7StHPHw+/U/oaSQ1NKs9z+oKXv5skX3Pxb/iU3eUfU/IgAVzhDa8z9RbKsbbRrzP3ukdGUWOfM/q6rEinho8z/ICAqinUDzP6h+i0+vNfM/75MYjZfr8j/11mTDVCLzPw4dOZknV/M/WJ7mzi3w8j+e++bgzzHzP9EC4hxIB/M/vDQOhGp78z9lXUgCI1rzPwxdrVRyHfM/njXzimXi8z8XfG8hAWHzPznLI4kDqvM/2rx9Be298z/Q6gUXytLzP5k4ugYl5vM/HeJhAqD58z8nWuLpS6jzPw+YW1yGj/M/LtVEeSM39D91ktUYBgL0Pw==",
          "dtype": "f8"
         }
        }
       ],
       "layout": {
        "height": 600,
        "showlegend": false,
        "template": {
         "data": {
          "bar": [
           {
            "error_x": {
             "color": "#2a3f5f"
            },
            "error_y": {
             "color": "#2a3f5f"
            },
            "marker": {
             "line": {
              "color": "#E5ECF6",
              "width": 0.5
             },
             "pattern": {
              "fillmode": "overlay",
              "size": 10,
              "solidity": 0.2
             }
            },
            "type": "bar"
           }
          ],
          "barpolar": [
           {
            "marker": {
             "line": {
              "color": "#E5ECF6",
              "width": 0.5
             },
             "pattern": {
              "fillmode": "overlay",
              "size": 10,
              "solidity": 0.2
             }
            },
            "type": "barpolar"
           }
          ],
          "carpet": [
           {
            "aaxis": {
             "endlinecolor": "#2a3f5f",
             "gridcolor": "white",
             "linecolor": "white",
             "minorgridcolor": "white",
             "startlinecolor": "#2a3f5f"
            },
            "baxis": {
             "endlinecolor": "#2a3f5f",
             "gridcolor": "white",
             "linecolor": "white",
             "minorgridcolor": "white",
             "startlinecolor": "#2a3f5f"
            },
            "type": "carpet"
           }
          ],
          "choropleth": [
           {
            "colorbar": {
             "outlinewidth": 0,
             "ticks": ""
            },
            "type": "choropleth"
           }
          ],
          "contour": [
           {
            "colorbar": {
             "outlinewidth": 0,
             "ticks": ""
            },
            "colorscale": [
             [
              0,
              "#0d0887"
             ],
             [
              0.1111111111111111,
              "#46039f"
             ],
             [
              0.2222222222222222,
              "#7201a8"
             ],
             [
              0.3333333333333333,
              "#9c179e"
             ],
             [
              0.4444444444444444,
              "#bd3786"
             ],
             [
              0.5555555555555556,
              "#d8576b"
             ],
             [
              0.6666666666666666,
              "#ed7953"
             ],
             [
              0.7777777777777778,
              "#fb9f3a"
             ],
             [
              0.8888888888888888,
              "#fdca26"
             ],
             [
              1,
              "#f0f921"
             ]
            ],
            "type": "contour"
           }
          ],
          "contourcarpet": [
           {
            "colorbar": {
             "outlinewidth": 0,
             "ticks": ""
            },
            "type": "contourcarpet"
           }
          ],
          "heatmap": [
           {
            "colorbar": {
             "outlinewidth": 0,
             "ticks": ""
            },
            "colorscale": [
             [
              0,
              "#0d0887"
             ],
             [
              0.1111111111111111,
              "#46039f"
             ],
             [
              0.2222222222222222,
              "#7201a8"
             ],
             [
              0.3333333333333333,
              "#9c179e"
             ],
             [
              0.4444444444444444,
              "#bd3786"
             ],
             [
              0.5555555555555556,
              "#d8576b"
             ],
             [
              0.6666666666666666,
              "#ed7953"
             ],
             [
              0.7777777777777778,
              "#fb9f3a"
             ],
             [
              0.8888888888888888,
              "#fdca26"
             ],
             [
              1,
              "#f0f921"
             ]
            ],
            "type": "heatmap"
           }
          ],
          "histogram": [
           {
            "marker": {
             "pattern": {
              "fillmode": "overlay",
              "size": 10,
              "solidity": 0.2
             }
            },
            "type": "histogram"
           }
          ],
          "histogram2d": [
           {
            "colorbar": {
             "outlinewidth": 0,
             "ticks": ""
            },
            "colorscale": [
             [
              0,
              "#0d0887"
             ],
             [
              0.1111111111111111,
              "#46039f"
             ],
             [
              0.2222222222222222,
              "#7201a8"
             ],
             [
              0.3333333333333333,
              "#9c179e"
             ],
             [
              0.4444444444444444,
              "#bd3786"
             ],
             [
              0.5555555555555556,
              "#d8576b"
             ],
             [
              0.6666666666666666,
              "#ed7953"
             ],
             [
              0.7777777777777778,
              "#fb9f3a"
             ],
             [
              0.8888888888888888,
              "#fdca26"
             ],
             [
              1,
              "#f0f921"
             ]
            ],
            "type": "histogram2d"
           }
          ],
          "histogram2dcontour": [
           {
            "colorbar": {
             "outlinewidth": 0,
             "ticks": ""
            },
            "colorscale": [
             [
              0,
              "#0d0887"
             ],
             [
              0.1111111111111111,
              "#46039f"
             ],
             [
              0.2222222222222222,
              "#7201a8"
             ],
             [
              0.3333333333333333,
              "#9c179e"
             ],
             [
              0.4444444444444444,
              "#bd3786"
             ],
             [
              0.5555555555555556,
              "#d8576b"
             ],
             [
              0.6666666666666666,
              "#ed7953"
             ],
             [
              0.7777777777777778,
              "#fb9f3a"
             ],
             [
              0.8888888888888888,
              "#fdca26"
             ],
             [
              1,
              "#f0f921"
             ]
            ],
            "type": "histogram2dcontour"
           }
          ],
          "mesh3d": [
           {
            "colorbar": {
             "outlinewidth": 0,
             "ticks": ""
            },
            "type": "mesh3d"
           }
          ],
          "parcoords": [
           {
            "line": {
             "colorbar": {
              "outlinewidth": 0,
              "ticks": ""
             }
            },
            "type": "parcoords"
           }
          ],
          "pie": [
           {
            "automargin": true,
            "type": "pie"
           }
          ],
          "scatter": [
           {
            "fillpattern": {
             "fillmode": "overlay",
             "size": 10,
             "solidity": 0.2
            },
            "type": "scatter"
           }
          ],
          "scatter3d": [
           {
            "line": {
             "colorbar": {
              "outlinewidth": 0,
              "ticks": ""
             }
            },
            "marker": {
             "colorbar": {
              "outlinewidth": 0,
              "ticks": ""
             }
            },
            "type": "scatter3d"
           }
          ],
          "scattercarpet": [
           {
            "marker": {
             "colorbar": {
              "outlinewidth": 0,
              "ticks": ""
             }
            },
            "type": "scattercarpet"
           }
          ],
          "scattergeo": [
           {
            "marker": {
             "colorbar": {
              "outlinewidth": 0,
              "ticks": ""
             }
            },
            "type": "scattergeo"
           }
          ],
          "scattergl": [
           {
            "marker": {
             "colorbar": {
              "outlinewidth": 0,
              "ticks": ""
             }
            },
            "type": "scattergl"
           }
          ],
          "scattermap": [
           {
            "marker": {
             "colorbar": {
              "outlinewidth": 0,
              "ticks": ""
             }
            },
            "type": "scattermap"
           }
          ],
          "scattermapbox": [
           {
            "marker": {
             "colorbar": {
              "outlinewidth": 0,
              "ticks": ""
             }
            },
            "type": "scattermapbox"
           }
          ],
          "scatterpolar": [
           {
            "marker": {
             "colorbar": {
              "outlinewidth": 0,
              "ticks": ""
             }
            },
            "type": "scatterpolar"
           }
          ],
          "scatterpolargl": [
           {
            "marker": {
             "colorbar": {
              "outlinewidth": 0,
              "ticks": ""
             }
            },
            "type": "scatterpolargl"
           }
          ],
          "scatterternary": [
           {
            "marker": {
             "colorbar": {
              "outlinewidth": 0,
              "ticks": ""
             }
            },
            "type": "scatterternary"
           }
          ],
          "surface": [
           {
            "colorbar": {
             "outlinewidth": 0,
             "ticks": ""
            },
            "colorscale": [
             [
              0,
              "#0d0887"
             ],
             [
              0.1111111111111111,
              "#46039f"
             ],
             [
              0.2222222222222222,
              "#7201a8"
             ],
             [
              0.3333333333333333,
              "#9c179e"
             ],
             [
              0.4444444444444444,
              "#bd3786"
             ],
             [
              0.5555555555555556,
              "#d8576b"
             ],
             [
              0.6666666666666666,
              "#ed7953"
             ],
             [
              0.7777777777777778,
              "#fb9f3a"
             ],
             [
              0.8888888888888888,
              "#fdca26"
             ],
             [
              1,
              "#f0f921"
             ]
            ],
            "type": "surface"
           }
          ],
          "table": [
           {
            "cells": {
             "fill": {
              "color": "#EBF0F8"
             },
             "line": {
              "color": "white"
             }
            },
            "header": {
             "fill": {
              "color": "#C8D4E3"
             },
             "line": {
              "color": "white"
             }
            },
            "type": "table"
           }
          ]
         },
         "layout": {
          "annotationdefaults": {
           "arrowcolor": "#2a3f5f",
           "arrowhead": 0,
           "arrowwidth": 1
          },
          "autotypenumbers": "strict",
          "coloraxis": {
           "colorbar": {
            "outlinewidth": 0,
            "ticks": ""
           }
          },
          "colorscale": {
           "diverging": [
            [
             0,
             "#8e0152"
            ],
            [
             0.1,
             "#c51b7d"
            ],
            [
             0.2,
             "#de77ae"
            ],
            [
             0.3,
             "#f1b6da"
            ],
            [
             0.4,
             "#fde0ef"
            ],
            [
             0.5,
             "#f7f7f7"
            ],
            [
             0.6,
             "#e6f5d0"
            ],
            [
             0.7,
             "#b8e186"
            ],
            [
             0.8,
             "#7fbc41"
            ],
            [
             0.9,
             "#4d9221"
            ],
            [
             1,
             "#276419"
            ]
           ],
           "sequential": [
            [
             0,
             "#0d0887"
            ],
            [
             0.1111111111111111,
             "#46039f"
            ],
            [
             0.2222222222222222,
             "#7201a8"
            ],
            [
             0.3333333333333333,
             "#9c179e"
            ],
            [
             0.4444444444444444,
             "#bd3786"
            ],
            [
             0.5555555555555556,
             "#d8576b"
            ],
            [
             0.6666666666666666,
             "#ed7953"
            ],
            [
             0.7777777777777778,
             "#fb9f3a"
            ],
            [
             0.8888888888888888,
             "#fdca26"
            ],
            [
             1,
             "#f0f921"
            ]
           ],
           "sequentialminus": [
            [
             0,
             "#0d0887"
            ],
            [
             0.1111111111111111,
             "#46039f"
            ],
            [
             0.2222222222222222,
             "#7201a8"
            ],
            [
             0.3333333333333333,
             "#9c179e"
            ],
            [
             0.4444444444444444,
             "#bd3786"
            ],
            [
             0.5555555555555556,
             "#d8576b"
            ],
            [
             0.6666666666666666,
             "#ed7953"
            ],
            [
             0.7777777777777778,
             "#fb9f3a"
            ],
            [
             0.8888888888888888,
             "#fdca26"
            ],
            [
             1,
             "#f0f921"
            ]
           ]
          },
          "colorway": [
           "#636efa",
           "#EF553B",
           "#00cc96",
           "#ab63fa",
           "#FFA15A",
           "#19d3f3",
           "#FF6692",
           "#B6E880",
           "#FF97FF",
           "#FECB52"
          ],
          "font": {
           "color": "#2a3f5f"
          },
          "geo": {
           "bgcolor": "white",
           "lakecolor": "white",
           "landcolor": "#E5ECF6",
           "showlakes": true,
           "showland": true,
           "subunitcolor": "white"
          },
          "hoverlabel": {
           "align": "left"
          },
          "hovermode": "closest",
          "mapbox": {
           "style": "light"
          },
          "paper_bgcolor": "white",
          "plot_bgcolor": "#E5ECF6",
          "polar": {
           "angularaxis": {
            "gridcolor": "white",
            "linecolor": "white",
            "ticks": ""
           },
           "bgcolor": "#E5ECF6",
           "radialaxis": {
            "gridcolor": "white",
            "linecolor": "white",
            "ticks": ""
           }
          },
          "scene": {
           "xaxis": {
            "backgroundcolor": "#E5ECF6",
            "gridcolor": "white",
            "gridwidth": 2,
            "linecolor": "white",
            "showbackground": true,
            "ticks": "",
            "zerolinecolor": "white"
           },
           "yaxis": {
            "backgroundcolor": "#E5ECF6",
            "gridcolor": "white",
            "gridwidth": 2,
            "linecolor": "white",
            "showbackground": true,
            "ticks": "",
            "zerolinecolor": "white"
           },
           "zaxis": {
            "backgroundcolor": "#E5ECF6",
            "gridcolor": "white",
            "gridwidth": 2,
            "linecolor": "white",
            "showbackground": true,
            "ticks": "",
            "zerolinecolor": "white"
           }
          },
          "shapedefaults": {
           "line": {
            "color": "#2a3f5f"
           }
          },
          "ternary": {
           "aaxis": {
            "gridcolor": "white",
            "linecolor": "white",
            "ticks": ""
           },
           "baxis": {
            "gridcolor": "white",
            "linecolor": "white",
            "ticks": ""
           },
           "bgcolor": "#E5ECF6",
           "caxis": {
            "gridcolor": "white",
            "linecolor": "white",
            "ticks": ""
           }
          },
          "title": {
           "x": 0.05
          },
          "xaxis": {
           "automargin": true,
           "gridcolor": "white",
           "linecolor": "white",
           "ticks": "",
           "title": {
            "standoff": 15
           },
           "zerolinecolor": "white",
           "zerolinewidth": 2
          },
          "yaxis": {
           "automargin": true,
           "gridcolor": "white",
           "linecolor": "white",
           "ticks": "",
           "title": {
            "standoff": 15
           },
           "zerolinecolor": "white",
           "zerolinewidth": 2
          }
         }
        },
        "width": 900,
        "xaxis": {
         "rangeselector": {
          "buttons": [
           {
            "count": 7,
            "label": "1w",
            "step": "day",
            "stepmode": "backward"
           },
           {
            "count": 1,
            "label": "1m",
            "step": "month",
            "stepmode": "backward"
           },
           {
            "count": 6,
            "label": "6m",
            "step": "month",
            "stepmode": "backward"
           },
           {
            "count": 1,
            "label": "1y",
            "step": "year",
            "stepmode": "backward"
           },
           {
            "step": "all"
           }
          ]
         },
         "rangeslider": {
          "visible": true
         },
         "title": {
          "text": "ds"
         },
         "type": "date"
        },
        "yaxis": {
         "title": {
          "text": "y"
         }
        }
       }
      }
     },
     "metadata": {},
     "output_type": "display_data"
    }
   ],
   "source": [
    "plot_plotly(model, forecast)"
   ]
  },
  {
   "cell_type": "code",
   "execution_count": 9,
   "id": "3eb1374d",
   "metadata": {},
   "outputs": [
    {
     "data": {
      "application/vnd.plotly.v1+json": {
       "config": {
        "plotlyServerURL": "https://plot.ly"
       },
       "data": [
        {
         "line": {
          "color": "#0072B2",
          "width": 2
         },
         "mode": "lines",
         "name": "trend",
         "type": "scatter",
         "x": [
          "2003-12-31T00:00:00.000000000",
          "2004-02-15T00:00:00.000000000",
          "2008-04-17T00:00:00.000000000",
          "2009-09-01T00:00:00.000000000",
          "2009-10-24T00:00:00.000000000",
          "2010-10-29T00:00:00.000000000",
          "2010-12-12T00:00:00.000000000",
          "2011-05-01T00:00:00.000000000",
          "2012-01-01T00:00:00.000000000",
          "2012-02-15T00:00:00.000000000",
          "2013-12-28T00:00:00.000000000",
          "2014-03-10T00:00:00.000000000",
          "2015-11-15T00:00:00.000000000",
          "2016-02-11T00:00:00.000000000",
          "2016-04-09T00:00:00.000000000",
          "2016-05-02T00:00:00.000000000",
          "2016-05-06T00:00:00.000000000",
          "2016-05-20T00:00:00.000000000",
          "2016-06-03T00:00:00.000000000",
          "2016-06-08T00:00:00.000000000",
          "2016-08-09T00:00:00.000000000",
          "2016-08-12T00:00:00.000000000",
          "2016-08-25T00:00:00.000000000",
          "2016-09-17T00:00:00.000000000",
          "2016-09-21T00:00:00.000000000",
          "2016-09-25T00:00:00.000000000",
          "2016-10-17T00:00:00.000000000",
          "2016-11-29T00:00:00.000000000",
          "2016-12-04T00:00:00.000000000",
          "2016-12-08T00:00:00.000000000",
          "2016-12-12T00:00:00.000000000",
          "2016-12-13T00:00:00.000000000",
          "2016-12-15T00:00:00.000000000",
          "2016-12-29T00:00:00.000000000",
          "2017-03-17T00:00:00.000000000",
          "2017-03-31T00:00:00.000000000",
          "2017-04-07T00:00:00.000000000",
          "2017-04-08T00:00:00.000000000",
          "2017-04-23T00:00:00.000000000",
          "2017-05-01T00:00:00.000000000",
          "2017-05-05T00:00:00.000000000",
          "2017-05-25T00:00:00.000000000",
          "2017-06-06T00:00:00.000000000",
          "2017-07-06T00:00:00.000000000",
          "2017-07-16T00:00:00.000000000",
          "2017-07-17T00:00:00.000000000",
          "2017-07-30T00:00:00.000000000",
          "2017-08-24T00:00:00.000000000",
          "2017-09-15T00:00:00.000000000",
          "2017-09-17T00:00:00.000000000",
          "2017-09-27T00:00:00.000000000",
          "2017-10-02T00:00:00.000000000",
          "2017-10-08T00:00:00.000000000",
          "2017-10-12T00:00:00.000000000",
          "2017-10-13T00:00:00.000000000",
          "2017-11-05T00:00:00.000000000",
          "2017-11-28T00:00:00.000000000",
          "2017-12-02T00:00:00.000000000",
          "2017-12-14T00:00:00.000000000",
          "2017-12-17T00:00:00.000000000",
          "2017-12-23T00:00:00.000000000",
          "2017-12-31T00:00:00.000000000",
          "2018-01-18T00:00:00.000000000",
          "2018-02-25T00:00:00.000000000",
          "2018-03-03T00:00:00.000000000",
          "2018-03-04T00:00:00.000000000",
          "2018-03-10T00:00:00.000000000",
          "2018-03-16T00:00:00.000000000",
          "2018-03-29T00:00:00.000000000",
          "2018-03-30T00:00:00.000000000",
          "2018-04-01T00:00:00.000000000",
          "2018-04-04T00:00:00.000000000",
          "2018-04-14T00:00:00.000000000",
          "2018-04-22T00:00:00.000000000",
          "2018-05-04T00:00:00.000000000",
          "2018-05-12T00:00:00.000000000",
          "2018-05-16T00:00:00.000000000",
          "2018-06-03T00:00:00.000000000",
          "2018-06-20T00:00:00.000000000",
          "2018-06-25T00:00:00.000000000",
          "2018-07-05T00:00:00.000000000",
          "2018-07-14T00:00:00.000000000",
          "2018-07-21T00:00:00.000000000",
          "2018-08-01T00:00:00.000000000",
          "2018-08-05T00:00:00.000000000",
          "2018-08-23T00:00:00.000000000",
          "2018-09-01T00:00:00.000000000",
          "2018-09-07T00:00:00.000000000",
          "2018-09-10T00:00:00.000000000",
          "2018-09-16T00:00:00.000000000",
          "2018-10-08T00:00:00.000000000",
          "2018-10-10T00:00:00.000000000",
          "2018-10-14T00:00:00.000000000",
          "2018-10-23T00:00:00.000000000",
          "2018-11-03T00:00:00.000000000",
          "2018-11-10T00:00:00.000000000",
          "2018-11-12T00:00:00.000000000",
          "2018-11-13T00:00:00.000000000",
          "2018-12-02T00:00:00.000000000",
          "2018-12-05T00:00:00.000000000",
          "2018-12-07T00:00:00.000000000",
          "2018-12-15T00:00:00.000000000",
          "2019-01-08T00:00:00.000000000",
          "2019-01-09T00:00:00.000000000",
          "2019-01-17T00:00:00.000000000",
          "2019-02-07T00:00:00.000000000",
          "2019-02-18T00:00:00.000000000",
          "2019-02-28T00:00:00.000000000",
          "2019-03-01T00:00:00.000000000",
          "2019-03-13T00:00:00.000000000",
          "2019-03-16T00:00:00.000000000",
          "2019-03-28T00:00:00.000000000",
          "2019-03-29T00:00:00.000000000",
          "2019-04-01T00:00:00.000000000",
          "2019-04-03T00:00:00.000000000",
          "2019-04-09T00:00:00.000000000",
          "2019-04-14T00:00:00.000000000",
          "2019-04-17T00:00:00.000000000",
          "2019-04-29T00:00:00.000000000",
          "2019-05-03T00:00:00.000000000",
          "2019-05-08T00:00:00.000000000",
          "2019-05-10T00:00:00.000000000",
          "2019-06-02T00:00:00.000000000",
          "2019-06-18T00:00:00.000000000",
          "2019-06-27T00:00:00.000000000",
          "2019-06-29T00:00:00.000000000",
          "2019-06-30T00:00:00.000000000",
          "2019-07-09T00:00:00.000000000",
          "2019-07-14T00:00:00.000000000",
          "2019-07-27T00:00:00.000000000",
          "2019-08-16T00:00:00.000000000",
          "2019-08-19T00:00:00.000000000",
          "2019-08-21T00:00:00.000000000",
          "2019-09-04T00:00:00.000000000",
          "2019-09-06T00:00:00.000000000",
          "2019-09-11T00:00:00.000000000",
          "2019-09-22T00:00:00.000000000",
          "2019-09-30T00:00:00.000000000",
          "2019-10-04T00:00:00.000000000",
          "2019-10-11T00:00:00.000000000",
          "2019-10-19T00:00:00.000000000",
          "2019-10-20T00:00:00.000000000",
          "2019-10-26T00:00:00.000000000",
          "2019-11-01T00:00:00.000000000",
          "2019-11-03T00:00:00.000000000",
          "2019-11-11T00:00:00.000000000",
          "2019-11-16T00:00:00.000000000",
          "2019-11-17T00:00:00.000000000",
          "2019-11-21T00:00:00.000000000",
          "2019-12-07T00:00:00.000000000",
          "2019-12-12T00:00:00.000000000",
          "2019-12-21T00:00:00.000000000",
          "2019-12-23T00:00:00.000000000",
          "2020-01-19T00:00:00.000000000",
          "2020-02-01T00:00:00.000000000",
          "2020-02-06T00:00:00.000000000",
          "2020-02-15T00:00:00.000000000",
          "2020-02-20T00:00:00.000000000",
          "2020-03-07T00:00:00.000000000",
          "2020-03-17T00:00:00.000000000",
          "2020-03-19T00:00:00.000000000",
          "2020-03-27T00:00:00.000000000",
          "2020-04-09T00:00:00.000000000",
          "2020-04-17T00:00:00.000000000",
          "2020-05-02T00:00:00.000000000",
          "2020-06-07T00:00:00.000000000",
          "2020-06-11T00:00:00.000000000",
          "2020-06-14T00:00:00.000000000",
          "2020-06-17T00:00:00.000000000",
          "2020-06-27T00:00:00.000000000",
          "2020-07-17T00:00:00.000000000",
          "2020-07-22T00:00:00.000000000",
          "2020-07-25T00:00:00.000000000",
          "2020-08-30T00:00:00.000000000",
          "2020-09-20T00:00:00.000000000",
          "2020-09-21T00:00:00.000000000",
          "2020-10-05T00:00:00.000000000",
          "2020-10-15T00:00:00.000000000",
          "2020-10-27T00:00:00.000000000",
          "2020-11-01T00:00:00.000000000",
          "2020-11-02T00:00:00.000000000",
          "2020-12-05T00:00:00.000000000",
          "2020-12-21T00:00:00.000000000",
          "2020-12-24T00:00:00.000000000",
          "2020-12-25T00:00:00.000000000",
          "2021-01-08T00:00:00.000000000",
          "2021-01-11T00:00:00.000000000",
          "2021-01-20T00:00:00.000000000",
          "2021-01-23T00:00:00.000000000",
          "2021-02-01T00:00:00.000000000",
          "2021-02-21T00:00:00.000000000",
          "2021-02-24T00:00:00.000000000",
          "2021-03-01T00:00:00.000000000",
          "2021-03-06T00:00:00.000000000",
          "2021-03-12T00:00:00.000000000",
          "2021-03-20T00:00:00.000000000",
          "2021-03-30T00:00:00.000000000",
          "2021-04-01T00:00:00.000000000",
          "2021-04-13T00:00:00.000000000",
          "2021-04-18T00:00:00.000000000",
          "2021-05-04T00:00:00.000000000",
          "2021-05-06T00:00:00.000000000",
          "2021-05-10T00:00:00.000000000",
          "2021-05-13T00:00:00.000000000",
          "2021-05-21T00:00:00.000000000",
          "2021-05-23T00:00:00.000000000",
          "2021-06-02T00:00:00.000000000",
          "2021-06-04T00:00:00.000000000",
          "2021-06-07T00:00:00.000000000",
          "2021-07-15T00:00:00.000000000",
          "2021-07-17T00:00:00.000000000",
          "2021-07-31T00:00:00.000000000",
          "2021-08-20T00:00:00.000000000",
          "2021-08-21T00:00:00.000000000",
          "2021-09-01T00:00:00.000000000",
          "2021-09-04T00:00:00.000000000",
          "2021-09-09T00:00:00.000000000",
          "2021-09-26T00:00:00.000000000",
          "2021-10-01T00:00:00.000000000",
          "2021-10-10T00:00:00.000000000",
          "2021-10-16T00:00:00.000000000",
          "2021-11-07T00:00:00.000000000",
          "2021-11-17T00:00:00.000000000",
          "2021-11-20T00:00:00.000000000",
          "2021-12-01T00:00:00.000000000",
          "2022-01-05T00:00:00.000000000",
          "2022-01-24T00:00:00.000000000",
          "2022-02-20T00:00:00.000000000",
          "2022-02-22T00:00:00.000000000",
          "2022-03-13T00:00:00.000000000",
          "2022-03-15T00:00:00.000000000",
          "2022-03-19T00:00:00.000000000",
          "2022-03-21T00:00:00.000000000",
          "2022-03-27T00:00:00.000000000",
          "2022-03-31T00:00:00.000000000",
          "2022-04-07T00:00:00.000000000",
          "2022-04-09T00:00:00.000000000",
          "2022-04-15T00:00:00.000000000",
          "2022-04-16T00:00:00.000000000",
          "2022-04-26T00:00:00.000000000",
          "2022-04-30T00:00:00.000000000",
          "2022-05-03T00:00:00.000000000",
          "2022-05-04T00:00:00.000000000",
          "2022-06-04T00:00:00.000000000",
          "2022-06-17T00:00:00.000000000",
          "2022-07-02T00:00:00.000000000",
          "2022-07-06T00:00:00.000000000",
          "2022-07-21T00:00:00.000000000",
          "2022-07-24T00:00:00.000000000",
          "2022-07-29T00:00:00.000000000",
          "2022-08-05T00:00:00.000000000",
          "2022-08-08T00:00:00.000000000",
          "2022-08-10T00:00:00.000000000",
          "2022-08-17T00:00:00.000000000",
          "2022-08-23T00:00:00.000000000",
          "2022-08-31T00:00:00.000000000",
          "2022-09-10T00:00:00.000000000",
          "2022-09-21T00:00:00.000000000",
          "2022-10-01T00:00:00.000000000",
          "2022-10-10T00:00:00.000000000",
          "2022-10-13T00:00:00.000000000",
          "2022-10-24T00:00:00.000000000",
          "2022-10-26T00:00:00.000000000",
          "2022-12-04T00:00:00.000000000",
          "2022-12-06T00:00:00.000000000",
          "2022-12-16T00:00:00.000000000",
          "2022-12-29T00:00:00.000000000",
          "2022-12-31T00:00:00.000000000",
          "2023-01-17T00:00:00.000000000",
          "2023-01-22T00:00:00.000000000",
          "2023-02-11T00:00:00.000000000",
          "2023-02-14T00:00:00.000000000",
          "2023-03-02T00:00:00.000000000",
          "2023-03-07T00:00:00.000000000",
          "2023-03-10T00:00:00.000000000",
          "2023-03-11T00:00:00.000000000",
          "2023-03-17T00:00:00.000000000",
          "2023-03-18T00:00:00.000000000",
          "2023-03-24T00:00:00.000000000",
          "2023-03-28T00:00:00.000000000",
          "2023-03-29T00:00:00.000000000",
          "2023-03-31T00:00:00.000000000",
          "2023-04-16T00:00:00.000000000",
          "2023-05-01T00:00:00.000000000",
          "2023-05-22T00:00:00.000000000",
          "2023-05-23T00:00:00.000000000",
          "2023-05-26T00:00:00.000000000",
          "2023-05-29T00:00:00.000000000",
          "2023-06-17T00:00:00.000000000",
          "2023-07-08T00:00:00.000000000",
          "2023-07-20T00:00:00.000000000",
          "2023-07-22T00:00:00.000000000",
          "2023-07-23T00:00:00.000000000",
          "2023-08-03T00:00:00.000000000",
          "2023-08-04T00:00:00.000000000",
          "2023-08-21T00:00:00.000000000",
          "2023-08-31T00:00:00.000000000",
          "2023-09-02T00:00:00.000000000",
          "2023-09-06T00:00:00.000000000",
          "2023-09-13T00:00:00.000000000",
          "2023-09-20T00:00:00.000000000",
          "2023-09-30T00:00:00.000000000",
          "2023-10-28T00:00:00.000000000",
          "2023-11-09T00:00:00.000000000",
          "2023-11-29T00:00:00.000000000",
          "2023-12-08T00:00:00.000000000",
          "2023-12-09T00:00:00.000000000",
          "2023-12-24T00:00:00.000000000",
          "2024-01-13T00:00:00.000000000",
          "2024-01-16T00:00:00.000000000",
          "2024-03-01T00:00:00.000000000",
          "2024-03-08T00:00:00.000000000",
          "2024-03-09T00:00:00.000000000",
          "2024-03-22T00:00:00.000000000",
          "2024-04-01T00:00:00.000000000",
          "2024-05-03T00:00:00.000000000",
          "2024-05-17T00:00:00.000000000",
          "2024-06-16T00:00:00.000000000",
          "2024-06-17T00:00:00.000000000",
          "2024-06-18T00:00:00.000000000",
          "2024-06-21T00:00:00.000000000",
          "2024-07-13T00:00:00.000000000",
          "2024-07-19T00:00:00.000000000",
          "2024-07-26T00:00:00.000000000",
          "2024-08-10T00:00:00.000000000",
          "2024-08-12T00:00:00.000000000",
          "2024-08-13T00:00:00.000000000",
          "2024-08-25T00:00:00.000000000",
          "2024-08-26T00:00:00.000000000",
          "2024-09-01T00:00:00.000000000",
          "2024-09-02T00:00:00.000000000",
          "2024-09-03T00:00:00.000000000",
          "2024-09-09T00:00:00.000000000",
          "2024-09-10T00:00:00.000000000",
          "2024-09-13T00:00:00.000000000",
          "2024-09-18T00:00:00.000000000",
          "2024-09-27T00:00:00.000000000",
          "2024-10-22T00:00:00.000000000",
          "2024-10-24T00:00:00.000000000",
          "2024-10-28T00:00:00.000000000",
          "2024-12-21T00:00:00.000000000",
          "2025-01-16T00:00:00.000000000",
          "2025-01-18T00:00:00.000000000",
          "2025-01-28T00:00:00.000000000",
          "2025-01-28T01:00:00.000000000",
          "2025-01-28T02:00:00.000000000",
          "2025-01-28T03:00:00.000000000",
          "2025-01-28T04:00:00.000000000",
          "2025-01-28T05:00:00.000000000",
          "2025-01-28T06:00:00.000000000",
          "2025-01-28T07:00:00.000000000",
          "2025-01-28T08:00:00.000000000",
          "2025-01-28T09:00:00.000000000",
          "2025-01-28T10:00:00.000000000",
          "2025-01-28T11:00:00.000000000",
          "2025-01-28T12:00:00.000000000",
          "2025-01-28T13:00:00.000000000",
          "2025-01-28T14:00:00.000000000",
          "2025-01-28T15:00:00.000000000",
          "2025-01-28T16:00:00.000000000",
          "2025-01-28T17:00:00.000000000",
          "2025-01-28T18:00:00.000000000",
          "2025-01-28T19:00:00.000000000",
          "2025-01-28T20:00:00.000000000",
          "2025-01-28T21:00:00.000000000",
          "2025-01-28T22:00:00.000000000",
          "2025-01-28T23:00:00.000000000",
          "2025-01-29T00:00:00.000000000"
         ],
         "xaxis": "x",
         "y": {
          "bdata": "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",
          "dtype": "f8"
         },
         "yaxis": "y"
        },
        {
         "line": {
          "color": "#0072B2",
          "width": 2
         },
         "mode": "lines",
         "name": "yearly",
         "type": "scatter",
         "x": [
          "2017-01-01T00:00:00.000000000",
          "2017-01-02T00:00:59.178082304",
          "2017-01-03T00:01:58.356164352",
          "2017-01-04T00:02:57.534246656",
          "2017-01-05T00:03:56.712328704",
          "2017-01-06T00:04:55.890411008",
          "2017-01-07T00:05:55.068493056",
          "2017-01-08T00:06:54.246575360",
          "2017-01-09T00:07:53.424657408",
          "2017-01-10T00:08:52.602739712",
          "2017-01-11T00:09:51.780822016",
          "2017-01-12T00:10:50.958904064",
          "2017-01-13T00:11:50.136986368",
          "2017-01-14T00:12:49.315068416",
          "2017-01-15T00:13:48.493150720",
          "2017-01-16T00:14:47.671232768",
          "2017-01-17T00:15:46.849315072",
          "2017-01-18T00:16:46.027397376",
          "2017-01-19T00:17:45.205479424",
          "2017-01-20T00:18:44.383561728",
          "2017-01-21T00:19:43.561643776",
          "2017-01-22T00:20:42.739726080",
          "2017-01-23T00:21:41.917808128",
          "2017-01-24T00:22:41.095890432",
          "2017-01-25T00:23:40.273972480",
          "2017-01-26T00:24:39.452054784",
          "2017-01-27T00:25:38.630137088",
          "2017-01-28T00:26:37.808219136",
          "2017-01-29T00:27:36.986301440",
          "2017-01-30T00:28:36.164383488",
          "2017-01-31T00:29:35.342465792",
          "2017-02-01T00:30:34.520547840",
          "2017-02-02T00:31:33.698630144",
          "2017-02-03T00:32:32.876712448",
          "2017-02-04T00:33:32.054794496",
          "2017-02-05T00:34:31.232876800",
          "2017-02-06T00:35:30.410958848",
          "2017-02-07T00:36:29.589041152",
          "2017-02-08T00:37:28.767123200",
          "2017-02-09T00:38:27.945205504",
          "2017-02-10T00:39:27.123287552",
          "2017-02-11T00:40:26.301369856",
          "2017-02-12T00:41:25.479452160",
          "2017-02-13T00:42:24.657534208",
          "2017-02-14T00:43:23.835616512",
          "2017-02-15T00:44:23.013698560",
          "2017-02-16T00:45:22.191780864",
          "2017-02-17T00:46:21.369862912",
          "2017-02-18T00:47:20.547945216",
          "2017-02-19T00:48:19.726027520",
          "2017-02-20T00:49:18.904109568",
          "2017-02-21T00:50:18.082191872",
          "2017-02-22T00:51:17.260273920",
          "2017-02-23T00:52:16.438356224",
          "2017-02-24T00:53:15.616438272",
          "2017-02-25T00:54:14.794520576",
          "2017-02-26T00:55:13.972602624",
          "2017-02-27T00:56:13.150684928",
          "2017-02-28T00:57:12.328767232",
          "2017-03-01T00:58:11.506849280",
          "2017-03-02T00:59:10.684931584",
          "2017-03-03T01:00:09.863013632",
          "2017-03-04T01:01:09.041095936",
          "2017-03-05T01:02:08.219177984",
          "2017-03-06T01:03:07.397260288",
          "2017-03-07T01:04:06.575342592",
          "2017-03-08T01:05:05.753424640",
          "2017-03-09T01:06:04.931506944",
          "2017-03-10T01:07:04.109588992",
          "2017-03-11T01:08:03.287671296",
          "2017-03-12T01:09:02.465753344",
          "2017-03-13T01:10:01.643835648",
          "2017-03-14T01:11:00.821917696",
          "2017-03-15T01:12:00.000000000",
          "2017-03-16T01:12:59.178082304",
          "2017-03-17T01:13:58.356164352",
          "2017-03-18T01:14:57.534246656",
          "2017-03-19T01:15:56.712328704",
          "2017-03-20T01:16:55.890411008",
          "2017-03-21T01:17:55.068493056",
          "2017-03-22T01:18:54.246575360",
          "2017-03-23T01:19:53.424657408",
          "2017-03-24T01:20:52.602739712",
          "2017-03-25T01:21:51.780822016",
          "2017-03-26T01:22:50.958904064",
          "2017-03-27T01:23:50.136986368",
          "2017-03-28T01:24:49.315068416",
          "2017-03-29T01:25:48.493150720",
          "2017-03-30T01:26:47.671232768",
          "2017-03-31T01:27:46.849315072",
          "2017-04-01T01:28:46.027397376",
          "2017-04-02T01:29:45.205479424",
          "2017-04-03T01:30:44.383561728",
          "2017-04-04T01:31:43.561643776",
          "2017-04-05T01:32:42.739726080",
          "2017-04-06T01:33:41.917808128",
          "2017-04-07T01:34:41.095890432",
          "2017-04-08T01:35:40.273972480",
          "2017-04-09T01:36:39.452054784",
          "2017-04-10T01:37:38.630137088",
          "2017-04-11T01:38:37.808219136",
          "2017-04-12T01:39:36.986301440",
          "2017-04-13T01:40:36.164383488",
          "2017-04-14T01:41:35.342465792",
          "2017-04-15T01:42:34.520547840",
          "2017-04-16T01:43:33.698630144",
          "2017-04-17T01:44:32.876712448",
          "2017-04-18T01:45:32.054794496",
          "2017-04-19T01:46:31.232876800",
          "2017-04-20T01:47:30.410958848",
          "2017-04-21T01:48:29.589041152",
          "2017-04-22T01:49:28.767123200",
          "2017-04-23T01:50:27.945205504",
          "2017-04-24T01:51:27.123287552",
          "2017-04-25T01:52:26.301369856",
          "2017-04-26T01:53:25.479452160",
          "2017-04-27T01:54:24.657534208",
          "2017-04-28T01:55:23.835616512",
          "2017-04-29T01:56:23.013698560",
          "2017-04-30T01:57:22.191780864",
          "2017-05-01T01:58:21.369862912",
          "2017-05-02T01:59:20.547945216",
          "2017-05-03T02:00:19.726027520",
          "2017-05-04T02:01:18.904109568",
          "2017-05-05T02:02:18.082191872",
          "2017-05-06T02:03:17.260273920",
          "2017-05-07T02:04:16.438356224",
          "2017-05-08T02:05:15.616438272",
          "2017-05-09T02:06:14.794520576",
          "2017-05-10T02:07:13.972602624",
          "2017-05-11T02:08:13.150684928",
          "2017-05-12T02:09:12.328767232",
          "2017-05-13T02:10:11.506849280",
          "2017-05-14T02:11:10.684931584",
          "2017-05-15T02:12:09.863013632",
          "2017-05-16T02:13:09.041095936",
          "2017-05-17T02:14:08.219177984",
          "2017-05-18T02:15:07.397260288",
          "2017-05-19T02:16:06.575342592",
          "2017-05-20T02:17:05.753424640",
          "2017-05-21T02:18:04.931506944",
          "2017-05-22T02:19:04.109588992",
          "2017-05-23T02:20:03.287671296",
          "2017-05-24T02:21:02.465753344",
          "2017-05-25T02:22:01.643835648",
          "2017-05-26T02:23:00.821917696",
          "2017-05-27T02:24:00.000000000",
          "2017-05-28T02:24:59.178082304",
          "2017-05-29T02:25:58.356164352",
          "2017-05-30T02:26:57.534246656",
          "2017-05-31T02:27:56.712328704",
          "2017-06-01T02:28:55.890411008",
          "2017-06-02T02:29:55.068493056",
          "2017-06-03T02:30:54.246575360",
          "2017-06-04T02:31:53.424657408",
          "2017-06-05T02:32:52.602739712",
          "2017-06-06T02:33:51.780822016",
          "2017-06-07T02:34:50.958904064",
          "2017-06-08T02:35:50.136986368",
          "2017-06-09T02:36:49.315068416",
          "2017-06-10T02:37:48.493150720",
          "2017-06-11T02:38:47.671232768",
          "2017-06-12T02:39:46.849315072",
          "2017-06-13T02:40:46.027397376",
          "2017-06-14T02:41:45.205479424",
          "2017-06-15T02:42:44.383561728",
          "2017-06-16T02:43:43.561643776",
          "2017-06-17T02:44:42.739726080",
          "2017-06-18T02:45:41.917808128",
          "2017-06-19T02:46:41.095890432",
          "2017-06-20T02:47:40.273972480",
          "2017-06-21T02:48:39.452054784",
          "2017-06-22T02:49:38.630137088",
          "2017-06-23T02:50:37.808219136",
          "2017-06-24T02:51:36.986301440",
          "2017-06-25T02:52:36.164383488",
          "2017-06-26T02:53:35.342465792",
          "2017-06-27T02:54:34.520547840",
          "2017-06-28T02:55:33.698630144",
          "2017-06-29T02:56:32.876712448",
          "2017-06-30T02:57:32.054794496",
          "2017-07-01T02:58:31.232876800",
          "2017-07-02T02:59:30.410958848",
          "2017-07-03T03:00:29.589041152",
          "2017-07-04T03:01:28.767123200",
          "2017-07-05T03:02:27.945205504",
          "2017-07-06T03:03:27.123287552",
          "2017-07-07T03:04:26.301369856",
          "2017-07-08T03:05:25.479452160",
          "2017-07-09T03:06:24.657534208",
          "2017-07-10T03:07:23.835616512",
          "2017-07-11T03:08:23.013698560",
          "2017-07-12T03:09:22.191780864",
          "2017-07-13T03:10:21.369862912",
          "2017-07-14T03:11:20.547945216",
          "2017-07-15T03:12:19.726027520",
          "2017-07-16T03:13:18.904109568",
          "2017-07-17T03:14:18.082191872",
          "2017-07-18T03:15:17.260273920",
          "2017-07-19T03:16:16.438356224",
          "2017-07-20T03:17:15.616438272",
          "2017-07-21T03:18:14.794520576",
          "2017-07-22T03:19:13.972602624",
          "2017-07-23T03:20:13.150684928",
          "2017-07-24T03:21:12.328767232",
          "2017-07-25T03:22:11.506849280",
          "2017-07-26T03:23:10.684931584",
          "2017-07-27T03:24:09.863013632",
          "2017-07-28T03:25:09.041095936",
          "2017-07-29T03:26:08.219177984",
          "2017-07-30T03:27:07.397260288",
          "2017-07-31T03:28:06.575342592",
          "2017-08-01T03:29:05.753424640",
          "2017-08-02T03:30:04.931506944",
          "2017-08-03T03:31:04.109588992",
          "2017-08-04T03:32:03.287671296",
          "2017-08-05T03:33:02.465753344",
          "2017-08-06T03:34:01.643835648",
          "2017-08-07T03:35:00.821917696",
          "2017-08-08T03:36:00.000000000",
          "2017-08-09T03:36:59.178082304",
          "2017-08-10T03:37:58.356164352",
          "2017-08-11T03:38:57.534246656",
          "2017-08-12T03:39:56.712328704",
          "2017-08-13T03:40:55.890411008",
          "2017-08-14T03:41:55.068493056",
          "2017-08-15T03:42:54.246575360",
          "2017-08-16T03:43:53.424657408",
          "2017-08-17T03:44:52.602739712",
          "2017-08-18T03:45:51.780822016",
          "2017-08-19T03:46:50.958904064",
          "2017-08-20T03:47:50.136986368",
          "2017-08-21T03:48:49.315068416",
          "2017-08-22T03:49:48.493150720",
          "2017-08-23T03:50:47.671232768",
          "2017-08-24T03:51:46.849315072",
          "2017-08-25T03:52:46.027397376",
          "2017-08-26T03:53:45.205479424",
          "2017-08-27T03:54:44.383561728",
          "2017-08-28T03:55:43.561643776",
          "2017-08-29T03:56:42.739726080",
          "2017-08-30T03:57:41.917808128",
          "2017-08-31T03:58:41.095890432",
          "2017-09-01T03:59:40.273972480",
          "2017-09-02T04:00:39.452054784",
          "2017-09-03T04:01:38.630137088",
          "2017-09-04T04:02:37.808219136",
          "2017-09-05T04:03:36.986301440",
          "2017-09-06T04:04:36.164383488",
          "2017-09-07T04:05:35.342465792",
          "2017-09-08T04:06:34.520547840",
          "2017-09-09T04:07:33.698630144",
          "2017-09-10T04:08:32.876712448",
          "2017-09-11T04:09:32.054794496",
          "2017-09-12T04:10:31.232876800",
          "2017-09-13T04:11:30.410958848",
          "2017-09-14T04:12:29.589041152",
          "2017-09-15T04:13:28.767123200",
          "2017-09-16T04:14:27.945205504",
          "2017-09-17T04:15:27.123287552",
          "2017-09-18T04:16:26.301369856",
          "2017-09-19T04:17:25.479452160",
          "2017-09-20T04:18:24.657534208",
          "2017-09-21T04:19:23.835616512",
          "2017-09-22T04:20:23.013698560",
          "2017-09-23T04:21:22.191780864",
          "2017-09-24T04:22:21.369862912",
          "2017-09-25T04:23:20.547945216",
          "2017-09-26T04:24:19.726027520",
          "2017-09-27T04:25:18.904109568",
          "2017-09-28T04:26:18.082191872",
          "2017-09-29T04:27:17.260273920",
          "2017-09-30T04:28:16.438356224",
          "2017-10-01T04:29:15.616438272",
          "2017-10-02T04:30:14.794520576",
          "2017-10-03T04:31:13.972602624",
          "2017-10-04T04:32:13.150684928",
          "2017-10-05T04:33:12.328767232",
          "2017-10-06T04:34:11.506849280",
          "2017-10-07T04:35:10.684931584",
          "2017-10-08T04:36:09.863013632",
          "2017-10-09T04:37:09.041095936",
          "2017-10-10T04:38:08.219177984",
          "2017-10-11T04:39:07.397260288",
          "2017-10-12T04:40:06.575342592",
          "2017-10-13T04:41:05.753424640",
          "2017-10-14T04:42:04.931506944",
          "2017-10-15T04:43:04.109588992",
          "2017-10-16T04:44:03.287671296",
          "2017-10-17T04:45:02.465753344",
          "2017-10-18T04:46:01.643835648",
          "2017-10-19T04:47:00.821917696",
          "2017-10-20T04:48:00.000000000",
          "2017-10-21T04:48:59.178082304",
          "2017-10-22T04:49:58.356164352",
          "2017-10-23T04:50:57.534246656",
          "2017-10-24T04:51:56.712328704",
          "2017-10-25T04:52:55.890411008",
          "2017-10-26T04:53:55.068493056",
          "2017-10-27T04:54:54.246575360",
          "2017-10-28T04:55:53.424657408",
          "2017-10-29T04:56:52.602739712",
          "2017-10-30T04:57:51.780822016",
          "2017-10-31T04:58:50.958904064",
          "2017-11-01T04:59:50.136986368",
          "2017-11-02T05:00:49.315068416",
          "2017-11-03T05:01:48.493150720",
          "2017-11-04T05:02:47.671232768",
          "2017-11-05T05:03:46.849315072",
          "2017-11-06T05:04:46.027397376",
          "2017-11-07T05:05:45.205479424",
          "2017-11-08T05:06:44.383561728",
          "2017-11-09T05:07:43.561643776",
          "2017-11-10T05:08:42.739726080",
          "2017-11-11T05:09:41.917808128",
          "2017-11-12T05:10:41.095890432",
          "2017-11-13T05:11:40.273972480",
          "2017-11-14T05:12:39.452054784",
          "2017-11-15T05:13:38.630137088",
          "2017-11-16T05:14:37.808219136",
          "2017-11-17T05:15:36.986301440",
          "2017-11-18T05:16:36.164383488",
          "2017-11-19T05:17:35.342465792",
          "2017-11-20T05:18:34.520547840",
          "2017-11-21T05:19:33.698630144",
          "2017-11-22T05:20:32.876712448",
          "2017-11-23T05:21:32.054794496",
          "2017-11-24T05:22:31.232876800",
          "2017-11-25T05:23:30.410958848",
          "2017-11-26T05:24:29.589041152",
          "2017-11-27T05:25:28.767123200",
          "2017-11-28T05:26:27.945205504",
          "2017-11-29T05:27:27.123287552",
          "2017-11-30T05:28:26.301369856",
          "2017-12-01T05:29:25.479452160",
          "2017-12-02T05:30:24.657534208",
          "2017-12-03T05:31:23.835616512",
          "2017-12-04T05:32:23.013698560",
          "2017-12-05T05:33:22.191780864",
          "2017-12-06T05:34:21.369862912",
          "2017-12-07T05:35:20.547945216",
          "2017-12-08T05:36:19.726027520",
          "2017-12-09T05:37:18.904109568",
          "2017-12-10T05:38:18.082191872",
          "2017-12-11T05:39:17.260273920",
          "2017-12-12T05:40:16.438356224",
          "2017-12-13T05:41:15.616438272",
          "2017-12-14T05:42:14.794520576",
          "2017-12-15T05:43:13.972602624",
          "2017-12-16T05:44:13.150684928",
          "2017-12-17T05:45:12.328767232",
          "2017-12-18T05:46:11.506849280",
          "2017-12-19T05:47:10.684931584",
          "2017-12-20T05:48:09.863013632",
          "2017-12-21T05:49:09.041095936",
          "2017-12-22T05:50:08.219177984",
          "2017-12-23T05:51:07.397260288",
          "2017-12-24T05:52:06.575342592",
          "2017-12-25T05:53:05.753424640",
          "2017-12-26T05:54:04.931506944",
          "2017-12-27T05:55:04.109588992",
          "2017-12-28T05:56:03.287671296",
          "2017-12-29T05:57:02.465753344",
          "2017-12-30T05:58:01.643835648",
          "2017-12-31T05:59:00.821917696"
         ],
         "xaxis": "x2",
         "y": {
          "bdata": "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",
          "dtype": "f8"
         },
         "yaxis": "y2"
        },
        {
         "line": {
          "color": "#0072B2",
          "width": 2
         },
         "mode": "lines",
         "name": "weekly",
         "type": "scatter",
         "x": [
          "2017-01-01T00:00:00.000000000",
          "2017-01-02T00:00:00.000000000",
          "2017-01-03T00:00:00.000000000",
          "2017-01-04T00:00:00.000000000",
          "2017-01-05T00:00:00.000000000",
          "2017-01-06T00:00:00.000000000",
          "2017-01-07T00:00:00.000000000"
         ],
         "xaxis": "x3",
         "y": {
          "bdata": "Zv0bHBqHqD/PRR3+/yO1P+DDCcp6yKm/3yVBzL2Ji7/4kMrpFcNDv3P8JQzwXnS/eLEPgkVJr78=",
          "dtype": "f8"
         },
         "yaxis": "y3"
        }
       ],
       "layout": {
        "height": 600,
        "showlegend": false,
        "template": {
         "data": {
          "bar": [
           {
            "error_x": {
             "color": "#2a3f5f"
            },
            "error_y": {
             "color": "#2a3f5f"
            },
            "marker": {
             "line": {
              "color": "#E5ECF6",
              "width": 0.5
             },
             "pattern": {
              "fillmode": "overlay",
              "size": 10,
              "solidity": 0.2
             }
            },
            "type": "bar"
           }
          ],
          "barpolar": [
           {
            "marker": {
             "line": {
              "color": "#E5ECF6",
              "width": 0.5
             },
             "pattern": {
              "fillmode": "overlay",
              "size": 10,
              "solidity": 0.2
             }
            },
            "type": "barpolar"
           }
          ],
          "carpet": [
           {
            "aaxis": {
             "endlinecolor": "#2a3f5f",
             "gridcolor": "white",
             "linecolor": "white",
             "minorgridcolor": "white",
             "startlinecolor": "#2a3f5f"
            },
            "baxis": {
             "endlinecolor": "#2a3f5f",
             "gridcolor": "white",
             "linecolor": "white",
             "minorgridcolor": "white",
             "startlinecolor": "#2a3f5f"
            },
            "type": "carpet"
           }
          ],
          "choropleth": [
           {
            "colorbar": {
             "outlinewidth": 0,
             "ticks": ""
            },
            "type": "choropleth"
           }
          ],
          "contour": [
           {
            "colorbar": {
             "outlinewidth": 0,
             "ticks": ""
            },
            "colorscale": [
             [
              0,
              "#0d0887"
             ],
             [
              0.1111111111111111,
              "#46039f"
             ],
             [
              0.2222222222222222,
              "#7201a8"
             ],
             [
              0.3333333333333333,
              "#9c179e"
             ],
             [
              0.4444444444444444,
              "#bd3786"
             ],
             [
              0.5555555555555556,
              "#d8576b"
             ],
             [
              0.6666666666666666,
              "#ed7953"
             ],
             [
              0.7777777777777778,
              "#fb9f3a"
             ],
             [
              0.8888888888888888,
              "#fdca26"
             ],
             [
              1,
              "#f0f921"
             ]
            ],
            "type": "contour"
           }
          ],
          "contourcarpet": [
           {
            "colorbar": {
             "outlinewidth": 0,
             "ticks": ""
            },
            "type": "contourcarpet"
           }
          ],
          "heatmap": [
           {
            "colorbar": {
             "outlinewidth": 0,
             "ticks": ""
            },
            "colorscale": [
             [
              0,
              "#0d0887"
             ],
             [
              0.1111111111111111,
              "#46039f"
             ],
             [
              0.2222222222222222,
              "#7201a8"
             ],
             [
              0.3333333333333333,
              "#9c179e"
             ],
             [
              0.4444444444444444,
              "#bd3786"
             ],
             [
              0.5555555555555556,
              "#d8576b"
             ],
             [
              0.6666666666666666,
              "#ed7953"
             ],
             [
              0.7777777777777778,
              "#fb9f3a"
             ],
             [
              0.8888888888888888,
              "#fdca26"
             ],
             [
              1,
              "#f0f921"
             ]
            ],
            "type": "heatmap"
           }
          ],
          "histogram": [
           {
            "marker": {
             "pattern": {
              "fillmode": "overlay",
              "size": 10,
              "solidity": 0.2
             }
            },
            "type": "histogram"
           }
          ],
          "histogram2d": [
           {
            "colorbar": {
             "outlinewidth": 0,
             "ticks": ""
            },
            "colorscale": [
             [
              0,
              "#0d0887"
             ],
             [
              0.1111111111111111,
              "#46039f"
             ],
             [
              0.2222222222222222,
              "#7201a8"
             ],
             [
              0.3333333333333333,
              "#9c179e"
             ],
             [
              0.4444444444444444,
              "#bd3786"
             ],
             [
              0.5555555555555556,
              "#d8576b"
             ],
             [
              0.6666666666666666,
              "#ed7953"
             ],
             [
              0.7777777777777778,
              "#fb9f3a"
             ],
             [
              0.8888888888888888,
              "#fdca26"
             ],
             [
              1,
              "#f0f921"
             ]
            ],
            "type": "histogram2d"
           }
          ],
          "histogram2dcontour": [
           {
            "colorbar": {
             "outlinewidth": 0,
             "ticks": ""
            },
            "colorscale": [
             [
              0,
              "#0d0887"
             ],
             [
              0.1111111111111111,
              "#46039f"
             ],
             [
              0.2222222222222222,
              "#7201a8"
             ],
             [
              0.3333333333333333,
              "#9c179e"
             ],
             [
              0.4444444444444444,
              "#bd3786"
             ],
             [
              0.5555555555555556,
              "#d8576b"
             ],
             [
              0.6666666666666666,
              "#ed7953"
             ],
             [
              0.7777777777777778,
              "#fb9f3a"
             ],
             [
              0.8888888888888888,
              "#fdca26"
             ],
             [
              1,
              "#f0f921"
             ]
            ],
            "type": "histogram2dcontour"
           }
          ],
          "mesh3d": [
           {
            "colorbar": {
             "outlinewidth": 0,
             "ticks": ""
            },
            "type": "mesh3d"
           }
          ],
          "parcoords": [
           {
            "line": {
             "colorbar": {
              "outlinewidth": 0,
              "ticks": ""
             }
            },
            "type": "parcoords"
           }
          ],
          "pie": [
           {
            "automargin": true,
            "type": "pie"
           }
          ],
          "scatter": [
           {
            "fillpattern": {
             "fillmode": "overlay",
             "size": 10,
             "solidity": 0.2
            },
            "type": "scatter"
           }
          ],
          "scatter3d": [
           {
            "line": {
             "colorbar": {
              "outlinewidth": 0,
              "ticks": ""
             }
            },
            "marker": {
             "colorbar": {
              "outlinewidth": 0,
              "ticks": ""
             }
            },
            "type": "scatter3d"
           }
          ],
          "scattercarpet": [
           {
            "marker": {
             "colorbar": {
              "outlinewidth": 0,
              "ticks": ""
             }
            },
            "type": "scattercarpet"
           }
          ],
          "scattergeo": [
           {
            "marker": {
             "colorbar": {
              "outlinewidth": 0,
              "ticks": ""
             }
            },
            "type": "scattergeo"
           }
          ],
          "scattergl": [
           {
            "marker": {
             "colorbar": {
              "outlinewidth": 0,
              "ticks": ""
             }
            },
            "type": "scattergl"
           }
          ],
          "scattermap": [
           {
            "marker": {
             "colorbar": {
              "outlinewidth": 0,
              "ticks": ""
             }
            },
            "type": "scattermap"
           }
          ],
          "scattermapbox": [
           {
            "marker": {
             "colorbar": {
              "outlinewidth": 0,
              "ticks": ""
             }
            },
            "type": "scattermapbox"
           }
          ],
          "scatterpolar": [
           {
            "marker": {
             "colorbar": {
              "outlinewidth": 0,
              "ticks": ""
             }
            },
            "type": "scatterpolar"
           }
          ],
          "scatterpolargl": [
           {
            "marker": {
             "colorbar": {
              "outlinewidth": 0,
              "ticks": ""
             }
            },
            "type": "scatterpolargl"
           }
          ],
          "scatterternary": [
           {
            "marker": {
             "colorbar": {
              "outlinewidth": 0,
              "ticks": ""
             }
            },
            "type": "scatterternary"
           }
          ],
          "surface": [
           {
            "colorbar": {
             "outlinewidth": 0,
             "ticks": ""
            },
            "colorscale": [
             [
              0,
              "#0d0887"
             ],
             [
              0.1111111111111111,
              "#46039f"
             ],
             [
              0.2222222222222222,
              "#7201a8"
             ],
             [
              0.3333333333333333,
              "#9c179e"
             ],
             [
              0.4444444444444444,
              "#bd3786"
             ],
             [
              0.5555555555555556,
              "#d8576b"
             ],
             [
              0.6666666666666666,
              "#ed7953"
             ],
             [
              0.7777777777777778,
              "#fb9f3a"
             ],
             [
              0.8888888888888888,
              "#fdca26"
             ],
             [
              1,
              "#f0f921"
             ]
            ],
            "type": "surface"
           }
          ],
          "table": [
           {
            "cells": {
             "fill": {
              "color": "#EBF0F8"
             },
             "line": {
              "color": "white"
             }
            },
            "header": {
             "fill": {
              "color": "#C8D4E3"
             },
             "line": {
              "color": "white"
             }
            },
            "type": "table"
           }
          ]
         },
         "layout": {
          "annotationdefaults": {
           "arrowcolor": "#2a3f5f",
           "arrowhead": 0,
           "arrowwidth": 1
          },
          "autotypenumbers": "strict",
          "coloraxis": {
           "colorbar": {
            "outlinewidth": 0,
            "ticks": ""
           }
          },
          "colorscale": {
           "diverging": [
            [
             0,
             "#8e0152"
            ],
            [
             0.1,
             "#c51b7d"
            ],
            [
             0.2,
             "#de77ae"
            ],
            [
             0.3,
             "#f1b6da"
            ],
            [
             0.4,
             "#fde0ef"
            ],
            [
             0.5,
             "#f7f7f7"
            ],
            [
             0.6,
             "#e6f5d0"
            ],
            [
             0.7,
             "#b8e186"
            ],
            [
             0.8,
             "#7fbc41"
            ],
            [
             0.9,
             "#4d9221"
            ],
            [
             1,
             "#276419"
            ]
           ],
           "sequential": [
            [
             0,
             "#0d0887"
            ],
            [
             0.1111111111111111,
             "#46039f"
            ],
            [
             0.2222222222222222,
             "#7201a8"
            ],
            [
             0.3333333333333333,
             "#9c179e"
            ],
            [
             0.4444444444444444,
             "#bd3786"
            ],
            [
             0.5555555555555556,
             "#d8576b"
            ],
            [
             0.6666666666666666,
             "#ed7953"
            ],
            [
             0.7777777777777778,
             "#fb9f3a"
            ],
            [
             0.8888888888888888,
             "#fdca26"
            ],
            [
             1,
             "#f0f921"
            ]
           ],
           "sequentialminus": [
            [
             0,
             "#0d0887"
            ],
            [
             0.1111111111111111,
             "#46039f"
            ],
            [
             0.2222222222222222,
             "#7201a8"
            ],
            [
             0.3333333333333333,
             "#9c179e"
            ],
            [
             0.4444444444444444,
             "#bd3786"
            ],
            [
             0.5555555555555556,
             "#d8576b"
            ],
            [
             0.6666666666666666,
             "#ed7953"
            ],
            [
             0.7777777777777778,
             "#fb9f3a"
            ],
            [
             0.8888888888888888,
             "#fdca26"
            ],
            [
             1,
             "#f0f921"
            ]
           ]
          },
          "colorway": [
           "#636efa",
           "#EF553B",
           "#00cc96",
           "#ab63fa",
           "#FFA15A",
           "#19d3f3",
           "#FF6692",
           "#B6E880",
           "#FF97FF",
           "#FECB52"
          ],
          "font": {
           "color": "#2a3f5f"
          },
          "geo": {
           "bgcolor": "white",
           "lakecolor": "white",
           "landcolor": "#E5ECF6",
           "showlakes": true,
           "showland": true,
           "subunitcolor": "white"
          },
          "hoverlabel": {
           "align": "left"
          },
          "hovermode": "closest",
          "mapbox": {
           "style": "light"
          },
          "paper_bgcolor": "white",
          "plot_bgcolor": "#E5ECF6",
          "polar": {
           "angularaxis": {
            "gridcolor": "white",
            "linecolor": "white",
            "ticks": ""
           },
           "bgcolor": "#E5ECF6",
           "radialaxis": {
            "gridcolor": "white",
            "linecolor": "white",
            "ticks": ""
           }
          },
          "scene": {
           "xaxis": {
            "backgroundcolor": "#E5ECF6",
            "gridcolor": "white",
            "gridwidth": 2,
            "linecolor": "white",
            "showbackground": true,
            "ticks": "",
            "zerolinecolor": "white"
           },
           "yaxis": {
            "backgroundcolor": "#E5ECF6",
            "gridcolor": "white",
            "gridwidth": 2,
            "linecolor": "white",
            "showbackground": true,
            "ticks": "",
            "zerolinecolor": "white"
           },
           "zaxis": {
            "backgroundcolor": "#E5ECF6",
            "gridcolor": "white",
            "gridwidth": 2,
            "linecolor": "white",
            "showbackground": true,
            "ticks": "",
            "zerolinecolor": "white"
           }
          },
          "shapedefaults": {
           "line": {
            "color": "#2a3f5f"
           }
          },
          "ternary": {
           "aaxis": {
            "gridcolor": "white",
            "linecolor": "white",
            "ticks": ""
           },
           "baxis": {
            "gridcolor": "white",
            "linecolor": "white",
            "ticks": ""
           },
           "bgcolor": "#E5ECF6",
           "caxis": {
            "gridcolor": "white",
            "linecolor": "white",
            "ticks": ""
           }
          },
          "title": {
           "x": 0.05
          },
          "xaxis": {
           "automargin": true,
           "gridcolor": "white",
           "linecolor": "white",
           "ticks": "",
           "title": {
            "standoff": 15
           },
           "zerolinecolor": "white",
           "zerolinewidth": 2
          },
          "yaxis": {
           "automargin": true,
           "gridcolor": "white",
           "linecolor": "white",
           "ticks": "",
           "title": {
            "standoff": 15
           },
           "zerolinecolor": "white",
           "zerolinewidth": 2
          }
         }
        },
        "width": 900,
        "xaxis": {
         "anchor": "y",
         "domain": [
          0,
          1
         ],
         "range": [
          "2002-12-11T00:00:00",
          "2026-02-18T00:00:00"
         ],
         "type": "date"
        },
        "xaxis2": {
         "anchor": "y2",
         "domain": [
          0,
          1
         ],
         "range": [
          "2016-12-13T18:54:02.958904115",
          "2018-01-18T11:04:57.863013581"
         ],
         "tickformat": "%B %e",
         "type": "date"
        },
        "xaxis3": {
         "anchor": "y3",
         "domain": [
          0,
          1
         ],
         "range": [
          "2016-12-31T16:48:00",
          "2017-01-07T07:12:00"
         ],
         "tickformat": "%A",
         "type": "date"
        },
        "yaxis": {
         "anchor": "x",
         "domain": [
          0.7333333333333333,
          1
         ],
         "rangemode": "normal",
         "title": {
          "text": "trend"
         },
         "zerolinecolor": "#AAA"
        },
        "yaxis2": {
         "anchor": "x2",
         "domain": [
          0.36666666666666664,
          0.6333333333333333
         ],
         "title": {
          "text": "yearly"
         },
         "zerolinecolor": "#AAA"
        },
        "yaxis3": {
         "anchor": "x3",
         "domain": [
          0,
          0.26666666666666666
         ],
         "title": {
          "text": "weekly"
         },
         "zerolinecolor": "#AAA"
        }
       }
      }
     },
     "metadata": {},
     "output_type": "display_data"
    }
   ],
   "source": [
    "plot_components_plotly(model, forecast)"
   ]
  },
  {
   "cell_type": "code",
   "execution_count": null,
   "id": "cf9bc919",
   "metadata": {},
   "outputs": [],
   "source": []
  }
 ],
 "metadata": {
  "kernelspec": {
   "display_name": "ml",
   "language": "python",
   "name": "python3"
  },
  "language_info": {
   "codemirror_mode": {
    "name": "ipython",
    "version": 3
   },
   "file_extension": ".py",
   "mimetype": "text/x-python",
   "name": "python",
   "nbconvert_exporter": "python",
   "pygments_lexer": "ipython3",
   "version": "3.13.3"
  }
 },
 "nbformat": 4,
 "nbformat_minor": 5
}
